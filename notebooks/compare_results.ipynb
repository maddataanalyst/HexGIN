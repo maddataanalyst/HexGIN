{
 "cells": [
  {
   "cell_type": "markdown",
   "metadata": {},
   "source": [
    "# Intro\n",
    "\n",
    "This notebook visualizes the prediction results from all models after training."
   ]
  },
  {
   "cell_type": "markdown",
   "metadata": {
    "collapsed": false
   },
   "source": [
    "# Load libs"
   ]
  },
  {
   "cell_type": "code",
   "execution_count": 255,
   "metadata": {
    "ExecuteTime": {
     "end_time": "2023-11-17T14:13:22.151032400Z",
     "start_time": "2023-11-17T14:13:21.730131700Z"
    },
    "collapsed": false
   },
   "outputs": [],
   "source": [
    "import pandas as pd\n",
    "import numpy as np\n",
    "import plotly.express as px\n",
    "import scipy.stats as st\n",
    "import seaborn as sns\n",
    "import matplotlib.pyplot as plt\n",
    "from IPython.display import display, Markdown"
   ]
  },
  {
   "cell_type": "code",
   "execution_count": 256,
   "metadata": {
    "ExecuteTime": {
     "end_time": "2023-11-17T14:15:11.212390700Z",
     "start_time": "2023-11-17T14:15:10.458872500Z"
    },
    "collapsed": false
   },
   "outputs": [
    {
     "name": "stdout",
     "output_type": "stream",
     "text": [
      "The kedro.ipython extension is already loaded. To reload it, use:\n",
      "  %reload_ext kedro.ipython\n"
     ]
    }
   ],
   "source": [
    "%load_ext kedro.ipython"
   ]
  },
  {
   "cell_type": "code",
   "execution_count": 270,
   "metadata": {
    "ExecuteTime": {
     "end_time": "2023-11-12T20:53:21.266367400Z",
     "start_time": "2023-11-12T20:53:20.108555500Z"
    },
    "collapsed": false
   },
   "outputs": [
    {
     "data": {
      "text/html": [
       "<pre style=\"white-space:pre;overflow-x:auto;line-height:normal;font-family:Menlo,'DejaVu Sans Mono',consolas,'Courier New',monospace\"><span style=\"color: #7fbfbf; text-decoration-color: #7fbfbf\">[07/08/24 15:57:02] </span><span style=\"color: #000080; text-decoration-color: #000080\">INFO    </span> Resolved project path as: <span style=\"color: #800080; text-decoration-color: #800080\">/home/filip/projects/science/</span><span style=\"color: #ff00ff; text-decoration-color: #ff00ff\">hexgin.</span>         <a href=\"file:///home/filip/miniconda3/envs/hexgin/lib/python3.11/site-packages/kedro/ipython/__init__.py\" target=\"_blank\"><span style=\"color: #7f7f7f; text-decoration-color: #7f7f7f\">__init__.py</span></a><span style=\"color: #7f7f7f; text-decoration-color: #7f7f7f\">:</span><a href=\"file:///home/filip/miniconda3/envs/hexgin/lib/python3.11/site-packages/kedro/ipython/__init__.py#171\" target=\"_blank\"><span style=\"color: #7f7f7f; text-decoration-color: #7f7f7f\">171</span></a>\n",
       "<span style=\"color: #7fbfbf; text-decoration-color: #7fbfbf\">                    </span>         To set a different path, run <span style=\"color: #008000; text-decoration-color: #008000\">'%reload_kedro &lt;project_root&gt;'</span>            <span style=\"color: #7f7f7f; text-decoration-color: #7f7f7f\">               </span>\n",
       "</pre>\n"
      ],
      "text/plain": [
       "\u001b[2;36m[07/08/24 15:57:02]\u001b[0m\u001b[2;36m \u001b[0m\u001b[34mINFO    \u001b[0m Resolved project path as: \u001b[35m/home/filip/projects/science/\u001b[0m\u001b[95mhexgin.\u001b[0m         \u001b]8;id=446812;file:///home/filip/miniconda3/envs/hexgin/lib/python3.11/site-packages/kedro/ipython/__init__.py\u001b\\\u001b[2m__init__.py\u001b[0m\u001b]8;;\u001b\\\u001b[2m:\u001b[0m\u001b]8;id=40513;file:///home/filip/miniconda3/envs/hexgin/lib/python3.11/site-packages/kedro/ipython/__init__.py#171\u001b\\\u001b[2m171\u001b[0m\u001b]8;;\u001b\\\n",
       "\u001b[2;36m                    \u001b[0m         To set a different path, run \u001b[32m'%reload_kedro \u001b[0m\u001b[32m<\u001b[0m\u001b[32mproject_root\u001b[0m\u001b[32m>\u001b[0m\u001b[32m'\u001b[0m            \u001b[2m               \u001b[0m\n"
      ]
     },
     "metadata": {},
     "output_type": "display_data"
    },
    {
     "data": {
      "text/html": [
       "<pre style=\"white-space:pre;overflow-x:auto;line-height:normal;font-family:Menlo,'DejaVu Sans Mono',consolas,'Courier New',monospace\"><span style=\"color: #7fbfbf; text-decoration-color: #7fbfbf\">[07/08/24 15:57:03] </span><span style=\"color: #000080; text-decoration-color: #000080\">INFO    </span> Kedro project HexGIN                                                   <a href=\"file:///home/filip/miniconda3/envs/hexgin/lib/python3.11/site-packages/kedro/ipython/__init__.py\" target=\"_blank\"><span style=\"color: #7f7f7f; text-decoration-color: #7f7f7f\">__init__.py</span></a><span style=\"color: #7f7f7f; text-decoration-color: #7f7f7f\">:</span><a href=\"file:///home/filip/miniconda3/envs/hexgin/lib/python3.11/site-packages/kedro/ipython/__init__.py#141\" target=\"_blank\"><span style=\"color: #7f7f7f; text-decoration-color: #7f7f7f\">141</span></a>\n",
       "</pre>\n"
      ],
      "text/plain": [
       "\u001b[2;36m[07/08/24 15:57:03]\u001b[0m\u001b[2;36m \u001b[0m\u001b[34mINFO    \u001b[0m Kedro project HexGIN                                                   \u001b]8;id=857887;file:///home/filip/miniconda3/envs/hexgin/lib/python3.11/site-packages/kedro/ipython/__init__.py\u001b\\\u001b[2m__init__.py\u001b[0m\u001b]8;;\u001b\\\u001b[2m:\u001b[0m\u001b]8;id=556743;file:///home/filip/miniconda3/envs/hexgin/lib/python3.11/site-packages/kedro/ipython/__init__.py#141\u001b\\\u001b[2m141\u001b[0m\u001b]8;;\u001b\\\n"
      ]
     },
     "metadata": {},
     "output_type": "display_data"
    },
    {
     "data": {
      "text/html": [
       "<pre style=\"white-space:pre;overflow-x:auto;line-height:normal;font-family:Menlo,'DejaVu Sans Mono',consolas,'Courier New',monospace\"><span style=\"color: #7fbfbf; text-decoration-color: #7fbfbf\">                    </span><span style=\"color: #000080; text-decoration-color: #000080\">INFO    </span> Defined global variable <span style=\"color: #008000; text-decoration-color: #008000\">'context'</span>, <span style=\"color: #008000; text-decoration-color: #008000\">'session'</span>, <span style=\"color: #008000; text-decoration-color: #008000\">'catalog'</span> and            <a href=\"file:///home/filip/miniconda3/envs/hexgin/lib/python3.11/site-packages/kedro/ipython/__init__.py\" target=\"_blank\"><span style=\"color: #7f7f7f; text-decoration-color: #7f7f7f\">__init__.py</span></a><span style=\"color: #7f7f7f; text-decoration-color: #7f7f7f\">:</span><a href=\"file:///home/filip/miniconda3/envs/hexgin/lib/python3.11/site-packages/kedro/ipython/__init__.py#142\" target=\"_blank\"><span style=\"color: #7f7f7f; text-decoration-color: #7f7f7f\">142</span></a>\n",
       "<span style=\"color: #7fbfbf; text-decoration-color: #7fbfbf\">                    </span>         <span style=\"color: #008000; text-decoration-color: #008000\">'pipelines'</span>                                                            <span style=\"color: #7f7f7f; text-decoration-color: #7f7f7f\">               </span>\n",
       "</pre>\n"
      ],
      "text/plain": [
       "\u001b[2;36m                   \u001b[0m\u001b[2;36m \u001b[0m\u001b[34mINFO    \u001b[0m Defined global variable \u001b[32m'context'\u001b[0m, \u001b[32m'session'\u001b[0m, \u001b[32m'catalog'\u001b[0m and            \u001b]8;id=899521;file:///home/filip/miniconda3/envs/hexgin/lib/python3.11/site-packages/kedro/ipython/__init__.py\u001b\\\u001b[2m__init__.py\u001b[0m\u001b]8;;\u001b\\\u001b[2m:\u001b[0m\u001b]8;id=531668;file:///home/filip/miniconda3/envs/hexgin/lib/python3.11/site-packages/kedro/ipython/__init__.py#142\u001b\\\u001b[2m142\u001b[0m\u001b]8;;\u001b\\\n",
       "\u001b[2;36m                    \u001b[0m         \u001b[32m'pipelines'\u001b[0m                                                            \u001b[2m               \u001b[0m\n"
      ]
     },
     "metadata": {},
     "output_type": "display_data"
    },
    {
     "data": {
      "text/html": [
       "<pre style=\"white-space:pre;overflow-x:auto;line-height:normal;font-family:Menlo,'DejaVu Sans Mono',consolas,'Courier New',monospace\"><span style=\"color: #7fbfbf; text-decoration-color: #7fbfbf\">                    </span><span style=\"color: #800000; text-decoration-color: #800000\">WARNING </span> Failed to load kedro_viz.launchers.jupyter commands from                  <a href=\"file:///home/filip/miniconda3/envs/hexgin/lib/python3.11/site-packages/kedro/framework/cli/utils.py\" target=\"_blank\"><span style=\"color: #7f7f7f; text-decoration-color: #7f7f7f\">utils.py</span></a><span style=\"color: #7f7f7f; text-decoration-color: #7f7f7f\">:</span><a href=\"file:///home/filip/miniconda3/envs/hexgin/lib/python3.11/site-packages/kedro/framework/cli/utils.py#379\" target=\"_blank\"><span style=\"color: #7f7f7f; text-decoration-color: #7f7f7f\">379</span></a>\n",
       "<span style=\"color: #7fbfbf; text-decoration-color: #7fbfbf\">                    </span>         <span style=\"color: #800080; text-decoration-color: #800080; font-weight: bold\">EntryPoint</span><span style=\"font-weight: bold\">(</span><span style=\"color: #808000; text-decoration-color: #808000\">name</span>=<span style=\"color: #008000; text-decoration-color: #008000\">'line_magic'</span>,                                             <span style=\"color: #7f7f7f; text-decoration-color: #7f7f7f\">            </span>\n",
       "<span style=\"color: #7fbfbf; text-decoration-color: #7fbfbf\">                    </span>         <span style=\"color: #808000; text-decoration-color: #808000\">value</span>=<span style=\"color: #008000; text-decoration-color: #008000\">'kedro_viz.launchers.jupyter:run_viz'</span>, <span style=\"color: #808000; text-decoration-color: #808000\">group</span>=<span style=\"color: #008000; text-decoration-color: #008000\">'kedro.line_magic'</span><span style=\"font-weight: bold\">)</span>.   <span style=\"color: #7f7f7f; text-decoration-color: #7f7f7f\">            </span>\n",
       "<span style=\"color: #7fbfbf; text-decoration-color: #7fbfbf\">                    </span>         Full exception: No module named <span style=\"color: #008000; text-decoration-color: #008000\">'toposort'</span>                                <span style=\"color: #7f7f7f; text-decoration-color: #7f7f7f\">            </span>\n",
       "</pre>\n"
      ],
      "text/plain": [
       "\u001b[2;36m                   \u001b[0m\u001b[2;36m \u001b[0m\u001b[31mWARNING \u001b[0m Failed to load kedro_viz.launchers.jupyter commands from                  \u001b]8;id=668215;file:///home/filip/miniconda3/envs/hexgin/lib/python3.11/site-packages/kedro/framework/cli/utils.py\u001b\\\u001b[2mutils.py\u001b[0m\u001b]8;;\u001b\\\u001b[2m:\u001b[0m\u001b]8;id=477252;file:///home/filip/miniconda3/envs/hexgin/lib/python3.11/site-packages/kedro/framework/cli/utils.py#379\u001b\\\u001b[2m379\u001b[0m\u001b]8;;\u001b\\\n",
       "\u001b[2;36m                    \u001b[0m         \u001b[1;35mEntryPoint\u001b[0m\u001b[1m(\u001b[0m\u001b[33mname\u001b[0m=\u001b[32m'line_magic'\u001b[0m,                                             \u001b[2m            \u001b[0m\n",
       "\u001b[2;36m                    \u001b[0m         \u001b[33mvalue\u001b[0m=\u001b[32m'kedro_viz.launchers.jupyter:run_viz'\u001b[0m, \u001b[33mgroup\u001b[0m=\u001b[32m'kedro.line_magic'\u001b[0m\u001b[1m)\u001b[0m.   \u001b[2m            \u001b[0m\n",
       "\u001b[2;36m                    \u001b[0m         Full exception: No module named \u001b[32m'toposort'\u001b[0m                                \u001b[2m            \u001b[0m\n"
      ]
     },
     "metadata": {},
     "output_type": "display_data"
    }
   ],
   "source": [
    "%reload_kedro"
   ]
  },
  {
   "cell_type": "markdown",
   "metadata": {
    "collapsed": false
   },
   "source": [
    "# Data load\n"
   ]
  },
  {
   "cell_type": "code",
   "execution_count": 271,
   "metadata": {
    "ExecuteTime": {
     "end_time": "2023-11-12T20:53:27.562905100Z",
     "start_time": "2023-11-12T20:53:27.540395900Z"
    },
    "collapsed": false
   },
   "outputs": [
    {
     "data": {
      "text/html": [
       "<pre style=\"white-space:pre;overflow-x:auto;line-height:normal;font-family:Menlo,'DejaVu Sans Mono',consolas,'Courier New',monospace\"><span style=\"color: #7fbfbf; text-decoration-color: #7fbfbf\">                    </span><span style=\"color: #000080; text-decoration-color: #000080\">INFO    </span> Loading data from <span style=\"color: #ff8700; text-decoration-color: #ff8700\">crossval_metrics</span> <span style=\"font-weight: bold\">(</span>CSVDataset<span style=\"font-weight: bold\">)</span><span style=\"color: #808000; text-decoration-color: #808000\">...</span>                 <a href=\"file:///home/filip/miniconda3/envs/hexgin/lib/python3.11/site-packages/kedro/io/data_catalog.py\" target=\"_blank\"><span style=\"color: #7f7f7f; text-decoration-color: #7f7f7f\">data_catalog.py</span></a><span style=\"color: #7f7f7f; text-decoration-color: #7f7f7f\">:</span><a href=\"file:///home/filip/miniconda3/envs/hexgin/lib/python3.11/site-packages/kedro/io/data_catalog.py#508\" target=\"_blank\"><span style=\"color: #7f7f7f; text-decoration-color: #7f7f7f\">508</span></a>\n",
       "</pre>\n"
      ],
      "text/plain": [
       "\u001b[2;36m                   \u001b[0m\u001b[2;36m \u001b[0m\u001b[34mINFO    \u001b[0m Loading data from \u001b[38;5;208mcrossval_metrics\u001b[0m \u001b[1m(\u001b[0mCSVDataset\u001b[1m)\u001b[0m\u001b[33m...\u001b[0m                 \u001b]8;id=426019;file:///home/filip/miniconda3/envs/hexgin/lib/python3.11/site-packages/kedro/io/data_catalog.py\u001b\\\u001b[2mdata_catalog.py\u001b[0m\u001b]8;;\u001b\\\u001b[2m:\u001b[0m\u001b]8;id=186102;file:///home/filip/miniconda3/envs/hexgin/lib/python3.11/site-packages/kedro/io/data_catalog.py#508\u001b\\\u001b[2m508\u001b[0m\u001b]8;;\u001b\\\n"
      ]
     },
     "metadata": {},
     "output_type": "display_data"
    },
    {
     "data": {
      "text/html": [
       "<pre style=\"white-space:pre;overflow-x:auto;line-height:normal;font-family:Menlo,'DejaVu Sans Mono',consolas,'Courier New',monospace\"><span style=\"color: #7fbfbf; text-decoration-color: #7fbfbf\">                    </span><span style=\"color: #000080; text-decoration-color: #000080\">INFO    </span> Loading data from <span style=\"color: #ff8700; text-decoration-color: #ff8700\">bootstrap_metrics</span> <span style=\"font-weight: bold\">(</span>CSVDataset<span style=\"font-weight: bold\">)</span><span style=\"color: #808000; text-decoration-color: #808000\">...</span>                <a href=\"file:///home/filip/miniconda3/envs/hexgin/lib/python3.11/site-packages/kedro/io/data_catalog.py\" target=\"_blank\"><span style=\"color: #7f7f7f; text-decoration-color: #7f7f7f\">data_catalog.py</span></a><span style=\"color: #7f7f7f; text-decoration-color: #7f7f7f\">:</span><a href=\"file:///home/filip/miniconda3/envs/hexgin/lib/python3.11/site-packages/kedro/io/data_catalog.py#508\" target=\"_blank\"><span style=\"color: #7f7f7f; text-decoration-color: #7f7f7f\">508</span></a>\n",
       "</pre>\n"
      ],
      "text/plain": [
       "\u001b[2;36m                   \u001b[0m\u001b[2;36m \u001b[0m\u001b[34mINFO    \u001b[0m Loading data from \u001b[38;5;208mbootstrap_metrics\u001b[0m \u001b[1m(\u001b[0mCSVDataset\u001b[1m)\u001b[0m\u001b[33m...\u001b[0m                \u001b]8;id=580854;file:///home/filip/miniconda3/envs/hexgin/lib/python3.11/site-packages/kedro/io/data_catalog.py\u001b\\\u001b[2mdata_catalog.py\u001b[0m\u001b]8;;\u001b\\\u001b[2m:\u001b[0m\u001b]8;id=437806;file:///home/filip/miniconda3/envs/hexgin/lib/python3.11/site-packages/kedro/io/data_catalog.py#508\u001b\\\u001b[2m508\u001b[0m\u001b]8;;\u001b\\\n"
      ]
     },
     "metadata": {},
     "output_type": "display_data"
    }
   ],
   "source": [
    "cv_metrics = catalog.load(\"crossval_metrics\")\n",
    "bootstrap_metrics = catalog.load(\"bootstrap_metrics\")"
   ]
  },
  {
   "cell_type": "code",
   "execution_count": 272,
   "metadata": {
    "ExecuteTime": {
     "end_time": "2023-11-12T20:53:27.857671600Z",
     "start_time": "2023-11-12T20:53:27.842672Z"
    }
   },
   "outputs": [],
   "source": [
    "melted_data = cv_metrics.melt(id_vars=['model', 'fold'], value_vars=['precision', 'f1', 'recall', 'rocauc'], var_name='metric')"
   ]
  },
  {
   "cell_type": "code",
   "execution_count": 273,
   "metadata": {
    "ExecuteTime": {
     "end_time": "2023-11-12T20:53:28.457329700Z",
     "start_time": "2023-11-12T20:53:28.422808Z"
    }
   },
   "outputs": [
    {
     "data": {
      "text/html": [
       "<pre style=\"white-space:pre;overflow-x:auto;line-height:normal;font-family:Menlo,'DejaVu Sans Mono',consolas,'Courier New',monospace\"></pre>\n"
      ],
      "text/plain": []
     },
     "metadata": {},
     "output_type": "display_data"
    },
    {
     "data": {
      "text/html": [
       "<div>\n",
       "<style scoped>\n",
       "    .dataframe tbody tr th:only-of-type {\n",
       "        vertical-align: middle;\n",
       "    }\n",
       "\n",
       "    .dataframe tbody tr th {\n",
       "        vertical-align: top;\n",
       "    }\n",
       "\n",
       "    .dataframe thead tr th {\n",
       "        text-align: left;\n",
       "    }\n",
       "</style>\n",
       "<table border=\"1\" class=\"dataframe\">\n",
       "  <thead>\n",
       "    <tr>\n",
       "      <th></th>\n",
       "      <th>model</th>\n",
       "      <th colspan=\"4\" halign=\"left\">HexGIN</th>\n",
       "      <th colspan=\"4\" halign=\"left\">MLP</th>\n",
       "      <th colspan=\"4\" halign=\"left\">SAGE</th>\n",
       "    </tr>\n",
       "    <tr>\n",
       "      <th></th>\n",
       "      <th>metric</th>\n",
       "      <th>f1</th>\n",
       "      <th>precision</th>\n",
       "      <th>recall</th>\n",
       "      <th>rocauc</th>\n",
       "      <th>f1</th>\n",
       "      <th>precision</th>\n",
       "      <th>recall</th>\n",
       "      <th>rocauc</th>\n",
       "      <th>f1</th>\n",
       "      <th>precision</th>\n",
       "      <th>recall</th>\n",
       "      <th>rocauc</th>\n",
       "    </tr>\n",
       "  </thead>\n",
       "  <tbody>\n",
       "    <tr>\n",
       "      <th rowspan=\"3\" valign=\"top\">value</th>\n",
       "      <th>mean</th>\n",
       "      <td>0.792044</td>\n",
       "      <td>0.758540</td>\n",
       "      <td>0.862283</td>\n",
       "      <td>0.883033</td>\n",
       "      <td>0.735438</td>\n",
       "      <td>0.716630</td>\n",
       "      <td>0.791036</td>\n",
       "      <td>0.819942</td>\n",
       "      <td>0.745951</td>\n",
       "      <td>0.671691</td>\n",
       "      <td>0.876152</td>\n",
       "      <td>0.815418</td>\n",
       "    </tr>\n",
       "    <tr>\n",
       "      <th>median</th>\n",
       "      <td>0.808782</td>\n",
       "      <td>0.730041</td>\n",
       "      <td>0.939746</td>\n",
       "      <td>0.894823</td>\n",
       "      <td>0.738052</td>\n",
       "      <td>0.720579</td>\n",
       "      <td>0.790698</td>\n",
       "      <td>0.821438</td>\n",
       "      <td>0.752708</td>\n",
       "      <td>0.638061</td>\n",
       "      <td>0.939746</td>\n",
       "      <td>0.820354</td>\n",
       "    </tr>\n",
       "    <tr>\n",
       "      <th>std</th>\n",
       "      <td>0.048371</td>\n",
       "      <td>0.078770</td>\n",
       "      <td>0.145182</td>\n",
       "      <td>0.034376</td>\n",
       "      <td>0.067724</td>\n",
       "      <td>0.092141</td>\n",
       "      <td>0.156644</td>\n",
       "      <td>0.059732</td>\n",
       "      <td>0.034624</td>\n",
       "      <td>0.080415</td>\n",
       "      <td>0.135344</td>\n",
       "      <td>0.034656</td>\n",
       "    </tr>\n",
       "  </tbody>\n",
       "</table>\n",
       "</div>"
      ],
      "text/plain": [
       "\n",
       "model           HexGIN                                     MLP            \\\n",
       "metric              f1 precision    recall    rocauc        f1 precision   \n",
       "value mean    \u001b[1;36m0.792044\u001b[0m  \u001b[1;36m0.758540\u001b[0m  \u001b[1;36m0.862283\u001b[0m  \u001b[1;36m0.883033\u001b[0m  \u001b[1;36m0.735438\u001b[0m  \u001b[1;36m0.716630\u001b[0m   \n",
       "      median  \u001b[1;36m0.808782\u001b[0m  \u001b[1;36m0.730041\u001b[0m  \u001b[1;36m0.939746\u001b[0m  \u001b[1;36m0.894823\u001b[0m  \u001b[1;36m0.738052\u001b[0m  \u001b[1;36m0.720579\u001b[0m   \n",
       "      std     \u001b[1;36m0.048371\u001b[0m  \u001b[1;36m0.078770\u001b[0m  \u001b[1;36m0.145182\u001b[0m  \u001b[1;36m0.034376\u001b[0m  \u001b[1;36m0.067724\u001b[0m  \u001b[1;36m0.092141\u001b[0m   \n",
       "\n",
       "model                                 SAGE                                \n",
       "metric          recall    rocauc        f1 precision    recall    rocauc  \n",
       "value mean    \u001b[1;36m0.791036\u001b[0m  \u001b[1;36m0.819942\u001b[0m  \u001b[1;36m0.745951\u001b[0m  \u001b[1;36m0.671691\u001b[0m  \u001b[1;36m0.876152\u001b[0m  \u001b[1;36m0.815418\u001b[0m  \n",
       "      median  \u001b[1;36m0.790698\u001b[0m  \u001b[1;36m0.821438\u001b[0m  \u001b[1;36m0.752708\u001b[0m  \u001b[1;36m0.638061\u001b[0m  \u001b[1;36m0.939746\u001b[0m  \u001b[1;36m0.820354\u001b[0m  \n",
       "      std     \u001b[1;36m0.156644\u001b[0m  \u001b[1;36m0.059732\u001b[0m  \u001b[1;36m0.034624\u001b[0m  \u001b[1;36m0.080415\u001b[0m  \u001b[1;36m0.135344\u001b[0m  \u001b[1;36m0.034656\u001b[0m  "
      ]
     },
     "execution_count": 273,
     "metadata": {},
     "output_type": "execute_result"
    }
   ],
   "source": [
    "melted_data.groupby(['model', 'metric']).agg({'value': ['mean', 'median', 'std']}).T"
   ]
  },
  {
   "cell_type": "code",
   "execution_count": 274,
   "metadata": {
    "ExecuteTime": {
     "end_time": "2023-11-12T20:53:58.163000500Z",
     "start_time": "2023-11-12T20:53:57.714458300Z"
    },
    "collapsed": false
   },
   "outputs": [],
   "source": [
    "writer = pd.ExcelWriter(\"bottstrapped_metrics_stats.xlsx\")"
   ]
  },
  {
   "cell_type": "code",
   "execution_count": 275,
   "metadata": {
    "ExecuteTime": {
     "end_time": "2023-11-12T20:53:58.252568700Z",
     "start_time": "2023-11-12T20:53:58.167001900Z"
    },
    "collapsed": false
   },
   "outputs": [],
   "source": [
    "melted_data.groupby(['model', 'metric']).agg({'value': ['mean', 'median', 'std']}).T.round(3).to_excel(writer, sheet_name='overall_results')"
   ]
  },
  {
   "cell_type": "markdown",
   "metadata": {
    "collapsed": false
   },
   "source": [
    "# Bootstrap metrics"
   ]
  },
  {
   "cell_type": "code",
   "execution_count": 276,
   "metadata": {},
   "outputs": [
    {
     "data": {
      "text/html": [
       "<pre style=\"white-space:pre;overflow-x:auto;line-height:normal;font-family:Menlo,'DejaVu Sans Mono',consolas,'Courier New',monospace\"></pre>\n"
      ],
      "text/plain": []
     },
     "metadata": {},
     "output_type": "display_data"
    },
    {
     "data": {
      "text/html": [
       "<div>\n",
       "<style scoped>\n",
       "    .dataframe tbody tr th:only-of-type {\n",
       "        vertical-align: middle;\n",
       "    }\n",
       "\n",
       "    .dataframe tbody tr th {\n",
       "        vertical-align: top;\n",
       "    }\n",
       "\n",
       "    .dataframe thead th {\n",
       "        text-align: right;\n",
       "    }\n",
       "</style>\n",
       "<table border=\"1\" class=\"dataframe\">\n",
       "  <thead>\n",
       "    <tr style=\"text-align: right;\">\n",
       "      <th></th>\n",
       "      <th>model</th>\n",
       "      <th>metric</th>\n",
       "      <th>CI low</th>\n",
       "      <th>CI high</th>\n",
       "    </tr>\n",
       "  </thead>\n",
       "  <tbody>\n",
       "    <tr>\n",
       "      <th>0</th>\n",
       "      <td>HexGIN</td>\n",
       "      <td>f1</td>\n",
       "      <td>0.7774</td>\n",
       "      <td>0.8048</td>\n",
       "    </tr>\n",
       "    <tr>\n",
       "      <th>1</th>\n",
       "      <td>HexGIN</td>\n",
       "      <td>precision</td>\n",
       "      <td>0.7370</td>\n",
       "      <td>0.7814</td>\n",
       "    </tr>\n",
       "    <tr>\n",
       "      <th>2</th>\n",
       "      <td>HexGIN</td>\n",
       "      <td>recall</td>\n",
       "      <td>0.8183</td>\n",
       "      <td>0.9015</td>\n",
       "    </tr>\n",
       "    <tr>\n",
       "      <th>3</th>\n",
       "      <td>HexGIN</td>\n",
       "      <td>rocauc</td>\n",
       "      <td>0.8729</td>\n",
       "      <td>0.8922</td>\n",
       "    </tr>\n",
       "    <tr>\n",
       "      <th>4</th>\n",
       "      <td>SAGE</td>\n",
       "      <td>f1</td>\n",
       "      <td>0.7355</td>\n",
       "      <td>0.7545</td>\n",
       "    </tr>\n",
       "    <tr>\n",
       "      <th>5</th>\n",
       "      <td>SAGE</td>\n",
       "      <td>precision</td>\n",
       "      <td>0.6501</td>\n",
       "      <td>0.6958</td>\n",
       "    </tr>\n",
       "    <tr>\n",
       "      <th>6</th>\n",
       "      <td>SAGE</td>\n",
       "      <td>recall</td>\n",
       "      <td>0.8343</td>\n",
       "      <td>0.9126</td>\n",
       "    </tr>\n",
       "    <tr>\n",
       "      <th>7</th>\n",
       "      <td>SAGE</td>\n",
       "      <td>rocauc</td>\n",
       "      <td>0.8058</td>\n",
       "      <td>0.8243</td>\n",
       "    </tr>\n",
       "    <tr>\n",
       "      <th>8</th>\n",
       "      <td>MLP</td>\n",
       "      <td>f1</td>\n",
       "      <td>0.7159</td>\n",
       "      <td>0.7542</td>\n",
       "    </tr>\n",
       "    <tr>\n",
       "      <th>9</th>\n",
       "      <td>MLP</td>\n",
       "      <td>precision</td>\n",
       "      <td>0.6911</td>\n",
       "      <td>0.7414</td>\n",
       "    </tr>\n",
       "    <tr>\n",
       "      <th>10</th>\n",
       "      <td>MLP</td>\n",
       "      <td>recall</td>\n",
       "      <td>0.7455</td>\n",
       "      <td>0.8338</td>\n",
       "    </tr>\n",
       "    <tr>\n",
       "      <th>11</th>\n",
       "      <td>MLP</td>\n",
       "      <td>rocauc</td>\n",
       "      <td>0.8026</td>\n",
       "      <td>0.8367</td>\n",
       "    </tr>\n",
       "  </tbody>\n",
       "</table>\n",
       "</div>"
      ],
      "text/plain": [
       "\n",
       "     model     metric  CI low  CI high\n",
       "\u001b[1;36m0\u001b[0m   HexGIN         f1  \u001b[1;36m0.7774\u001b[0m   \u001b[1;36m0.8048\u001b[0m\n",
       "\u001b[1;36m1\u001b[0m   HexGIN  precision  \u001b[1;36m0.7370\u001b[0m   \u001b[1;36m0.7814\u001b[0m\n",
       "\u001b[1;36m2\u001b[0m   HexGIN     recall  \u001b[1;36m0.8183\u001b[0m   \u001b[1;36m0.9015\u001b[0m\n",
       "\u001b[1;36m3\u001b[0m   HexGIN     rocauc  \u001b[1;36m0.8729\u001b[0m   \u001b[1;36m0.8922\u001b[0m\n",
       "\u001b[1;36m4\u001b[0m     SAGE         f1  \u001b[1;36m0.7355\u001b[0m   \u001b[1;36m0.7545\u001b[0m\n",
       "\u001b[1;36m5\u001b[0m     SAGE  precision  \u001b[1;36m0.6501\u001b[0m   \u001b[1;36m0.6958\u001b[0m\n",
       "\u001b[1;36m6\u001b[0m     SAGE     recall  \u001b[1;36m0.8343\u001b[0m   \u001b[1;36m0.9126\u001b[0m\n",
       "\u001b[1;36m7\u001b[0m     SAGE     rocauc  \u001b[1;36m0.8058\u001b[0m   \u001b[1;36m0.8243\u001b[0m\n",
       "\u001b[1;36m8\u001b[0m      MLP         f1  \u001b[1;36m0.7159\u001b[0m   \u001b[1;36m0.7542\u001b[0m\n",
       "\u001b[1;36m9\u001b[0m      MLP  precision  \u001b[1;36m0.6911\u001b[0m   \u001b[1;36m0.7414\u001b[0m\n",
       "\u001b[1;36m10\u001b[0m     MLP     recall  \u001b[1;36m0.7455\u001b[0m   \u001b[1;36m0.8338\u001b[0m\n",
       "\u001b[1;36m11\u001b[0m     MLP     rocauc  \u001b[1;36m0.8026\u001b[0m   \u001b[1;36m0.8367\u001b[0m"
      ]
     },
     "execution_count": 276,
     "metadata": {},
     "output_type": "execute_result"
    }
   ],
   "source": [
    "sort_dict = {'HexGIN': 1, 'SAGE': 2, 'MLP': 3}\n",
    "bootstrap_metrics.sort_values(by=['model'], ascending=True, inplace=True, key=lambda x: x.map(sort_dict))\n",
    "bootstrap_metrics.round(4)"
   ]
  },
  {
   "cell_type": "code",
   "execution_count": 277,
   "metadata": {},
   "outputs": [],
   "source": [
    "bootstrap_metrics.round(4).to_excel(writer, sheet_name='bootstrap_results')\n",
    "writer.close()"
   ]
  },
  {
   "cell_type": "code",
   "execution_count": 278,
   "metadata": {},
   "outputs": [],
   "source": [
    "def plot_confidence_interval(x, ci_lo, ci_hi, ax, color='#2187bb', horizontal_line_width=0.6):\n",
    "    mean = (ci_lo + ci_hi) / 2.\n",
    "    \n",
    "\n",
    "    left = x - horizontal_line_width / 2\n",
    "    right = x + horizontal_line_width / 2\n",
    "    ax.plot([x, x], [ci_lo, ci_hi], color=color)\n",
    "    ax.plot([left, right], [ci_hi, ci_hi], color=color)\n",
    "    ax.plot([left, right], [ci_lo, ci_lo], color=color)\n",
    "    ax.plot(x, mean, 'o', color='#f44336')"
   ]
  },
  {
   "cell_type": "code",
   "execution_count": 279,
   "metadata": {},
   "outputs": [
    {
     "data": {
      "text/html": [
       "<pre style=\"white-space:pre;overflow-x:auto;line-height:normal;font-family:Menlo,'DejaVu Sans Mono',consolas,'Courier New',monospace\"></pre>\n"
      ],
      "text/plain": []
     },
     "metadata": {},
     "output_type": "display_data"
    },
    {
     "data": {
      "image/png": "[encoded data removed]",
      "text/plain": [
       "\u001b[1m<\u001b[0m\u001b[1;95mFigure\u001b[0m\u001b[39m size 130\u001b[0m\u001b[1;36m0x500\u001b[0m\u001b[39m with \u001b[0m\u001b[1;36m4\u001b[0m\u001b[39m Axes\u001b[0m\u001b[1m>\u001b[0m"
      ]
     },
     "metadata": {},
     "output_type": "display_data"
    }
   ],
   "source": [
    "metrics = ['f1', 'precision', 'recall', 'rocauc']\n",
    "f, axs = plt.subplots(1, len(metrics), figsize=(13, 5), sharey=True, sharex=True, layout='tight')\n",
    "plt.subplots_adjust(wspace=0.5)\n",
    "for i, metric in enumerate(metrics):\n",
    "    ci_low = bootstrap_metrics.loc[bootstrap_metrics.metric == metric, 'CI low'].round(2)\n",
    "    ci_hi = bootstrap_metrics.loc[bootstrap_metrics.metric == metric, 'CI high'].round(2)\n",
    "\n",
    "    plt.xticks([0, 1, 2], ['HexGIN', 'SAGE', 'MLP'])\n",
    "    ax = axs[i]\n",
    "    plot_confidence_interval(0, ci_low.iloc[0], ci_hi.iloc[0], ax)\n",
    "    plot_confidence_interval(1, ci_low.iloc[1], ci_hi.iloc[1], ax)\n",
    "    plot_confidence_interval(2, ci_low.iloc[2], ci_hi.iloc[2], ax)\n",
    "    ax.set_title(metric)\n",
    "plt.show()"
   ]
  },
  {
   "cell_type": "markdown",
   "metadata": {},
   "source": [
    "# Test metrics"
   ]
  },
  {
   "cell_type": "code",
   "execution_count": 280,
   "metadata": {},
   "outputs": [
    {
     "data": {
      "text/html": [
       "<pre style=\"white-space:pre;overflow-x:auto;line-height:normal;font-family:Menlo,'DejaVu Sans Mono',consolas,'Courier New',monospace\"><span style=\"color: #7fbfbf; text-decoration-color: #7fbfbf\">[07/08/24 15:57:16] </span><span style=\"color: #000080; text-decoration-color: #000080\">INFO    </span> Loading data from <span style=\"color: #ff8700; text-decoration-color: #ff8700\">hexgin_test_report</span> <span style=\"font-weight: bold\">(</span>CSVDataset<span style=\"font-weight: bold\">)</span><span style=\"color: #808000; text-decoration-color: #808000\">...</span>               <a href=\"file:///home/filip/miniconda3/envs/hexgin/lib/python3.11/site-packages/kedro/io/data_catalog.py\" target=\"_blank\"><span style=\"color: #7f7f7f; text-decoration-color: #7f7f7f\">data_catalog.py</span></a><span style=\"color: #7f7f7f; text-decoration-color: #7f7f7f\">:</span><a href=\"file:///home/filip/miniconda3/envs/hexgin/lib/python3.11/site-packages/kedro/io/data_catalog.py#508\" target=\"_blank\"><span style=\"color: #7f7f7f; text-decoration-color: #7f7f7f\">508</span></a>\n",
       "</pre>\n"
      ],
      "text/plain": [
       "\u001b[2;36m[07/08/24 15:57:16]\u001b[0m\u001b[2;36m \u001b[0m\u001b[34mINFO    \u001b[0m Loading data from \u001b[38;5;208mhexgin_test_report\u001b[0m \u001b[1m(\u001b[0mCSVDataset\u001b[1m)\u001b[0m\u001b[33m...\u001b[0m               \u001b]8;id=844461;file:///home/filip/miniconda3/envs/hexgin/lib/python3.11/site-packages/kedro/io/data_catalog.py\u001b\\\u001b[2mdata_catalog.py\u001b[0m\u001b]8;;\u001b\\\u001b[2m:\u001b[0m\u001b]8;id=638031;file:///home/filip/miniconda3/envs/hexgin/lib/python3.11/site-packages/kedro/io/data_catalog.py#508\u001b\\\u001b[2m508\u001b[0m\u001b]8;;\u001b\\\n"
      ]
     },
     "metadata": {},
     "output_type": "display_data"
    },
    {
     "data": {
      "text/html": [
       "<pre style=\"white-space:pre;overflow-x:auto;line-height:normal;font-family:Menlo,'DejaVu Sans Mono',consolas,'Courier New',monospace\"><span style=\"color: #7fbfbf; text-decoration-color: #7fbfbf\">                    </span><span style=\"color: #000080; text-decoration-color: #000080\">INFO    </span> Loading data from <span style=\"color: #ff8700; text-decoration-color: #ff8700\">sage_test_report</span> <span style=\"font-weight: bold\">(</span>CSVDataset<span style=\"font-weight: bold\">)</span><span style=\"color: #808000; text-decoration-color: #808000\">...</span>                 <a href=\"file:///home/filip/miniconda3/envs/hexgin/lib/python3.11/site-packages/kedro/io/data_catalog.py\" target=\"_blank\"><span style=\"color: #7f7f7f; text-decoration-color: #7f7f7f\">data_catalog.py</span></a><span style=\"color: #7f7f7f; text-decoration-color: #7f7f7f\">:</span><a href=\"file:///home/filip/miniconda3/envs/hexgin/lib/python3.11/site-packages/kedro/io/data_catalog.py#508\" target=\"_blank\"><span style=\"color: #7f7f7f; text-decoration-color: #7f7f7f\">508</span></a>\n",
       "</pre>\n"
      ],
      "text/plain": [
       "\u001b[2;36m                   \u001b[0m\u001b[2;36m \u001b[0m\u001b[34mINFO    \u001b[0m Loading data from \u001b[38;5;208msage_test_report\u001b[0m \u001b[1m(\u001b[0mCSVDataset\u001b[1m)\u001b[0m\u001b[33m...\u001b[0m                 \u001b]8;id=242927;file:///home/filip/miniconda3/envs/hexgin/lib/python3.11/site-packages/kedro/io/data_catalog.py\u001b\\\u001b[2mdata_catalog.py\u001b[0m\u001b]8;;\u001b\\\u001b[2m:\u001b[0m\u001b]8;id=638003;file:///home/filip/miniconda3/envs/hexgin/lib/python3.11/site-packages/kedro/io/data_catalog.py#508\u001b\\\u001b[2m508\u001b[0m\u001b]8;;\u001b\\\n"
      ]
     },
     "metadata": {},
     "output_type": "display_data"
    },
    {
     "data": {
      "text/html": [
       "<pre style=\"white-space:pre;overflow-x:auto;line-height:normal;font-family:Menlo,'DejaVu Sans Mono',consolas,'Courier New',monospace\"><span style=\"color: #7fbfbf; text-decoration-color: #7fbfbf\">                    </span><span style=\"color: #000080; text-decoration-color: #000080\">INFO    </span> Loading data from <span style=\"color: #ff8700; text-decoration-color: #ff8700\">mlp_test_report</span> <span style=\"font-weight: bold\">(</span>CSVDataset<span style=\"font-weight: bold\">)</span><span style=\"color: #808000; text-decoration-color: #808000\">...</span>                  <a href=\"file:///home/filip/miniconda3/envs/hexgin/lib/python3.11/site-packages/kedro/io/data_catalog.py\" target=\"_blank\"><span style=\"color: #7f7f7f; text-decoration-color: #7f7f7f\">data_catalog.py</span></a><span style=\"color: #7f7f7f; text-decoration-color: #7f7f7f\">:</span><a href=\"file:///home/filip/miniconda3/envs/hexgin/lib/python3.11/site-packages/kedro/io/data_catalog.py#508\" target=\"_blank\"><span style=\"color: #7f7f7f; text-decoration-color: #7f7f7f\">508</span></a>\n",
       "</pre>\n"
      ],
      "text/plain": [
       "\u001b[2;36m                   \u001b[0m\u001b[2;36m \u001b[0m\u001b[34mINFO    \u001b[0m Loading data from \u001b[38;5;208mmlp_test_report\u001b[0m \u001b[1m(\u001b[0mCSVDataset\u001b[1m)\u001b[0m\u001b[33m...\u001b[0m                  \u001b]8;id=840680;file:///home/filip/miniconda3/envs/hexgin/lib/python3.11/site-packages/kedro/io/data_catalog.py\u001b\\\u001b[2mdata_catalog.py\u001b[0m\u001b]8;;\u001b\\\u001b[2m:\u001b[0m\u001b]8;id=327603;file:///home/filip/miniconda3/envs/hexgin/lib/python3.11/site-packages/kedro/io/data_catalog.py#508\u001b\\\u001b[2m508\u001b[0m\u001b]8;;\u001b\\\n"
      ]
     },
     "metadata": {},
     "output_type": "display_data"
    }
   ],
   "source": [
    "hexgin_test_metrics = catalog.load(\"hexgin_test_report\")\n",
    "sage_test_metrics = catalog.load(\"sage_test_report\")\n",
    "mlp_test_metrics = catalog.load(\"mlp_test_report\")"
   ]
  },
  {
   "cell_type": "code",
   "execution_count": 281,
   "metadata": {},
   "outputs": [
    {
     "data": {
      "text/html": [
       "<pre style=\"white-space:pre;overflow-x:auto;line-height:normal;font-family:Menlo,'DejaVu Sans Mono',consolas,'Courier New',monospace\"><span style=\"color: #7fbfbf; text-decoration-color: #7fbfbf\">                    </span><span style=\"color: #000080; text-decoration-color: #000080\">INFO    </span> Loading data from <span style=\"color: #ff8700; text-decoration-color: #ff8700\">hexgin_metrics</span> <span style=\"font-weight: bold\">(</span>CSVDataset<span style=\"font-weight: bold\">)</span><span style=\"color: #808000; text-decoration-color: #808000\">...</span>                   <a href=\"file:///home/filip/miniconda3/envs/hexgin/lib/python3.11/site-packages/kedro/io/data_catalog.py\" target=\"_blank\"><span style=\"color: #7f7f7f; text-decoration-color: #7f7f7f\">data_catalog.py</span></a><span style=\"color: #7f7f7f; text-decoration-color: #7f7f7f\">:</span><a href=\"file:///home/filip/miniconda3/envs/hexgin/lib/python3.11/site-packages/kedro/io/data_catalog.py#508\" target=\"_blank\"><span style=\"color: #7f7f7f; text-decoration-color: #7f7f7f\">508</span></a>\n",
       "</pre>\n"
      ],
      "text/plain": [
       "\u001b[2;36m                   \u001b[0m\u001b[2;36m \u001b[0m\u001b[34mINFO    \u001b[0m Loading data from \u001b[38;5;208mhexgin_metrics\u001b[0m \u001b[1m(\u001b[0mCSVDataset\u001b[1m)\u001b[0m\u001b[33m...\u001b[0m                   \u001b]8;id=403429;file:///home/filip/miniconda3/envs/hexgin/lib/python3.11/site-packages/kedro/io/data_catalog.py\u001b\\\u001b[2mdata_catalog.py\u001b[0m\u001b]8;;\u001b\\\u001b[2m:\u001b[0m\u001b]8;id=634928;file:///home/filip/miniconda3/envs/hexgin/lib/python3.11/site-packages/kedro/io/data_catalog.py#508\u001b\\\u001b[2m508\u001b[0m\u001b]8;;\u001b\\\n"
      ]
     },
     "metadata": {},
     "output_type": "display_data"
    },
    {
     "data": {
      "text/html": [
       "<pre style=\"white-space:pre;overflow-x:auto;line-height:normal;font-family:Menlo,'DejaVu Sans Mono',consolas,'Courier New',monospace\"><span style=\"color: #7fbfbf; text-decoration-color: #7fbfbf\">                    </span><span style=\"color: #000080; text-decoration-color: #000080\">INFO    </span> Loading data from <span style=\"color: #ff8700; text-decoration-color: #ff8700\">sage_metrics</span> <span style=\"font-weight: bold\">(</span>CSVDataset<span style=\"font-weight: bold\">)</span><span style=\"color: #808000; text-decoration-color: #808000\">...</span>                     <a href=\"file:///home/filip/miniconda3/envs/hexgin/lib/python3.11/site-packages/kedro/io/data_catalog.py\" target=\"_blank\"><span style=\"color: #7f7f7f; text-decoration-color: #7f7f7f\">data_catalog.py</span></a><span style=\"color: #7f7f7f; text-decoration-color: #7f7f7f\">:</span><a href=\"file:///home/filip/miniconda3/envs/hexgin/lib/python3.11/site-packages/kedro/io/data_catalog.py#508\" target=\"_blank\"><span style=\"color: #7f7f7f; text-decoration-color: #7f7f7f\">508</span></a>\n",
       "</pre>\n"
      ],
      "text/plain": [
       "\u001b[2;36m                   \u001b[0m\u001b[2;36m \u001b[0m\u001b[34mINFO    \u001b[0m Loading data from \u001b[38;5;208msage_metrics\u001b[0m \u001b[1m(\u001b[0mCSVDataset\u001b[1m)\u001b[0m\u001b[33m...\u001b[0m                     \u001b]8;id=203305;file:///home/filip/miniconda3/envs/hexgin/lib/python3.11/site-packages/kedro/io/data_catalog.py\u001b\\\u001b[2mdata_catalog.py\u001b[0m\u001b]8;;\u001b\\\u001b[2m:\u001b[0m\u001b]8;id=160457;file:///home/filip/miniconda3/envs/hexgin/lib/python3.11/site-packages/kedro/io/data_catalog.py#508\u001b\\\u001b[2m508\u001b[0m\u001b]8;;\u001b\\\n"
      ]
     },
     "metadata": {},
     "output_type": "display_data"
    },
    {
     "data": {
      "text/html": [
       "<pre style=\"white-space:pre;overflow-x:auto;line-height:normal;font-family:Menlo,'DejaVu Sans Mono',consolas,'Courier New',monospace\"><span style=\"color: #7fbfbf; text-decoration-color: #7fbfbf\">                    </span><span style=\"color: #000080; text-decoration-color: #000080\">INFO    </span> Loading data from <span style=\"color: #ff8700; text-decoration-color: #ff8700\">mlp_metrics</span> <span style=\"font-weight: bold\">(</span>CSVDataset<span style=\"font-weight: bold\">)</span><span style=\"color: #808000; text-decoration-color: #808000\">...</span>                      <a href=\"file:///home/filip/miniconda3/envs/hexgin/lib/python3.11/site-packages/kedro/io/data_catalog.py\" target=\"_blank\"><span style=\"color: #7f7f7f; text-decoration-color: #7f7f7f\">data_catalog.py</span></a><span style=\"color: #7f7f7f; text-decoration-color: #7f7f7f\">:</span><a href=\"file:///home/filip/miniconda3/envs/hexgin/lib/python3.11/site-packages/kedro/io/data_catalog.py#508\" target=\"_blank\"><span style=\"color: #7f7f7f; text-decoration-color: #7f7f7f\">508</span></a>\n",
       "</pre>\n"
      ],
      "text/plain": [
       "\u001b[2;36m                   \u001b[0m\u001b[2;36m \u001b[0m\u001b[34mINFO    \u001b[0m Loading data from \u001b[38;5;208mmlp_metrics\u001b[0m \u001b[1m(\u001b[0mCSVDataset\u001b[1m)\u001b[0m\u001b[33m...\u001b[0m                      \u001b]8;id=229255;file:///home/filip/miniconda3/envs/hexgin/lib/python3.11/site-packages/kedro/io/data_catalog.py\u001b\\\u001b[2mdata_catalog.py\u001b[0m\u001b]8;;\u001b\\\u001b[2m:\u001b[0m\u001b]8;id=902898;file:///home/filip/miniconda3/envs/hexgin/lib/python3.11/site-packages/kedro/io/data_catalog.py#508\u001b\\\u001b[2m508\u001b[0m\u001b]8;;\u001b\\\n"
      ]
     },
     "metadata": {},
     "output_type": "display_data"
    }
   ],
   "source": [
    "hexgin_test_metrics = catalog.load(\"hexgin_metrics\")\n",
    "sage_test_metrics = catalog.load(\"sage_metrics\")\n",
    "mlp_test_metrics = catalog.load(\"mlp_metrics\")"
   ]
  },
  {
   "cell_type": "code",
   "execution_count": 282,
   "metadata": {},
   "outputs": [
    {
     "data": {
      "text/html": [
       "<pre style=\"white-space:pre;overflow-x:auto;line-height:normal;font-family:Menlo,'DejaVu Sans Mono',consolas,'Courier New',monospace\"></pre>\n"
      ],
      "text/plain": []
     },
     "metadata": {},
     "output_type": "display_data"
    },
    {
     "data": {
      "text/html": [
       "<style type=\"text/css\">\n",
       "#T_6bc14_row0_col0, #T_6bc14_row0_col1, #T_6bc14_row0_col2, #T_6bc14_row0_col3 {\n",
       "  background-color: lightgreen;\n",
       "}\n",
       "</style>\n",
       "<table id=\"T_6bc14\">\n",
       "  <thead>\n",
       "    <tr>\n",
       "      <th class=\"blank level0\" >&nbsp;</th>\n",
       "      <th id=\"T_6bc14_level0_col0\" class=\"col_heading level0 col0\" >f1</th>\n",
       "      <th id=\"T_6bc14_level0_col1\" class=\"col_heading level0 col1\" >precision</th>\n",
       "      <th id=\"T_6bc14_level0_col2\" class=\"col_heading level0 col2\" >recall</th>\n",
       "      <th id=\"T_6bc14_level0_col3\" class=\"col_heading level0 col3\" >rocauc</th>\n",
       "      <th id=\"T_6bc14_level0_col4\" class=\"col_heading level0 col4\" >model</th>\n",
       "    </tr>\n",
       "  </thead>\n",
       "  <tbody>\n",
       "    <tr>\n",
       "      <th id=\"T_6bc14_level0_row0\" class=\"row_heading level0 row0\" >0</th>\n",
       "      <td id=\"T_6bc14_row0_col0\" class=\"data row0 col0\" >0.720000</td>\n",
       "      <td id=\"T_6bc14_row0_col1\" class=\"data row0 col1\" >0.855000</td>\n",
       "      <td id=\"T_6bc14_row0_col2\" class=\"data row0 col2\" >0.622000</td>\n",
       "      <td id=\"T_6bc14_row0_col3\" class=\"data row0 col3\" >0.802000</td>\n",
       "      <td id=\"T_6bc14_row0_col4\" class=\"data row0 col4\" >HexGIN</td>\n",
       "    </tr>\n",
       "    <tr>\n",
       "      <th id=\"T_6bc14_level0_row1\" class=\"row_heading level0 row1\" >1</th>\n",
       "      <td id=\"T_6bc14_row1_col0\" class=\"data row1 col0\" >0.678000</td>\n",
       "      <td id=\"T_6bc14_row1_col1\" class=\"data row1 col1\" >0.845000</td>\n",
       "      <td id=\"T_6bc14_row1_col2\" class=\"data row1 col2\" >0.566000</td>\n",
       "      <td id=\"T_6bc14_row1_col3\" class=\"data row1 col3\" >0.787000</td>\n",
       "      <td id=\"T_6bc14_row1_col4\" class=\"data row1 col4\" >SAGE</td>\n",
       "    </tr>\n",
       "    <tr>\n",
       "      <th id=\"T_6bc14_level0_row2\" class=\"row_heading level0 row2\" >2</th>\n",
       "      <td id=\"T_6bc14_row2_col0\" class=\"data row2 col0\" >0.594000</td>\n",
       "      <td id=\"T_6bc14_row2_col1\" class=\"data row2 col1\" >0.718000</td>\n",
       "      <td id=\"T_6bc14_row2_col2\" class=\"data row2 col2\" >0.507000</td>\n",
       "      <td id=\"T_6bc14_row2_col3\" class=\"data row2 col3\" >0.695000</td>\n",
       "      <td id=\"T_6bc14_row2_col4\" class=\"data row2 col4\" >MLP</td>\n",
       "    </tr>\n",
       "  </tbody>\n",
       "</table>\n"
      ],
      "text/plain": [
       "\u001b[1m<\u001b[0m\u001b[1;95mpandas.io.formats.style.Styler\u001b[0m\u001b[39m object at \u001b[0m\u001b[1;36m0x7dbc2aa54bd0\u001b[0m\u001b[1m>\u001b[0m"
      ]
     },
     "execution_count": 282,
     "metadata": {},
     "output_type": "execute_result"
    }
   ],
   "source": [
    "pd.concat([hexgin_test_metrics, sage_test_metrics, mlp_test_metrics], axis=0).round(3).reset_index(drop=True).style.highlight_max(\n",
    "    axis=0,\n",
    "    color='lightgreen',\n",
    "    subset=['f1', 'precision', 'recall', 'rocauc'])"
   ]
  },
  {
   "cell_type": "code",
   "execution_count": null,
   "metadata": {},
   "outputs": [],
   "source": []
  }
 ],
 "metadata": {
  "kernelspec": {
   "display_name": "Python 3",
   "language": "python",
   "name": "python3"
  },
  "language_info": {
   "codemirror_mode": {
    "name": "ipython",
    "version": 3
   },
   "file_extension": ".py",
   "mimetype": "text/x-python",
   "name": "python",
   "nbconvert_exporter": "python",
   "pygments_lexer": "ipython3",
   "version": "3.11.9"
  }
 },
 "nbformat": 4,
 "nbformat_minor": 0
}
