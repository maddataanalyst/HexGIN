{
 "cells": [
  {
   "cell_type": "markdown",
   "metadata": {},
   "source": [
    "# Intro\n",
    "\n",
    "The goal of this notebook is to demonstrate how to set up each model used in this study, make predictions and visualize model structure."
   ]
  },
  {
   "cell_type": "markdown",
   "metadata": {
    "collapsed": false
   },
   "source": [
    "# Kedro load"
   ]
  },
  {
   "cell_type": "code",
   "execution_count": 1,
   "metadata": {
    "ExecuteTime": {
     "end_time": "2023-10-23T12:19:57.103767100Z",
     "start_time": "2023-10-23T12:19:42.243455300Z"
    },
    "collapsed": false
   },
   "outputs": [
    {
     "data": {
      "text/html": [
       "<pre style=\"white-space:pre;overflow-x:auto;line-height:normal;font-family:Menlo,'DejaVu Sans Mono',consolas,'Courier New',monospace\"><span style=\"color: #7fbfbf; text-decoration-color: #7fbfbf\">[07/09/24 12:33:50] </span><span style=\"color: #000080; text-decoration-color: #000080\">INFO    </span> Registered line magic <span style=\"color: #008000; text-decoration-color: #008000\">'%reload_kedro'</span>                                   <a href=\"file:///home/filip/miniconda3/envs/hexgin/lib/python3.11/site-packages/kedro/ipython/__init__.py\" target=\"_blank\"><span style=\"color: #7f7f7f; text-decoration-color: #7f7f7f\">__init__.py</span></a><span style=\"color: #7f7f7f; text-decoration-color: #7f7f7f\">:</span><a href=\"file:///home/filip/miniconda3/envs/hexgin/lib/python3.11/site-packages/kedro/ipython/__init__.py#58\" target=\"_blank\"><span style=\"color: #7f7f7f; text-decoration-color: #7f7f7f\">58</span></a>\n",
       "</pre>\n"
      ],
      "text/plain": [
       "\u001b[2;36m[07/09/24 12:33:50]\u001b[0m\u001b[2;36m \u001b[0m\u001b[34mINFO    \u001b[0m Registered line magic \u001b[32m'%reload_kedro'\u001b[0m                                   \u001b]8;id=300157;file:///home/filip/miniconda3/envs/hexgin/lib/python3.11/site-packages/kedro/ipython/__init__.py\u001b\\\u001b[2m__init__.py\u001b[0m\u001b]8;;\u001b\\\u001b[2m:\u001b[0m\u001b]8;id=208273;file:///home/filip/miniconda3/envs/hexgin/lib/python3.11/site-packages/kedro/ipython/__init__.py#58\u001b\\\u001b[2m58\u001b[0m\u001b]8;;\u001b\\\n"
      ]
     },
     "metadata": {},
     "output_type": "display_data"
    },
    {
     "data": {
      "text/html": [
       "<pre style=\"white-space:pre;overflow-x:auto;line-height:normal;font-family:Menlo,'DejaVu Sans Mono',consolas,'Courier New',monospace\"><span style=\"color: #7fbfbf; text-decoration-color: #7fbfbf\">                    </span><span style=\"color: #000080; text-decoration-color: #000080\">INFO    </span> Registered line magic <span style=\"color: #008000; text-decoration-color: #008000\">'%load_node'</span>                                      <a href=\"file:///home/filip/miniconda3/envs/hexgin/lib/python3.11/site-packages/kedro/ipython/__init__.py\" target=\"_blank\"><span style=\"color: #7f7f7f; text-decoration-color: #7f7f7f\">__init__.py</span></a><span style=\"color: #7f7f7f; text-decoration-color: #7f7f7f\">:</span><a href=\"file:///home/filip/miniconda3/envs/hexgin/lib/python3.11/site-packages/kedro/ipython/__init__.py#60\" target=\"_blank\"><span style=\"color: #7f7f7f; text-decoration-color: #7f7f7f\">60</span></a>\n",
       "</pre>\n"
      ],
      "text/plain": [
       "\u001b[2;36m                   \u001b[0m\u001b[2;36m \u001b[0m\u001b[34mINFO    \u001b[0m Registered line magic \u001b[32m'%load_node'\u001b[0m                                      \u001b]8;id=739382;file:///home/filip/miniconda3/envs/hexgin/lib/python3.11/site-packages/kedro/ipython/__init__.py\u001b\\\u001b[2m__init__.py\u001b[0m\u001b]8;;\u001b\\\u001b[2m:\u001b[0m\u001b]8;id=545302;file:///home/filip/miniconda3/envs/hexgin/lib/python3.11/site-packages/kedro/ipython/__init__.py#60\u001b\\\u001b[2m60\u001b[0m\u001b]8;;\u001b\\\n"
      ]
     },
     "metadata": {},
     "output_type": "display_data"
    },
    {
     "data": {
      "text/html": [
       "<pre style=\"white-space:pre;overflow-x:auto;line-height:normal;font-family:Menlo,'DejaVu Sans Mono',consolas,'Courier New',monospace\"><span style=\"color: #7fbfbf; text-decoration-color: #7fbfbf\">                    </span><span style=\"color: #000080; text-decoration-color: #000080\">INFO    </span> Resolved project path as: <span style=\"color: #800080; text-decoration-color: #800080\">/home/filip/projects/</span><span style=\"color: #ff00ff; text-decoration-color: #ff00ff\">HexGIN.</span>                 <a href=\"file:///home/filip/miniconda3/envs/hexgin/lib/python3.11/site-packages/kedro/ipython/__init__.py\" target=\"_blank\"><span style=\"color: #7f7f7f; text-decoration-color: #7f7f7f\">__init__.py</span></a><span style=\"color: #7f7f7f; text-decoration-color: #7f7f7f\">:</span><a href=\"file:///home/filip/miniconda3/envs/hexgin/lib/python3.11/site-packages/kedro/ipython/__init__.py#171\" target=\"_blank\"><span style=\"color: #7f7f7f; text-decoration-color: #7f7f7f\">171</span></a>\n",
       "<span style=\"color: #7fbfbf; text-decoration-color: #7fbfbf\">                    </span>         To set a different path, run <span style=\"color: #008000; text-decoration-color: #008000\">'%reload_kedro &lt;project_root&gt;'</span>            <span style=\"color: #7f7f7f; text-decoration-color: #7f7f7f\">               </span>\n",
       "</pre>\n"
      ],
      "text/plain": [
       "\u001b[2;36m                   \u001b[0m\u001b[2;36m \u001b[0m\u001b[34mINFO    \u001b[0m Resolved project path as: \u001b[35m/home/filip/projects/\u001b[0m\u001b[95mHexGIN.\u001b[0m                 \u001b]8;id=523309;file:///home/filip/miniconda3/envs/hexgin/lib/python3.11/site-packages/kedro/ipython/__init__.py\u001b\\\u001b[2m__init__.py\u001b[0m\u001b]8;;\u001b\\\u001b[2m:\u001b[0m\u001b]8;id=455228;file:///home/filip/miniconda3/envs/hexgin/lib/python3.11/site-packages/kedro/ipython/__init__.py#171\u001b\\\u001b[2m171\u001b[0m\u001b]8;;\u001b\\\n",
       "\u001b[2;36m                    \u001b[0m         To set a different path, run \u001b[32m'%reload_kedro \u001b[0m\u001b[32m<\u001b[0m\u001b[32mproject_root\u001b[0m\u001b[32m>\u001b[0m\u001b[32m'\u001b[0m            \u001b[2m               \u001b[0m\n"
      ]
     },
     "metadata": {},
     "output_type": "display_data"
    },
    {
     "data": {
      "text/html": [
       "<pre style=\"white-space:pre;overflow-x:auto;line-height:normal;font-family:Menlo,'DejaVu Sans Mono',consolas,'Courier New',monospace\"><span style=\"color: #7fbfbf; text-decoration-color: #7fbfbf\">[07/09/24 12:33:50] </span><span style=\"color: #800000; text-decoration-color: #800000\">WARNING </span> <span style=\"color: #800080; text-decoration-color: #800080\">/home/filip/miniconda3/envs/hexgin/lib/python3.11/site-packages/kedro_</span> <a href=\"file:///home/filip/miniconda3/envs/hexgin/lib/python3.11/warnings.py\" target=\"_blank\"><span style=\"color: #7f7f7f; text-decoration-color: #7f7f7f\">warnings.py</span></a><span style=\"color: #7f7f7f; text-decoration-color: #7f7f7f\">:</span><a href=\"file:///home/filip/miniconda3/envs/hexgin/lib/python3.11/warnings.py#110\" target=\"_blank\"><span style=\"color: #7f7f7f; text-decoration-color: #7f7f7f\">110</span></a>\n",
       "<span style=\"color: #7fbfbf; text-decoration-color: #7fbfbf\">                    </span>         <span style=\"color: #800080; text-decoration-color: #800080\">viz/integrations/kedro/</span><span style=\"color: #ff00ff; text-decoration-color: #ff00ff\">hooks.py</span>:<span style=\"color: #008080; text-decoration-color: #008080; font-weight: bold\">13</span>: KedroDeprecationWarning:           <span style=\"color: #7f7f7f; text-decoration-color: #7f7f7f\">               </span>\n",
       "<span style=\"color: #7fbfbf; text-decoration-color: #7fbfbf\">                    </span>         <span style=\"color: #008000; text-decoration-color: #008000\">'TRANSCODING_SEPARATOR'</span> has been moved to                              <span style=\"color: #7f7f7f; text-decoration-color: #7f7f7f\">               </span>\n",
       "<span style=\"color: #7fbfbf; text-decoration-color: #7fbfbf\">                    </span>         <span style=\"color: #008000; text-decoration-color: #008000\">'kedro.pipeline.transcoding'</span>, and the alias will be removed in Kedro   <span style=\"color: #7f7f7f; text-decoration-color: #7f7f7f\">               </span>\n",
       "<span style=\"color: #7fbfbf; text-decoration-color: #7fbfbf\">                    </span>         <span style=\"color: #008080; text-decoration-color: #008080; font-weight: bold\">0.20</span>.<span style=\"color: #008080; text-decoration-color: #008080; font-weight: bold\">0</span>                                                                 <span style=\"color: #7f7f7f; text-decoration-color: #7f7f7f\">               </span>\n",
       "<span style=\"color: #7fbfbf; text-decoration-color: #7fbfbf\">                    </span>           from kedro.pipeline.pipeline import TRANSCODING_SEPARATOR,           <span style=\"color: #7f7f7f; text-decoration-color: #7f7f7f\">               </span>\n",
       "<span style=\"color: #7fbfbf; text-decoration-color: #7fbfbf\">                    </span>         _strip_transcoding                                                     <span style=\"color: #7f7f7f; text-decoration-color: #7f7f7f\">               </span>\n",
       "<span style=\"color: #7fbfbf; text-decoration-color: #7fbfbf\">                    </span>                                                                                <span style=\"color: #7f7f7f; text-decoration-color: #7f7f7f\">               </span>\n",
       "</pre>\n"
      ],
      "text/plain": [
       "\u001b[2;36m[07/09/24 12:33:50]\u001b[0m\u001b[2;36m \u001b[0m\u001b[31mWARNING \u001b[0m \u001b[35m/home/filip/miniconda3/envs/hexgin/lib/python3.11/site-packages/kedro_\u001b[0m \u001b]8;id=649591;file:///home/filip/miniconda3/envs/hexgin/lib/python3.11/warnings.py\u001b\\\u001b[2mwarnings.py\u001b[0m\u001b]8;;\u001b\\\u001b[2m:\u001b[0m\u001b]8;id=659547;file:///home/filip/miniconda3/envs/hexgin/lib/python3.11/warnings.py#110\u001b\\\u001b[2m110\u001b[0m\u001b]8;;\u001b\\\n",
       "\u001b[2;36m                    \u001b[0m         \u001b[35mviz/integrations/kedro/\u001b[0m\u001b[95mhooks.py\u001b[0m:\u001b[1;36m13\u001b[0m: KedroDeprecationWarning:           \u001b[2m               \u001b[0m\n",
       "\u001b[2;36m                    \u001b[0m         \u001b[32m'TRANSCODING_SEPARATOR'\u001b[0m has been moved to                              \u001b[2m               \u001b[0m\n",
       "\u001b[2;36m                    \u001b[0m         \u001b[32m'kedro.pipeline.transcoding'\u001b[0m, and the alias will be removed in Kedro   \u001b[2m               \u001b[0m\n",
       "\u001b[2;36m                    \u001b[0m         \u001b[1;36m0.20\u001b[0m.\u001b[1;36m0\u001b[0m                                                                 \u001b[2m               \u001b[0m\n",
       "\u001b[2;36m                    \u001b[0m           from kedro.pipeline.pipeline import TRANSCODING_SEPARATOR,           \u001b[2m               \u001b[0m\n",
       "\u001b[2;36m                    \u001b[0m         _strip_transcoding                                                     \u001b[2m               \u001b[0m\n",
       "\u001b[2;36m                    \u001b[0m                                                                                \u001b[2m               \u001b[0m\n"
      ]
     },
     "metadata": {},
     "output_type": "display_data"
    },
    {
     "data": {
      "text/html": [
       "<pre style=\"white-space:pre;overflow-x:auto;line-height:normal;font-family:Menlo,'DejaVu Sans Mono',consolas,'Courier New',monospace\"><span style=\"color: #7fbfbf; text-decoration-color: #7fbfbf\">[07/09/24 12:33:52] </span><span style=\"color: #000080; text-decoration-color: #000080\">INFO    </span> Kedro project HexGIN                                                   <a href=\"file:///home/filip/miniconda3/envs/hexgin/lib/python3.11/site-packages/kedro/ipython/__init__.py\" target=\"_blank\"><span style=\"color: #7f7f7f; text-decoration-color: #7f7f7f\">__init__.py</span></a><span style=\"color: #7f7f7f; text-decoration-color: #7f7f7f\">:</span><a href=\"file:///home/filip/miniconda3/envs/hexgin/lib/python3.11/site-packages/kedro/ipython/__init__.py#141\" target=\"_blank\"><span style=\"color: #7f7f7f; text-decoration-color: #7f7f7f\">141</span></a>\n",
       "</pre>\n"
      ],
      "text/plain": [
       "\u001b[2;36m[07/09/24 12:33:52]\u001b[0m\u001b[2;36m \u001b[0m\u001b[34mINFO    \u001b[0m Kedro project HexGIN                                                   \u001b]8;id=681930;file:///home/filip/miniconda3/envs/hexgin/lib/python3.11/site-packages/kedro/ipython/__init__.py\u001b\\\u001b[2m__init__.py\u001b[0m\u001b]8;;\u001b\\\u001b[2m:\u001b[0m\u001b]8;id=187930;file:///home/filip/miniconda3/envs/hexgin/lib/python3.11/site-packages/kedro/ipython/__init__.py#141\u001b\\\u001b[2m141\u001b[0m\u001b]8;;\u001b\\\n"
      ]
     },
     "metadata": {},
     "output_type": "display_data"
    },
    {
     "data": {
      "text/html": [
       "<pre style=\"white-space:pre;overflow-x:auto;line-height:normal;font-family:Menlo,'DejaVu Sans Mono',consolas,'Courier New',monospace\"><span style=\"color: #7fbfbf; text-decoration-color: #7fbfbf\">                    </span><span style=\"color: #000080; text-decoration-color: #000080\">INFO    </span> Defined global variable <span style=\"color: #008000; text-decoration-color: #008000\">'context'</span>, <span style=\"color: #008000; text-decoration-color: #008000\">'session'</span>, <span style=\"color: #008000; text-decoration-color: #008000\">'catalog'</span> and            <a href=\"file:///home/filip/miniconda3/envs/hexgin/lib/python3.11/site-packages/kedro/ipython/__init__.py\" target=\"_blank\"><span style=\"color: #7f7f7f; text-decoration-color: #7f7f7f\">__init__.py</span></a><span style=\"color: #7f7f7f; text-decoration-color: #7f7f7f\">:</span><a href=\"file:///home/filip/miniconda3/envs/hexgin/lib/python3.11/site-packages/kedro/ipython/__init__.py#142\" target=\"_blank\"><span style=\"color: #7f7f7f; text-decoration-color: #7f7f7f\">142</span></a>\n",
       "<span style=\"color: #7fbfbf; text-decoration-color: #7fbfbf\">                    </span>         <span style=\"color: #008000; text-decoration-color: #008000\">'pipelines'</span>                                                            <span style=\"color: #7f7f7f; text-decoration-color: #7f7f7f\">               </span>\n",
       "</pre>\n"
      ],
      "text/plain": [
       "\u001b[2;36m                   \u001b[0m\u001b[2;36m \u001b[0m\u001b[34mINFO    \u001b[0m Defined global variable \u001b[32m'context'\u001b[0m, \u001b[32m'session'\u001b[0m, \u001b[32m'catalog'\u001b[0m and            \u001b]8;id=260492;file:///home/filip/miniconda3/envs/hexgin/lib/python3.11/site-packages/kedro/ipython/__init__.py\u001b\\\u001b[2m__init__.py\u001b[0m\u001b]8;;\u001b\\\u001b[2m:\u001b[0m\u001b]8;id=205488;file:///home/filip/miniconda3/envs/hexgin/lib/python3.11/site-packages/kedro/ipython/__init__.py#142\u001b\\\u001b[2m142\u001b[0m\u001b]8;;\u001b\\\n",
       "\u001b[2;36m                    \u001b[0m         \u001b[32m'pipelines'\u001b[0m                                                            \u001b[2m               \u001b[0m\n"
      ]
     },
     "metadata": {},
     "output_type": "display_data"
    },
    {
     "data": {
      "text/html": [
       "<pre style=\"white-space:pre;overflow-x:auto;line-height:normal;font-family:Menlo,'DejaVu Sans Mono',consolas,'Courier New',monospace\"><span style=\"color: #7fbfbf; text-decoration-color: #7fbfbf\">[07/09/24 12:33:53] </span><span style=\"color: #800000; text-decoration-color: #800000\">WARNING </span> <span style=\"color: #800080; text-decoration-color: #800080\">/home/filip/miniconda3/envs/hexgin/lib/python3.11/site-packages/kedro_</span> <a href=\"file:///home/filip/miniconda3/envs/hexgin/lib/python3.11/warnings.py\" target=\"_blank\"><span style=\"color: #7f7f7f; text-decoration-color: #7f7f7f\">warnings.py</span></a><span style=\"color: #7f7f7f; text-decoration-color: #7f7f7f\">:</span><a href=\"file:///home/filip/miniconda3/envs/hexgin/lib/python3.11/warnings.py#110\" target=\"_blank\"><span style=\"color: #7f7f7f; text-decoration-color: #7f7f7f\">110</span></a>\n",
       "<span style=\"color: #7fbfbf; text-decoration-color: #7fbfbf\">                    </span>         <span style=\"color: #800080; text-decoration-color: #800080\">viz/models/</span><span style=\"color: #ff00ff; text-decoration-color: #ff00ff\">flowchart.py</span>:<span style=\"color: #008080; text-decoration-color: #008080; font-weight: bold\">14</span>: KedroDeprecationWarning:                   <span style=\"color: #7f7f7f; text-decoration-color: #7f7f7f\">               </span>\n",
       "<span style=\"color: #7fbfbf; text-decoration-color: #7fbfbf\">                    </span>         <span style=\"color: #008000; text-decoration-color: #008000\">'TRANSCODING_SEPARATOR'</span> has been moved to                              <span style=\"color: #7f7f7f; text-decoration-color: #7f7f7f\">               </span>\n",
       "<span style=\"color: #7fbfbf; text-decoration-color: #7fbfbf\">                    </span>         <span style=\"color: #008000; text-decoration-color: #008000\">'kedro.pipeline.transcoding'</span>, and the alias will be removed in Kedro   <span style=\"color: #7f7f7f; text-decoration-color: #7f7f7f\">               </span>\n",
       "<span style=\"color: #7fbfbf; text-decoration-color: #7fbfbf\">                    </span>         <span style=\"color: #008080; text-decoration-color: #008080; font-weight: bold\">0.20</span>.<span style=\"color: #008080; text-decoration-color: #008080; font-weight: bold\">0</span>                                                                 <span style=\"color: #7f7f7f; text-decoration-color: #7f7f7f\">               </span>\n",
       "<span style=\"color: #7fbfbf; text-decoration-color: #7fbfbf\">                    </span>           from kedro.pipeline.pipeline import TRANSCODING_SEPARATOR,           <span style=\"color: #7f7f7f; text-decoration-color: #7f7f7f\">               </span>\n",
       "<span style=\"color: #7fbfbf; text-decoration-color: #7fbfbf\">                    </span>         _strip_transcoding                                                     <span style=\"color: #7f7f7f; text-decoration-color: #7f7f7f\">               </span>\n",
       "<span style=\"color: #7fbfbf; text-decoration-color: #7fbfbf\">                    </span>                                                                                <span style=\"color: #7f7f7f; text-decoration-color: #7f7f7f\">               </span>\n",
       "</pre>\n"
      ],
      "text/plain": [
       "\u001b[2;36m[07/09/24 12:33:53]\u001b[0m\u001b[2;36m \u001b[0m\u001b[31mWARNING \u001b[0m \u001b[35m/home/filip/miniconda3/envs/hexgin/lib/python3.11/site-packages/kedro_\u001b[0m \u001b]8;id=613569;file:///home/filip/miniconda3/envs/hexgin/lib/python3.11/warnings.py\u001b\\\u001b[2mwarnings.py\u001b[0m\u001b]8;;\u001b\\\u001b[2m:\u001b[0m\u001b]8;id=202009;file:///home/filip/miniconda3/envs/hexgin/lib/python3.11/warnings.py#110\u001b\\\u001b[2m110\u001b[0m\u001b]8;;\u001b\\\n",
       "\u001b[2;36m                    \u001b[0m         \u001b[35mviz/models/\u001b[0m\u001b[95mflowchart.py\u001b[0m:\u001b[1;36m14\u001b[0m: KedroDeprecationWarning:                   \u001b[2m               \u001b[0m\n",
       "\u001b[2;36m                    \u001b[0m         \u001b[32m'TRANSCODING_SEPARATOR'\u001b[0m has been moved to                              \u001b[2m               \u001b[0m\n",
       "\u001b[2;36m                    \u001b[0m         \u001b[32m'kedro.pipeline.transcoding'\u001b[0m, and the alias will be removed in Kedro   \u001b[2m               \u001b[0m\n",
       "\u001b[2;36m                    \u001b[0m         \u001b[1;36m0.20\u001b[0m.\u001b[1;36m0\u001b[0m                                                                 \u001b[2m               \u001b[0m\n",
       "\u001b[2;36m                    \u001b[0m           from kedro.pipeline.pipeline import TRANSCODING_SEPARATOR,           \u001b[2m               \u001b[0m\n",
       "\u001b[2;36m                    \u001b[0m         _strip_transcoding                                                     \u001b[2m               \u001b[0m\n",
       "\u001b[2;36m                    \u001b[0m                                                                                \u001b[2m               \u001b[0m\n"
      ]
     },
     "metadata": {},
     "output_type": "display_data"
    },
    {
     "data": {
      "text/html": [
       "<pre style=\"white-space:pre;overflow-x:auto;line-height:normal;font-family:Menlo,'DejaVu Sans Mono',consolas,'Courier New',monospace\"><span style=\"color: #7fbfbf; text-decoration-color: #7fbfbf\">                    </span><span style=\"color: #800000; text-decoration-color: #800000\">WARNING </span> Failed to load kedro_viz.launchers.jupyter commands from                  <a href=\"file:///home/filip/miniconda3/envs/hexgin/lib/python3.11/site-packages/kedro/framework/cli/utils.py\" target=\"_blank\"><span style=\"color: #7f7f7f; text-decoration-color: #7f7f7f\">utils.py</span></a><span style=\"color: #7f7f7f; text-decoration-color: #7f7f7f\">:</span><a href=\"file:///home/filip/miniconda3/envs/hexgin/lib/python3.11/site-packages/kedro/framework/cli/utils.py#379\" target=\"_blank\"><span style=\"color: #7f7f7f; text-decoration-color: #7f7f7f\">379</span></a>\n",
       "<span style=\"color: #7fbfbf; text-decoration-color: #7fbfbf\">                    </span>         <span style=\"color: #800080; text-decoration-color: #800080; font-weight: bold\">EntryPoint</span><span style=\"font-weight: bold\">(</span><span style=\"color: #808000; text-decoration-color: #808000\">name</span>=<span style=\"color: #008000; text-decoration-color: #008000\">'line_magic'</span>,                                             <span style=\"color: #7f7f7f; text-decoration-color: #7f7f7f\">            </span>\n",
       "<span style=\"color: #7fbfbf; text-decoration-color: #7fbfbf\">                    </span>         <span style=\"color: #808000; text-decoration-color: #808000\">value</span>=<span style=\"color: #008000; text-decoration-color: #008000\">'kedro_viz.launchers.jupyter:run_viz'</span>, <span style=\"color: #808000; text-decoration-color: #808000\">group</span>=<span style=\"color: #008000; text-decoration-color: #008000\">'kedro.line_magic'</span><span style=\"font-weight: bold\">)</span>.   <span style=\"color: #7f7f7f; text-decoration-color: #7f7f7f\">            </span>\n",
       "<span style=\"color: #7fbfbf; text-decoration-color: #7fbfbf\">                    </span>         Full exception: No module named <span style=\"color: #008000; text-decoration-color: #008000\">'toposort'</span>                                <span style=\"color: #7f7f7f; text-decoration-color: #7f7f7f\">            </span>\n",
       "</pre>\n"
      ],
      "text/plain": [
       "\u001b[2;36m                   \u001b[0m\u001b[2;36m \u001b[0m\u001b[31mWARNING \u001b[0m Failed to load kedro_viz.launchers.jupyter commands from                  \u001b]8;id=806141;file:///home/filip/miniconda3/envs/hexgin/lib/python3.11/site-packages/kedro/framework/cli/utils.py\u001b\\\u001b[2mutils.py\u001b[0m\u001b]8;;\u001b\\\u001b[2m:\u001b[0m\u001b]8;id=249309;file:///home/filip/miniconda3/envs/hexgin/lib/python3.11/site-packages/kedro/framework/cli/utils.py#379\u001b\\\u001b[2m379\u001b[0m\u001b]8;;\u001b\\\n",
       "\u001b[2;36m                    \u001b[0m         \u001b[1;35mEntryPoint\u001b[0m\u001b[1m(\u001b[0m\u001b[33mname\u001b[0m=\u001b[32m'line_magic'\u001b[0m,                                             \u001b[2m            \u001b[0m\n",
       "\u001b[2;36m                    \u001b[0m         \u001b[33mvalue\u001b[0m=\u001b[32m'kedro_viz.launchers.jupyter:run_viz'\u001b[0m, \u001b[33mgroup\u001b[0m=\u001b[32m'kedro.line_magic'\u001b[0m\u001b[1m)\u001b[0m.   \u001b[2m            \u001b[0m\n",
       "\u001b[2;36m                    \u001b[0m         Full exception: No module named \u001b[32m'toposort'\u001b[0m                                \u001b[2m            \u001b[0m\n"
      ]
     },
     "metadata": {},
     "output_type": "display_data"
    }
   ],
   "source": [
    "%load_ext kedro.ipython"
   ]
  },
  {
   "cell_type": "code",
   "execution_count": 2,
   "metadata": {},
   "outputs": [
    {
     "data": {
      "text/html": [
       "<pre style=\"white-space:pre;overflow-x:auto;line-height:normal;font-family:Menlo,'DejaVu Sans Mono',consolas,'Courier New',monospace\"><span style=\"color: #7fbfbf; text-decoration-color: #7fbfbf\">[07/09/24 12:33:55] </span><span style=\"color: #000080; text-decoration-color: #000080\">INFO    </span> Resolved project path as: <span style=\"color: #800080; text-decoration-color: #800080\">/home/filip/projects/</span><span style=\"color: #ff00ff; text-decoration-color: #ff00ff\">HexGIN.</span>                 <a href=\"file:///home/filip/miniconda3/envs/hexgin/lib/python3.11/site-packages/kedro/ipython/__init__.py\" target=\"_blank\"><span style=\"color: #7f7f7f; text-decoration-color: #7f7f7f\">__init__.py</span></a><span style=\"color: #7f7f7f; text-decoration-color: #7f7f7f\">:</span><a href=\"file:///home/filip/miniconda3/envs/hexgin/lib/python3.11/site-packages/kedro/ipython/__init__.py#171\" target=\"_blank\"><span style=\"color: #7f7f7f; text-decoration-color: #7f7f7f\">171</span></a>\n",
       "<span style=\"color: #7fbfbf; text-decoration-color: #7fbfbf\">                    </span>         To set a different path, run <span style=\"color: #008000; text-decoration-color: #008000\">'%reload_kedro &lt;project_root&gt;'</span>            <span style=\"color: #7f7f7f; text-decoration-color: #7f7f7f\">               </span>\n",
       "</pre>\n"
      ],
      "text/plain": [
       "\u001b[2;36m[07/09/24 12:33:55]\u001b[0m\u001b[2;36m \u001b[0m\u001b[34mINFO    \u001b[0m Resolved project path as: \u001b[35m/home/filip/projects/\u001b[0m\u001b[95mHexGIN.\u001b[0m                 \u001b]8;id=196385;file:///home/filip/miniconda3/envs/hexgin/lib/python3.11/site-packages/kedro/ipython/__init__.py\u001b\\\u001b[2m__init__.py\u001b[0m\u001b]8;;\u001b\\\u001b[2m:\u001b[0m\u001b]8;id=332524;file:///home/filip/miniconda3/envs/hexgin/lib/python3.11/site-packages/kedro/ipython/__init__.py#171\u001b\\\u001b[2m171\u001b[0m\u001b]8;;\u001b\\\n",
       "\u001b[2;36m                    \u001b[0m         To set a different path, run \u001b[32m'%reload_kedro \u001b[0m\u001b[32m<\u001b[0m\u001b[32mproject_root\u001b[0m\u001b[32m>\u001b[0m\u001b[32m'\u001b[0m            \u001b[2m               \u001b[0m\n"
      ]
     },
     "metadata": {},
     "output_type": "display_data"
    },
    {
     "data": {
      "text/html": [
       "<pre style=\"white-space:pre;overflow-x:auto;line-height:normal;font-family:Menlo,'DejaVu Sans Mono',consolas,'Courier New',monospace\"><span style=\"color: #7fbfbf; text-decoration-color: #7fbfbf\">                    </span><span style=\"color: #000080; text-decoration-color: #000080\">INFO    </span> Kedro project HexGIN                                                   <a href=\"file:///home/filip/miniconda3/envs/hexgin/lib/python3.11/site-packages/kedro/ipython/__init__.py\" target=\"_blank\"><span style=\"color: #7f7f7f; text-decoration-color: #7f7f7f\">__init__.py</span></a><span style=\"color: #7f7f7f; text-decoration-color: #7f7f7f\">:</span><a href=\"file:///home/filip/miniconda3/envs/hexgin/lib/python3.11/site-packages/kedro/ipython/__init__.py#141\" target=\"_blank\"><span style=\"color: #7f7f7f; text-decoration-color: #7f7f7f\">141</span></a>\n",
       "</pre>\n"
      ],
      "text/plain": [
       "\u001b[2;36m                   \u001b[0m\u001b[2;36m \u001b[0m\u001b[34mINFO    \u001b[0m Kedro project HexGIN                                                   \u001b]8;id=909463;file:///home/filip/miniconda3/envs/hexgin/lib/python3.11/site-packages/kedro/ipython/__init__.py\u001b\\\u001b[2m__init__.py\u001b[0m\u001b]8;;\u001b\\\u001b[2m:\u001b[0m\u001b]8;id=771870;file:///home/filip/miniconda3/envs/hexgin/lib/python3.11/site-packages/kedro/ipython/__init__.py#141\u001b\\\u001b[2m141\u001b[0m\u001b]8;;\u001b\\\n"
      ]
     },
     "metadata": {},
     "output_type": "display_data"
    },
    {
     "data": {
      "text/html": [
       "<pre style=\"white-space:pre;overflow-x:auto;line-height:normal;font-family:Menlo,'DejaVu Sans Mono',consolas,'Courier New',monospace\"><span style=\"color: #7fbfbf; text-decoration-color: #7fbfbf\">                    </span><span style=\"color: #000080; text-decoration-color: #000080\">INFO    </span> Defined global variable <span style=\"color: #008000; text-decoration-color: #008000\">'context'</span>, <span style=\"color: #008000; text-decoration-color: #008000\">'session'</span>, <span style=\"color: #008000; text-decoration-color: #008000\">'catalog'</span> and            <a href=\"file:///home/filip/miniconda3/envs/hexgin/lib/python3.11/site-packages/kedro/ipython/__init__.py\" target=\"_blank\"><span style=\"color: #7f7f7f; text-decoration-color: #7f7f7f\">__init__.py</span></a><span style=\"color: #7f7f7f; text-decoration-color: #7f7f7f\">:</span><a href=\"file:///home/filip/miniconda3/envs/hexgin/lib/python3.11/site-packages/kedro/ipython/__init__.py#142\" target=\"_blank\"><span style=\"color: #7f7f7f; text-decoration-color: #7f7f7f\">142</span></a>\n",
       "<span style=\"color: #7fbfbf; text-decoration-color: #7fbfbf\">                    </span>         <span style=\"color: #008000; text-decoration-color: #008000\">'pipelines'</span>                                                            <span style=\"color: #7f7f7f; text-decoration-color: #7f7f7f\">               </span>\n",
       "</pre>\n"
      ],
      "text/plain": [
       "\u001b[2;36m                   \u001b[0m\u001b[2;36m \u001b[0m\u001b[34mINFO    \u001b[0m Defined global variable \u001b[32m'context'\u001b[0m, \u001b[32m'session'\u001b[0m, \u001b[32m'catalog'\u001b[0m and            \u001b]8;id=945447;file:///home/filip/miniconda3/envs/hexgin/lib/python3.11/site-packages/kedro/ipython/__init__.py\u001b\\\u001b[2m__init__.py\u001b[0m\u001b]8;;\u001b\\\u001b[2m:\u001b[0m\u001b]8;id=849159;file:///home/filip/miniconda3/envs/hexgin/lib/python3.11/site-packages/kedro/ipython/__init__.py#142\u001b\\\u001b[2m142\u001b[0m\u001b]8;;\u001b\\\n",
       "\u001b[2;36m                    \u001b[0m         \u001b[32m'pipelines'\u001b[0m                                                            \u001b[2m               \u001b[0m\n"
      ]
     },
     "metadata": {},
     "output_type": "display_data"
    },
    {
     "data": {
      "text/html": [
       "<pre style=\"white-space:pre;overflow-x:auto;line-height:normal;font-family:Menlo,'DejaVu Sans Mono',consolas,'Courier New',monospace\"><span style=\"color: #7fbfbf; text-decoration-color: #7fbfbf\">                    </span><span style=\"color: #800000; text-decoration-color: #800000\">WARNING </span> Failed to load kedro_viz.launchers.jupyter commands from                  <a href=\"file:///home/filip/miniconda3/envs/hexgin/lib/python3.11/site-packages/kedro/framework/cli/utils.py\" target=\"_blank\"><span style=\"color: #7f7f7f; text-decoration-color: #7f7f7f\">utils.py</span></a><span style=\"color: #7f7f7f; text-decoration-color: #7f7f7f\">:</span><a href=\"file:///home/filip/miniconda3/envs/hexgin/lib/python3.11/site-packages/kedro/framework/cli/utils.py#379\" target=\"_blank\"><span style=\"color: #7f7f7f; text-decoration-color: #7f7f7f\">379</span></a>\n",
       "<span style=\"color: #7fbfbf; text-decoration-color: #7fbfbf\">                    </span>         <span style=\"color: #800080; text-decoration-color: #800080; font-weight: bold\">EntryPoint</span><span style=\"font-weight: bold\">(</span><span style=\"color: #808000; text-decoration-color: #808000\">name</span>=<span style=\"color: #008000; text-decoration-color: #008000\">'line_magic'</span>,                                             <span style=\"color: #7f7f7f; text-decoration-color: #7f7f7f\">            </span>\n",
       "<span style=\"color: #7fbfbf; text-decoration-color: #7fbfbf\">                    </span>         <span style=\"color: #808000; text-decoration-color: #808000\">value</span>=<span style=\"color: #008000; text-decoration-color: #008000\">'kedro_viz.launchers.jupyter:run_viz'</span>, <span style=\"color: #808000; text-decoration-color: #808000\">group</span>=<span style=\"color: #008000; text-decoration-color: #008000\">'kedro.line_magic'</span><span style=\"font-weight: bold\">)</span>.   <span style=\"color: #7f7f7f; text-decoration-color: #7f7f7f\">            </span>\n",
       "<span style=\"color: #7fbfbf; text-decoration-color: #7fbfbf\">                    </span>         Full exception: No module named <span style=\"color: #008000; text-decoration-color: #008000\">'toposort'</span>                                <span style=\"color: #7f7f7f; text-decoration-color: #7f7f7f\">            </span>\n",
       "</pre>\n"
      ],
      "text/plain": [
       "\u001b[2;36m                   \u001b[0m\u001b[2;36m \u001b[0m\u001b[31mWARNING \u001b[0m Failed to load kedro_viz.launchers.jupyter commands from                  \u001b]8;id=678540;file:///home/filip/miniconda3/envs/hexgin/lib/python3.11/site-packages/kedro/framework/cli/utils.py\u001b\\\u001b[2mutils.py\u001b[0m\u001b]8;;\u001b\\\u001b[2m:\u001b[0m\u001b]8;id=350624;file:///home/filip/miniconda3/envs/hexgin/lib/python3.11/site-packages/kedro/framework/cli/utils.py#379\u001b\\\u001b[2m379\u001b[0m\u001b]8;;\u001b\\\n",
       "\u001b[2;36m                    \u001b[0m         \u001b[1;35mEntryPoint\u001b[0m\u001b[1m(\u001b[0m\u001b[33mname\u001b[0m=\u001b[32m'line_magic'\u001b[0m,                                             \u001b[2m            \u001b[0m\n",
       "\u001b[2;36m                    \u001b[0m         \u001b[33mvalue\u001b[0m=\u001b[32m'kedro_viz.launchers.jupyter:run_viz'\u001b[0m, \u001b[33mgroup\u001b[0m=\u001b[32m'kedro.line_magic'\u001b[0m\u001b[1m)\u001b[0m.   \u001b[2m            \u001b[0m\n",
       "\u001b[2;36m                    \u001b[0m         Full exception: No module named \u001b[32m'toposort'\u001b[0m                                \u001b[2m            \u001b[0m\n"
      ]
     },
     "metadata": {},
     "output_type": "display_data"
    }
   ],
   "source": [
    "%reload_kedro"
   ]
  },
  {
   "cell_type": "markdown",
   "metadata": {
    "collapsed": false
   },
   "source": [
    "# Load libs"
   ]
  },
  {
   "cell_type": "code",
   "execution_count": 3,
   "metadata": {
    "ExecuteTime": {
     "end_time": "2023-10-23T12:20:01.605395800Z",
     "start_time": "2023-10-23T12:20:01.587398Z"
    },
    "collapsed": false
   },
   "outputs": [],
   "source": [
    "import torch as th\n",
    "import torch_geometric as tg\n",
    "import torch_geometric.nn as tgnn\n",
    "import pytorch_lightning as pl\n",
    "import numpy as np\n",
    "import pandas as pd\n",
    "import matplotlib.pyplot as plt\n",
    "import torch_geometric.data as pyg_data\n",
    "\n",
    "import hexgin.lib.models.common as cmn\n",
    "import hexgin.pipelines.fincen_experiment.fincen_model_utils as fmu\n",
    "import hexgin.pipelines.fincen_experiment.fincen_models as fm\n",
    "import hexgin.lib.models.experimental.hexgin_model as hg\n",
    "import hexgin.pipelines.fincen_experiment.nodes as experiment_nodes\n",
    "import hexgin.lib.models.common as cmn\n",
    "import hexgin.lib.training_commons as train_cmn\n",
    "\n",
    "from torch_geometric.explain import Explainer, CaptumExplainer\n",
    "from importlib import reload\n",
    "from pyvis.network import Network\n",
    "\n",
    "from hexgin.lib.models import lit_wrappers as litw\n",
    "from hexgin import consts as cc, utils as util"
   ]
  },
  {
   "cell_type": "markdown",
   "metadata": {
    "collapsed": false
   },
   "source": [
    "## Reload libs if needed"
   ]
  },
  {
   "cell_type": "code",
   "execution_count": 4,
   "metadata": {
    "ExecuteTime": {
     "end_time": "2023-10-23T12:24:43.960153900Z",
     "start_time": "2023-10-23T12:24:43.935167100Z"
    },
    "collapsed": false
   },
   "outputs": [],
   "source": [
    "cmn = reload(cmn)\n",
    "fmu = reload(fmu)\n",
    "fm = reload(fm)\n",
    "experiment_nodes = reload(experiment_nodes)"
   ]
  },
  {
   "cell_type": "markdown",
   "metadata": {
    "collapsed": false
   },
   "source": [
    "# Load data"
   ]
  },
  {
   "cell_type": "code",
   "execution_count": 5,
   "metadata": {
    "ExecuteTime": {
     "end_time": "2023-10-23T12:20:04.136647Z",
     "start_time": "2023-10-23T12:20:04.099650200Z"
    },
    "collapsed": false
   },
   "outputs": [
    {
     "data": {
      "text/html": [
       "<pre style=\"white-space:pre;overflow-x:auto;line-height:normal;font-family:Menlo,'DejaVu Sans Mono',consolas,'Courier New',monospace\"><span style=\"color: #7fbfbf; text-decoration-color: #7fbfbf\">[07/09/24 12:34:14] </span><span style=\"color: #000080; text-decoration-color: #000080\">INFO    </span> Loading data from <span style=\"color: #ff8700; text-decoration-color: #ff8700\">train_graph</span> <span style=\"font-weight: bold\">(</span>PickleDataset<span style=\"font-weight: bold\">)</span><span style=\"color: #808000; text-decoration-color: #808000\">...</span>                   <a href=\"file:///home/filip/miniconda3/envs/hexgin/lib/python3.11/site-packages/kedro/io/data_catalog.py\" target=\"_blank\"><span style=\"color: #7f7f7f; text-decoration-color: #7f7f7f\">data_catalog.py</span></a><span style=\"color: #7f7f7f; text-decoration-color: #7f7f7f\">:</span><a href=\"file:///home/filip/miniconda3/envs/hexgin/lib/python3.11/site-packages/kedro/io/data_catalog.py#508\" target=\"_blank\"><span style=\"color: #7f7f7f; text-decoration-color: #7f7f7f\">508</span></a>\n",
       "</pre>\n"
      ],
      "text/plain": [
       "\u001b[2;36m[07/09/24 12:34:14]\u001b[0m\u001b[2;36m \u001b[0m\u001b[34mINFO    \u001b[0m Loading data from \u001b[38;5;208mtrain_graph\u001b[0m \u001b[1m(\u001b[0mPickleDataset\u001b[1m)\u001b[0m\u001b[33m...\u001b[0m                   \u001b]8;id=760688;file:///home/filip/miniconda3/envs/hexgin/lib/python3.11/site-packages/kedro/io/data_catalog.py\u001b\\\u001b[2mdata_catalog.py\u001b[0m\u001b]8;;\u001b\\\u001b[2m:\u001b[0m\u001b]8;id=406230;file:///home/filip/miniconda3/envs/hexgin/lib/python3.11/site-packages/kedro/io/data_catalog.py#508\u001b\\\u001b[2m508\u001b[0m\u001b]8;;\u001b\\\n"
      ]
     },
     "metadata": {},
     "output_type": "display_data"
    },
    {
     "data": {
      "text/html": [
       "<pre style=\"white-space:pre;overflow-x:auto;line-height:normal;font-family:Menlo,'DejaVu Sans Mono',consolas,'Courier New',monospace\"><span style=\"color: #7fbfbf; text-decoration-color: #7fbfbf\">                    </span><span style=\"color: #000080; text-decoration-color: #000080\">INFO    </span> Loading data from <span style=\"color: #ff8700; text-decoration-color: #ff8700\">val_graph</span> <span style=\"font-weight: bold\">(</span>PickleDataset<span style=\"font-weight: bold\">)</span><span style=\"color: #808000; text-decoration-color: #808000\">...</span>                     <a href=\"file:///home/filip/miniconda3/envs/hexgin/lib/python3.11/site-packages/kedro/io/data_catalog.py\" target=\"_blank\"><span style=\"color: #7f7f7f; text-decoration-color: #7f7f7f\">data_catalog.py</span></a><span style=\"color: #7f7f7f; text-decoration-color: #7f7f7f\">:</span><a href=\"file:///home/filip/miniconda3/envs/hexgin/lib/python3.11/site-packages/kedro/io/data_catalog.py#508\" target=\"_blank\"><span style=\"color: #7f7f7f; text-decoration-color: #7f7f7f\">508</span></a>\n",
       "</pre>\n"
      ],
      "text/plain": [
       "\u001b[2;36m                   \u001b[0m\u001b[2;36m \u001b[0m\u001b[34mINFO    \u001b[0m Loading data from \u001b[38;5;208mval_graph\u001b[0m \u001b[1m(\u001b[0mPickleDataset\u001b[1m)\u001b[0m\u001b[33m...\u001b[0m                     \u001b]8;id=997275;file:///home/filip/miniconda3/envs/hexgin/lib/python3.11/site-packages/kedro/io/data_catalog.py\u001b\\\u001b[2mdata_catalog.py\u001b[0m\u001b]8;;\u001b\\\u001b[2m:\u001b[0m\u001b]8;id=14128;file:///home/filip/miniconda3/envs/hexgin/lib/python3.11/site-packages/kedro/io/data_catalog.py#508\u001b\\\u001b[2m508\u001b[0m\u001b]8;;\u001b\\\n"
      ]
     },
     "metadata": {},
     "output_type": "display_data"
    },
    {
     "data": {
      "text/html": [
       "<pre style=\"white-space:pre;overflow-x:auto;line-height:normal;font-family:Menlo,'DejaVu Sans Mono',consolas,'Courier New',monospace\"><span style=\"color: #7fbfbf; text-decoration-color: #7fbfbf\">                    </span><span style=\"color: #000080; text-decoration-color: #000080\">INFO    </span> Loading data from <span style=\"color: #ff8700; text-decoration-color: #ff8700\">test_graph</span> <span style=\"font-weight: bold\">(</span>PickleDataset<span style=\"font-weight: bold\">)</span><span style=\"color: #808000; text-decoration-color: #808000\">...</span>                    <a href=\"file:///home/filip/miniconda3/envs/hexgin/lib/python3.11/site-packages/kedro/io/data_catalog.py\" target=\"_blank\"><span style=\"color: #7f7f7f; text-decoration-color: #7f7f7f\">data_catalog.py</span></a><span style=\"color: #7f7f7f; text-decoration-color: #7f7f7f\">:</span><a href=\"file:///home/filip/miniconda3/envs/hexgin/lib/python3.11/site-packages/kedro/io/data_catalog.py#508\" target=\"_blank\"><span style=\"color: #7f7f7f; text-decoration-color: #7f7f7f\">508</span></a>\n",
       "</pre>\n"
      ],
      "text/plain": [
       "\u001b[2;36m                   \u001b[0m\u001b[2;36m \u001b[0m\u001b[34mINFO    \u001b[0m Loading data from \u001b[38;5;208mtest_graph\u001b[0m \u001b[1m(\u001b[0mPickleDataset\u001b[1m)\u001b[0m\u001b[33m...\u001b[0m                    \u001b]8;id=467026;file:///home/filip/miniconda3/envs/hexgin/lib/python3.11/site-packages/kedro/io/data_catalog.py\u001b\\\u001b[2mdata_catalog.py\u001b[0m\u001b]8;;\u001b\\\u001b[2m:\u001b[0m\u001b]8;id=837733;file:///home/filip/miniconda3/envs/hexgin/lib/python3.11/site-packages/kedro/io/data_catalog.py#508\u001b\\\u001b[2m508\u001b[0m\u001b]8;;\u001b\\\n"
      ]
     },
     "metadata": {},
     "output_type": "display_data"
    }
   ],
   "source": [
    "train_g = catalog.load(\"train_graph\")\n",
    "val_g = catalog.load(\"val_graph\")\n",
    "test_g = catalog.load(\"test_graph\")"
   ]
  },
  {
   "cell_type": "code",
   "execution_count": 6,
   "metadata": {},
   "outputs": [
    {
     "data": {
      "text/html": [
       "<pre style=\"white-space:pre;overflow-x:auto;line-height:normal;font-family:Menlo,'DejaVu Sans Mono',consolas,'Courier New',monospace\"><span style=\"color: #7fbfbf; text-decoration-color: #7fbfbf\">[07/09/24 12:34:15] </span><span style=\"color: #000080; text-decoration-color: #000080\">INFO    </span> Loading data from <span style=\"color: #ff8700; text-decoration-color: #ff8700\">entity_encoder</span> <span style=\"font-weight: bold\">(</span>PickleDataset<span style=\"font-weight: bold\">)</span><span style=\"color: #808000; text-decoration-color: #808000\">...</span>                <a href=\"file:///home/filip/miniconda3/envs/hexgin/lib/python3.11/site-packages/kedro/io/data_catalog.py\" target=\"_blank\"><span style=\"color: #7f7f7f; text-decoration-color: #7f7f7f\">data_catalog.py</span></a><span style=\"color: #7f7f7f; text-decoration-color: #7f7f7f\">:</span><a href=\"file:///home/filip/miniconda3/envs/hexgin/lib/python3.11/site-packages/kedro/io/data_catalog.py#508\" target=\"_blank\"><span style=\"color: #7f7f7f; text-decoration-color: #7f7f7f\">508</span></a>\n",
       "</pre>\n"
      ],
      "text/plain": [
       "\u001b[2;36m[07/09/24 12:34:15]\u001b[0m\u001b[2;36m \u001b[0m\u001b[34mINFO    \u001b[0m Loading data from \u001b[38;5;208mentity_encoder\u001b[0m \u001b[1m(\u001b[0mPickleDataset\u001b[1m)\u001b[0m\u001b[33m...\u001b[0m                \u001b]8;id=158889;file:///home/filip/miniconda3/envs/hexgin/lib/python3.11/site-packages/kedro/io/data_catalog.py\u001b\\\u001b[2mdata_catalog.py\u001b[0m\u001b]8;;\u001b\\\u001b[2m:\u001b[0m\u001b]8;id=170108;file:///home/filip/miniconda3/envs/hexgin/lib/python3.11/site-packages/kedro/io/data_catalog.py#508\u001b\\\u001b[2m508\u001b[0m\u001b]8;;\u001b\\\n"
      ]
     },
     "metadata": {},
     "output_type": "display_data"
    }
   ],
   "source": [
    "entity_encoder = catalog.load(\"entity_encoder\")"
   ]
  },
  {
   "cell_type": "code",
   "execution_count": 7,
   "metadata": {
    "ExecuteTime": {
     "end_time": "2023-10-23T12:20:04.875649Z",
     "start_time": "2023-10-23T12:20:04.803647100Z"
    },
    "collapsed": false
   },
   "outputs": [
    {
     "data": {
      "text/html": [
       "<pre style=\"white-space:pre;overflow-x:auto;line-height:normal;font-family:Menlo,'DejaVu Sans Mono',consolas,'Courier New',monospace\"></pre>\n"
      ],
      "text/plain": []
     },
     "metadata": {},
     "output_type": "display_data"
    },
    {
     "data": {
      "text/plain": [
       "\n",
       "\u001b[1;35mHeteroData\u001b[0m\u001b[1m(\u001b[0m\n",
       "  \u001b[33mentity\u001b[0m=\u001b[1m{\u001b[0m \u001b[33mx\u001b[0m=\u001b[1m[\u001b[0m\u001b[1;36m2823\u001b[0m, \u001b[1;36m2\u001b[0m\u001b[1m]\u001b[0m \u001b[1m}\u001b[0m,\n",
       "  \u001b[33mfiling\u001b[0m=\u001b[1m{\u001b[0m \u001b[33mx\u001b[0m=\u001b[1m[\u001b[0m\u001b[1;36m4507\u001b[0m\u001b[1m]\u001b[0m \u001b[1m}\u001b[0m,\n",
       "  \u001b[1m(\u001b[0mentity, sends, filing\u001b[1m)\u001b[0m=\u001b[1m{\u001b[0m \u001b[33medge_index\u001b[0m=\u001b[1m[\u001b[0m\u001b[1;36m2\u001b[0m, \u001b[1;36m4507\u001b[0m\u001b[1m]\u001b[0m \u001b[1m}\u001b[0m,\n",
       "  \u001b[1m(\u001b[0mfiling, benefits, entity\u001b[1m)\u001b[0m=\u001b[1m{\u001b[0m\n",
       "    \u001b[33medge_index\u001b[0m=\u001b[1m[\u001b[0m\u001b[1;36m2\u001b[0m, \u001b[1;36m1894\u001b[0m\u001b[1m]\u001b[0m,\n",
       "    \u001b[33medge_label\u001b[0m=\u001b[1m[\u001b[0m\u001b[1;36m811\u001b[0m\u001b[1m]\u001b[0m,\n",
       "    \u001b[33medge_label_index\u001b[0m=\u001b[1m[\u001b[0m\u001b[1;36m2\u001b[0m, \u001b[1;36m811\u001b[0m\u001b[1m]\u001b[0m,\n",
       "  \u001b[1m}\u001b[0m,\n",
       "  \u001b[1m(\u001b[0mfiling, concerns, entity\u001b[1m)\u001b[0m=\u001b[1m{\u001b[0m \u001b[33medge_index\u001b[0m=\u001b[1m[\u001b[0m\u001b[1;36m2\u001b[0m, \u001b[1;36m24491\u001b[0m\u001b[1m]\u001b[0m \u001b[1m}\u001b[0m\n",
       "\u001b[1m)\u001b[0m"
      ]
     },
     "execution_count": 7,
     "metadata": {},
     "output_type": "execute_result"
    }
   ],
   "source": [
    "train_g"
   ]
  },
  {
   "cell_type": "code",
   "execution_count": 8,
   "metadata": {
    "ExecuteTime": {
     "end_time": "2023-10-23T12:20:05.447649600Z",
     "start_time": "2023-10-23T12:20:05.320648Z"
    },
    "collapsed": false
   },
   "outputs": [
    {
     "data": {
      "text/html": [
       "<pre style=\"white-space:pre;overflow-x:auto;line-height:normal;font-family:Menlo,'DejaVu Sans Mono',consolas,'Courier New',monospace\"><span style=\"color: #7fbfbf; text-decoration-color: #7fbfbf\">[07/09/24 12:34:16] </span><span style=\"color: #000080; text-decoration-color: #000080\">INFO    </span> Loading data from <span style=\"color: #ff8700; text-decoration-color: #ff8700\">filing_encoder</span> <span style=\"font-weight: bold\">(</span>PickleDataset<span style=\"font-weight: bold\">)</span><span style=\"color: #808000; text-decoration-color: #808000\">...</span>                <a href=\"file:///home/filip/miniconda3/envs/hexgin/lib/python3.11/site-packages/kedro/io/data_catalog.py\" target=\"_blank\"><span style=\"color: #7f7f7f; text-decoration-color: #7f7f7f\">data_catalog.py</span></a><span style=\"color: #7f7f7f; text-decoration-color: #7f7f7f\">:</span><a href=\"file:///home/filip/miniconda3/envs/hexgin/lib/python3.11/site-packages/kedro/io/data_catalog.py#508\" target=\"_blank\"><span style=\"color: #7f7f7f; text-decoration-color: #7f7f7f\">508</span></a>\n",
       "</pre>\n"
      ],
      "text/plain": [
       "\u001b[2;36m[07/09/24 12:34:16]\u001b[0m\u001b[2;36m \u001b[0m\u001b[34mINFO    \u001b[0m Loading data from \u001b[38;5;208mfiling_encoder\u001b[0m \u001b[1m(\u001b[0mPickleDataset\u001b[1m)\u001b[0m\u001b[33m...\u001b[0m                \u001b]8;id=464283;file:///home/filip/miniconda3/envs/hexgin/lib/python3.11/site-packages/kedro/io/data_catalog.py\u001b\\\u001b[2mdata_catalog.py\u001b[0m\u001b]8;;\u001b\\\u001b[2m:\u001b[0m\u001b]8;id=436933;file:///home/filip/miniconda3/envs/hexgin/lib/python3.11/site-packages/kedro/io/data_catalog.py#508\u001b\\\u001b[2m508\u001b[0m\u001b]8;;\u001b\\\n"
      ]
     },
     "metadata": {},
     "output_type": "display_data"
    },
    {
     "data": {
      "text/html": [
       "<pre style=\"white-space:pre;overflow-x:auto;line-height:normal;font-family:Menlo,'DejaVu Sans Mono',consolas,'Courier New',monospace\"><span style=\"color: #7fbfbf; text-decoration-color: #7fbfbf\">                    </span><span style=\"color: #000080; text-decoration-color: #000080\">INFO    </span> Loading data from <span style=\"color: #ff8700; text-decoration-color: #ff8700\">country_encoder</span> <span style=\"font-weight: bold\">(</span>PickleDataset<span style=\"font-weight: bold\">)</span><span style=\"color: #808000; text-decoration-color: #808000\">...</span>               <a href=\"file:///home/filip/miniconda3/envs/hexgin/lib/python3.11/site-packages/kedro/io/data_catalog.py\" target=\"_blank\"><span style=\"color: #7f7f7f; text-decoration-color: #7f7f7f\">data_catalog.py</span></a><span style=\"color: #7f7f7f; text-decoration-color: #7f7f7f\">:</span><a href=\"file:///home/filip/miniconda3/envs/hexgin/lib/python3.11/site-packages/kedro/io/data_catalog.py#508\" target=\"_blank\"><span style=\"color: #7f7f7f; text-decoration-color: #7f7f7f\">508</span></a>\n",
       "</pre>\n"
      ],
      "text/plain": [
       "\u001b[2;36m                   \u001b[0m\u001b[2;36m \u001b[0m\u001b[34mINFO    \u001b[0m Loading data from \u001b[38;5;208mcountry_encoder\u001b[0m \u001b[1m(\u001b[0mPickleDataset\u001b[1m)\u001b[0m\u001b[33m...\u001b[0m               \u001b]8;id=552343;file:///home/filip/miniconda3/envs/hexgin/lib/python3.11/site-packages/kedro/io/data_catalog.py\u001b\\\u001b[2mdata_catalog.py\u001b[0m\u001b]8;;\u001b\\\u001b[2m:\u001b[0m\u001b]8;id=98517;file:///home/filip/miniconda3/envs/hexgin/lib/python3.11/site-packages/kedro/io/data_catalog.py#508\u001b\\\u001b[2m508\u001b[0m\u001b]8;;\u001b\\\n"
      ]
     },
     "metadata": {},
     "output_type": "display_data"
    },
    {
     "data": {
      "text/html": [
       "<pre style=\"white-space:pre;overflow-x:auto;line-height:normal;font-family:Menlo,'DejaVu Sans Mono',consolas,'Courier New',monospace\"><span style=\"color: #7fbfbf; text-decoration-color: #7fbfbf\">                    </span><span style=\"color: #000080; text-decoration-color: #000080\">INFO    </span> Loading data from <span style=\"color: #ff8700; text-decoration-color: #ff8700\">entity_encoder</span> <span style=\"font-weight: bold\">(</span>PickleDataset<span style=\"font-weight: bold\">)</span><span style=\"color: #808000; text-decoration-color: #808000\">...</span>                <a href=\"file:///home/filip/miniconda3/envs/hexgin/lib/python3.11/site-packages/kedro/io/data_catalog.py\" target=\"_blank\"><span style=\"color: #7f7f7f; text-decoration-color: #7f7f7f\">data_catalog.py</span></a><span style=\"color: #7f7f7f; text-decoration-color: #7f7f7f\">:</span><a href=\"file:///home/filip/miniconda3/envs/hexgin/lib/python3.11/site-packages/kedro/io/data_catalog.py#508\" target=\"_blank\"><span style=\"color: #7f7f7f; text-decoration-color: #7f7f7f\">508</span></a>\n",
       "</pre>\n"
      ],
      "text/plain": [
       "\u001b[2;36m                   \u001b[0m\u001b[2;36m \u001b[0m\u001b[34mINFO    \u001b[0m Loading data from \u001b[38;5;208mentity_encoder\u001b[0m \u001b[1m(\u001b[0mPickleDataset\u001b[1m)\u001b[0m\u001b[33m...\u001b[0m                \u001b]8;id=788972;file:///home/filip/miniconda3/envs/hexgin/lib/python3.11/site-packages/kedro/io/data_catalog.py\u001b\\\u001b[2mdata_catalog.py\u001b[0m\u001b]8;;\u001b\\\u001b[2m:\u001b[0m\u001b]8;id=860597;file:///home/filip/miniconda3/envs/hexgin/lib/python3.11/site-packages/kedro/io/data_catalog.py#508\u001b\\\u001b[2m508\u001b[0m\u001b]8;;\u001b\\\n"
      ]
     },
     "metadata": {},
     "output_type": "display_data"
    }
   ],
   "source": [
    "filing_encoder = catalog.load(\"filing_encoder\")\n",
    "country_encoder = catalog.load(\"country_encoder\")\n",
    "entity_encoder = catalog.load(\"entity_encoder\")"
   ]
  },
  {
   "cell_type": "markdown",
   "metadata": {
    "collapsed": false
   },
   "source": [
    "# Building models\n",
    "\n",
    "Section below will demonstrate how to build each model from configs. Each model will be:\n",
    "\n",
    "1. Instantiated from config.\n",
    "2. Visualized.\n",
    "3. Tested on a small dataset, to check if works properly."
   ]
  },
  {
   "cell_type": "markdown",
   "metadata": {
    "collapsed": false
   },
   "source": [
    "## SAGE"
   ]
  },
  {
   "cell_type": "markdown",
   "metadata": {},
   "source": [
    "### Build model from config"
   ]
  },
  {
   "cell_type": "code",
   "execution_count": 9,
   "metadata": {
    "ExecuteTime": {
     "end_time": "2023-10-23T12:20:06.968727200Z",
     "start_time": "2023-10-23T12:20:06.957733100Z"
    },
    "collapsed": false
   },
   "outputs": [],
   "source": [
    "sage_conf = {\n",
    "    \"sage_dims\": [64, 32],\n",
    "    \"hidden_act_f\": 'relu',\n",
    "    \"out_act_f\": 'relu',\n",
    "    \"linpred_act_f\": 'relu',\n",
    "    \"embedding_params\": {\n",
    "        \"ent_embed_dim\": 64,\n",
    "        \"filing_embed_dim\": 64,\n",
    "        \"country_emebd_dim\": 12,\n",
    "    }\n",
    "}"
   ]
  },
  {
   "cell_type": "code",
   "execution_count": 10,
   "metadata": {
    "ExecuteTime": {
     "end_time": "2023-10-23T12:20:07.718729900Z",
     "start_time": "2023-10-23T12:20:07.662723400Z"
    },
    "collapsed": false
   },
   "outputs": [],
   "source": [
    "tg.seed_everything(123)\n",
    "sage = fmu.build_graph_sage_model(\n",
    "    train_g,\n",
    "    dim_ents=entity_encoder.classes_.shape[0],\n",
    "    dim_countries=country_encoder.classes_.shape[0],\n",
    "    dim_filings=filing_encoder.classes_.shape[0],\n",
    "    sage_params=sage_conf\n",
    ")"
   ]
  },
  {
   "cell_type": "markdown",
   "metadata": {},
   "source": [
    "### Inspect model"
   ]
  },
  {
   "cell_type": "code",
   "execution_count": 11,
   "metadata": {},
   "outputs": [
    {
     "data": {
      "text/html": [
       "<pre style=\"white-space:pre;overflow-x:auto;line-height:normal;font-family:Menlo,'DejaVu Sans Mono',consolas,'Courier New',monospace\"></pre>\n"
      ],
      "text/plain": []
     },
     "metadata": {},
     "output_type": "display_data"
    },
    {
     "data": {
      "text/plain": [
       "\n",
       "\u001b[1m[\u001b[0m\n",
       "    Parameter containing:\n",
       "\u001b[1;35mtensor\u001b[0m\u001b[1m(\u001b[0m\u001b[1m[\u001b[0m\u001b[1m[\u001b[0m \u001b[1;36m0.3374\u001b[0m, \u001b[1;36m-0.1778\u001b[0m, \u001b[1;36m-0.3035\u001b[0m,  \u001b[33m...\u001b[0m, \u001b[1;36m-0.7979\u001b[0m,  \u001b[1;36m0.1838\u001b[0m,  \u001b[1;36m0.2293\u001b[0m\u001b[1m]\u001b[0m,\n",
       "        \u001b[1m[\u001b[0m \u001b[1;36m0.5146\u001b[0m,  \u001b[1;36m0.9938\u001b[0m, \u001b[1;36m-0.2587\u001b[0m,  \u001b[33m...\u001b[0m,  \u001b[1;36m1.2774\u001b[0m, \u001b[1;36m-1.4596\u001b[0m, \u001b[1;36m-2.1595\u001b[0m\u001b[1m]\u001b[0m,\n",
       "        \u001b[1m[\u001b[0m\u001b[1;36m-0.2582\u001b[0m, \u001b[1;36m-2.0407\u001b[0m, \u001b[1;36m-0.8016\u001b[0m,  \u001b[33m...\u001b[0m,  \u001b[1;36m0.1132\u001b[0m,  \u001b[1;36m0.8365\u001b[0m,  \u001b[1;36m0.0285\u001b[0m\u001b[1m]\u001b[0m,\n",
       "        \u001b[33m...\u001b[0m,\n",
       "        \u001b[1m[\u001b[0m \u001b[1;36m0.1044\u001b[0m,  \u001b[1;36m0.6398\u001b[0m, \u001b[1;36m-0.7032\u001b[0m,  \u001b[33m...\u001b[0m, \u001b[1;36m-0.3725\u001b[0m,  \u001b[1;36m1.2763\u001b[0m,  \u001b[1;36m0.6706\u001b[0m\u001b[1m]\u001b[0m,\n",
       "        \u001b[1m[\u001b[0m \u001b[1;36m0.6796\u001b[0m, \u001b[1;36m-1.1518\u001b[0m,  \u001b[1;36m0.0343\u001b[0m,  \u001b[33m...\u001b[0m, \u001b[1;36m-0.8727\u001b[0m, \u001b[1;36m-0.5842\u001b[0m,  \u001b[1;36m0.5277\u001b[0m\u001b[1m]\u001b[0m,\n",
       "        \u001b[1m[\u001b[0m\u001b[1;36m-1.4733\u001b[0m, \u001b[1;36m-0.8799\u001b[0m,  \u001b[1;36m1.3983\u001b[0m,  \u001b[33m...\u001b[0m, \u001b[1;36m-1.2414\u001b[0m, \u001b[1;36m-0.5265\u001b[0m, \u001b[1;36m-1.2813\u001b[0m\u001b[1m]\u001b[0m\u001b[1m]\u001b[0m,\n",
       "       \u001b[33mrequires_grad\u001b[0m=\u001b[3;92mTrue\u001b[0m\u001b[1m)\u001b[0m,\n",
       "    Parameter containing:\n",
       "\u001b[1;35mtensor\u001b[0m\u001b[1m(\u001b[0m\u001b[1m[\u001b[0m\u001b[1m[\u001b[0m \u001b[1;36m1.2666\u001b[0m, \u001b[1;36m-0.0047\u001b[0m,  \u001b[1;36m2.1605\u001b[0m,  \u001b[33m...\u001b[0m,  \u001b[1;36m0.0207\u001b[0m, \u001b[1;36m-0.8150\u001b[0m, \u001b[1;36m-0.3050\u001b[0m\u001b[1m]\u001b[0m,\n",
       "        \u001b[1m[\u001b[0m\u001b[1;36m-2.2523\u001b[0m, \u001b[1;36m-0.9919\u001b[0m, \u001b[1;36m-0.6269\u001b[0m,  \u001b[33m...\u001b[0m,  \u001b[1;36m1.1527\u001b[0m,  \u001b[1;36m1.4201\u001b[0m,  \u001b[1;36m0.7795\u001b[0m\u001b[1m]\u001b[0m,\n",
       "        \u001b[1m[\u001b[0m\u001b[1;36m-0.5901\u001b[0m,  \u001b[1;36m0.4269\u001b[0m,  \u001b[1;36m0.9831\u001b[0m,  \u001b[33m...\u001b[0m, \u001b[1;36m-1.7183\u001b[0m, \u001b[1;36m-1.1723\u001b[0m, \u001b[1;36m-1.4787\u001b[0m\u001b[1m]\u001b[0m,\n",
       "        \u001b[33m...\u001b[0m,\n",
       "        \u001b[1m[\u001b[0m\u001b[1;36m-2.6389\u001b[0m,  \u001b[1;36m0.7597\u001b[0m, \u001b[1;36m-0.2308\u001b[0m,  \u001b[33m...\u001b[0m, \u001b[1;36m-0.1199\u001b[0m,  \u001b[1;36m2.1542\u001b[0m, \u001b[1;36m-0.8863\u001b[0m\u001b[1m]\u001b[0m,\n",
       "        \u001b[1m[\u001b[0m\u001b[1;36m-0.6208\u001b[0m, \u001b[1;36m-0.9921\u001b[0m,  \u001b[1;36m0.6143\u001b[0m,  \u001b[33m...\u001b[0m, \u001b[1;36m-0.2829\u001b[0m,  \u001b[1;36m1.0524\u001b[0m,  \u001b[1;36m0.1705\u001b[0m\u001b[1m]\u001b[0m,\n",
       "        \u001b[1m[\u001b[0m\u001b[1;36m-0.0334\u001b[0m, \u001b[1;36m-0.6529\u001b[0m, \u001b[1;36m-0.7873\u001b[0m,  \u001b[33m...\u001b[0m, \u001b[1;36m-1.1596\u001b[0m,  \u001b[1;36m0.5691\u001b[0m, \u001b[1;36m-1.5077\u001b[0m\u001b[1m]\u001b[0m\u001b[1m]\u001b[0m,\n",
       "       \u001b[33mrequires_grad\u001b[0m=\u001b[3;92mTrue\u001b[0m\u001b[1m)\u001b[0m,\n",
       "    Parameter containing:\n",
       "\u001b[1;35mtensor\u001b[0m\u001b[1m(\u001b[0m\u001b[1m[\u001b[0m\u001b[1m[\u001b[0m\u001b[1;36m-0.7983\u001b[0m,  \u001b[1;36m2.1250\u001b[0m, \u001b[1;36m-0.1144\u001b[0m,  \u001b[33m...\u001b[0m, \u001b[1;36m-2.0838\u001b[0m, \u001b[1;36m-0.7220\u001b[0m, \u001b[1;36m-1.8423\u001b[0m\u001b[1m]\u001b[0m,\n",
       "        \u001b[1m[\u001b[0m\u001b[1;36m-0.8964\u001b[0m, \u001b[1;36m-0.7428\u001b[0m,  \u001b[1;36m0.1670\u001b[0m,  \u001b[33m...\u001b[0m, \u001b[1;36m-0.6953\u001b[0m, \u001b[1;36m-1.1368\u001b[0m,  \u001b[1;36m0.5324\u001b[0m\u001b[1m]\u001b[0m,\n",
       "        \u001b[1m[\u001b[0m \u001b[1;36m1.1114\u001b[0m, \u001b[1;36m-0.8996\u001b[0m, \u001b[1;36m-0.4754\u001b[0m,  \u001b[33m...\u001b[0m, \u001b[1;36m-1.1106\u001b[0m,  \u001b[1;36m2.0361\u001b[0m,  \u001b[1;36m0.1074\u001b[0m\u001b[1m]\u001b[0m,\n",
       "        \u001b[33m...\u001b[0m,\n",
       "        \u001b[1m[\u001b[0m \u001b[1;36m1.6315\u001b[0m,  \u001b[1;36m1.1314\u001b[0m, \u001b[1;36m-0.8667\u001b[0m,  \u001b[33m...\u001b[0m,  \u001b[1;36m0.2451\u001b[0m, \u001b[1;36m-0.6969\u001b[0m, \u001b[1;36m-1.0655\u001b[0m\u001b[1m]\u001b[0m,\n",
       "        \u001b[1m[\u001b[0m\u001b[1;36m-1.2914\u001b[0m,  \u001b[1;36m1.2687\u001b[0m,  \u001b[1;36m1.2465\u001b[0m,  \u001b[33m...\u001b[0m,  \u001b[1;36m1.8344\u001b[0m, \u001b[1;36m-0.9444\u001b[0m,  \u001b[1;36m0.2943\u001b[0m\u001b[1m]\u001b[0m,\n",
       "        \u001b[1m[\u001b[0m\u001b[1;36m-0.2317\u001b[0m, \u001b[1;36m-0.3303\u001b[0m, \u001b[1;36m-1.3363\u001b[0m,  \u001b[33m...\u001b[0m, \u001b[1;36m-1.5377\u001b[0m, \u001b[1;36m-0.9474\u001b[0m,  \u001b[1;36m0.1940\u001b[0m\u001b[1m]\u001b[0m\u001b[1m]\u001b[0m,\n",
       "       \u001b[33mrequires_grad\u001b[0m=\u001b[3;92mTrue\u001b[0m\u001b[1m)\u001b[0m\n",
       "\u001b[1m]\u001b[0m"
      ]
     },
     "execution_count": 11,
     "metadata": {},
     "output_type": "execute_result"
    }
   ],
   "source": [
    "list(sage.preproc_model.parameters())"
   ]
  },
  {
   "cell_type": "code",
   "execution_count": 12,
   "metadata": {},
   "outputs": [
    {
     "name": "stdout",
     "output_type": "stream",
     "text": [
      "+-------------------------------------------+---------------+----------------+----------+\n",
      "| Layer                                     | Input Shape   | Output Shape   | #Param   |\n",
      "|-------------------------------------------+---------------+----------------+----------|\n",
      "| GraphModule                               |               |                | -1       |\n",
      "| ├─(conv1)ModuleDict                       | --            | --             | -1       |\n",
      "| │    └─(entity__sends__filing)SAGEConv    | [2, 4507]     | [4507, 64]     | -1       |\n",
      "| │    └─(filing__benefits__entity)SAGEConv | [2, 1894]     | [2823, 64]     | -1       |\n",
      "| │    └─(filing__concerns__entity)SAGEConv | [2, 24491]    | [2823, 64]     | -1       |\n",
      "| ├─(hidden_act)ModuleDict                  | --            | --             | --       |\n",
      "| │    └─(entity)ReLU                       | [2823, 64]    | [2823, 64]     | --       |\n",
      "| │    └─(filing)ReLU                       | [4507, 64]    | [4507, 64]     | --       |\n",
      "| ├─(batch_norm1)ModuleDict                 | --            | --             | 256      |\n",
      "| │    └─(entity)BatchNorm                  | [2823, 64]    | [2823, 64]     | 128      |\n",
      "| │    │    └─(module)BatchNorm1d           | [2823, 64]    | [2823, 64]     | 128      |\n",
      "| │    └─(filing)BatchNorm                  | [4507, 64]    | [4507, 64]     | 128      |\n",
      "| │    │    └─(module)BatchNorm1d           | [4507, 64]    | [4507, 64]     | 128      |\n",
      "| ├─(conv2)ModuleDict                       | --            | --             | -1       |\n",
      "| │    └─(entity__sends__filing)SAGEConv    | [2, 4507]     | [4507, 32]     | -1       |\n",
      "| │    └─(filing__benefits__entity)SAGEConv | [2, 1894]     | [2823, 32]     | -1       |\n",
      "| │    └─(filing__concerns__entity)SAGEConv | [2, 24491]    | [2823, 32]     | -1       |\n",
      "| ├─(batch_norm2)ModuleDict                 | --            | --             | 128      |\n",
      "| │    └─(entity)BatchNorm                  | [2823, 32]    | [2823, 32]     | 64       |\n",
      "| │    │    └─(module)BatchNorm1d           | [2823, 32]    | [2823, 32]     | 64       |\n",
      "| │    └─(filing)BatchNorm                  | [4507, 32]    | [4507, 32]     | 64       |\n",
      "| │    │    └─(module)BatchNorm1d           | [4507, 32]    | [4507, 32]     | 64       |\n",
      "| ├─(out_act)ReLU                           | --            | --             | --       |\n",
      "+-------------------------------------------+---------------+----------------+----------+\n"
     ]
    }
   ],
   "source": [
    "with th.no_grad():\n",
    "    x_preproc = sage.preproc_model(train_g.x_dict)\n",
    "    print(tgnn.summary(sage.gnn_conv, x_preproc, train_g.edge_index_dict))"
   ]
  },
  {
   "cell_type": "markdown",
   "metadata": {},
   "source": [
    "### Test on a simple output"
   ]
  },
  {
   "cell_type": "code",
   "execution_count": 13,
   "metadata": {
    "ExecuteTime": {
     "end_time": "2023-10-23T12:20:08.371154600Z",
     "start_time": "2023-10-23T12:20:08.305158900Z"
    },
    "collapsed": false
   },
   "outputs": [
    {
     "data": {
      "text/html": [
       "<pre style=\"white-space:pre;overflow-x:auto;line-height:normal;font-family:Menlo,'DejaVu Sans Mono',consolas,'Courier New',monospace\"></pre>\n"
      ],
      "text/plain": []
     },
     "metadata": {},
     "output_type": "display_data"
    },
    {
     "data": {
      "text/plain": [
       "\u001b[1;35mtorch.Size\u001b[0m\u001b[1m(\u001b[0m\u001b[1m[\u001b[0m\u001b[1;36m811\u001b[0m, \u001b[1;36m1\u001b[0m\u001b[1m]\u001b[0m\u001b[1m)\u001b[0m"
      ]
     },
     "execution_count": 13,
     "metadata": {},
     "output_type": "execute_result"
    }
   ],
   "source": [
    "x_dict = train_g.x_dict.copy()\n",
    "with th.no_grad():\n",
    "    out = sage.forward(train_g, train_g.edge_index_dict)\n",
    "out.shape"
   ]
  },
  {
   "cell_type": "markdown",
   "metadata": {
    "collapsed": false
   },
   "source": [
    "## MLP"
   ]
  },
  {
   "cell_type": "markdown",
   "metadata": {},
   "source": [
    "### Build model from config"
   ]
  },
  {
   "cell_type": "code",
   "execution_count": 14,
   "metadata": {
    "ExecuteTime": {
     "end_time": "2023-10-23T12:20:09.825028700Z",
     "start_time": "2023-10-23T12:20:09.796992400Z"
    },
    "collapsed": false
   },
   "outputs": [
    {
     "data": {
      "text/html": [
       "<pre style=\"white-space:pre;overflow-x:auto;line-height:normal;font-family:Menlo,'DejaVu Sans Mono',consolas,'Courier New',monospace\"></pre>\n"
      ],
      "text/plain": []
     },
     "metadata": {},
     "output_type": "display_data"
    },
    {
     "data": {
      "text/plain": [
       "\n",
       "\u001b[1m[\u001b[0m\n",
       "    Parameter containing:\n",
       "\u001b[1;35mtensor\u001b[0m\u001b[1m(\u001b[0m\u001b[1m[\u001b[0m\u001b[1;36m1\u001b[0m., \u001b[1;36m1\u001b[0m., \u001b[1;36m1\u001b[0m., \u001b[1;36m1\u001b[0m., \u001b[1;36m1\u001b[0m., \u001b[1;36m1\u001b[0m., \u001b[1;36m1\u001b[0m., \u001b[1;36m1\u001b[0m., \u001b[1;36m1\u001b[0m., \u001b[1;36m1\u001b[0m., \u001b[1;36m1\u001b[0m., \u001b[1;36m1\u001b[0m., \u001b[1;36m1\u001b[0m., \u001b[1;36m1\u001b[0m., \u001b[1;36m1\u001b[0m., \u001b[1;36m1\u001b[0m., \u001b[1;36m1\u001b[0m., \u001b[1;36m1\u001b[0m.,\n",
       "        \u001b[1;36m1\u001b[0m., \u001b[1;36m1\u001b[0m., \u001b[1;36m1\u001b[0m., \u001b[1;36m1\u001b[0m., \u001b[1;36m1\u001b[0m., \u001b[1;36m1\u001b[0m., \u001b[1;36m1\u001b[0m., \u001b[1;36m1\u001b[0m., \u001b[1;36m1\u001b[0m., \u001b[1;36m1\u001b[0m., \u001b[1;36m1\u001b[0m., \u001b[1;36m1\u001b[0m., \u001b[1;36m1\u001b[0m., \u001b[1;36m1\u001b[0m., \u001b[1;36m1\u001b[0m., \u001b[1;36m1\u001b[0m., \u001b[1;36m1\u001b[0m., \u001b[1;36m1\u001b[0m.,\n",
       "        \u001b[1;36m1\u001b[0m., \u001b[1;36m1\u001b[0m., \u001b[1;36m1\u001b[0m., \u001b[1;36m1\u001b[0m., \u001b[1;36m1\u001b[0m., \u001b[1;36m1\u001b[0m., \u001b[1;36m1\u001b[0m., \u001b[1;36m1\u001b[0m., \u001b[1;36m1\u001b[0m., \u001b[1;36m1\u001b[0m., \u001b[1;36m1\u001b[0m., \u001b[1;36m1\u001b[0m., \u001b[1;36m1\u001b[0m., \u001b[1;36m1\u001b[0m., \u001b[1;36m1\u001b[0m., \u001b[1;36m1\u001b[0m., \u001b[1;36m1\u001b[0m., \u001b[1;36m1\u001b[0m.,\n",
       "        \u001b[1;36m1\u001b[0m., \u001b[1;36m1\u001b[0m., \u001b[1;36m1\u001b[0m., \u001b[1;36m1\u001b[0m., \u001b[1;36m1\u001b[0m., \u001b[1;36m1\u001b[0m., \u001b[1;36m1\u001b[0m., \u001b[1;36m1\u001b[0m., \u001b[1;36m1\u001b[0m., \u001b[1;36m1\u001b[0m., \u001b[1;36m1\u001b[0m., \u001b[1;36m1\u001b[0m., \u001b[1;36m1\u001b[0m., \u001b[1;36m1\u001b[0m., \u001b[1;36m1\u001b[0m., \u001b[1;36m1\u001b[0m., \u001b[1;36m1\u001b[0m., \u001b[1;36m1\u001b[0m.,\n",
       "        \u001b[1;36m1\u001b[0m., \u001b[1;36m1\u001b[0m., \u001b[1;36m1\u001b[0m., \u001b[1;36m1\u001b[0m., \u001b[1;36m1\u001b[0m., \u001b[1;36m1\u001b[0m., \u001b[1;36m1\u001b[0m., \u001b[1;36m1\u001b[0m., \u001b[1;36m1\u001b[0m., \u001b[1;36m1\u001b[0m., \u001b[1;36m1\u001b[0m., \u001b[1;36m1\u001b[0m., \u001b[1;36m1\u001b[0m., \u001b[1;36m1\u001b[0m., \u001b[1;36m1\u001b[0m., \u001b[1;36m1\u001b[0m., \u001b[1;36m1\u001b[0m., \u001b[1;36m1\u001b[0m.,\n",
       "        \u001b[1;36m1\u001b[0m., \u001b[1;36m1\u001b[0m., \u001b[1;36m1\u001b[0m., \u001b[1;36m1\u001b[0m., \u001b[1;36m1\u001b[0m., \u001b[1;36m1\u001b[0m., \u001b[1;36m1\u001b[0m., \u001b[1;36m1\u001b[0m., \u001b[1;36m1\u001b[0m., \u001b[1;36m1\u001b[0m., \u001b[1;36m1\u001b[0m., \u001b[1;36m1\u001b[0m., \u001b[1;36m1\u001b[0m., \u001b[1;36m1\u001b[0m., \u001b[1;36m1\u001b[0m., \u001b[1;36m1\u001b[0m., \u001b[1;36m1\u001b[0m., \u001b[1;36m1\u001b[0m.,\n",
       "        \u001b[1;36m1\u001b[0m., \u001b[1;36m1\u001b[0m., \u001b[1;36m1\u001b[0m., \u001b[1;36m1\u001b[0m., \u001b[1;36m1\u001b[0m., \u001b[1;36m1\u001b[0m., \u001b[1;36m1\u001b[0m., \u001b[1;36m1\u001b[0m., \u001b[1;36m1\u001b[0m., \u001b[1;36m1\u001b[0m., \u001b[1;36m1\u001b[0m., \u001b[1;36m1\u001b[0m., \u001b[1;36m1\u001b[0m., \u001b[1;36m1\u001b[0m., \u001b[1;36m1\u001b[0m., \u001b[1;36m1\u001b[0m., \u001b[1;36m1\u001b[0m., \u001b[1;36m1\u001b[0m.,\n",
       "        \u001b[1;36m1\u001b[0m., \u001b[1;36m1\u001b[0m., \u001b[1;36m1\u001b[0m., \u001b[1;36m1\u001b[0m., \u001b[1;36m1\u001b[0m., \u001b[1;36m1\u001b[0m., \u001b[1;36m1\u001b[0m., \u001b[1;36m1\u001b[0m., \u001b[1;36m1\u001b[0m., \u001b[1;36m1\u001b[0m., \u001b[1;36m1\u001b[0m., \u001b[1;36m1\u001b[0m., \u001b[1;36m1\u001b[0m., \u001b[1;36m1\u001b[0m.\u001b[1m]\u001b[0m,\n",
       "       \u001b[33mrequires_grad\u001b[0m=\u001b[3;92mTrue\u001b[0m\u001b[1m)\u001b[0m,\n",
       "    Parameter containing:\n",
       "\u001b[1;35mtensor\u001b[0m\u001b[1m(\u001b[0m\u001b[1m[\u001b[0m\u001b[1;36m0\u001b[0m., \u001b[1;36m0\u001b[0m., \u001b[1;36m0\u001b[0m., \u001b[1;36m0\u001b[0m., \u001b[1;36m0\u001b[0m., \u001b[1;36m0\u001b[0m., \u001b[1;36m0\u001b[0m., \u001b[1;36m0\u001b[0m., \u001b[1;36m0\u001b[0m., \u001b[1;36m0\u001b[0m., \u001b[1;36m0\u001b[0m., \u001b[1;36m0\u001b[0m., \u001b[1;36m0\u001b[0m., \u001b[1;36m0\u001b[0m., \u001b[1;36m0\u001b[0m., \u001b[1;36m0\u001b[0m., \u001b[1;36m0\u001b[0m., \u001b[1;36m0\u001b[0m., \u001b[1;36m0\u001b[0m., \u001b[1;36m0\u001b[0m., \u001b[1;36m0\u001b[0m., \u001b[1;36m0\u001b[0m., \u001b[1;36m0\u001b[0m., \u001b[1;36m0\u001b[0m.,\n",
       "        \u001b[1;36m0\u001b[0m., \u001b[1;36m0\u001b[0m., \u001b[1;36m0\u001b[0m., \u001b[1;36m0\u001b[0m., \u001b[1;36m0\u001b[0m., \u001b[1;36m0\u001b[0m., \u001b[1;36m0\u001b[0m., \u001b[1;36m0\u001b[0m., \u001b[1;36m0\u001b[0m., \u001b[1;36m0\u001b[0m., \u001b[1;36m0\u001b[0m., \u001b[1;36m0\u001b[0m., \u001b[1;36m0\u001b[0m., \u001b[1;36m0\u001b[0m., \u001b[1;36m0\u001b[0m., \u001b[1;36m0\u001b[0m., \u001b[1;36m0\u001b[0m., \u001b[1;36m0\u001b[0m., \u001b[1;36m0\u001b[0m., \u001b[1;36m0\u001b[0m., \u001b[1;36m0\u001b[0m., \u001b[1;36m0\u001b[0m., \u001b[1;36m0\u001b[0m., \u001b[1;36m0\u001b[0m.,\n",
       "        \u001b[1;36m0\u001b[0m., \u001b[1;36m0\u001b[0m., \u001b[1;36m0\u001b[0m., \u001b[1;36m0\u001b[0m., \u001b[1;36m0\u001b[0m., \u001b[1;36m0\u001b[0m., \u001b[1;36m0\u001b[0m., \u001b[1;36m0\u001b[0m., \u001b[1;36m0\u001b[0m., \u001b[1;36m0\u001b[0m., \u001b[1;36m0\u001b[0m., \u001b[1;36m0\u001b[0m., \u001b[1;36m0\u001b[0m., \u001b[1;36m0\u001b[0m., \u001b[1;36m0\u001b[0m., \u001b[1;36m0\u001b[0m., \u001b[1;36m0\u001b[0m., \u001b[1;36m0\u001b[0m., \u001b[1;36m0\u001b[0m., \u001b[1;36m0\u001b[0m., \u001b[1;36m0\u001b[0m., \u001b[1;36m0\u001b[0m., \u001b[1;36m0\u001b[0m., \u001b[1;36m0\u001b[0m.,\n",
       "        \u001b[1;36m0\u001b[0m., \u001b[1;36m0\u001b[0m., \u001b[1;36m0\u001b[0m., \u001b[1;36m0\u001b[0m., \u001b[1;36m0\u001b[0m., \u001b[1;36m0\u001b[0m., \u001b[1;36m0\u001b[0m., \u001b[1;36m0\u001b[0m., \u001b[1;36m0\u001b[0m., \u001b[1;36m0\u001b[0m., \u001b[1;36m0\u001b[0m., \u001b[1;36m0\u001b[0m., \u001b[1;36m0\u001b[0m., \u001b[1;36m0\u001b[0m., \u001b[1;36m0\u001b[0m., \u001b[1;36m0\u001b[0m., \u001b[1;36m0\u001b[0m., \u001b[1;36m0\u001b[0m., \u001b[1;36m0\u001b[0m., \u001b[1;36m0\u001b[0m., \u001b[1;36m0\u001b[0m., \u001b[1;36m0\u001b[0m., \u001b[1;36m0\u001b[0m., \u001b[1;36m0\u001b[0m.,\n",
       "        \u001b[1;36m0\u001b[0m., \u001b[1;36m0\u001b[0m., \u001b[1;36m0\u001b[0m., \u001b[1;36m0\u001b[0m., \u001b[1;36m0\u001b[0m., \u001b[1;36m0\u001b[0m., \u001b[1;36m0\u001b[0m., \u001b[1;36m0\u001b[0m., \u001b[1;36m0\u001b[0m., \u001b[1;36m0\u001b[0m., \u001b[1;36m0\u001b[0m., \u001b[1;36m0\u001b[0m., \u001b[1;36m0\u001b[0m., \u001b[1;36m0\u001b[0m., \u001b[1;36m0\u001b[0m., \u001b[1;36m0\u001b[0m., \u001b[1;36m0\u001b[0m., \u001b[1;36m0\u001b[0m., \u001b[1;36m0\u001b[0m., \u001b[1;36m0\u001b[0m., \u001b[1;36m0\u001b[0m., \u001b[1;36m0\u001b[0m., \u001b[1;36m0\u001b[0m., \u001b[1;36m0\u001b[0m.,\n",
       "        \u001b[1;36m0\u001b[0m., \u001b[1;36m0\u001b[0m., \u001b[1;36m0\u001b[0m., \u001b[1;36m0\u001b[0m., \u001b[1;36m0\u001b[0m., \u001b[1;36m0\u001b[0m., \u001b[1;36m0\u001b[0m., \u001b[1;36m0\u001b[0m., \u001b[1;36m0\u001b[0m., \u001b[1;36m0\u001b[0m., \u001b[1;36m0\u001b[0m., \u001b[1;36m0\u001b[0m., \u001b[1;36m0\u001b[0m., \u001b[1;36m0\u001b[0m., \u001b[1;36m0\u001b[0m., \u001b[1;36m0\u001b[0m., \u001b[1;36m0\u001b[0m., \u001b[1;36m0\u001b[0m., \u001b[1;36m0\u001b[0m., \u001b[1;36m0\u001b[0m.\u001b[1m]\u001b[0m,\n",
       "       \u001b[33mrequires_grad\u001b[0m=\u001b[3;92mTrue\u001b[0m\u001b[1m)\u001b[0m,\n",
       "    Parameter containing:\n",
       "\u001b[1;35mtensor\u001b[0m\u001b[1m(\u001b[0m\u001b[1m[\u001b[0m\u001b[1m[\u001b[0m \u001b[1;36m0.0134\u001b[0m, \u001b[1;36m-0.0498\u001b[0m, \u001b[1;36m-0.0235\u001b[0m,  \u001b[33m...\u001b[0m,  \u001b[1;36m0.0274\u001b[0m, \u001b[1;36m-0.0090\u001b[0m,  \u001b[1;36m0.0126\u001b[0m\u001b[1m]\u001b[0m,\n",
       "        \u001b[1m[\u001b[0m\u001b[1;36m-0.0035\u001b[0m,  \u001b[1;36m0.0757\u001b[0m,  \u001b[1;36m0.0511\u001b[0m,  \u001b[33m...\u001b[0m, \u001b[1;36m-0.0502\u001b[0m, \u001b[1;36m-0.0672\u001b[0m, \u001b[1;36m-0.0678\u001b[0m\u001b[1m]\u001b[0m,\n",
       "        \u001b[1m[\u001b[0m \u001b[1;36m0.0240\u001b[0m,  \u001b[1;36m0.0734\u001b[0m, \u001b[1;36m-0.0577\u001b[0m,  \u001b[33m...\u001b[0m, \u001b[1;36m-0.0006\u001b[0m,  \u001b[1;36m0.0227\u001b[0m,  \u001b[1;36m0.0109\u001b[0m\u001b[1m]\u001b[0m,\n",
       "        \u001b[33m...\u001b[0m,\n",
       "        \u001b[1m[\u001b[0m\u001b[1;36m-0.0359\u001b[0m, \u001b[1;36m-0.0565\u001b[0m,  \u001b[1;36m0.0366\u001b[0m,  \u001b[33m...\u001b[0m, \u001b[1;36m-0.0246\u001b[0m,  \u001b[1;36m0.0559\u001b[0m,  \u001b[1;36m0.0799\u001b[0m\u001b[1m]\u001b[0m,\n",
       "        \u001b[1m[\u001b[0m\u001b[1;36m-0.0523\u001b[0m, \u001b[1;36m-0.0333\u001b[0m,  \u001b[1;36m0.0626\u001b[0m,  \u001b[33m...\u001b[0m, \u001b[1;36m-0.0498\u001b[0m, \u001b[1;36m-0.0673\u001b[0m, \u001b[1;36m-0.0138\u001b[0m\u001b[1m]\u001b[0m,\n",
       "        \u001b[1m[\u001b[0m \u001b[1;36m0.0598\u001b[0m,  \u001b[1;36m0.0764\u001b[0m, \u001b[1;36m-0.0277\u001b[0m,  \u001b[33m...\u001b[0m, \u001b[1;36m-0.0678\u001b[0m, \u001b[1;36m-0.0754\u001b[0m, \u001b[1;36m-0.0602\u001b[0m\u001b[1m]\u001b[0m\u001b[1m]\u001b[0m,\n",
       "       \u001b[33mrequires_grad\u001b[0m=\u001b[3;92mTrue\u001b[0m\u001b[1m)\u001b[0m,\n",
       "    Parameter containing:\n",
       "\u001b[1;35mtensor\u001b[0m\u001b[1m(\u001b[0m\u001b[1m[\u001b[0m \u001b[1;36m8.3936e-02\u001b[0m, \u001b[1;36m-6.8629e-02\u001b[0m,  \u001b[1;36m8.1371e-02\u001b[0m,  \u001b[1;36m6.4347e-02\u001b[0m,  \u001b[1;36m1.7466e-02\u001b[0m,\n",
       "        \u001b[1;36m-7.4823e-02\u001b[0m,  \u001b[1;36m2.6665e-02\u001b[0m, \u001b[1;36m-2.7595e-02\u001b[0m,  \u001b[1;36m4.3265e-02\u001b[0m, \u001b[1;36m-7.8259e-02\u001b[0m,\n",
       "         \u001b[1;36m3.3066e-02\u001b[0m, \u001b[1;36m-4.2977e-02\u001b[0m,  \u001b[1;36m8.3433e-02\u001b[0m,  \u001b[1;36m4.9250e-02\u001b[0m,  \u001b[1;36m6.6118e-02\u001b[0m,\n",
       "         \u001b[1;36m6.6563e-02\u001b[0m, \u001b[1;36m-6.2892e-02\u001b[0m, \u001b[1;36m-4.3703e-02\u001b[0m, \u001b[1;36m-1.8713e-02\u001b[0m, \u001b[1;36m-6.4097e-03\u001b[0m,\n",
       "        \u001b[1;36m-5.1948e-02\u001b[0m,  \u001b[1;36m7.0567e-02\u001b[0m, \u001b[1;36m-3.8407e-02\u001b[0m, \u001b[1;36m-4.8142e-02\u001b[0m, \u001b[1;36m-1.7973e-02\u001b[0m,\n",
       "        \u001b[1;36m-1.6066e-02\u001b[0m,  \u001b[1;36m3.4696e-02\u001b[0m, \u001b[1;36m-5.1867e-02\u001b[0m,  \u001b[1;36m3.7035e-02\u001b[0m, \u001b[1;36m-6.9411e-02\u001b[0m,\n",
       "         \u001b[1;36m2.2345e-02\u001b[0m, \u001b[1;36m-7.9024e-03\u001b[0m, \u001b[1;36m-6.2252e-02\u001b[0m,  \u001b[1;36m4.2266e-02\u001b[0m,  \u001b[1;36m7.6834e-02\u001b[0m,\n",
       "        \u001b[1;36m-1.0840e-02\u001b[0m, \u001b[1;36m-3.9062e-03\u001b[0m,  \u001b[1;36m3.6967e-02\u001b[0m,  \u001b[1;36m7.1344e-02\u001b[0m, \u001b[1;36m-5.3488e-02\u001b[0m,\n",
       "        \u001b[1;36m-7.8044e-02\u001b[0m, \u001b[1;36m-8.2693e-02\u001b[0m,  \u001b[1;36m5.4080e-02\u001b[0m,  \u001b[1;36m1.4583e-02\u001b[0m,  \u001b[1;36m8.1040e-02\u001b[0m,\n",
       "        \u001b[1;36m-8.1581e-02\u001b[0m,  \u001b[1;36m7.3571e-02\u001b[0m, \u001b[1;36m-5.8458e-02\u001b[0m, \u001b[1;36m-7.7288e-02\u001b[0m,  \u001b[1;36m4.9130e-02\u001b[0m,\n",
       "         \u001b[1;36m8.1104e-02\u001b[0m, \u001b[1;36m-1.5647e-02\u001b[0m, \u001b[1;36m-4.6489e-02\u001b[0m,  \u001b[1;36m5.3991e-02\u001b[0m, \u001b[1;36m-3.6229e-02\u001b[0m,\n",
       "        \u001b[1;36m-4.2040e-02\u001b[0m, \u001b[1;36m-3.8996e-02\u001b[0m,  \u001b[1;36m7.9635e-02\u001b[0m, \u001b[1;36m-6.0737e-02\u001b[0m,  \u001b[1;36m4.0431e-02\u001b[0m,\n",
       "         \u001b[1;36m7.2066e-02\u001b[0m, \u001b[1;36m-5.9154e-02\u001b[0m,  \u001b[1;36m7.9432e-02\u001b[0m, \u001b[1;36m-1.5813e-02\u001b[0m, \u001b[1;36m-3.2538e-02\u001b[0m,\n",
       "         \u001b[1;36m2.3301e-02\u001b[0m,  \u001b[1;36m7.1218e-02\u001b[0m,  \u001b[1;36m3.5537e-02\u001b[0m,  \u001b[1;36m2.9134e-02\u001b[0m,  \u001b[1;36m2.4495e-02\u001b[0m,\n",
       "         \u001b[1;36m4.3748e-02\u001b[0m,  \u001b[1;36m6.6196e-02\u001b[0m,  \u001b[1;36m2.5171e-02\u001b[0m,  \u001b[1;36m3.7248e-02\u001b[0m, \u001b[1;36m-6.9083e-02\u001b[0m,\n",
       "         \u001b[1;36m1.5162e-02\u001b[0m,  \u001b[1;36m3.9445e-02\u001b[0m, \u001b[1;36m-1.3223e-02\u001b[0m, \u001b[1;36m-2.4494e-02\u001b[0m,  \u001b[1;36m4.2455e-02\u001b[0m,\n",
       "         \u001b[1;36m4.7829e-03\u001b[0m, \u001b[1;36m-5.1718e-02\u001b[0m,  \u001b[1;36m3.7543e-03\u001b[0m, \u001b[1;36m-2.0769e-03\u001b[0m, \u001b[1;36m-1.9632e-03\u001b[0m,\n",
       "        \u001b[1;36m-7.8462e-02\u001b[0m, \u001b[1;36m-8.2217e-02\u001b[0m, \u001b[1;36m-7.2134e-02\u001b[0m,  \u001b[1;36m5.0360e-02\u001b[0m,  \u001b[1;36m7.1995e-02\u001b[0m,\n",
       "         \u001b[1;36m3.5445e-02\u001b[0m, \u001b[1;36m-1.3293e-02\u001b[0m, \u001b[1;36m-6.0306e-02\u001b[0m, \u001b[1;36m-6.3628e-02\u001b[0m, \u001b[1;36m-3.4842e-02\u001b[0m,\n",
       "         \u001b[1;36m2.2198e-02\u001b[0m, \u001b[1;36m-2.1786e-02\u001b[0m,  \u001b[1;36m6.4060e-02\u001b[0m,  \u001b[1;36m2.6701e-02\u001b[0m,  \u001b[1;36m4.6595e-02\u001b[0m,\n",
       "        \u001b[1;36m-2.1501e-02\u001b[0m,  \u001b[1;36m6.1281e-02\u001b[0m,  \u001b[1;36m5.6065e-02\u001b[0m,  \u001b[1;36m1.6906e-02\u001b[0m,  \u001b[1;36m7.8262e-02\u001b[0m,\n",
       "         \u001b[1;36m5.7906e-02\u001b[0m, \u001b[1;36m-7.6564e-02\u001b[0m, \u001b[1;36m-6.7612e-04\u001b[0m,  \u001b[1;36m6.4150e-02\u001b[0m,  \u001b[1;36m1.9456e-02\u001b[0m,\n",
       "         \u001b[1;36m6.7216e-02\u001b[0m, \u001b[1;36m-7.4544e-02\u001b[0m,  \u001b[1;36m2.8036e-02\u001b[0m, \u001b[1;36m-6.0248e-02\u001b[0m, \u001b[1;36m-3.0527e-02\u001b[0m,\n",
       "        \u001b[1;36m-7.3001e-02\u001b[0m, \u001b[1;36m-7.7940e-02\u001b[0m,  \u001b[1;36m9.3893e-03\u001b[0m,  \u001b[1;36m4.7987e-02\u001b[0m,  \u001b[1;36m5.5213e-03\u001b[0m,\n",
       "        \u001b[1;36m-1.0934e-03\u001b[0m,  \u001b[1;36m1.2909e-02\u001b[0m,  \u001b[1;36m5.9317e-02\u001b[0m,  \u001b[1;36m7.1430e-02\u001b[0m, \u001b[1;36m-4.3248e-02\u001b[0m,\n",
       "        \u001b[1;36m-4.2843e-02\u001b[0m,  \u001b[1;36m2.0025e-02\u001b[0m, \u001b[1;36m-7.5404e-02\u001b[0m,  \u001b[1;36m5.1312e-02\u001b[0m,  \u001b[1;36m1.5226e-02\u001b[0m,\n",
       "         \u001b[1;36m5.0278e-02\u001b[0m, \u001b[1;36m-3.8656e-02\u001b[0m, \u001b[1;36m-3.2786e-02\u001b[0m,  \u001b[1;36m4.2170e-02\u001b[0m, \u001b[1;36m-7.2642e-02\u001b[0m,\n",
       "         \u001b[1;36m7.0729e-02\u001b[0m, \u001b[1;36m-1.0235e-02\u001b[0m,  \u001b[1;36m2.0215e-02\u001b[0m, \u001b[1;36m-8.3245e-02\u001b[0m, \u001b[1;36m-3.7152e-03\u001b[0m,\n",
       "         \u001b[1;36m4.5060e-02\u001b[0m,  \u001b[1;36m1.4881e-02\u001b[0m, \u001b[1;36m-3.0423e-02\u001b[0m, \u001b[1;36m-9.2754e-03\u001b[0m,  \u001b[1;36m6.5633e-03\u001b[0m,\n",
       "         \u001b[1;36m7.1145e-02\u001b[0m,  \u001b[1;36m5.8795e-02\u001b[0m,  \u001b[1;36m2.3301e-02\u001b[0m,  \u001b[1;36m2.4182e-02\u001b[0m, \u001b[1;36m-8.0167e-02\u001b[0m,\n",
       "         \u001b[1;36m2.1874e-03\u001b[0m, \u001b[1;36m-7.7985e-02\u001b[0m, \u001b[1;36m-8.3150e-03\u001b[0m, \u001b[1;36m-2.4289e-02\u001b[0m,  \u001b[1;36m3.6357e-02\u001b[0m,\n",
       "        \u001b[1;36m-9.3809e-05\u001b[0m, \u001b[1;36m-2.4329e-02\u001b[0m,  \u001b[1;36m3.2521e-02\u001b[0m,  \u001b[1;36m1.3609e-02\u001b[0m, \u001b[1;36m-1.0779e-02\u001b[0m,\n",
       "         \u001b[1;36m4.7797e-02\u001b[0m,  \u001b[1;36m3.2057e-02\u001b[0m, \u001b[1;36m-1.1092e-03\u001b[0m,  \u001b[1;36m2.1718e-02\u001b[0m, \u001b[1;36m-5.0703e-02\u001b[0m,\n",
       "         \u001b[1;36m4.5483e-02\u001b[0m,  \u001b[1;36m7.9722e-02\u001b[0m, \u001b[1;36m-4.7264e-02\u001b[0m, \u001b[1;36m-6.6849e-02\u001b[0m,  \u001b[1;36m7.1619e-02\u001b[0m,\n",
       "         \u001b[1;36m6.6158e-02\u001b[0m, \u001b[1;36m-3.9936e-02\u001b[0m,  \u001b[1;36m6.5810e-02\u001b[0m, \u001b[1;36m-3.7386e-02\u001b[0m, \u001b[1;36m-3.4271e-02\u001b[0m,\n",
       "        \u001b[1;36m-5.6761e-02\u001b[0m, \u001b[1;36m-6.3349e-02\u001b[0m, \u001b[1;36m-3.9636e-02\u001b[0m,  \u001b[1;36m1.6924e-02\u001b[0m, \u001b[1;36m-4.8689e-02\u001b[0m,\n",
       "        \u001b[1;36m-3.6465e-02\u001b[0m,  \u001b[1;36m7.7947e-02\u001b[0m, \u001b[1;36m-3.2557e-03\u001b[0m, \u001b[1;36m-3.5241e-02\u001b[0m, \u001b[1;36m-6.4039e-02\u001b[0m,\n",
       "         \u001b[1;36m3.3333e-02\u001b[0m, \u001b[1;36m-2.4027e-02\u001b[0m, \u001b[1;36m-6.9519e-02\u001b[0m, \u001b[1;36m-1.9540e-02\u001b[0m, \u001b[1;36m-6.8482e-02\u001b[0m,\n",
       "        \u001b[1;36m-1.4854e-02\u001b[0m,  \u001b[1;36m2.4312e-02\u001b[0m,  \u001b[1;36m2.0995e-02\u001b[0m, \u001b[1;36m-3.7215e-02\u001b[0m,  \u001b[1;36m2.8264e-02\u001b[0m,\n",
       "        \u001b[1;36m-7.4175e-02\u001b[0m,  \u001b[1;36m3.6398e-02\u001b[0m,  \u001b[1;36m6.8881e-02\u001b[0m, \u001b[1;36m-7.8663e-02\u001b[0m,  \u001b[1;36m7.3695e-02\u001b[0m,\n",
       "        \u001b[1;36m-7.3343e-02\u001b[0m, \u001b[1;36m-4.3702e-02\u001b[0m, \u001b[1;36m-8.0110e-02\u001b[0m, \u001b[1;36m-4.0945e-02\u001b[0m, \u001b[1;36m-4.9784e-02\u001b[0m,\n",
       "        \u001b[1;36m-8.2557e-02\u001b[0m, \u001b[1;36m-5.5581e-02\u001b[0m,  \u001b[1;36m2.9053e-02\u001b[0m,  \u001b[1;36m1.7916e-02\u001b[0m, \u001b[1;36m-6.6627e-02\u001b[0m,\n",
       "         \u001b[1;36m3.5088e-02\u001b[0m,  \u001b[1;36m7.9236e-02\u001b[0m, \u001b[1;36m-8.3197e-03\u001b[0m, \u001b[1;36m-1.3831e-02\u001b[0m,  \u001b[1;36m6.9499e-02\u001b[0m,\n",
       "         \u001b[1;36m3.0892e-02\u001b[0m,  \u001b[1;36m2.4503e-03\u001b[0m, \u001b[1;36m-5.2074e-02\u001b[0m, \u001b[1;36m-2.6173e-02\u001b[0m,  \u001b[1;36m5.6375e-02\u001b[0m,\n",
       "         \u001b[1;36m1.8421e-03\u001b[0m,  \u001b[1;36m5.6392e-02\u001b[0m, \u001b[1;36m-5.7092e-02\u001b[0m,  \u001b[1;36m2.4376e-02\u001b[0m, \u001b[1;36m-5.4943e-02\u001b[0m,\n",
       "        \u001b[1;36m-8.2745e-02\u001b[0m,  \u001b[1;36m3.5711e-02\u001b[0m, \u001b[1;36m-5.2938e-03\u001b[0m, \u001b[1;36m-2.6295e-02\u001b[0m, \u001b[1;36m-2.1670e-02\u001b[0m,\n",
       "         \u001b[1;36m2.7575e-02\u001b[0m,  \u001b[1;36m7.0498e-02\u001b[0m,  \u001b[1;36m5.1089e-02\u001b[0m, \u001b[1;36m-6.4353e-02\u001b[0m, \u001b[1;36m-4.0535e-02\u001b[0m,\n",
       "        \u001b[1;36m-4.7275e-03\u001b[0m, \u001b[1;36m-2.0695e-02\u001b[0m,  \u001b[1;36m6.2540e-02\u001b[0m, \u001b[1;36m-5.1841e-02\u001b[0m,  \u001b[1;36m1.1992e-02\u001b[0m,\n",
       "         \u001b[1;36m5.0716e-03\u001b[0m,  \u001b[1;36m7.5640e-02\u001b[0m, \u001b[1;36m-5.4759e-02\u001b[0m,  \u001b[1;36m6.0386e-02\u001b[0m, \u001b[1;36m-6.0418e-02\u001b[0m,\n",
       "        \u001b[1;36m-7.8509e-02\u001b[0m,  \u001b[1;36m2.8485e-02\u001b[0m,  \u001b[1;36m2.4580e-03\u001b[0m, \u001b[1;36m-7.0246e-02\u001b[0m,  \u001b[1;36m4.2497e-02\u001b[0m,\n",
       "        \u001b[1;36m-8.4316e-02\u001b[0m,  \u001b[1;36m4.1708e-02\u001b[0m, \u001b[1;36m-5.9373e-02\u001b[0m, \u001b[1;36m-4.8928e-02\u001b[0m,  \u001b[1;36m4.7651e-02\u001b[0m,\n",
       "        \u001b[1;36m-1.8925e-02\u001b[0m\u001b[1m]\u001b[0m, \u001b[33mrequires_grad\u001b[0m=\u001b[3;92mTrue\u001b[0m\u001b[1m)\u001b[0m,\n",
       "    Parameter containing:\n",
       "\u001b[1;35mtensor\u001b[0m\u001b[1m(\u001b[0m\u001b[1m[\u001b[0m\u001b[1;36m1\u001b[0m., \u001b[1;36m1\u001b[0m., \u001b[1;36m1\u001b[0m., \u001b[1;36m1\u001b[0m., \u001b[1;36m1\u001b[0m., \u001b[1;36m1\u001b[0m., \u001b[1;36m1\u001b[0m., \u001b[1;36m1\u001b[0m., \u001b[1;36m1\u001b[0m., \u001b[1;36m1\u001b[0m., \u001b[1;36m1\u001b[0m., \u001b[1;36m1\u001b[0m., \u001b[1;36m1\u001b[0m., \u001b[1;36m1\u001b[0m., \u001b[1;36m1\u001b[0m., \u001b[1;36m1\u001b[0m., \u001b[1;36m1\u001b[0m., \u001b[1;36m1\u001b[0m.,\n",
       "        \u001b[1;36m1\u001b[0m., \u001b[1;36m1\u001b[0m., \u001b[1;36m1\u001b[0m., \u001b[1;36m1\u001b[0m., \u001b[1;36m1\u001b[0m., \u001b[1;36m1\u001b[0m., \u001b[1;36m1\u001b[0m., \u001b[1;36m1\u001b[0m., \u001b[1;36m1\u001b[0m., \u001b[1;36m1\u001b[0m., \u001b[1;36m1\u001b[0m., \u001b[1;36m1\u001b[0m., \u001b[1;36m1\u001b[0m., \u001b[1;36m1\u001b[0m., \u001b[1;36m1\u001b[0m., \u001b[1;36m1\u001b[0m., \u001b[1;36m1\u001b[0m., \u001b[1;36m1\u001b[0m.,\n",
       "        \u001b[1;36m1\u001b[0m., \u001b[1;36m1\u001b[0m., \u001b[1;36m1\u001b[0m., \u001b[1;36m1\u001b[0m., \u001b[1;36m1\u001b[0m., \u001b[1;36m1\u001b[0m., \u001b[1;36m1\u001b[0m., \u001b[1;36m1\u001b[0m., \u001b[1;36m1\u001b[0m., \u001b[1;36m1\u001b[0m., \u001b[1;36m1\u001b[0m., \u001b[1;36m1\u001b[0m., \u001b[1;36m1\u001b[0m., \u001b[1;36m1\u001b[0m., \u001b[1;36m1\u001b[0m., \u001b[1;36m1\u001b[0m., \u001b[1;36m1\u001b[0m., \u001b[1;36m1\u001b[0m.,\n",
       "        \u001b[1;36m1\u001b[0m., \u001b[1;36m1\u001b[0m., \u001b[1;36m1\u001b[0m., \u001b[1;36m1\u001b[0m., \u001b[1;36m1\u001b[0m., \u001b[1;36m1\u001b[0m., \u001b[1;36m1\u001b[0m., \u001b[1;36m1\u001b[0m., \u001b[1;36m1\u001b[0m., \u001b[1;36m1\u001b[0m., \u001b[1;36m1\u001b[0m., \u001b[1;36m1\u001b[0m., \u001b[1;36m1\u001b[0m., \u001b[1;36m1\u001b[0m., \u001b[1;36m1\u001b[0m., \u001b[1;36m1\u001b[0m., \u001b[1;36m1\u001b[0m., \u001b[1;36m1\u001b[0m.,\n",
       "        \u001b[1;36m1\u001b[0m., \u001b[1;36m1\u001b[0m., \u001b[1;36m1\u001b[0m., \u001b[1;36m1\u001b[0m., \u001b[1;36m1\u001b[0m., \u001b[1;36m1\u001b[0m., \u001b[1;36m1\u001b[0m., \u001b[1;36m1\u001b[0m., \u001b[1;36m1\u001b[0m., \u001b[1;36m1\u001b[0m., \u001b[1;36m1\u001b[0m., \u001b[1;36m1\u001b[0m., \u001b[1;36m1\u001b[0m., \u001b[1;36m1\u001b[0m., \u001b[1;36m1\u001b[0m., \u001b[1;36m1\u001b[0m., \u001b[1;36m1\u001b[0m., \u001b[1;36m1\u001b[0m.,\n",
       "        \u001b[1;36m1\u001b[0m., \u001b[1;36m1\u001b[0m., \u001b[1;36m1\u001b[0m., \u001b[1;36m1\u001b[0m., \u001b[1;36m1\u001b[0m., \u001b[1;36m1\u001b[0m., \u001b[1;36m1\u001b[0m., \u001b[1;36m1\u001b[0m., \u001b[1;36m1\u001b[0m., \u001b[1;36m1\u001b[0m., \u001b[1;36m1\u001b[0m., \u001b[1;36m1\u001b[0m., \u001b[1;36m1\u001b[0m., \u001b[1;36m1\u001b[0m., \u001b[1;36m1\u001b[0m., \u001b[1;36m1\u001b[0m., \u001b[1;36m1\u001b[0m., \u001b[1;36m1\u001b[0m.,\n",
       "        \u001b[1;36m1\u001b[0m., \u001b[1;36m1\u001b[0m., \u001b[1;36m1\u001b[0m., \u001b[1;36m1\u001b[0m., \u001b[1;36m1\u001b[0m., \u001b[1;36m1\u001b[0m., \u001b[1;36m1\u001b[0m., \u001b[1;36m1\u001b[0m., \u001b[1;36m1\u001b[0m., \u001b[1;36m1\u001b[0m., \u001b[1;36m1\u001b[0m., \u001b[1;36m1\u001b[0m., \u001b[1;36m1\u001b[0m., \u001b[1;36m1\u001b[0m., \u001b[1;36m1\u001b[0m., \u001b[1;36m1\u001b[0m., \u001b[1;36m1\u001b[0m., \u001b[1;36m1\u001b[0m.,\n",
       "        \u001b[1;36m1\u001b[0m., \u001b[1;36m1\u001b[0m., \u001b[1;36m1\u001b[0m., \u001b[1;36m1\u001b[0m., \u001b[1;36m1\u001b[0m., \u001b[1;36m1\u001b[0m., \u001b[1;36m1\u001b[0m., \u001b[1;36m1\u001b[0m., \u001b[1;36m1\u001b[0m., \u001b[1;36m1\u001b[0m., \u001b[1;36m1\u001b[0m., \u001b[1;36m1\u001b[0m., \u001b[1;36m1\u001b[0m., \u001b[1;36m1\u001b[0m., \u001b[1;36m1\u001b[0m., \u001b[1;36m1\u001b[0m., \u001b[1;36m1\u001b[0m., \u001b[1;36m1\u001b[0m.,\n",
       "        \u001b[1;36m1\u001b[0m., \u001b[1;36m1\u001b[0m., \u001b[1;36m1\u001b[0m., \u001b[1;36m1\u001b[0m., \u001b[1;36m1\u001b[0m., \u001b[1;36m1\u001b[0m., \u001b[1;36m1\u001b[0m., \u001b[1;36m1\u001b[0m., \u001b[1;36m1\u001b[0m., \u001b[1;36m1\u001b[0m., \u001b[1;36m1\u001b[0m., \u001b[1;36m1\u001b[0m., \u001b[1;36m1\u001b[0m., \u001b[1;36m1\u001b[0m., \u001b[1;36m1\u001b[0m., \u001b[1;36m1\u001b[0m., \u001b[1;36m1\u001b[0m., \u001b[1;36m1\u001b[0m.,\n",
       "        \u001b[1;36m1\u001b[0m., \u001b[1;36m1\u001b[0m., \u001b[1;36m1\u001b[0m., \u001b[1;36m1\u001b[0m., \u001b[1;36m1\u001b[0m., \u001b[1;36m1\u001b[0m., \u001b[1;36m1\u001b[0m., \u001b[1;36m1\u001b[0m., \u001b[1;36m1\u001b[0m., \u001b[1;36m1\u001b[0m., \u001b[1;36m1\u001b[0m., \u001b[1;36m1\u001b[0m., \u001b[1;36m1\u001b[0m., \u001b[1;36m1\u001b[0m., \u001b[1;36m1\u001b[0m., \u001b[1;36m1\u001b[0m., \u001b[1;36m1\u001b[0m., \u001b[1;36m1\u001b[0m.,\n",
       "        \u001b[1;36m1\u001b[0m., \u001b[1;36m1\u001b[0m., \u001b[1;36m1\u001b[0m., \u001b[1;36m1\u001b[0m., \u001b[1;36m1\u001b[0m., \u001b[1;36m1\u001b[0m., \u001b[1;36m1\u001b[0m., \u001b[1;36m1\u001b[0m., \u001b[1;36m1\u001b[0m., \u001b[1;36m1\u001b[0m., \u001b[1;36m1\u001b[0m., \u001b[1;36m1\u001b[0m., \u001b[1;36m1\u001b[0m., \u001b[1;36m1\u001b[0m., \u001b[1;36m1\u001b[0m., \u001b[1;36m1\u001b[0m., \u001b[1;36m1\u001b[0m., \u001b[1;36m1\u001b[0m.,\n",
       "        \u001b[1;36m1\u001b[0m., \u001b[1;36m1\u001b[0m., \u001b[1;36m1\u001b[0m., \u001b[1;36m1\u001b[0m., \u001b[1;36m1\u001b[0m., \u001b[1;36m1\u001b[0m., \u001b[1;36m1\u001b[0m., \u001b[1;36m1\u001b[0m., \u001b[1;36m1\u001b[0m., \u001b[1;36m1\u001b[0m., \u001b[1;36m1\u001b[0m., \u001b[1;36m1\u001b[0m., \u001b[1;36m1\u001b[0m., \u001b[1;36m1\u001b[0m., \u001b[1;36m1\u001b[0m., \u001b[1;36m1\u001b[0m., \u001b[1;36m1\u001b[0m., \u001b[1;36m1\u001b[0m.,\n",
       "        \u001b[1;36m1\u001b[0m., \u001b[1;36m1\u001b[0m., \u001b[1;36m1\u001b[0m., \u001b[1;36m1\u001b[0m., \u001b[1;36m1\u001b[0m., \u001b[1;36m1\u001b[0m., \u001b[1;36m1\u001b[0m., \u001b[1;36m1\u001b[0m., \u001b[1;36m1\u001b[0m., \u001b[1;36m1\u001b[0m., \u001b[1;36m1\u001b[0m., \u001b[1;36m1\u001b[0m., \u001b[1;36m1\u001b[0m., \u001b[1;36m1\u001b[0m., \u001b[1;36m1\u001b[0m., \u001b[1;36m1\u001b[0m., \u001b[1;36m1\u001b[0m., \u001b[1;36m1\u001b[0m.,\n",
       "        \u001b[1;36m1\u001b[0m., \u001b[1;36m1\u001b[0m., \u001b[1;36m1\u001b[0m., \u001b[1;36m1\u001b[0m., \u001b[1;36m1\u001b[0m., \u001b[1;36m1\u001b[0m., \u001b[1;36m1\u001b[0m., \u001b[1;36m1\u001b[0m., \u001b[1;36m1\u001b[0m., \u001b[1;36m1\u001b[0m., \u001b[1;36m1\u001b[0m., \u001b[1;36m1\u001b[0m., \u001b[1;36m1\u001b[0m., \u001b[1;36m1\u001b[0m., \u001b[1;36m1\u001b[0m., \u001b[1;36m1\u001b[0m., \u001b[1;36m1\u001b[0m., \u001b[1;36m1\u001b[0m.,\n",
       "        \u001b[1;36m1\u001b[0m., \u001b[1;36m1\u001b[0m., \u001b[1;36m1\u001b[0m., \u001b[1;36m1\u001b[0m.\u001b[1m]\u001b[0m, \u001b[33mrequires_grad\u001b[0m=\u001b[3;92mTrue\u001b[0m\u001b[1m)\u001b[0m,\n",
       "    Parameter containing:\n",
       "\u001b[1;35mtensor\u001b[0m\u001b[1m(\u001b[0m\u001b[1m[\u001b[0m\u001b[1;36m0\u001b[0m., \u001b[1;36m0\u001b[0m., \u001b[1;36m0\u001b[0m., \u001b[1;36m0\u001b[0m., \u001b[1;36m0\u001b[0m., \u001b[1;36m0\u001b[0m., \u001b[1;36m0\u001b[0m., \u001b[1;36m0\u001b[0m., \u001b[1;36m0\u001b[0m., \u001b[1;36m0\u001b[0m., \u001b[1;36m0\u001b[0m., \u001b[1;36m0\u001b[0m., \u001b[1;36m0\u001b[0m., \u001b[1;36m0\u001b[0m., \u001b[1;36m0\u001b[0m., \u001b[1;36m0\u001b[0m., \u001b[1;36m0\u001b[0m., \u001b[1;36m0\u001b[0m., \u001b[1;36m0\u001b[0m., \u001b[1;36m0\u001b[0m., \u001b[1;36m0\u001b[0m., \u001b[1;36m0\u001b[0m., \u001b[1;36m0\u001b[0m., \u001b[1;36m0\u001b[0m.,\n",
       "        \u001b[1;36m0\u001b[0m., \u001b[1;36m0\u001b[0m., \u001b[1;36m0\u001b[0m., \u001b[1;36m0\u001b[0m., \u001b[1;36m0\u001b[0m., \u001b[1;36m0\u001b[0m., \u001b[1;36m0\u001b[0m., \u001b[1;36m0\u001b[0m., \u001b[1;36m0\u001b[0m., \u001b[1;36m0\u001b[0m., \u001b[1;36m0\u001b[0m., \u001b[1;36m0\u001b[0m., \u001b[1;36m0\u001b[0m., \u001b[1;36m0\u001b[0m., \u001b[1;36m0\u001b[0m., \u001b[1;36m0\u001b[0m., \u001b[1;36m0\u001b[0m., \u001b[1;36m0\u001b[0m., \u001b[1;36m0\u001b[0m., \u001b[1;36m0\u001b[0m., \u001b[1;36m0\u001b[0m., \u001b[1;36m0\u001b[0m., \u001b[1;36m0\u001b[0m., \u001b[1;36m0\u001b[0m.,\n",
       "        \u001b[1;36m0\u001b[0m., \u001b[1;36m0\u001b[0m., \u001b[1;36m0\u001b[0m., \u001b[1;36m0\u001b[0m., \u001b[1;36m0\u001b[0m., \u001b[1;36m0\u001b[0m., \u001b[1;36m0\u001b[0m., \u001b[1;36m0\u001b[0m., \u001b[1;36m0\u001b[0m., \u001b[1;36m0\u001b[0m., \u001b[1;36m0\u001b[0m., \u001b[1;36m0\u001b[0m., \u001b[1;36m0\u001b[0m., \u001b[1;36m0\u001b[0m., \u001b[1;36m0\u001b[0m., \u001b[1;36m0\u001b[0m., \u001b[1;36m0\u001b[0m., \u001b[1;36m0\u001b[0m., \u001b[1;36m0\u001b[0m., \u001b[1;36m0\u001b[0m., \u001b[1;36m0\u001b[0m., \u001b[1;36m0\u001b[0m., \u001b[1;36m0\u001b[0m., \u001b[1;36m0\u001b[0m.,\n",
       "        \u001b[1;36m0\u001b[0m., \u001b[1;36m0\u001b[0m., \u001b[1;36m0\u001b[0m., \u001b[1;36m0\u001b[0m., \u001b[1;36m0\u001b[0m., \u001b[1;36m0\u001b[0m., \u001b[1;36m0\u001b[0m., \u001b[1;36m0\u001b[0m., \u001b[1;36m0\u001b[0m., \u001b[1;36m0\u001b[0m., \u001b[1;36m0\u001b[0m., \u001b[1;36m0\u001b[0m., \u001b[1;36m0\u001b[0m., \u001b[1;36m0\u001b[0m., \u001b[1;36m0\u001b[0m., \u001b[1;36m0\u001b[0m., \u001b[1;36m0\u001b[0m., \u001b[1;36m0\u001b[0m., \u001b[1;36m0\u001b[0m., \u001b[1;36m0\u001b[0m., \u001b[1;36m0\u001b[0m., \u001b[1;36m0\u001b[0m., \u001b[1;36m0\u001b[0m., \u001b[1;36m0\u001b[0m.,\n",
       "        \u001b[1;36m0\u001b[0m., \u001b[1;36m0\u001b[0m., \u001b[1;36m0\u001b[0m., \u001b[1;36m0\u001b[0m., \u001b[1;36m0\u001b[0m., \u001b[1;36m0\u001b[0m., \u001b[1;36m0\u001b[0m., \u001b[1;36m0\u001b[0m., \u001b[1;36m0\u001b[0m., \u001b[1;36m0\u001b[0m., \u001b[1;36m0\u001b[0m., \u001b[1;36m0\u001b[0m., \u001b[1;36m0\u001b[0m., \u001b[1;36m0\u001b[0m., \u001b[1;36m0\u001b[0m., \u001b[1;36m0\u001b[0m., \u001b[1;36m0\u001b[0m., \u001b[1;36m0\u001b[0m., \u001b[1;36m0\u001b[0m., \u001b[1;36m0\u001b[0m., \u001b[1;36m0\u001b[0m., \u001b[1;36m0\u001b[0m., \u001b[1;36m0\u001b[0m., \u001b[1;36m0\u001b[0m.,\n",
       "        \u001b[1;36m0\u001b[0m., \u001b[1;36m0\u001b[0m., \u001b[1;36m0\u001b[0m., \u001b[1;36m0\u001b[0m., \u001b[1;36m0\u001b[0m., \u001b[1;36m0\u001b[0m., \u001b[1;36m0\u001b[0m., \u001b[1;36m0\u001b[0m., \u001b[1;36m0\u001b[0m., \u001b[1;36m0\u001b[0m., \u001b[1;36m0\u001b[0m., \u001b[1;36m0\u001b[0m., \u001b[1;36m0\u001b[0m., \u001b[1;36m0\u001b[0m., \u001b[1;36m0\u001b[0m., \u001b[1;36m0\u001b[0m., \u001b[1;36m0\u001b[0m., \u001b[1;36m0\u001b[0m., \u001b[1;36m0\u001b[0m., \u001b[1;36m0\u001b[0m., \u001b[1;36m0\u001b[0m., \u001b[1;36m0\u001b[0m., \u001b[1;36m0\u001b[0m., \u001b[1;36m0\u001b[0m.,\n",
       "        \u001b[1;36m0\u001b[0m., \u001b[1;36m0\u001b[0m., \u001b[1;36m0\u001b[0m., \u001b[1;36m0\u001b[0m., \u001b[1;36m0\u001b[0m., \u001b[1;36m0\u001b[0m., \u001b[1;36m0\u001b[0m., \u001b[1;36m0\u001b[0m., \u001b[1;36m0\u001b[0m., \u001b[1;36m0\u001b[0m., \u001b[1;36m0\u001b[0m., \u001b[1;36m0\u001b[0m., \u001b[1;36m0\u001b[0m., \u001b[1;36m0\u001b[0m., \u001b[1;36m0\u001b[0m., \u001b[1;36m0\u001b[0m., \u001b[1;36m0\u001b[0m., \u001b[1;36m0\u001b[0m., \u001b[1;36m0\u001b[0m., \u001b[1;36m0\u001b[0m., \u001b[1;36m0\u001b[0m., \u001b[1;36m0\u001b[0m., \u001b[1;36m0\u001b[0m., \u001b[1;36m0\u001b[0m.,\n",
       "        \u001b[1;36m0\u001b[0m., \u001b[1;36m0\u001b[0m., \u001b[1;36m0\u001b[0m., \u001b[1;36m0\u001b[0m., \u001b[1;36m0\u001b[0m., \u001b[1;36m0\u001b[0m., \u001b[1;36m0\u001b[0m., \u001b[1;36m0\u001b[0m., \u001b[1;36m0\u001b[0m., \u001b[1;36m0\u001b[0m., \u001b[1;36m0\u001b[0m., \u001b[1;36m0\u001b[0m., \u001b[1;36m0\u001b[0m., \u001b[1;36m0\u001b[0m., \u001b[1;36m0\u001b[0m., \u001b[1;36m0\u001b[0m., \u001b[1;36m0\u001b[0m., \u001b[1;36m0\u001b[0m., \u001b[1;36m0\u001b[0m., \u001b[1;36m0\u001b[0m., \u001b[1;36m0\u001b[0m., \u001b[1;36m0\u001b[0m., \u001b[1;36m0\u001b[0m., \u001b[1;36m0\u001b[0m.,\n",
       "        \u001b[1;36m0\u001b[0m., \u001b[1;36m0\u001b[0m., \u001b[1;36m0\u001b[0m., \u001b[1;36m0\u001b[0m., \u001b[1;36m0\u001b[0m., \u001b[1;36m0\u001b[0m., \u001b[1;36m0\u001b[0m., \u001b[1;36m0\u001b[0m., \u001b[1;36m0\u001b[0m., \u001b[1;36m0\u001b[0m., \u001b[1;36m0\u001b[0m., \u001b[1;36m0\u001b[0m., \u001b[1;36m0\u001b[0m., \u001b[1;36m0\u001b[0m., \u001b[1;36m0\u001b[0m., \u001b[1;36m0\u001b[0m., \u001b[1;36m0\u001b[0m., \u001b[1;36m0\u001b[0m., \u001b[1;36m0\u001b[0m., \u001b[1;36m0\u001b[0m., \u001b[1;36m0\u001b[0m., \u001b[1;36m0\u001b[0m., \u001b[1;36m0\u001b[0m., \u001b[1;36m0\u001b[0m.,\n",
       "        \u001b[1;36m0\u001b[0m., \u001b[1;36m0\u001b[0m., \u001b[1;36m0\u001b[0m., \u001b[1;36m0\u001b[0m., \u001b[1;36m0\u001b[0m., \u001b[1;36m0\u001b[0m., \u001b[1;36m0\u001b[0m., \u001b[1;36m0\u001b[0m., \u001b[1;36m0\u001b[0m., \u001b[1;36m0\u001b[0m., \u001b[1;36m0\u001b[0m., \u001b[1;36m0\u001b[0m., \u001b[1;36m0\u001b[0m., \u001b[1;36m0\u001b[0m., \u001b[1;36m0\u001b[0m., \u001b[1;36m0\u001b[0m., \u001b[1;36m0\u001b[0m., \u001b[1;36m0\u001b[0m., \u001b[1;36m0\u001b[0m., \u001b[1;36m0\u001b[0m., \u001b[1;36m0\u001b[0m., \u001b[1;36m0\u001b[0m., \u001b[1;36m0\u001b[0m., \u001b[1;36m0\u001b[0m.,\n",
       "        \u001b[1;36m0\u001b[0m., \u001b[1;36m0\u001b[0m., \u001b[1;36m0\u001b[0m., \u001b[1;36m0\u001b[0m., \u001b[1;36m0\u001b[0m., \u001b[1;36m0\u001b[0m., \u001b[1;36m0\u001b[0m., \u001b[1;36m0\u001b[0m., \u001b[1;36m0\u001b[0m., \u001b[1;36m0\u001b[0m., \u001b[1;36m0\u001b[0m., \u001b[1;36m0\u001b[0m., \u001b[1;36m0\u001b[0m., \u001b[1;36m0\u001b[0m., \u001b[1;36m0\u001b[0m., \u001b[1;36m0\u001b[0m.\u001b[1m]\u001b[0m,\n",
       "       \u001b[33mrequires_grad\u001b[0m=\u001b[3;92mTrue\u001b[0m\u001b[1m)\u001b[0m,\n",
       "    Parameter containing:\n",
       "\u001b[1;35mtensor\u001b[0m\u001b[1m(\u001b[0m\u001b[1m[\u001b[0m\u001b[1m[\u001b[0m \u001b[1;36m0.0365\u001b[0m,  \u001b[1;36m0.0514\u001b[0m,  \u001b[1;36m0.0406\u001b[0m,  \u001b[33m...\u001b[0m, \u001b[1;36m-0.0557\u001b[0m,  \u001b[1;36m0.0302\u001b[0m, \u001b[1;36m-0.0037\u001b[0m\u001b[1m]\u001b[0m,\n",
       "        \u001b[1m[\u001b[0m\u001b[1;36m-0.0295\u001b[0m, \u001b[1;36m-0.0418\u001b[0m,  \u001b[1;36m0.0432\u001b[0m,  \u001b[33m...\u001b[0m,  \u001b[1;36m0.0133\u001b[0m,  \u001b[1;36m0.0061\u001b[0m,  \u001b[1;36m0.0391\u001b[0m\u001b[1m]\u001b[0m,\n",
       "        \u001b[1m[\u001b[0m\u001b[1;36m-0.0285\u001b[0m, \u001b[1;36m-0.0404\u001b[0m,  \u001b[1;36m0.0571\u001b[0m,  \u001b[33m...\u001b[0m,  \u001b[1;36m0.0429\u001b[0m, \u001b[1;36m-0.0568\u001b[0m, \u001b[1;36m-0.0450\u001b[0m\u001b[1m]\u001b[0m,\n",
       "        \u001b[33m...\u001b[0m,\n",
       "        \u001b[1m[\u001b[0m\u001b[1;36m-0.0215\u001b[0m,  \u001b[1;36m0.0104\u001b[0m,  \u001b[1;36m0.0536\u001b[0m,  \u001b[33m...\u001b[0m, \u001b[1;36m-0.0182\u001b[0m, \u001b[1;36m-0.0082\u001b[0m, \u001b[1;36m-0.0298\u001b[0m\u001b[1m]\u001b[0m,\n",
       "        \u001b[1m[\u001b[0m\u001b[1;36m-0.0261\u001b[0m,  \u001b[1;36m0.0133\u001b[0m,  \u001b[1;36m0.0297\u001b[0m,  \u001b[33m...\u001b[0m,  \u001b[1;36m0.0449\u001b[0m, \u001b[1;36m-0.0150\u001b[0m,  \u001b[1;36m0.0583\u001b[0m\u001b[1m]\u001b[0m,\n",
       "        \u001b[1m[\u001b[0m \u001b[1;36m0.0428\u001b[0m, \u001b[1;36m-0.0304\u001b[0m, \u001b[1;36m-0.0616\u001b[0m,  \u001b[33m...\u001b[0m,  \u001b[1;36m0.0126\u001b[0m, \u001b[1;36m-0.0193\u001b[0m, \u001b[1;36m-0.0388\u001b[0m\u001b[1m]\u001b[0m\u001b[1m]\u001b[0m,\n",
       "       \u001b[33mrequires_grad\u001b[0m=\u001b[3;92mTrue\u001b[0m\u001b[1m)\u001b[0m,\n",
       "    Parameter containing:\n",
       "\u001b[1;35mtensor\u001b[0m\u001b[1m(\u001b[0m\u001b[1m[\u001b[0m\u001b[1;36m-0.0418\u001b[0m, \u001b[1;36m-0.0077\u001b[0m,  \u001b[1;36m0.0502\u001b[0m,  \u001b[1;36m0.0050\u001b[0m, \u001b[1;36m-0.0432\u001b[0m, \u001b[1;36m-0.0460\u001b[0m, \u001b[1;36m-0.0427\u001b[0m,  \u001b[1;36m0.0548\u001b[0m,\n",
       "         \u001b[1;36m0.0332\u001b[0m, \u001b[1;36m-0.0585\u001b[0m, \u001b[1;36m-0.0534\u001b[0m, \u001b[1;36m-0.0048\u001b[0m, \u001b[1;36m-0.0414\u001b[0m,  \u001b[1;36m0.0087\u001b[0m,  \u001b[1;36m0.0537\u001b[0m,  \u001b[1;36m0.0396\u001b[0m,\n",
       "        \u001b[1;36m-0.0021\u001b[0m, \u001b[1;36m-0.0038\u001b[0m,  \u001b[1;36m0.0163\u001b[0m,  \u001b[1;36m0.0301\u001b[0m,  \u001b[1;36m0.0263\u001b[0m,  \u001b[1;36m0.0049\u001b[0m, \u001b[1;36m-0.0515\u001b[0m, \u001b[1;36m-0.0016\u001b[0m,\n",
       "        \u001b[1;36m-0.0375\u001b[0m,  \u001b[1;36m0.0418\u001b[0m,  \u001b[1;36m0.0369\u001b[0m, \u001b[1;36m-0.0252\u001b[0m,  \u001b[1;36m0.0450\u001b[0m, \u001b[1;36m-0.0190\u001b[0m,  \u001b[1;36m0.0286\u001b[0m,  \u001b[1;36m0.0082\u001b[0m,\n",
       "         \u001b[1;36m0.0358\u001b[0m, \u001b[1;36m-0.0225\u001b[0m,  \u001b[1;36m0.0167\u001b[0m,  \u001b[1;36m0.0067\u001b[0m, \u001b[1;36m-0.0215\u001b[0m,  \u001b[1;36m0.0424\u001b[0m,  \u001b[1;36m0.0617\u001b[0m,  \u001b[1;36m0.0604\u001b[0m,\n",
       "         \u001b[1;36m0.0414\u001b[0m,  \u001b[1;36m0.0608\u001b[0m,  \u001b[1;36m0.0045\u001b[0m,  \u001b[1;36m0.0381\u001b[0m,  \u001b[1;36m0.0587\u001b[0m, \u001b[1;36m-0.0015\u001b[0m,  \u001b[1;36m0.0062\u001b[0m,  \u001b[1;36m0.0283\u001b[0m,\n",
       "        \u001b[1;36m-0.0162\u001b[0m,  \u001b[1;36m0.0569\u001b[0m, \u001b[1;36m-0.0267\u001b[0m,  \u001b[1;36m0.0548\u001b[0m,  \u001b[1;36m0.0163\u001b[0m,  \u001b[1;36m0.0416\u001b[0m,  \u001b[1;36m0.0576\u001b[0m, \u001b[1;36m-0.0454\u001b[0m,\n",
       "         \u001b[1;36m0.0006\u001b[0m,  \u001b[1;36m0.0219\u001b[0m,  \u001b[1;36m0.0258\u001b[0m, \u001b[1;36m-0.0383\u001b[0m, \u001b[1;36m-0.0404\u001b[0m, \u001b[1;36m-0.0131\u001b[0m,  \u001b[1;36m0.0133\u001b[0m, \u001b[1;36m-0.0206\u001b[0m,\n",
       "         \u001b[1;36m0.0483\u001b[0m, \u001b[1;36m-0.0526\u001b[0m, \u001b[1;36m-0.0540\u001b[0m, \u001b[1;36m-0.0273\u001b[0m, \u001b[1;36m-0.0440\u001b[0m, \u001b[1;36m-0.0239\u001b[0m,  \u001b[1;36m0.0519\u001b[0m, \u001b[1;36m-0.0540\u001b[0m,\n",
       "         \u001b[1;36m0.0534\u001b[0m, \u001b[1;36m-0.0518\u001b[0m, \u001b[1;36m-0.0336\u001b[0m, \u001b[1;36m-0.0023\u001b[0m,  \u001b[1;36m0.0397\u001b[0m, \u001b[1;36m-0.0081\u001b[0m, \u001b[1;36m-0.0170\u001b[0m,  \u001b[1;36m0.0612\u001b[0m,\n",
       "         \u001b[1;36m0.0403\u001b[0m, \u001b[1;36m-0.0602\u001b[0m,  \u001b[1;36m0.0066\u001b[0m, \u001b[1;36m-0.0601\u001b[0m, \u001b[1;36m-0.0537\u001b[0m, \u001b[1;36m-0.0398\u001b[0m, \u001b[1;36m-0.0245\u001b[0m, \u001b[1;36m-0.0520\u001b[0m,\n",
       "         \u001b[1;36m0.0488\u001b[0m,  \u001b[1;36m0.0237\u001b[0m,  \u001b[1;36m0.0165\u001b[0m,  \u001b[1;36m0.0454\u001b[0m, \u001b[1;36m-0.0598\u001b[0m, \u001b[1;36m-0.0154\u001b[0m,  \u001b[1;36m0.0137\u001b[0m,  \u001b[1;36m0.0178\u001b[0m,\n",
       "        \u001b[1;36m-0.0094\u001b[0m,  \u001b[1;36m0.0114\u001b[0m, \u001b[1;36m-0.0572\u001b[0m,  \u001b[1;36m0.0365\u001b[0m, \u001b[1;36m-0.0592\u001b[0m,  \u001b[1;36m0.0552\u001b[0m, \u001b[1;36m-0.0319\u001b[0m,  \u001b[1;36m0.0358\u001b[0m,\n",
       "        \u001b[1;36m-0.0113\u001b[0m, \u001b[1;36m-0.0091\u001b[0m,  \u001b[1;36m0.0187\u001b[0m,  \u001b[1;36m0.0484\u001b[0m,  \u001b[1;36m0.0163\u001b[0m,  \u001b[1;36m0.0277\u001b[0m, \u001b[1;36m-0.0103\u001b[0m,  \u001b[1;36m0.0185\u001b[0m,\n",
       "         \u001b[1;36m0.0039\u001b[0m, \u001b[1;36m-0.0531\u001b[0m,  \u001b[1;36m0.0428\u001b[0m,  \u001b[1;36m0.0218\u001b[0m, \u001b[1;36m-0.0556\u001b[0m, \u001b[1;36m-0.0129\u001b[0m,  \u001b[1;36m0.0433\u001b[0m, \u001b[1;36m-0.0391\u001b[0m,\n",
       "        \u001b[1;36m-0.0458\u001b[0m, \u001b[1;36m-0.0129\u001b[0m,  \u001b[1;36m0.0243\u001b[0m, \u001b[1;36m-0.0349\u001b[0m, \u001b[1;36m-0.0342\u001b[0m,  \u001b[1;36m0.0601\u001b[0m, \u001b[1;36m-0.0218\u001b[0m,  \u001b[1;36m0.0298\u001b[0m\u001b[1m]\u001b[0m,\n",
       "       \u001b[33mrequires_grad\u001b[0m=\u001b[3;92mTrue\u001b[0m\u001b[1m)\u001b[0m,\n",
       "    Parameter containing:\n",
       "\u001b[1;35mtensor\u001b[0m\u001b[1m(\u001b[0m\u001b[1m[\u001b[0m\u001b[1;36m1\u001b[0m., \u001b[1;36m1\u001b[0m., \u001b[1;36m1\u001b[0m., \u001b[1;36m1\u001b[0m., \u001b[1;36m1\u001b[0m., \u001b[1;36m1\u001b[0m., \u001b[1;36m1\u001b[0m., \u001b[1;36m1\u001b[0m., \u001b[1;36m1\u001b[0m., \u001b[1;36m1\u001b[0m., \u001b[1;36m1\u001b[0m., \u001b[1;36m1\u001b[0m., \u001b[1;36m1\u001b[0m., \u001b[1;36m1\u001b[0m., \u001b[1;36m1\u001b[0m., \u001b[1;36m1\u001b[0m., \u001b[1;36m1\u001b[0m., \u001b[1;36m1\u001b[0m.,\n",
       "        \u001b[1;36m1\u001b[0m., \u001b[1;36m1\u001b[0m., \u001b[1;36m1\u001b[0m., \u001b[1;36m1\u001b[0m., \u001b[1;36m1\u001b[0m., \u001b[1;36m1\u001b[0m., \u001b[1;36m1\u001b[0m., \u001b[1;36m1\u001b[0m., \u001b[1;36m1\u001b[0m., \u001b[1;36m1\u001b[0m., \u001b[1;36m1\u001b[0m., \u001b[1;36m1\u001b[0m., \u001b[1;36m1\u001b[0m., \u001b[1;36m1\u001b[0m., \u001b[1;36m1\u001b[0m., \u001b[1;36m1\u001b[0m., \u001b[1;36m1\u001b[0m., \u001b[1;36m1\u001b[0m.,\n",
       "        \u001b[1;36m1\u001b[0m., \u001b[1;36m1\u001b[0m., \u001b[1;36m1\u001b[0m., \u001b[1;36m1\u001b[0m., \u001b[1;36m1\u001b[0m., \u001b[1;36m1\u001b[0m., \u001b[1;36m1\u001b[0m., \u001b[1;36m1\u001b[0m., \u001b[1;36m1\u001b[0m., \u001b[1;36m1\u001b[0m., \u001b[1;36m1\u001b[0m., \u001b[1;36m1\u001b[0m., \u001b[1;36m1\u001b[0m., \u001b[1;36m1\u001b[0m., \u001b[1;36m1\u001b[0m., \u001b[1;36m1\u001b[0m., \u001b[1;36m1\u001b[0m., \u001b[1;36m1\u001b[0m.,\n",
       "        \u001b[1;36m1\u001b[0m., \u001b[1;36m1\u001b[0m., \u001b[1;36m1\u001b[0m., \u001b[1;36m1\u001b[0m., \u001b[1;36m1\u001b[0m., \u001b[1;36m1\u001b[0m., \u001b[1;36m1\u001b[0m., \u001b[1;36m1\u001b[0m., \u001b[1;36m1\u001b[0m., \u001b[1;36m1\u001b[0m., \u001b[1;36m1\u001b[0m., \u001b[1;36m1\u001b[0m., \u001b[1;36m1\u001b[0m., \u001b[1;36m1\u001b[0m., \u001b[1;36m1\u001b[0m., \u001b[1;36m1\u001b[0m., \u001b[1;36m1\u001b[0m., \u001b[1;36m1\u001b[0m.,\n",
       "        \u001b[1;36m1\u001b[0m., \u001b[1;36m1\u001b[0m., \u001b[1;36m1\u001b[0m., \u001b[1;36m1\u001b[0m., \u001b[1;36m1\u001b[0m., \u001b[1;36m1\u001b[0m., \u001b[1;36m1\u001b[0m., \u001b[1;36m1\u001b[0m., \u001b[1;36m1\u001b[0m., \u001b[1;36m1\u001b[0m., \u001b[1;36m1\u001b[0m., \u001b[1;36m1\u001b[0m., \u001b[1;36m1\u001b[0m., \u001b[1;36m1\u001b[0m., \u001b[1;36m1\u001b[0m., \u001b[1;36m1\u001b[0m., \u001b[1;36m1\u001b[0m., \u001b[1;36m1\u001b[0m.,\n",
       "        \u001b[1;36m1\u001b[0m., \u001b[1;36m1\u001b[0m., \u001b[1;36m1\u001b[0m., \u001b[1;36m1\u001b[0m., \u001b[1;36m1\u001b[0m., \u001b[1;36m1\u001b[0m., \u001b[1;36m1\u001b[0m., \u001b[1;36m1\u001b[0m., \u001b[1;36m1\u001b[0m., \u001b[1;36m1\u001b[0m., \u001b[1;36m1\u001b[0m., \u001b[1;36m1\u001b[0m., \u001b[1;36m1\u001b[0m., \u001b[1;36m1\u001b[0m., \u001b[1;36m1\u001b[0m., \u001b[1;36m1\u001b[0m., \u001b[1;36m1\u001b[0m., \u001b[1;36m1\u001b[0m.,\n",
       "        \u001b[1;36m1\u001b[0m., \u001b[1;36m1\u001b[0m., \u001b[1;36m1\u001b[0m., \u001b[1;36m1\u001b[0m., \u001b[1;36m1\u001b[0m., \u001b[1;36m1\u001b[0m., \u001b[1;36m1\u001b[0m., \u001b[1;36m1\u001b[0m., \u001b[1;36m1\u001b[0m., \u001b[1;36m1\u001b[0m., \u001b[1;36m1\u001b[0m., \u001b[1;36m1\u001b[0m., \u001b[1;36m1\u001b[0m., \u001b[1;36m1\u001b[0m., \u001b[1;36m1\u001b[0m., \u001b[1;36m1\u001b[0m., \u001b[1;36m1\u001b[0m., \u001b[1;36m1\u001b[0m.,\n",
       "        \u001b[1;36m1\u001b[0m., \u001b[1;36m1\u001b[0m.\u001b[1m]\u001b[0m, \u001b[33mrequires_grad\u001b[0m=\u001b[3;92mTrue\u001b[0m\u001b[1m)\u001b[0m,\n",
       "    Parameter containing:\n",
       "\u001b[1;35mtensor\u001b[0m\u001b[1m(\u001b[0m\u001b[1m[\u001b[0m\u001b[1;36m0\u001b[0m., \u001b[1;36m0\u001b[0m., \u001b[1;36m0\u001b[0m., \u001b[1;36m0\u001b[0m., \u001b[1;36m0\u001b[0m., \u001b[1;36m0\u001b[0m., \u001b[1;36m0\u001b[0m., \u001b[1;36m0\u001b[0m., \u001b[1;36m0\u001b[0m., \u001b[1;36m0\u001b[0m., \u001b[1;36m0\u001b[0m., \u001b[1;36m0\u001b[0m., \u001b[1;36m0\u001b[0m., \u001b[1;36m0\u001b[0m., \u001b[1;36m0\u001b[0m., \u001b[1;36m0\u001b[0m., \u001b[1;36m0\u001b[0m., \u001b[1;36m0\u001b[0m., \u001b[1;36m0\u001b[0m., \u001b[1;36m0\u001b[0m., \u001b[1;36m0\u001b[0m., \u001b[1;36m0\u001b[0m., \u001b[1;36m0\u001b[0m., \u001b[1;36m0\u001b[0m.,\n",
       "        \u001b[1;36m0\u001b[0m., \u001b[1;36m0\u001b[0m., \u001b[1;36m0\u001b[0m., \u001b[1;36m0\u001b[0m., \u001b[1;36m0\u001b[0m., \u001b[1;36m0\u001b[0m., \u001b[1;36m0\u001b[0m., \u001b[1;36m0\u001b[0m., \u001b[1;36m0\u001b[0m., \u001b[1;36m0\u001b[0m., \u001b[1;36m0\u001b[0m., \u001b[1;36m0\u001b[0m., \u001b[1;36m0\u001b[0m., \u001b[1;36m0\u001b[0m., \u001b[1;36m0\u001b[0m., \u001b[1;36m0\u001b[0m., \u001b[1;36m0\u001b[0m., \u001b[1;36m0\u001b[0m., \u001b[1;36m0\u001b[0m., \u001b[1;36m0\u001b[0m., \u001b[1;36m0\u001b[0m., \u001b[1;36m0\u001b[0m., \u001b[1;36m0\u001b[0m., \u001b[1;36m0\u001b[0m.,\n",
       "        \u001b[1;36m0\u001b[0m., \u001b[1;36m0\u001b[0m., \u001b[1;36m0\u001b[0m., \u001b[1;36m0\u001b[0m., \u001b[1;36m0\u001b[0m., \u001b[1;36m0\u001b[0m., \u001b[1;36m0\u001b[0m., \u001b[1;36m0\u001b[0m., \u001b[1;36m0\u001b[0m., \u001b[1;36m0\u001b[0m., \u001b[1;36m0\u001b[0m., \u001b[1;36m0\u001b[0m., \u001b[1;36m0\u001b[0m., \u001b[1;36m0\u001b[0m., \u001b[1;36m0\u001b[0m., \u001b[1;36m0\u001b[0m., \u001b[1;36m0\u001b[0m., \u001b[1;36m0\u001b[0m., \u001b[1;36m0\u001b[0m., \u001b[1;36m0\u001b[0m., \u001b[1;36m0\u001b[0m., \u001b[1;36m0\u001b[0m., \u001b[1;36m0\u001b[0m., \u001b[1;36m0\u001b[0m.,\n",
       "        \u001b[1;36m0\u001b[0m., \u001b[1;36m0\u001b[0m., \u001b[1;36m0\u001b[0m., \u001b[1;36m0\u001b[0m., \u001b[1;36m0\u001b[0m., \u001b[1;36m0\u001b[0m., \u001b[1;36m0\u001b[0m., \u001b[1;36m0\u001b[0m., \u001b[1;36m0\u001b[0m., \u001b[1;36m0\u001b[0m., \u001b[1;36m0\u001b[0m., \u001b[1;36m0\u001b[0m., \u001b[1;36m0\u001b[0m., \u001b[1;36m0\u001b[0m., \u001b[1;36m0\u001b[0m., \u001b[1;36m0\u001b[0m., \u001b[1;36m0\u001b[0m., \u001b[1;36m0\u001b[0m., \u001b[1;36m0\u001b[0m., \u001b[1;36m0\u001b[0m., \u001b[1;36m0\u001b[0m., \u001b[1;36m0\u001b[0m., \u001b[1;36m0\u001b[0m., \u001b[1;36m0\u001b[0m.,\n",
       "        \u001b[1;36m0\u001b[0m., \u001b[1;36m0\u001b[0m., \u001b[1;36m0\u001b[0m., \u001b[1;36m0\u001b[0m., \u001b[1;36m0\u001b[0m., \u001b[1;36m0\u001b[0m., \u001b[1;36m0\u001b[0m., \u001b[1;36m0\u001b[0m., \u001b[1;36m0\u001b[0m., \u001b[1;36m0\u001b[0m., \u001b[1;36m0\u001b[0m., \u001b[1;36m0\u001b[0m., \u001b[1;36m0\u001b[0m., \u001b[1;36m0\u001b[0m., \u001b[1;36m0\u001b[0m., \u001b[1;36m0\u001b[0m., \u001b[1;36m0\u001b[0m., \u001b[1;36m0\u001b[0m., \u001b[1;36m0\u001b[0m., \u001b[1;36m0\u001b[0m., \u001b[1;36m0\u001b[0m., \u001b[1;36m0\u001b[0m., \u001b[1;36m0\u001b[0m., \u001b[1;36m0\u001b[0m.,\n",
       "        \u001b[1;36m0\u001b[0m., \u001b[1;36m0\u001b[0m., \u001b[1;36m0\u001b[0m., \u001b[1;36m0\u001b[0m., \u001b[1;36m0\u001b[0m., \u001b[1;36m0\u001b[0m., \u001b[1;36m0\u001b[0m., \u001b[1;36m0\u001b[0m.\u001b[1m]\u001b[0m, \u001b[33mrequires_grad\u001b[0m=\u001b[3;92mTrue\u001b[0m\u001b[1m)\u001b[0m,\n",
       "    Parameter containing:\n",
       "\u001b[1;35mtensor\u001b[0m\u001b[1m(\u001b[0m\u001b[1m[\u001b[0m\u001b[1m[\u001b[0m\u001b[1;36m-0.0338\u001b[0m, \u001b[1;36m-0.0129\u001b[0m, \u001b[1;36m-0.0441\u001b[0m,  \u001b[33m...\u001b[0m,  \u001b[1;36m0.0625\u001b[0m,  \u001b[1;36m0.0201\u001b[0m, \u001b[1;36m-0.0423\u001b[0m\u001b[1m]\u001b[0m,\n",
       "        \u001b[1m[\u001b[0m \u001b[1;36m0.0037\u001b[0m,  \u001b[1;36m0.0130\u001b[0m, \u001b[1;36m-0.0581\u001b[0m,  \u001b[33m...\u001b[0m, \u001b[1;36m-0.0415\u001b[0m, \u001b[1;36m-0.0473\u001b[0m,  \u001b[1;36m0.0406\u001b[0m\u001b[1m]\u001b[0m,\n",
       "        \u001b[1m[\u001b[0m\u001b[1;36m-0.0641\u001b[0m, \u001b[1;36m-0.0327\u001b[0m, \u001b[1;36m-0.0839\u001b[0m,  \u001b[33m...\u001b[0m,  \u001b[1;36m0.0795\u001b[0m,  \u001b[1;36m0.0508\u001b[0m, \u001b[1;36m-0.0529\u001b[0m\u001b[1m]\u001b[0m,\n",
       "        \u001b[33m...\u001b[0m,\n",
       "        \u001b[1m[\u001b[0m\u001b[1;36m-0.0878\u001b[0m,  \u001b[1;36m0.0162\u001b[0m, \u001b[1;36m-0.0383\u001b[0m,  \u001b[33m...\u001b[0m,  \u001b[1;36m0.0017\u001b[0m, \u001b[1;36m-0.0268\u001b[0m,  \u001b[1;36m0.0132\u001b[0m\u001b[1m]\u001b[0m,\n",
       "        \u001b[1m[\u001b[0m \u001b[1;36m0.0228\u001b[0m,  \u001b[1;36m0.0715\u001b[0m,  \u001b[1;36m0.0451\u001b[0m,  \u001b[33m...\u001b[0m,  \u001b[1;36m0.0249\u001b[0m,  \u001b[1;36m0.0618\u001b[0m,  \u001b[1;36m0.0582\u001b[0m\u001b[1m]\u001b[0m,\n",
       "        \u001b[1m[\u001b[0m \u001b[1;36m0.0117\u001b[0m,  \u001b[1;36m0.0176\u001b[0m,  \u001b[1;36m0.0880\u001b[0m,  \u001b[33m...\u001b[0m, \u001b[1;36m-0.0440\u001b[0m,  \u001b[1;36m0.0382\u001b[0m,  \u001b[1;36m0.0786\u001b[0m\u001b[1m]\u001b[0m\u001b[1m]\u001b[0m,\n",
       "       \u001b[33mrequires_grad\u001b[0m=\u001b[3;92mTrue\u001b[0m\u001b[1m)\u001b[0m,\n",
       "    Parameter containing:\n",
       "\u001b[1;35mtensor\u001b[0m\u001b[1m(\u001b[0m\u001b[1m[\u001b[0m \u001b[1;36m0.0732\u001b[0m,  \u001b[1;36m0.0304\u001b[0m,  \u001b[1;36m0.0537\u001b[0m,  \u001b[1;36m0.0676\u001b[0m,  \u001b[1;36m0.0422\u001b[0m,  \u001b[1;36m0.0149\u001b[0m,  \u001b[1;36m0.0149\u001b[0m, \u001b[1;36m-0.0666\u001b[0m,\n",
       "         \u001b[1;36m0.0616\u001b[0m, \u001b[1;36m-0.0632\u001b[0m, \u001b[1;36m-0.0379\u001b[0m, \u001b[1;36m-0.0650\u001b[0m, \u001b[1;36m-0.0674\u001b[0m, \u001b[1;36m-0.0693\u001b[0m, \u001b[1;36m-0.0843\u001b[0m,  \u001b[1;36m0.0215\u001b[0m,\n",
       "         \u001b[1;36m0.0699\u001b[0m, \u001b[1;36m-0.0480\u001b[0m, \u001b[1;36m-0.0464\u001b[0m,  \u001b[1;36m0.0342\u001b[0m,  \u001b[1;36m0.0414\u001b[0m, \u001b[1;36m-0.0009\u001b[0m, \u001b[1;36m-0.0149\u001b[0m, \u001b[1;36m-0.0123\u001b[0m,\n",
       "        \u001b[1;36m-0.0689\u001b[0m,  \u001b[1;36m0.0398\u001b[0m, \u001b[1;36m-0.0181\u001b[0m,  \u001b[1;36m0.0753\u001b[0m,  \u001b[1;36m0.0267\u001b[0m, \u001b[1;36m-0.0297\u001b[0m, \u001b[1;36m-0.0526\u001b[0m, \u001b[1;36m-0.0435\u001b[0m,\n",
       "        \u001b[1;36m-0.0600\u001b[0m,  \u001b[1;36m0.0093\u001b[0m, \u001b[1;36m-0.0848\u001b[0m, \u001b[1;36m-0.0791\u001b[0m,  \u001b[1;36m0.0460\u001b[0m,  \u001b[1;36m0.0150\u001b[0m,  \u001b[1;36m0.0784\u001b[0m,  \u001b[1;36m0.0034\u001b[0m,\n",
       "        \u001b[1;36m-0.0324\u001b[0m,  \u001b[1;36m0.0632\u001b[0m,  \u001b[1;36m0.0460\u001b[0m, \u001b[1;36m-0.0524\u001b[0m, \u001b[1;36m-0.0363\u001b[0m,  \u001b[1;36m0.0745\u001b[0m,  \u001b[1;36m0.0005\u001b[0m,  \u001b[1;36m0.0273\u001b[0m,\n",
       "         \u001b[1;36m0.0149\u001b[0m, \u001b[1;36m-0.0683\u001b[0m,  \u001b[1;36m0.0192\u001b[0m,  \u001b[1;36m0.0451\u001b[0m,  \u001b[1;36m0.0246\u001b[0m,  \u001b[1;36m0.0196\u001b[0m,  \u001b[1;36m0.0275\u001b[0m,  \u001b[1;36m0.0625\u001b[0m,\n",
       "         \u001b[1;36m0.0664\u001b[0m,  \u001b[1;36m0.0353\u001b[0m, \u001b[1;36m-0.0184\u001b[0m, \u001b[1;36m-0.0182\u001b[0m, \u001b[1;36m-0.0427\u001b[0m,  \u001b[1;36m0.0320\u001b[0m,  \u001b[1;36m0.0115\u001b[0m, \u001b[1;36m-0.0122\u001b[0m\u001b[1m]\u001b[0m,\n",
       "       \u001b[33mrequires_grad\u001b[0m=\u001b[3;92mTrue\u001b[0m\u001b[1m)\u001b[0m,\n",
       "    Parameter containing:\n",
       "\u001b[1;35mtensor\u001b[0m\u001b[1m(\u001b[0m\u001b[1m[\u001b[0m\u001b[1;36m1\u001b[0m., \u001b[1;36m1\u001b[0m., \u001b[1;36m1\u001b[0m., \u001b[1;36m1\u001b[0m., \u001b[1;36m1\u001b[0m., \u001b[1;36m1\u001b[0m., \u001b[1;36m1\u001b[0m., \u001b[1;36m1\u001b[0m., \u001b[1;36m1\u001b[0m., \u001b[1;36m1\u001b[0m., \u001b[1;36m1\u001b[0m., \u001b[1;36m1\u001b[0m., \u001b[1;36m1\u001b[0m., \u001b[1;36m1\u001b[0m., \u001b[1;36m1\u001b[0m., \u001b[1;36m1\u001b[0m., \u001b[1;36m1\u001b[0m., \u001b[1;36m1\u001b[0m.,\n",
       "        \u001b[1;36m1\u001b[0m., \u001b[1;36m1\u001b[0m., \u001b[1;36m1\u001b[0m., \u001b[1;36m1\u001b[0m., \u001b[1;36m1\u001b[0m., \u001b[1;36m1\u001b[0m., \u001b[1;36m1\u001b[0m., \u001b[1;36m1\u001b[0m., \u001b[1;36m1\u001b[0m., \u001b[1;36m1\u001b[0m., \u001b[1;36m1\u001b[0m., \u001b[1;36m1\u001b[0m., \u001b[1;36m1\u001b[0m., \u001b[1;36m1\u001b[0m., \u001b[1;36m1\u001b[0m., \u001b[1;36m1\u001b[0m., \u001b[1;36m1\u001b[0m., \u001b[1;36m1\u001b[0m.,\n",
       "        \u001b[1;36m1\u001b[0m., \u001b[1;36m1\u001b[0m., \u001b[1;36m1\u001b[0m., \u001b[1;36m1\u001b[0m., \u001b[1;36m1\u001b[0m., \u001b[1;36m1\u001b[0m., \u001b[1;36m1\u001b[0m., \u001b[1;36m1\u001b[0m., \u001b[1;36m1\u001b[0m., \u001b[1;36m1\u001b[0m., \u001b[1;36m1\u001b[0m., \u001b[1;36m1\u001b[0m., \u001b[1;36m1\u001b[0m., \u001b[1;36m1\u001b[0m., \u001b[1;36m1\u001b[0m., \u001b[1;36m1\u001b[0m., \u001b[1;36m1\u001b[0m., \u001b[1;36m1\u001b[0m.,\n",
       "        \u001b[1;36m1\u001b[0m., \u001b[1;36m1\u001b[0m., \u001b[1;36m1\u001b[0m., \u001b[1;36m1\u001b[0m., \u001b[1;36m1\u001b[0m., \u001b[1;36m1\u001b[0m., \u001b[1;36m1\u001b[0m., \u001b[1;36m1\u001b[0m., \u001b[1;36m1\u001b[0m., \u001b[1;36m1\u001b[0m.\u001b[1m]\u001b[0m, \u001b[33mrequires_grad\u001b[0m=\u001b[3;92mTrue\u001b[0m\u001b[1m)\u001b[0m,\n",
       "    Parameter containing:\n",
       "\u001b[1;35mtensor\u001b[0m\u001b[1m(\u001b[0m\u001b[1m[\u001b[0m\u001b[1;36m0\u001b[0m., \u001b[1;36m0\u001b[0m., \u001b[1;36m0\u001b[0m., \u001b[1;36m0\u001b[0m., \u001b[1;36m0\u001b[0m., \u001b[1;36m0\u001b[0m., \u001b[1;36m0\u001b[0m., \u001b[1;36m0\u001b[0m., \u001b[1;36m0\u001b[0m., \u001b[1;36m0\u001b[0m., \u001b[1;36m0\u001b[0m., \u001b[1;36m0\u001b[0m., \u001b[1;36m0\u001b[0m., \u001b[1;36m0\u001b[0m., \u001b[1;36m0\u001b[0m., \u001b[1;36m0\u001b[0m., \u001b[1;36m0\u001b[0m., \u001b[1;36m0\u001b[0m., \u001b[1;36m0\u001b[0m., \u001b[1;36m0\u001b[0m., \u001b[1;36m0\u001b[0m., \u001b[1;36m0\u001b[0m., \u001b[1;36m0\u001b[0m., \u001b[1;36m0\u001b[0m.,\n",
       "        \u001b[1;36m0\u001b[0m., \u001b[1;36m0\u001b[0m., \u001b[1;36m0\u001b[0m., \u001b[1;36m0\u001b[0m., \u001b[1;36m0\u001b[0m., \u001b[1;36m0\u001b[0m., \u001b[1;36m0\u001b[0m., \u001b[1;36m0\u001b[0m., \u001b[1;36m0\u001b[0m., \u001b[1;36m0\u001b[0m., \u001b[1;36m0\u001b[0m., \u001b[1;36m0\u001b[0m., \u001b[1;36m0\u001b[0m., \u001b[1;36m0\u001b[0m., \u001b[1;36m0\u001b[0m., \u001b[1;36m0\u001b[0m., \u001b[1;36m0\u001b[0m., \u001b[1;36m0\u001b[0m., \u001b[1;36m0\u001b[0m., \u001b[1;36m0\u001b[0m., \u001b[1;36m0\u001b[0m., \u001b[1;36m0\u001b[0m., \u001b[1;36m0\u001b[0m., \u001b[1;36m0\u001b[0m.,\n",
       "        \u001b[1;36m0\u001b[0m., \u001b[1;36m0\u001b[0m., \u001b[1;36m0\u001b[0m., \u001b[1;36m0\u001b[0m., \u001b[1;36m0\u001b[0m., \u001b[1;36m0\u001b[0m., \u001b[1;36m0\u001b[0m., \u001b[1;36m0\u001b[0m., \u001b[1;36m0\u001b[0m., \u001b[1;36m0\u001b[0m., \u001b[1;36m0\u001b[0m., \u001b[1;36m0\u001b[0m., \u001b[1;36m0\u001b[0m., \u001b[1;36m0\u001b[0m., \u001b[1;36m0\u001b[0m., \u001b[1;36m0\u001b[0m.\u001b[1m]\u001b[0m,\n",
       "       \u001b[33mrequires_grad\u001b[0m=\u001b[3;92mTrue\u001b[0m\u001b[1m)\u001b[0m,\n",
       "    Parameter containing:\n",
       "\u001b[1;35mtensor\u001b[0m\u001b[1m(\u001b[0m\u001b[1m[\u001b[0m\u001b[1m[\u001b[0m\u001b[1;36m-0.0439\u001b[0m,  \u001b[1;36m0.0799\u001b[0m, \u001b[1;36m-0.0723\u001b[0m, \u001b[1;36m-0.0716\u001b[0m, \u001b[1;36m-0.0059\u001b[0m, \u001b[1;36m-0.0672\u001b[0m, \u001b[1;36m-0.0819\u001b[0m, \u001b[1;36m-0.0303\u001b[0m,\n",
       "         \u001b[1;36m-0.0373\u001b[0m, \u001b[1;36m-0.0297\u001b[0m,  \u001b[1;36m0.0701\u001b[0m,  \u001b[1;36m0.1021\u001b[0m, \u001b[1;36m-0.1245\u001b[0m,  \u001b[1;36m0.0998\u001b[0m,  \u001b[1;36m0.0266\u001b[0m,  \u001b[1;36m0.1045\u001b[0m,\n",
       "         \u001b[1;36m-0.0781\u001b[0m,  \u001b[1;36m0.0697\u001b[0m,  \u001b[1;36m0.0460\u001b[0m,  \u001b[1;36m0.0902\u001b[0m, \u001b[1;36m-0.1045\u001b[0m, \u001b[1;36m-0.0047\u001b[0m, \u001b[1;36m-0.0801\u001b[0m, \u001b[1;36m-0.0414\u001b[0m,\n",
       "         \u001b[1;36m-0.1150\u001b[0m,  \u001b[1;36m0.0132\u001b[0m, \u001b[1;36m-0.0365\u001b[0m,  \u001b[1;36m0.0827\u001b[0m,  \u001b[1;36m0.0652\u001b[0m, \u001b[1;36m-0.0618\u001b[0m,  \u001b[1;36m0.0615\u001b[0m,  \u001b[1;36m0.0147\u001b[0m,\n",
       "          \u001b[1;36m0.0339\u001b[0m, \u001b[1;36m-0.0977\u001b[0m, \u001b[1;36m-0.1011\u001b[0m,  \u001b[1;36m0.0953\u001b[0m,  \u001b[1;36m0.1135\u001b[0m, \u001b[1;36m-0.0640\u001b[0m, \u001b[1;36m-0.0481\u001b[0m,  \u001b[1;36m0.0085\u001b[0m,\n",
       "          \u001b[1;36m0.0299\u001b[0m, \u001b[1;36m-0.1189\u001b[0m,  \u001b[1;36m0.1245\u001b[0m, \u001b[1;36m-0.0221\u001b[0m,  \u001b[1;36m0.0782\u001b[0m,  \u001b[1;36m0.0943\u001b[0m,  \u001b[1;36m0.0830\u001b[0m, \u001b[1;36m-0.0922\u001b[0m,\n",
       "          \u001b[1;36m0.0688\u001b[0m, \u001b[1;36m-0.1043\u001b[0m, \u001b[1;36m-0.0929\u001b[0m, \u001b[1;36m-0.1136\u001b[0m, \u001b[1;36m-0.0441\u001b[0m, \u001b[1;36m-0.0197\u001b[0m,  \u001b[1;36m0.1191\u001b[0m, \u001b[1;36m-0.0712\u001b[0m,\n",
       "          \u001b[1;36m0.0629\u001b[0m, \u001b[1;36m-0.0969\u001b[0m, \u001b[1;36m-0.1084\u001b[0m,  \u001b[1;36m0.0037\u001b[0m,  \u001b[1;36m0.0757\u001b[0m, \u001b[1;36m-0.1177\u001b[0m,  \u001b[1;36m0.0317\u001b[0m, \u001b[1;36m-0.0092\u001b[0m\u001b[1m]\u001b[0m\u001b[1m]\u001b[0m,\n",
       "       \u001b[33mrequires_grad\u001b[0m=\u001b[3;92mTrue\u001b[0m\u001b[1m)\u001b[0m,\n",
       "    Parameter containing:\n",
       "\u001b[1;35mtensor\u001b[0m\u001b[1m(\u001b[0m\u001b[1m[\u001b[0m\u001b[1;36m-0.0329\u001b[0m\u001b[1m]\u001b[0m, \u001b[33mrequires_grad\u001b[0m=\u001b[3;92mTrue\u001b[0m\u001b[1m)\u001b[0m\n",
       "\u001b[1m]\u001b[0m"
      ]
     },
     "execution_count": 14,
     "metadata": {},
     "output_type": "execute_result"
    }
   ],
   "source": [
    "mlp_conf = {\n",
    "    'hdims': [256, 128, 64],\n",
    "    \"embedding_params\": {\n",
    "        \"ent_embed_dim\": 64,\n",
    "        \"filing_embed_dim\": 64,\n",
    "        \"country_emebd_dim\": 12,\n",
    "    }\n",
    "}\n",
    "\n",
    "tg.seed_everything(123)\n",
    "\n",
    "mlp = fmu.build_mlp(\n",
    "    dim_ents=entity_encoder.classes_.shape[0],\n",
    "    dim_countries=country_encoder.classes_.shape[0],\n",
    "    dim_filings=filing_encoder.classes_.shape[0],\n",
    "    mlp_params=mlp_conf\n",
    ")\n",
    "\n",
    "list(mlp.h_layers.parameters())"
   ]
  },
  {
   "cell_type": "markdown",
   "metadata": {},
   "source": [
    "### Inspect model"
   ]
  },
  {
   "cell_type": "code",
   "execution_count": 15,
   "metadata": {},
   "outputs": [
    {
     "name": "stdout",
     "output_type": "stream",
     "text": [
      "+-------------------------------------+---------------+----------------+----------+\n",
      "| Layer                               | Input Shape   | Output Shape   | #Param   |\n",
      "|-------------------------------------+---------------+----------------+----------|\n",
      "| MlpModel                            | [7330, 7330]  | [811, 1]       | 544,137  |\n",
      "| ├─(embed_model)FinCENPreprocModel   |               |                | 465,648  |\n",
      "| │    └─(embedding_layers)ModuleDict | --            | --             | 465,648  |\n",
      "| │    │    └─(entity)Embedding       | [2823]        | [2823, 64]     | 175,552  |\n",
      "| │    │    └─(filing)Embedding       | [4507]        | [4507, 64]     | 288,512  |\n",
      "| │    │    └─(country)Embedding      | [2823]        | [2823, 12]     | 1,584    |\n",
      "| ├─(h_layers)Sequential              | [811, 140]    | [811, 1]       | 78,489   |\n",
      "| │    └─(0)BatchNorm1d               | [811, 140]    | [811, 140]     | 280      |\n",
      "| │    └─(1)Linear                    | [811, 140]    | [811, 256]     | 36,096   |\n",
      "| │    └─(2)LeakyReLU                 | [811, 256]    | [811, 256]     | --       |\n",
      "| │    └─(3)BatchNorm1d               | [811, 256]    | [811, 256]     | 512      |\n",
      "| │    └─(4)Linear                    | [811, 256]    | [811, 128]     | 32,896   |\n",
      "| │    └─(5)LeakyReLU                 | [811, 128]    | [811, 128]     | --       |\n",
      "| │    └─(6)BatchNorm1d               | [811, 128]    | [811, 128]     | 256      |\n",
      "| │    └─(7)Linear                    | [811, 128]    | [811, 64]      | 8,256    |\n",
      "| │    └─(8)LeakyReLU                 | [811, 64]     | [811, 64]      | --       |\n",
      "| │    └─(9)BatchNorm1d               | [811, 64]     | [811, 64]      | 128      |\n",
      "| │    └─(10)Linear                   | [811, 64]     | [811, 1]       | 65       |\n",
      "+-------------------------------------+---------------+----------------+----------+\n"
     ]
    }
   ],
   "source": [
    "print(tgnn.summary(mlp, train_g))"
   ]
  },
  {
   "cell_type": "markdown",
   "metadata": {},
   "source": [
    "### Test model on simple output"
   ]
  },
  {
   "cell_type": "code",
   "execution_count": 16,
   "metadata": {
    "ExecuteTime": {
     "end_time": "2023-10-23T12:20:10.769830200Z",
     "start_time": "2023-10-23T12:20:10.664349400Z"
    },
    "collapsed": false
   },
   "outputs": [
    {
     "data": {
      "text/html": [
       "<pre style=\"white-space:pre;overflow-x:auto;line-height:normal;font-family:Menlo,'DejaVu Sans Mono',consolas,'Courier New',monospace\"></pre>\n"
      ],
      "text/plain": []
     },
     "metadata": {},
     "output_type": "display_data"
    },
    {
     "data": {
      "text/plain": [
       "\u001b[1;35mtorch.Size\u001b[0m\u001b[1m(\u001b[0m\u001b[1m[\u001b[0m\u001b[1;36m811\u001b[0m, \u001b[1;36m1\u001b[0m\u001b[1m]\u001b[0m\u001b[1m)\u001b[0m"
      ]
     },
     "execution_count": 16,
     "metadata": {},
     "output_type": "execute_result"
    }
   ],
   "source": [
    "with th.no_grad():\n",
    "    out2 = mlp(train_g)\n",
    "out2.shape"
   ]
  },
  {
   "cell_type": "markdown",
   "metadata": {
    "collapsed": false
   },
   "source": [
    "## HexGIN building"
   ]
  },
  {
   "cell_type": "markdown",
   "metadata": {},
   "source": [
    "### Build model from config"
   ]
  },
  {
   "cell_type": "code",
   "execution_count": 17,
   "metadata": {},
   "outputs": [
    {
     "data": {
      "text/html": [
       "<pre style=\"white-space:pre;overflow-x:auto;line-height:normal;font-family:Menlo,'DejaVu Sans Mono',consolas,'Courier New',monospace\"><span style=\"color: #7fbfbf; text-decoration-color: #7fbfbf\">[07/09/24 12:34:36] </span><span style=\"color: #000080; text-decoration-color: #000080\">INFO    </span> Loading data from <span style=\"color: #ff8700; text-decoration-color: #ff8700\">params:model_params.HexGIN_params</span>                <a href=\"file:///home/filip/miniconda3/envs/hexgin/lib/python3.11/site-packages/kedro/io/data_catalog.py\" target=\"_blank\"><span style=\"color: #7f7f7f; text-decoration-color: #7f7f7f\">data_catalog.py</span></a><span style=\"color: #7f7f7f; text-decoration-color: #7f7f7f\">:</span><a href=\"file:///home/filip/miniconda3/envs/hexgin/lib/python3.11/site-packages/kedro/io/data_catalog.py#508\" target=\"_blank\"><span style=\"color: #7f7f7f; text-decoration-color: #7f7f7f\">508</span></a>\n",
       "<span style=\"color: #7fbfbf; text-decoration-color: #7fbfbf\">                    </span>         <span style=\"font-weight: bold\">(</span>MemoryDataset<span style=\"font-weight: bold\">)</span><span style=\"color: #808000; text-decoration-color: #808000\">...</span>                                                 <span style=\"color: #7f7f7f; text-decoration-color: #7f7f7f\">                   </span>\n",
       "</pre>\n"
      ],
      "text/plain": [
       "\u001b[2;36m[07/09/24 12:34:36]\u001b[0m\u001b[2;36m \u001b[0m\u001b[34mINFO    \u001b[0m Loading data from \u001b[38;5;208mparams:model_params.HexGIN_params\u001b[0m                \u001b]8;id=427023;file:///home/filip/miniconda3/envs/hexgin/lib/python3.11/site-packages/kedro/io/data_catalog.py\u001b\\\u001b[2mdata_catalog.py\u001b[0m\u001b]8;;\u001b\\\u001b[2m:\u001b[0m\u001b]8;id=279501;file:///home/filip/miniconda3/envs/hexgin/lib/python3.11/site-packages/kedro/io/data_catalog.py#508\u001b\\\u001b[2m508\u001b[0m\u001b]8;;\u001b\\\n",
       "\u001b[2;36m                    \u001b[0m         \u001b[1m(\u001b[0mMemoryDataset\u001b[1m)\u001b[0m\u001b[33m...\u001b[0m                                                 \u001b[2m                   \u001b[0m\n"
      ]
     },
     "metadata": {},
     "output_type": "display_data"
    },
    {
     "data": {
      "text/html": [
       "<pre style=\"white-space:pre;overflow-x:auto;line-height:normal;font-family:Menlo,'DejaVu Sans Mono',consolas,'Courier New',monospace\"></pre>\n"
      ],
      "text/plain": []
     },
     "metadata": {},
     "output_type": "display_data"
    },
    {
     "data": {
      "text/plain": [
       "\n",
       "\u001b[1m{\u001b[0m\n",
       "    \u001b[32m'embedding_params'\u001b[0m: \u001b[1m{\u001b[0m\u001b[32m'ent_embed_dim'\u001b[0m: \u001b[1;36m64\u001b[0m, \u001b[32m'filing_embed_dim'\u001b[0m: \u001b[1;36m64\u001b[0m, \u001b[32m'country_emebd_dim'\u001b[0m: \u001b[1;36m12\u001b[0m\u001b[1m}\u001b[0m,\n",
       "    \u001b[32m'linkpred_act_f'\u001b[0m: \u001b[32m'leakyReLu'\u001b[0m,\n",
       "    \u001b[32m'linkpred_dims'\u001b[0m: \u001b[1m[\u001b[0m\u001b[1;36m64\u001b[0m, \u001b[1;36m32\u001b[0m, \u001b[1;36m1\u001b[0m\u001b[1m]\u001b[0m,\n",
       "    \u001b[32m'conv_params'\u001b[0m: \u001b[1m[\u001b[0m\n",
       "        \u001b[1m{\u001b[0m\n",
       "            \u001b[32m'activation'\u001b[0m: \u001b[32m'leakyReLu'\u001b[0m,\n",
       "            \u001b[32m'aggregation'\u001b[0m: \u001b[32m'multi'\u001b[0m,\n",
       "            \u001b[32m'batch_norm'\u001b[0m: \u001b[3;92mTrue\u001b[0m,\n",
       "            \u001b[32m'aggregation_params'\u001b[0m: \u001b[1m{\u001b[0m\u001b[32m'aggrs'\u001b[0m: \u001b[1m[\u001b[0m\u001b[32m'add'\u001b[0m, \u001b[32m'mean'\u001b[0m\u001b[1m]\u001b[0m, \u001b[32m'mode'\u001b[0m: \u001b[32m'cat'\u001b[0m\u001b[1m}\u001b[0m,\n",
       "            \u001b[32m'relations'\u001b[0m: \u001b[1m{\u001b[0m\n",
       "                \u001b[32m'entity__sends__filing'\u001b[0m: \u001b[1m[\u001b[0m\u001b[1m[\u001b[0m\u001b[1;36m216\u001b[0m, \u001b[1;36m128\u001b[0m\u001b[1m]\u001b[0m, \u001b[1m[\u001b[0m\u001b[1;36m128\u001b[0m, \u001b[1;36m64\u001b[0m\u001b[1m]\u001b[0m\u001b[1m]\u001b[0m,\n",
       "                \u001b[32m'filing__benefits__entity'\u001b[0m: \u001b[1m[\u001b[0m\u001b[1m[\u001b[0m\u001b[1;36m204\u001b[0m, \u001b[1;36m128\u001b[0m\u001b[1m]\u001b[0m, \u001b[1m[\u001b[0m\u001b[1;36m128\u001b[0m, \u001b[1;36m64\u001b[0m\u001b[1m]\u001b[0m\u001b[1m]\u001b[0m,\n",
       "                \u001b[32m'filing__concerns__entity'\u001b[0m: \u001b[1m[\u001b[0m\u001b[1m[\u001b[0m\u001b[1;36m204\u001b[0m, \u001b[1;36m128\u001b[0m\u001b[1m]\u001b[0m, \u001b[1m[\u001b[0m\u001b[1;36m128\u001b[0m, \u001b[1;36m64\u001b[0m\u001b[1m]\u001b[0m\u001b[1m]\u001b[0m\n",
       "            \u001b[1m}\u001b[0m,\n",
       "            \u001b[32m'align_nets'\u001b[0m: \u001b[1m{\u001b[0m\u001b[32m'entity'\u001b[0m: \u001b[1;36m76\u001b[0m, \u001b[32m'filing'\u001b[0m: \u001b[1;36m64\u001b[0m\u001b[1m}\u001b[0m\n",
       "        \u001b[1m}\u001b[0m,\n",
       "        \u001b[1m{\u001b[0m\n",
       "            \u001b[32m'activation'\u001b[0m: \u001b[32m'leakyReLu'\u001b[0m,\n",
       "            \u001b[32m'aggregation'\u001b[0m: \u001b[32m'multi'\u001b[0m,\n",
       "            \u001b[32m'batch_norm'\u001b[0m: \u001b[3;92mTrue\u001b[0m,\n",
       "            \u001b[32m'aggregation_params'\u001b[0m: \u001b[1m{\u001b[0m\u001b[32m'aggrs'\u001b[0m: \u001b[1m[\u001b[0m\u001b[32m'add'\u001b[0m, \u001b[32m'mean'\u001b[0m\u001b[1m]\u001b[0m, \u001b[32m'mode'\u001b[0m: \u001b[32m'cat'\u001b[0m\u001b[1m}\u001b[0m,\n",
       "            \u001b[32m'align_nets'\u001b[0m: \u001b[1m{\u001b[0m\u001b[32m'entity'\u001b[0m: \u001b[1;36m64\u001b[0m, \u001b[32m'filing'\u001b[0m: \u001b[1;36m64\u001b[0m\u001b[1m}\u001b[0m,\n",
       "            \u001b[32m'relations'\u001b[0m: \u001b[1m{\u001b[0m\n",
       "                \u001b[32m'entity__sends__filing'\u001b[0m: \u001b[1m[\u001b[0m\u001b[1m[\u001b[0m\u001b[1;36m192\u001b[0m, \u001b[1;36m64\u001b[0m\u001b[1m]\u001b[0m\u001b[1m]\u001b[0m,\n",
       "                \u001b[32m'filing__benefits__entity'\u001b[0m: \u001b[1m[\u001b[0m\u001b[1m[\u001b[0m\u001b[1;36m192\u001b[0m, \u001b[1;36m64\u001b[0m\u001b[1m]\u001b[0m\u001b[1m]\u001b[0m,\n",
       "                \u001b[32m'filing__concerns__entity'\u001b[0m: \u001b[1m[\u001b[0m\u001b[1m[\u001b[0m\u001b[1;36m192\u001b[0m, \u001b[1;36m64\u001b[0m\u001b[1m]\u001b[0m\u001b[1m]\u001b[0m\n",
       "            \u001b[1m}\u001b[0m\n",
       "        \u001b[1m}\u001b[0m\n",
       "    \u001b[1m]\u001b[0m\n",
       "\u001b[1m}\u001b[0m"
      ]
     },
     "execution_count": 17,
     "metadata": {},
     "output_type": "execute_result"
    }
   ],
   "source": [
    "hexgin_config = catalog.load(\"params:model_params.HexGIN_params\")\n",
    "hexgin_config"
   ]
  },
  {
   "cell_type": "code",
   "execution_count": 18,
   "metadata": {
    "ExecuteTime": {
     "end_time": "2023-10-23T12:30:45.279433600Z",
     "start_time": "2023-10-23T12:30:45.210445600Z"
    },
    "collapsed": false
   },
   "outputs": [],
   "source": [
    "hexgin = fmu.build_hexgin_net(\n",
    "    dim_ents=entity_encoder.classes_.shape[0],\n",
    "    dim_countries=country_encoder.classes_.shape[0],\n",
    "    dim_filings=filing_encoder.classes_.shape[0],\n",
    "    hexgin_params=hexgin_config\n",
    "\n",
    ")"
   ]
  },
  {
   "cell_type": "markdown",
   "metadata": {},
   "source": [
    "### Inspect model"
   ]
  },
  {
   "cell_type": "code",
   "execution_count": 19,
   "metadata": {},
   "outputs": [
    {
     "name": "stdout",
     "output_type": "stream",
     "text": [
      "+-------------------------------------+---------------+----------------+----------+\n",
      "| Layer                               | Input Shape   | Output Shape   | #Param   |\n",
      "|-------------------------------------+---------------+----------------+----------|\n",
      "| HeteroGNNLinkPredModel              | [7330, 7330]  | [811, 1]       | 631,347  |\n",
      "| ├─(preproc_model)FinCENPreprocModel |               |                | 465,648  |\n",
      "| │    └─(embedding_layers)ModuleDict | --            | --             | 465,648  |\n",
      "| │    │    └─(entity)Embedding       | [2823]        | [2823, 64]     | 175,552  |\n",
      "| │    │    └─(filing)Embedding       | [4507]        | [4507, 64]     | 288,512  |\n",
      "| │    │    └─(country)Embedding      | [2823]        | [2823, 12]     | 1,584    |\n",
      "| ├─(gnn_conv)HexGINModel             |               |                | 163,586  |\n",
      "| │    └─(hexgin_layers)ModuleList    | --            | --             | 163,586  |\n",
      "| │    │    └─(0)HexGINLayer          |               |                | 117,055  |\n",
      "| │    │    └─(1)HexGINLayer          |               |                | 46,531   |\n",
      "| ├─(link_pred_subnet)Sequential      | [811, 64]     | [811, 1]       | 2,113    |\n",
      "| │    └─(0)Linear                    | [811, 64]     | [811, 32]      | 2,080    |\n",
      "| │    └─(1)LeakyReLU                 | [4507, 128]   | [4507, 128]    | --       |\n",
      "| │    └─(2)Linear                    | [811, 32]     | [811, 1]       | 33       |\n",
      "+-------------------------------------+---------------+----------------+----------+\n"
     ]
    }
   ],
   "source": [
    "print(tgnn.summary(hexgin, train_g))"
   ]
  },
  {
   "cell_type": "markdown",
   "metadata": {},
   "source": [
    "A single HexGIN convolution"
   ]
  },
  {
   "cell_type": "code",
   "execution_count": 36,
   "metadata": {},
   "outputs": [
    {
     "data": {
      "text/html": [
       "<pre style=\"white-space:pre;overflow-x:auto;line-height:normal;font-family:Menlo,'DejaVu Sans Mono',consolas,'Courier New',monospace\"></pre>\n"
      ],
      "text/plain": []
     },
     "metadata": {},
     "output_type": "display_data"
    },
    {
     "data": {
      "text/plain": [
       "\n",
       "\u001b[1;35mHexGINConv\u001b[0m\u001b[1m(\u001b[0m\u001b[33mnn\u001b[0m=\u001b[1;35mSequential\u001b[0m\u001b[1m(\u001b[0m\n",
       "  \u001b[1m(\u001b[0m\u001b[1;36m0\u001b[0m\u001b[1m)\u001b[0m: \u001b[1;35mBatchNorm1d\u001b[0m\u001b[1m(\u001b[0m\u001b[1;36m216\u001b[0m, \u001b[33meps\u001b[0m=\u001b[1;36m1e\u001b[0m\u001b[1;36m-05\u001b[0m, \u001b[33mmomentum\u001b[0m=\u001b[1;36m0\u001b[0m\u001b[1;36m.1\u001b[0m, \u001b[33maffine\u001b[0m=\u001b[3;92mTrue\u001b[0m, \u001b[33mtrack_running_stats\u001b[0m=\u001b[3;92mTrue\u001b[0m\u001b[1m)\u001b[0m\n",
       "  \u001b[1m(\u001b[0m\u001b[1;36m1\u001b[0m\u001b[1m)\u001b[0m: \u001b[1;35mLinear\u001b[0m\u001b[1m(\u001b[0m\u001b[33min_features\u001b[0m=\u001b[1;36m216\u001b[0m, \u001b[33mout_features\u001b[0m=\u001b[1;36m128\u001b[0m, \u001b[33mbias\u001b[0m=\u001b[3;92mTrue\u001b[0m\u001b[1m)\u001b[0m\n",
       "  \u001b[1m(\u001b[0m\u001b[1;36m2\u001b[0m\u001b[1m)\u001b[0m: \u001b[1;35mLeakyReLU\u001b[0m\u001b[1m(\u001b[0m\u001b[33mnegative_slope\u001b[0m=\u001b[1;36m0\u001b[0m\u001b[1;36m.005\u001b[0m\u001b[1m)\u001b[0m\n",
       "  \u001b[1m(\u001b[0m\u001b[1;36m3\u001b[0m\u001b[1m)\u001b[0m: \u001b[1;35mBatchNorm1d\u001b[0m\u001b[1m(\u001b[0m\u001b[1;36m128\u001b[0m, \u001b[33meps\u001b[0m=\u001b[1;36m1e\u001b[0m\u001b[1;36m-05\u001b[0m, \u001b[33mmomentum\u001b[0m=\u001b[1;36m0\u001b[0m\u001b[1;36m.1\u001b[0m, \u001b[33maffine\u001b[0m=\u001b[3;92mTrue\u001b[0m, \u001b[33mtrack_running_stats\u001b[0m=\u001b[3;92mTrue\u001b[0m\u001b[1m)\u001b[0m\n",
       "  \u001b[1m(\u001b[0m\u001b[1;36m4\u001b[0m\u001b[1m)\u001b[0m: \u001b[1;35mLinear\u001b[0m\u001b[1m(\u001b[0m\u001b[33min_features\u001b[0m=\u001b[1;36m128\u001b[0m, \u001b[33mout_features\u001b[0m=\u001b[1;36m64\u001b[0m, \u001b[33mbias\u001b[0m=\u001b[3;92mTrue\u001b[0m\u001b[1m)\u001b[0m\n",
       "  \u001b[1m(\u001b[0m\u001b[1;36m5\u001b[0m\u001b[1m)\u001b[0m: \u001b[1;35mLeakyReLU\u001b[0m\u001b[1m(\u001b[0m\u001b[33mnegative_slope\u001b[0m=\u001b[1;36m0\u001b[0m\u001b[1;36m.005\u001b[0m\u001b[1m)\u001b[0m\n",
       "\u001b[1m)\u001b[0m\u001b[1m)\u001b[0m"
      ]
     },
     "execution_count": 36,
     "metadata": {},
     "output_type": "execute_result"
    }
   ],
   "source": [
    "hc = hexgin.gnn_conv.hexgin_layers[0].rel_convs\n",
    "hc.convs['entity', 'sends', 'filing']"
   ]
  },
  {
   "cell_type": "markdown",
   "metadata": {},
   "source": [
    "### Test model on a simple output"
   ]
  },
  {
   "cell_type": "code",
   "execution_count": 20,
   "metadata": {
    "ExecuteTime": {
     "end_time": "2023-10-23T12:30:48.209592Z",
     "start_time": "2023-10-23T12:30:48.135332100Z"
    },
    "collapsed": false
   },
   "outputs": [
    {
     "data": {
      "text/html": [
       "<pre style=\"white-space:pre;overflow-x:auto;line-height:normal;font-family:Menlo,'DejaVu Sans Mono',consolas,'Courier New',monospace\"></pre>\n"
      ],
      "text/plain": []
     },
     "metadata": {},
     "output_type": "display_data"
    },
    {
     "data": {
      "text/plain": [
       "\n",
       "\u001b[1;35mtensor\u001b[0m\u001b[1m(\u001b[0m\u001b[1m[\u001b[0m\u001b[1m[\u001b[0m\u001b[1;36m-0.0359\u001b[0m\u001b[1m]\u001b[0m,\n",
       "        \u001b[1m[\u001b[0m\u001b[1;36m-0.1236\u001b[0m\u001b[1m]\u001b[0m,\n",
       "        \u001b[1m[\u001b[0m \u001b[1;36m0.0209\u001b[0m\u001b[1m]\u001b[0m,\n",
       "        \u001b[1m[\u001b[0m \u001b[1;36m0.0290\u001b[0m\u001b[1m]\u001b[0m,\n",
       "        \u001b[1m[\u001b[0m \u001b[1;36m0.0120\u001b[0m\u001b[1m]\u001b[0m,\n",
       "        \u001b[1m[\u001b[0m \u001b[1;36m0.0290\u001b[0m\u001b[1m]\u001b[0m,\n",
       "        \u001b[1m[\u001b[0m \u001b[1;36m0.0341\u001b[0m\u001b[1m]\u001b[0m,\n",
       "        \u001b[1m[\u001b[0m \u001b[1;36m0.0984\u001b[0m\u001b[1m]\u001b[0m,\n",
       "        \u001b[1m[\u001b[0m \u001b[1;36m0.0418\u001b[0m\u001b[1m]\u001b[0m,\n",
       "        \u001b[1m[\u001b[0m \u001b[1;36m0.0167\u001b[0m\u001b[1m]\u001b[0m\u001b[1m]\u001b[0m\u001b[1m)\u001b[0m"
      ]
     },
     "execution_count": 20,
     "metadata": {},
     "output_type": "execute_result"
    }
   ],
   "source": [
    "with th.no_grad():\n",
    "    hexgin_out = hexgin(val_g)\n",
    "hexgin_out[:10]"
   ]
  },
  {
   "cell_type": "markdown",
   "metadata": {},
   "source": [
    "# Check trianing functions for deterministic outputs"
   ]
  },
  {
   "cell_type": "code",
   "execution_count": 21,
   "metadata": {},
   "outputs": [
    {
     "data": {
      "text/html": [
       "<pre style=\"white-space:pre;overflow-x:auto;line-height:normal;font-family:Menlo,'DejaVu Sans Mono',consolas,'Courier New',monospace\"><span style=\"color: #7fbfbf; text-decoration-color: #7fbfbf\">[07/08/24 12:33:21] </span><span style=\"color: #000080; text-decoration-color: #000080\">INFO    </span> Loading data from <span style=\"color: #ff8700; text-decoration-color: #ff8700\">params:model_params</span> <span style=\"font-weight: bold\">(</span>MemoryDataset<span style=\"font-weight: bold\">)</span><span style=\"color: #808000; text-decoration-color: #808000\">...</span>           <a href=\"file:///home/filip/miniconda3/envs/hexgin/lib/python3.11/site-packages/kedro/io/data_catalog.py\" target=\"_blank\"><span style=\"color: #7f7f7f; text-decoration-color: #7f7f7f\">data_catalog.py</span></a><span style=\"color: #7f7f7f; text-decoration-color: #7f7f7f\">:</span><a href=\"file:///home/filip/miniconda3/envs/hexgin/lib/python3.11/site-packages/kedro/io/data_catalog.py#508\" target=\"_blank\"><span style=\"color: #7f7f7f; text-decoration-color: #7f7f7f\">508</span></a>\n",
       "</pre>\n"
      ],
      "text/plain": [
       "\u001b[2;36m[07/08/24 12:33:21]\u001b[0m\u001b[2;36m \u001b[0m\u001b[34mINFO    \u001b[0m Loading data from \u001b[38;5;208mparams:model_params\u001b[0m \u001b[1m(\u001b[0mMemoryDataset\u001b[1m)\u001b[0m\u001b[33m...\u001b[0m           \u001b]8;id=40007;file:///home/filip/miniconda3/envs/hexgin/lib/python3.11/site-packages/kedro/io/data_catalog.py\u001b\\\u001b[2mdata_catalog.py\u001b[0m\u001b]8;;\u001b\\\u001b[2m:\u001b[0m\u001b]8;id=397540;file:///home/filip/miniconda3/envs/hexgin/lib/python3.11/site-packages/kedro/io/data_catalog.py#508\u001b\\\u001b[2m508\u001b[0m\u001b]8;;\u001b\\\n"
      ]
     },
     "metadata": {},
     "output_type": "display_data"
    },
    {
     "data": {
      "text/html": [
       "<pre style=\"white-space:pre;overflow-x:auto;line-height:normal;font-family:Menlo,'DejaVu Sans Mono',consolas,'Courier New',monospace\"><span style=\"color: #7fbfbf; text-decoration-color: #7fbfbf\">                    </span><span style=\"color: #000080; text-decoration-color: #000080\">INFO    </span> Loading data from <span style=\"color: #ff8700; text-decoration-color: #ff8700\">params:training_params</span> <span style=\"font-weight: bold\">(</span>MemoryDataset<span style=\"font-weight: bold\">)</span><span style=\"color: #808000; text-decoration-color: #808000\">...</span>        <a href=\"file:///home/filip/miniconda3/envs/hexgin/lib/python3.11/site-packages/kedro/io/data_catalog.py\" target=\"_blank\"><span style=\"color: #7f7f7f; text-decoration-color: #7f7f7f\">data_catalog.py</span></a><span style=\"color: #7f7f7f; text-decoration-color: #7f7f7f\">:</span><a href=\"file:///home/filip/miniconda3/envs/hexgin/lib/python3.11/site-packages/kedro/io/data_catalog.py#508\" target=\"_blank\"><span style=\"color: #7f7f7f; text-decoration-color: #7f7f7f\">508</span></a>\n",
       "</pre>\n"
      ],
      "text/plain": [
       "\u001b[2;36m                   \u001b[0m\u001b[2;36m \u001b[0m\u001b[34mINFO    \u001b[0m Loading data from \u001b[38;5;208mparams:training_params\u001b[0m \u001b[1m(\u001b[0mMemoryDataset\u001b[1m)\u001b[0m\u001b[33m...\u001b[0m        \u001b]8;id=893477;file:///home/filip/miniconda3/envs/hexgin/lib/python3.11/site-packages/kedro/io/data_catalog.py\u001b\\\u001b[2mdata_catalog.py\u001b[0m\u001b]8;;\u001b\\\u001b[2m:\u001b[0m\u001b]8;id=54422;file:///home/filip/miniconda3/envs/hexgin/lib/python3.11/site-packages/kedro/io/data_catalog.py#508\u001b\\\u001b[2m508\u001b[0m\u001b]8;;\u001b\\\n"
      ]
     },
     "metadata": {},
     "output_type": "display_data"
    },
    {
     "data": {
      "text/html": [
       "<pre style=\"white-space:pre;overflow-x:auto;line-height:normal;font-family:Menlo,'DejaVu Sans Mono',consolas,'Courier New',monospace\"><span style=\"color: #7fbfbf; text-decoration-color: #7fbfbf\">                    </span><span style=\"color: #000080; text-decoration-color: #000080\">INFO    </span> Loading data from <span style=\"color: #ff8700; text-decoration-color: #ff8700\">params:crossval_params</span> <span style=\"font-weight: bold\">(</span>MemoryDataset<span style=\"font-weight: bold\">)</span><span style=\"color: #808000; text-decoration-color: #808000\">...</span>        <a href=\"file:///home/filip/miniconda3/envs/hexgin/lib/python3.11/site-packages/kedro/io/data_catalog.py\" target=\"_blank\"><span style=\"color: #7f7f7f; text-decoration-color: #7f7f7f\">data_catalog.py</span></a><span style=\"color: #7f7f7f; text-decoration-color: #7f7f7f\">:</span><a href=\"file:///home/filip/miniconda3/envs/hexgin/lib/python3.11/site-packages/kedro/io/data_catalog.py#508\" target=\"_blank\"><span style=\"color: #7f7f7f; text-decoration-color: #7f7f7f\">508</span></a>\n",
       "</pre>\n"
      ],
      "text/plain": [
       "\u001b[2;36m                   \u001b[0m\u001b[2;36m \u001b[0m\u001b[34mINFO    \u001b[0m Loading data from \u001b[38;5;208mparams:crossval_params\u001b[0m \u001b[1m(\u001b[0mMemoryDataset\u001b[1m)\u001b[0m\u001b[33m...\u001b[0m        \u001b]8;id=350010;file:///home/filip/miniconda3/envs/hexgin/lib/python3.11/site-packages/kedro/io/data_catalog.py\u001b\\\u001b[2mdata_catalog.py\u001b[0m\u001b]8;;\u001b\\\u001b[2m:\u001b[0m\u001b]8;id=735775;file:///home/filip/miniconda3/envs/hexgin/lib/python3.11/site-packages/kedro/io/data_catalog.py#508\u001b\\\u001b[2m508\u001b[0m\u001b]8;;\u001b\\\n"
      ]
     },
     "metadata": {},
     "output_type": "display_data"
    }
   ],
   "source": [
    "model_params = catalog.load(\"params:model_params\")\n",
    "training_params = catalog.load(\"params:training_params\")\n",
    "crossval_params = catalog.load(\"params:crossval_params\")"
   ]
  },
  {
   "cell_type": "code",
   "execution_count": 22,
   "metadata": {},
   "outputs": [
    {
     "data": {
      "text/html": [
       "<pre style=\"white-space:pre;overflow-x:auto;line-height:normal;font-family:Menlo,'DejaVu Sans Mono',consolas,'Courier New',monospace\"><span style=\"color: #7fbfbf; text-decoration-color: #7fbfbf\">[07/08/24 12:33:22] </span><span style=\"color: #800000; text-decoration-color: #800000\">WARNING </span> <span style=\"color: #800080; text-decoration-color: #800080\">/home/filip/miniconda3/envs/hexgin/lib/python3.11/site-packages/torch_</span> <a href=\"file:///home/filip/miniconda3/envs/hexgin/lib/python3.11/warnings.py\" target=\"_blank\"><span style=\"color: #7f7f7f; text-decoration-color: #7f7f7f\">warnings.py</span></a><span style=\"color: #7f7f7f; text-decoration-color: #7f7f7f\">:</span><a href=\"file:///home/filip/miniconda3/envs/hexgin/lib/python3.11/warnings.py#110\" target=\"_blank\"><span style=\"color: #7f7f7f; text-decoration-color: #7f7f7f\">110</span></a>\n",
       "<span style=\"color: #7fbfbf; text-decoration-color: #7fbfbf\">                    </span>         <span style=\"color: #800080; text-decoration-color: #800080\">geometric/sampler/</span><span style=\"color: #ff00ff; text-decoration-color: #ff00ff\">neighbor_sampler.py</span>:<span style=\"color: #008080; text-decoration-color: #008080; font-weight: bold\">61</span>: UserWarning: Using           <span style=\"color: #7f7f7f; text-decoration-color: #7f7f7f\">               </span>\n",
       "<span style=\"color: #7fbfbf; text-decoration-color: #7fbfbf\">                    </span>         <span style=\"color: #008000; text-decoration-color: #008000\">'NeighborSampler'</span> without a <span style=\"color: #008000; text-decoration-color: #008000\">'pyg-lib'</span> installation is deprecated and   <span style=\"color: #7f7f7f; text-decoration-color: #7f7f7f\">               </span>\n",
       "<span style=\"color: #7fbfbf; text-decoration-color: #7fbfbf\">                    </span>         will be removed soon. Please install <span style=\"color: #008000; text-decoration-color: #008000\">'pyg-lib'</span> for accelerated         <span style=\"color: #7f7f7f; text-decoration-color: #7f7f7f\">               </span>\n",
       "<span style=\"color: #7fbfbf; text-decoration-color: #7fbfbf\">                    </span>         neighborhood sampling                                                  <span style=\"color: #7f7f7f; text-decoration-color: #7f7f7f\">               </span>\n",
       "<span style=\"color: #7fbfbf; text-decoration-color: #7fbfbf\">                    </span>           <span style=\"color: #800080; text-decoration-color: #800080; font-weight: bold\">warnings.warn</span><span style=\"font-weight: bold\">(</span>f\"Using <span style=\"color: #008000; text-decoration-color: #008000\">'{self.__class__.__name__}'</span> without a \"        <span style=\"color: #7f7f7f; text-decoration-color: #7f7f7f\">               </span>\n",
       "<span style=\"color: #7fbfbf; text-decoration-color: #7fbfbf\">                    </span>                                                                                <span style=\"color: #7f7f7f; text-decoration-color: #7f7f7f\">               </span>\n",
       "</pre>\n"
      ],
      "text/plain": [
       "\u001b[2;36m[07/08/24 12:33:22]\u001b[0m\u001b[2;36m \u001b[0m\u001b[31mWARNING \u001b[0m \u001b[35m/home/filip/miniconda3/envs/hexgin/lib/python3.11/site-packages/torch_\u001b[0m \u001b]8;id=427023;file:///home/filip/miniconda3/envs/hexgin/lib/python3.11/warnings.py\u001b\\\u001b[2mwarnings.py\u001b[0m\u001b]8;;\u001b\\\u001b[2m:\u001b[0m\u001b]8;id=279501;file:///home/filip/miniconda3/envs/hexgin/lib/python3.11/warnings.py#110\u001b\\\u001b[2m110\u001b[0m\u001b]8;;\u001b\\\n",
       "\u001b[2;36m                    \u001b[0m         \u001b[35mgeometric/sampler/\u001b[0m\u001b[95mneighbor_sampler.py\u001b[0m:\u001b[1;36m61\u001b[0m: UserWarning: Using           \u001b[2m               \u001b[0m\n",
       "\u001b[2;36m                    \u001b[0m         \u001b[32m'NeighborSampler'\u001b[0m without a \u001b[32m'pyg-lib'\u001b[0m installation is deprecated and   \u001b[2m               \u001b[0m\n",
       "\u001b[2;36m                    \u001b[0m         will be removed soon. Please install \u001b[32m'pyg-lib'\u001b[0m for accelerated         \u001b[2m               \u001b[0m\n",
       "\u001b[2;36m                    \u001b[0m         neighborhood sampling                                                  \u001b[2m               \u001b[0m\n",
       "\u001b[2;36m                    \u001b[0m           \u001b[1;35mwarnings.warn\u001b[0m\u001b[1m(\u001b[0mf\"Using \u001b[32m'\u001b[0m\u001b[32m{\u001b[0m\u001b[32mself.__class__.__name__\u001b[0m\u001b[32m}\u001b[0m\u001b[32m'\u001b[0m without a \"        \u001b[2m               \u001b[0m\n",
       "\u001b[2;36m                    \u001b[0m                                                                                \u001b[2m               \u001b[0m\n"
      ]
     },
     "metadata": {},
     "output_type": "display_data"
    },
    {
     "data": {
      "text/html": [
       "<pre style=\"white-space:pre;overflow-x:auto;line-height:normal;font-family:Menlo,'DejaVu Sans Mono',consolas,'Courier New',monospace\"><span style=\"color: #7fbfbf; text-decoration-color: #7fbfbf\">                    </span><span style=\"color: #800000; text-decoration-color: #800000\">WARNING </span> <span style=\"color: #800080; text-decoration-color: #800080\">/home/filip/miniconda3/envs/hexgin/lib/python3.11/site-packages/torch_</span> <a href=\"file:///home/filip/miniconda3/envs/hexgin/lib/python3.11/warnings.py\" target=\"_blank\"><span style=\"color: #7f7f7f; text-decoration-color: #7f7f7f\">warnings.py</span></a><span style=\"color: #7f7f7f; text-decoration-color: #7f7f7f\">:</span><a href=\"file:///home/filip/miniconda3/envs/hexgin/lib/python3.11/warnings.py#110\" target=\"_blank\"><span style=\"color: #7f7f7f; text-decoration-color: #7f7f7f\">110</span></a>\n",
       "<span style=\"color: #7fbfbf; text-decoration-color: #7fbfbf\">                    </span>         <span style=\"color: #800080; text-decoration-color: #800080\">geometric/</span><span style=\"color: #ff00ff; text-decoration-color: #ff00ff\">deprecation.py</span>:<span style=\"color: #008080; text-decoration-color: #008080; font-weight: bold\">26</span>: UserWarning: <span style=\"color: #008000; text-decoration-color: #008000\">'data.DataLoader'</span> is         <span style=\"color: #7f7f7f; text-decoration-color: #7f7f7f\">               </span>\n",
       "<span style=\"color: #7fbfbf; text-decoration-color: #7fbfbf\">                    </span>         deprecated, use <span style=\"color: #008000; text-decoration-color: #008000\">'loader.DataLoader'</span> instead                            <span style=\"color: #7f7f7f; text-decoration-color: #7f7f7f\">               </span>\n",
       "<span style=\"color: #7fbfbf; text-decoration-color: #7fbfbf\">                    </span>           <span style=\"color: #800080; text-decoration-color: #800080; font-weight: bold\">warnings.warn</span><span style=\"font-weight: bold\">(</span>out<span style=\"font-weight: bold\">)</span>                                                   <span style=\"color: #7f7f7f; text-decoration-color: #7f7f7f\">               </span>\n",
       "<span style=\"color: #7fbfbf; text-decoration-color: #7fbfbf\">                    </span>                                                                                <span style=\"color: #7f7f7f; text-decoration-color: #7f7f7f\">               </span>\n",
       "</pre>\n"
      ],
      "text/plain": [
       "\u001b[2;36m                   \u001b[0m\u001b[2;36m \u001b[0m\u001b[31mWARNING \u001b[0m \u001b[35m/home/filip/miniconda3/envs/hexgin/lib/python3.11/site-packages/torch_\u001b[0m \u001b]8;id=40007;file:///home/filip/miniconda3/envs/hexgin/lib/python3.11/warnings.py\u001b\\\u001b[2mwarnings.py\u001b[0m\u001b]8;;\u001b\\\u001b[2m:\u001b[0m\u001b]8;id=397540;file:///home/filip/miniconda3/envs/hexgin/lib/python3.11/warnings.py#110\u001b\\\u001b[2m110\u001b[0m\u001b]8;;\u001b\\\n",
       "\u001b[2;36m                    \u001b[0m         \u001b[35mgeometric/\u001b[0m\u001b[95mdeprecation.py\u001b[0m:\u001b[1;36m26\u001b[0m: UserWarning: \u001b[32m'data.DataLoader'\u001b[0m is         \u001b[2m               \u001b[0m\n",
       "\u001b[2;36m                    \u001b[0m         deprecated, use \u001b[32m'loader.DataLoader'\u001b[0m instead                            \u001b[2m               \u001b[0m\n",
       "\u001b[2;36m                    \u001b[0m           \u001b[1;35mwarnings.warn\u001b[0m\u001b[1m(\u001b[0mout\u001b[1m)\u001b[0m                                                   \u001b[2m               \u001b[0m\n",
       "\u001b[2;36m                    \u001b[0m                                                                                \u001b[2m               \u001b[0m\n"
      ]
     },
     "metadata": {},
     "output_type": "display_data"
    },
    {
     "data": {
      "text/html": [
       "<pre style=\"white-space:pre;overflow-x:auto;line-height:normal;font-family:Menlo,'DejaVu Sans Mono',consolas,'Courier New',monospace\"><span style=\"color: #7fbfbf; text-decoration-color: #7fbfbf\">                    </span><span style=\"color: #000080; text-decoration-color: #000080\">INFO    </span> GPU available: <span style=\"color: #00ff00; text-decoration-color: #00ff00; font-style: italic\">True</span> <span style=\"font-weight: bold\">(</span>cuda<span style=\"font-weight: bold\">)</span>, used: <span style=\"color: #ff0000; text-decoration-color: #ff0000; font-style: italic\">False</span>                                <a href=\"file:///home/filip/miniconda3/envs/hexgin/lib/python3.11/site-packages/lightning_utilities/core/rank_zero.py\" target=\"_blank\"><span style=\"color: #7f7f7f; text-decoration-color: #7f7f7f\">rank_zero.py</span></a><span style=\"color: #7f7f7f; text-decoration-color: #7f7f7f\">:</span><a href=\"file:///home/filip/miniconda3/envs/hexgin/lib/python3.11/site-packages/lightning_utilities/core/rank_zero.py#63\" target=\"_blank\"><span style=\"color: #7f7f7f; text-decoration-color: #7f7f7f\">63</span></a>\n",
       "</pre>\n"
      ],
      "text/plain": [
       "\u001b[2;36m                   \u001b[0m\u001b[2;36m \u001b[0m\u001b[34mINFO    \u001b[0m GPU available: \u001b[3;92mTrue\u001b[0m \u001b[1m(\u001b[0mcuda\u001b[1m)\u001b[0m, used: \u001b[3;91mFalse\u001b[0m                                \u001b]8;id=167418;file:///home/filip/miniconda3/envs/hexgin/lib/python3.11/site-packages/lightning_utilities/core/rank_zero.py\u001b\\\u001b[2mrank_zero.py\u001b[0m\u001b]8;;\u001b\\\u001b[2m:\u001b[0m\u001b]8;id=141618;file:///home/filip/miniconda3/envs/hexgin/lib/python3.11/site-packages/lightning_utilities/core/rank_zero.py#63\u001b\\\u001b[2m63\u001b[0m\u001b]8;;\u001b\\\n"
      ]
     },
     "metadata": {},
     "output_type": "display_data"
    },
    {
     "data": {
      "text/html": [
       "<pre style=\"white-space:pre;overflow-x:auto;line-height:normal;font-family:Menlo,'DejaVu Sans Mono',consolas,'Courier New',monospace\"><span style=\"color: #7fbfbf; text-decoration-color: #7fbfbf\">                    </span><span style=\"color: #000080; text-decoration-color: #000080\">INFO    </span> TPU available: <span style=\"color: #ff0000; text-decoration-color: #ff0000; font-style: italic\">False</span>, using: <span style=\"color: #008080; text-decoration-color: #008080; font-weight: bold\">0</span> TPU cores                               <a href=\"file:///home/filip/miniconda3/envs/hexgin/lib/python3.11/site-packages/lightning_utilities/core/rank_zero.py\" target=\"_blank\"><span style=\"color: #7f7f7f; text-decoration-color: #7f7f7f\">rank_zero.py</span></a><span style=\"color: #7f7f7f; text-decoration-color: #7f7f7f\">:</span><a href=\"file:///home/filip/miniconda3/envs/hexgin/lib/python3.11/site-packages/lightning_utilities/core/rank_zero.py#63\" target=\"_blank\"><span style=\"color: #7f7f7f; text-decoration-color: #7f7f7f\">63</span></a>\n",
       "</pre>\n"
      ],
      "text/plain": [
       "\u001b[2;36m                   \u001b[0m\u001b[2;36m \u001b[0m\u001b[34mINFO    \u001b[0m TPU available: \u001b[3;91mFalse\u001b[0m, using: \u001b[1;36m0\u001b[0m TPU cores                               \u001b]8;id=257072;file:///home/filip/miniconda3/envs/hexgin/lib/python3.11/site-packages/lightning_utilities/core/rank_zero.py\u001b\\\u001b[2mrank_zero.py\u001b[0m\u001b]8;;\u001b\\\u001b[2m:\u001b[0m\u001b]8;id=171732;file:///home/filip/miniconda3/envs/hexgin/lib/python3.11/site-packages/lightning_utilities/core/rank_zero.py#63\u001b\\\u001b[2m63\u001b[0m\u001b]8;;\u001b\\\n"
      ]
     },
     "metadata": {},
     "output_type": "display_data"
    },
    {
     "data": {
      "text/html": [
       "<pre style=\"white-space:pre;overflow-x:auto;line-height:normal;font-family:Menlo,'DejaVu Sans Mono',consolas,'Courier New',monospace\"><span style=\"color: #7fbfbf; text-decoration-color: #7fbfbf\">                    </span><span style=\"color: #000080; text-decoration-color: #000080\">INFO    </span> HPU available: <span style=\"color: #ff0000; text-decoration-color: #ff0000; font-style: italic\">False</span>, using: <span style=\"color: #008080; text-decoration-color: #008080; font-weight: bold\">0</span> HPUs                                    <a href=\"file:///home/filip/miniconda3/envs/hexgin/lib/python3.11/site-packages/lightning_utilities/core/rank_zero.py\" target=\"_blank\"><span style=\"color: #7f7f7f; text-decoration-color: #7f7f7f\">rank_zero.py</span></a><span style=\"color: #7f7f7f; text-decoration-color: #7f7f7f\">:</span><a href=\"file:///home/filip/miniconda3/envs/hexgin/lib/python3.11/site-packages/lightning_utilities/core/rank_zero.py#63\" target=\"_blank\"><span style=\"color: #7f7f7f; text-decoration-color: #7f7f7f\">63</span></a>\n",
       "</pre>\n"
      ],
      "text/plain": [
       "\u001b[2;36m                   \u001b[0m\u001b[2;36m \u001b[0m\u001b[34mINFO    \u001b[0m HPU available: \u001b[3;91mFalse\u001b[0m, using: \u001b[1;36m0\u001b[0m HPUs                                    \u001b]8;id=91869;file:///home/filip/miniconda3/envs/hexgin/lib/python3.11/site-packages/lightning_utilities/core/rank_zero.py\u001b\\\u001b[2mrank_zero.py\u001b[0m\u001b]8;;\u001b\\\u001b[2m:\u001b[0m\u001b]8;id=921310;file:///home/filip/miniconda3/envs/hexgin/lib/python3.11/site-packages/lightning_utilities/core/rank_zero.py#63\u001b\\\u001b[2m63\u001b[0m\u001b]8;;\u001b\\\n"
      ]
     },
     "metadata": {},
     "output_type": "display_data"
    },
    {
     "data": {
      "text/html": [
       "<pre style=\"white-space:pre;overflow-x:auto;line-height:normal;font-family:Menlo,'DejaVu Sans Mono',consolas,'Courier New',monospace\"><span style=\"color: #7fbfbf; text-decoration-color: #7fbfbf\">                    </span><span style=\"color: #800000; text-decoration-color: #800000\">WARNING </span> <span style=\"color: #800080; text-decoration-color: #800080\">/home/filip/miniconda3/envs/hexgin/lib/python3.11/site-packages/pytorc</span> <a href=\"file:///home/filip/miniconda3/envs/hexgin/lib/python3.11/warnings.py\" target=\"_blank\"><span style=\"color: #7f7f7f; text-decoration-color: #7f7f7f\">warnings.py</span></a><span style=\"color: #7f7f7f; text-decoration-color: #7f7f7f\">:</span><a href=\"file:///home/filip/miniconda3/envs/hexgin/lib/python3.11/warnings.py#110\" target=\"_blank\"><span style=\"color: #7f7f7f; text-decoration-color: #7f7f7f\">110</span></a>\n",
       "<span style=\"color: #7fbfbf; text-decoration-color: #7fbfbf\">                    </span>         <span style=\"color: #800080; text-decoration-color: #800080\">h_lightning/trainer/</span><span style=\"color: #ff00ff; text-decoration-color: #ff00ff\">setup.py</span>:<span style=\"color: #008080; text-decoration-color: #008080; font-weight: bold\">177</span>: GPU available but not used. You can  <span style=\"color: #7f7f7f; text-decoration-color: #7f7f7f\">               </span>\n",
       "<span style=\"color: #7fbfbf; text-decoration-color: #7fbfbf\">                    </span>         set it by doing `<span style=\"color: #800080; text-decoration-color: #800080; font-weight: bold\">Trainer</span><span style=\"font-weight: bold\">(</span><span style=\"color: #808000; text-decoration-color: #808000\">accelerator</span>=<span style=\"color: #008000; text-decoration-color: #008000\">'gpu'</span><span style=\"font-weight: bold\">)</span>`.                          <span style=\"color: #7f7f7f; text-decoration-color: #7f7f7f\">               </span>\n",
       "<span style=\"color: #7fbfbf; text-decoration-color: #7fbfbf\">                    </span>                                                                                <span style=\"color: #7f7f7f; text-decoration-color: #7f7f7f\">               </span>\n",
       "</pre>\n"
      ],
      "text/plain": [
       "\u001b[2;36m                   \u001b[0m\u001b[2;36m \u001b[0m\u001b[31mWARNING \u001b[0m \u001b[35m/home/filip/miniconda3/envs/hexgin/lib/python3.11/site-packages/pytorc\u001b[0m \u001b]8;id=330782;file:///home/filip/miniconda3/envs/hexgin/lib/python3.11/warnings.py\u001b\\\u001b[2mwarnings.py\u001b[0m\u001b]8;;\u001b\\\u001b[2m:\u001b[0m\u001b]8;id=767598;file:///home/filip/miniconda3/envs/hexgin/lib/python3.11/warnings.py#110\u001b\\\u001b[2m110\u001b[0m\u001b]8;;\u001b\\\n",
       "\u001b[2;36m                    \u001b[0m         \u001b[35mh_lightning/trainer/\u001b[0m\u001b[95msetup.py\u001b[0m:\u001b[1;36m177\u001b[0m: GPU available but not used. You can  \u001b[2m               \u001b[0m\n",
       "\u001b[2;36m                    \u001b[0m         set it by doing `\u001b[1;35mTrainer\u001b[0m\u001b[1m(\u001b[0m\u001b[33maccelerator\u001b[0m=\u001b[32m'gpu'\u001b[0m\u001b[1m)\u001b[0m`.                          \u001b[2m               \u001b[0m\n",
       "\u001b[2;36m                    \u001b[0m                                                                                \u001b[2m               \u001b[0m\n"
      ]
     },
     "metadata": {},
     "output_type": "display_data"
    },
    {
     "data": {
      "text/html": [
       "<pre style=\"white-space:pre;overflow-x:auto;line-height:normal;font-family:Menlo,'DejaVu Sans Mono',consolas,'Courier New',monospace\"><span style=\"color: #7fbfbf; text-decoration-color: #7fbfbf\">                    </span><span style=\"color: #000080; text-decoration-color: #000080\">INFO    </span> Seed set to <span style=\"color: #008080; text-decoration-color: #008080; font-weight: bold\">123</span>                                                             <a href=\"file:///home/filip/miniconda3/envs/hexgin/lib/python3.11/site-packages/lightning_fabric/utilities/seed.py\" target=\"_blank\"><span style=\"color: #7f7f7f; text-decoration-color: #7f7f7f\">seed.py</span></a><span style=\"color: #7f7f7f; text-decoration-color: #7f7f7f\">:</span><a href=\"file:///home/filip/miniconda3/envs/hexgin/lib/python3.11/site-packages/lightning_fabric/utilities/seed.py#54\" target=\"_blank\"><span style=\"color: #7f7f7f; text-decoration-color: #7f7f7f\">54</span></a>\n",
       "</pre>\n"
      ],
      "text/plain": [
       "\u001b[2;36m                   \u001b[0m\u001b[2;36m \u001b[0m\u001b[34mINFO    \u001b[0m Seed set to \u001b[1;36m123\u001b[0m                                                             \u001b]8;id=149081;file:///home/filip/miniconda3/envs/hexgin/lib/python3.11/site-packages/lightning_fabric/utilities/seed.py\u001b\\\u001b[2mseed.py\u001b[0m\u001b]8;;\u001b\\\u001b[2m:\u001b[0m\u001b]8;id=132382;file:///home/filip/miniconda3/envs/hexgin/lib/python3.11/site-packages/lightning_fabric/utilities/seed.py#54\u001b\\\u001b[2m54\u001b[0m\u001b]8;;\u001b\\\n"
      ]
     },
     "metadata": {},
     "output_type": "display_data"
    },
    {
     "data": {
      "text/html": [
       "<pre style=\"white-space:pre;overflow-x:auto;line-height:normal;font-family:Menlo,'DejaVu Sans Mono',consolas,'Courier New',monospace\"><span style=\"color: #7fbfbf; text-decoration-color: #7fbfbf\">[07/08/24 12:33:23] </span><span style=\"color: #000080; text-decoration-color: #000080\">INFO    </span>                                                                    <a href=\"file:///home/filip/miniconda3/envs/hexgin/lib/python3.11/site-packages/pytorch_lightning/callbacks/model_summary.py\" target=\"_blank\"><span style=\"color: #7f7f7f; text-decoration-color: #7f7f7f\">model_summary.py</span></a><span style=\"color: #7f7f7f; text-decoration-color: #7f7f7f\">:</span><a href=\"file:///home/filip/miniconda3/envs/hexgin/lib/python3.11/site-packages/pytorch_lightning/callbacks/model_summary.py#94\" target=\"_blank\"><span style=\"color: #7f7f7f; text-decoration-color: #7f7f7f\">94</span></a>\n",
       "<span style=\"color: #7fbfbf; text-decoration-color: #7fbfbf\">                    </span>           | Name  | Type                   | Params | Mode                 <span style=\"color: #7f7f7f; text-decoration-color: #7f7f7f\">                   </span>\n",
       "<span style=\"color: #7fbfbf; text-decoration-color: #7fbfbf\">                    </span>         ---------------------------------------------------------          <span style=\"color: #7f7f7f; text-decoration-color: #7f7f7f\">                   </span>\n",
       "<span style=\"color: #7fbfbf; text-decoration-color: #7fbfbf\">                    </span>         <span style=\"color: #008080; text-decoration-color: #008080; font-weight: bold\">0</span> | model | HeteroGNNLinkPredModel | <span style=\"color: #008080; text-decoration-color: #008080; font-weight: bold\">631</span> K  | train                <span style=\"color: #7f7f7f; text-decoration-color: #7f7f7f\">                   </span>\n",
       "<span style=\"color: #7fbfbf; text-decoration-color: #7fbfbf\">                    </span>         ---------------------------------------------------------          <span style=\"color: #7f7f7f; text-decoration-color: #7f7f7f\">                   </span>\n",
       "<span style=\"color: #7fbfbf; text-decoration-color: #7fbfbf\">                    </span>         <span style=\"color: #008080; text-decoration-color: #008080; font-weight: bold\">631</span> K     Trainable params                                         <span style=\"color: #7f7f7f; text-decoration-color: #7f7f7f\">                   </span>\n",
       "<span style=\"color: #7fbfbf; text-decoration-color: #7fbfbf\">                    </span>         <span style=\"color: #008080; text-decoration-color: #008080; font-weight: bold\">0</span>         Non-trainable params                                     <span style=\"color: #7f7f7f; text-decoration-color: #7f7f7f\">                   </span>\n",
       "<span style=\"color: #7fbfbf; text-decoration-color: #7fbfbf\">                    </span>         <span style=\"color: #008080; text-decoration-color: #008080; font-weight: bold\">631</span> K     Total params                                             <span style=\"color: #7f7f7f; text-decoration-color: #7f7f7f\">                   </span>\n",
       "<span style=\"color: #7fbfbf; text-decoration-color: #7fbfbf\">                    </span>         <span style=\"color: #008080; text-decoration-color: #008080; font-weight: bold\">2.525</span>     Total estimated model params size <span style=\"font-weight: bold\">(</span>MB<span style=\"font-weight: bold\">)</span>                   <span style=\"color: #7f7f7f; text-decoration-color: #7f7f7f\">                   </span>\n",
       "</pre>\n"
      ],
      "text/plain": [
       "\u001b[2;36m[07/08/24 12:33:23]\u001b[0m\u001b[2;36m \u001b[0m\u001b[34mINFO    \u001b[0m                                                                    \u001b]8;id=917321;file:///home/filip/miniconda3/envs/hexgin/lib/python3.11/site-packages/pytorch_lightning/callbacks/model_summary.py\u001b\\\u001b[2mmodel_summary.py\u001b[0m\u001b]8;;\u001b\\\u001b[2m:\u001b[0m\u001b]8;id=40007;file:///home/filip/miniconda3/envs/hexgin/lib/python3.11/site-packages/pytorch_lightning/callbacks/model_summary.py#94\u001b\\\u001b[2m94\u001b[0m\u001b]8;;\u001b\\\n",
       "\u001b[2;36m                    \u001b[0m           | Name  | Type                   | Params | Mode                 \u001b[2m                   \u001b[0m\n",
       "\u001b[2;36m                    \u001b[0m         ---------------------------------------------------------          \u001b[2m                   \u001b[0m\n",
       "\u001b[2;36m                    \u001b[0m         \u001b[1;36m0\u001b[0m | model | HeteroGNNLinkPredModel | \u001b[1;36m631\u001b[0m K  | train                \u001b[2m                   \u001b[0m\n",
       "\u001b[2;36m                    \u001b[0m         ---------------------------------------------------------          \u001b[2m                   \u001b[0m\n",
       "\u001b[2;36m                    \u001b[0m         \u001b[1;36m631\u001b[0m K     Trainable params                                         \u001b[2m                   \u001b[0m\n",
       "\u001b[2;36m                    \u001b[0m         \u001b[1;36m0\u001b[0m         Non-trainable params                                     \u001b[2m                   \u001b[0m\n",
       "\u001b[2;36m                    \u001b[0m         \u001b[1;36m631\u001b[0m K     Total params                                             \u001b[2m                   \u001b[0m\n",
       "\u001b[2;36m                    \u001b[0m         \u001b[1;36m2.525\u001b[0m     Total estimated model params size \u001b[1m(\u001b[0mMB\u001b[1m)\u001b[0m                   \u001b[2m                   \u001b[0m\n"
      ]
     },
     "metadata": {},
     "output_type": "display_data"
    },
    {
     "name": "stdout",
     "output_type": "stream",
     "text": [
      "Sanity Checking: |          | 0/? [00:00<?, ?it/s]"
     ]
    },
    {
     "data": {
      "text/html": [
       "<pre style=\"white-space:pre;overflow-x:auto;line-height:normal;font-family:Menlo,'DejaVu Sans Mono',consolas,'Courier New',monospace\"><span style=\"color: #7fbfbf; text-decoration-color: #7fbfbf\">                    </span><span style=\"color: #800000; text-decoration-color: #800000\">WARNING </span> <span style=\"color: #800080; text-decoration-color: #800080\">/home/filip/miniconda3/envs/hexgin/lib/python3.11/site-packages/pytorc</span> <a href=\"file:///home/filip/miniconda3/envs/hexgin/lib/python3.11/warnings.py\" target=\"_blank\"><span style=\"color: #7f7f7f; text-decoration-color: #7f7f7f\">warnings.py</span></a><span style=\"color: #7f7f7f; text-decoration-color: #7f7f7f\">:</span><a href=\"file:///home/filip/miniconda3/envs/hexgin/lib/python3.11/warnings.py#110\" target=\"_blank\"><span style=\"color: #7f7f7f; text-decoration-color: #7f7f7f\">110</span></a>\n",
       "<span style=\"color: #7fbfbf; text-decoration-color: #7fbfbf\">                    </span>         <span style=\"color: #800080; text-decoration-color: #800080\">h_lightning/trainer/connectors/</span><span style=\"color: #ff00ff; text-decoration-color: #ff00ff\">data_connector.py</span>:<span style=\"color: #008080; text-decoration-color: #008080; font-weight: bold\">424</span>: The              <span style=\"color: #7f7f7f; text-decoration-color: #7f7f7f\">               </span>\n",
       "<span style=\"color: #7fbfbf; text-decoration-color: #7fbfbf\">                    </span>         <span style=\"color: #008000; text-decoration-color: #008000\">'val_dataloader'</span> does not have many workers which may be a bottleneck. <span style=\"color: #7f7f7f; text-decoration-color: #7f7f7f\">               </span>\n",
       "<span style=\"color: #7fbfbf; text-decoration-color: #7fbfbf\">                    </span>         Consider increasing the value of the `num_workers` argument` to        <span style=\"color: #7f7f7f; text-decoration-color: #7f7f7f\">               </span>\n",
       "<span style=\"color: #7fbfbf; text-decoration-color: #7fbfbf\">                    </span>         `<span style=\"color: #808000; text-decoration-color: #808000\">num_workers</span>=<span style=\"color: #008080; text-decoration-color: #008080; font-weight: bold\">15</span>` in the `DataLoader` to improve performance.           <span style=\"color: #7f7f7f; text-decoration-color: #7f7f7f\">               </span>\n",
       "<span style=\"color: #7fbfbf; text-decoration-color: #7fbfbf\">                    </span>                                                                                <span style=\"color: #7f7f7f; text-decoration-color: #7f7f7f\">               </span>\n",
       "</pre>\n"
      ],
      "text/plain": [
       "\u001b[2;36m                   \u001b[0m\u001b[2;36m \u001b[0m\u001b[31mWARNING \u001b[0m \u001b[35m/home/filip/miniconda3/envs/hexgin/lib/python3.11/site-packages/pytorc\u001b[0m \u001b]8;id=357352;file:///home/filip/miniconda3/envs/hexgin/lib/python3.11/warnings.py\u001b\\\u001b[2mwarnings.py\u001b[0m\u001b]8;;\u001b\\\u001b[2m:\u001b[0m\u001b]8;id=893477;file:///home/filip/miniconda3/envs/hexgin/lib/python3.11/warnings.py#110\u001b\\\u001b[2m110\u001b[0m\u001b]8;;\u001b\\\n",
       "\u001b[2;36m                    \u001b[0m         \u001b[35mh_lightning/trainer/connectors/\u001b[0m\u001b[95mdata_connector.py\u001b[0m:\u001b[1;36m424\u001b[0m: The              \u001b[2m               \u001b[0m\n",
       "\u001b[2;36m                    \u001b[0m         \u001b[32m'val_dataloader'\u001b[0m does not have many workers which may be a bottleneck. \u001b[2m               \u001b[0m\n",
       "\u001b[2;36m                    \u001b[0m         Consider increasing the value of the `num_workers` argument` to        \u001b[2m               \u001b[0m\n",
       "\u001b[2;36m                    \u001b[0m         `\u001b[33mnum_workers\u001b[0m=\u001b[1;36m15\u001b[0m` in the `DataLoader` to improve performance.           \u001b[2m               \u001b[0m\n",
       "\u001b[2;36m                    \u001b[0m                                                                                \u001b[2m               \u001b[0m\n"
      ]
     },
     "metadata": {},
     "output_type": "display_data"
    },
    {
     "name": "stdout",
     "output_type": "stream",
     "text": [
      "                                                                           \r"
     ]
    },
    {
     "data": {
      "text/html": [
       "<pre style=\"white-space:pre;overflow-x:auto;line-height:normal;font-family:Menlo,'DejaVu Sans Mono',consolas,'Courier New',monospace\"><span style=\"color: #7fbfbf; text-decoration-color: #7fbfbf\">                    </span><span style=\"color: #800000; text-decoration-color: #800000\">WARNING </span> <span style=\"color: #800080; text-decoration-color: #800080\">/home/filip/miniconda3/envs/hexgin/lib/python3.11/site-packages/pytorc</span> <a href=\"file:///home/filip/miniconda3/envs/hexgin/lib/python3.11/warnings.py\" target=\"_blank\"><span style=\"color: #7f7f7f; text-decoration-color: #7f7f7f\">warnings.py</span></a><span style=\"color: #7f7f7f; text-decoration-color: #7f7f7f\">:</span><a href=\"file:///home/filip/miniconda3/envs/hexgin/lib/python3.11/warnings.py#110\" target=\"_blank\"><span style=\"color: #7f7f7f; text-decoration-color: #7f7f7f\">110</span></a>\n",
       "<span style=\"color: #7fbfbf; text-decoration-color: #7fbfbf\">                    </span>         <span style=\"color: #800080; text-decoration-color: #800080\">h_lightning/trainer/connectors/</span><span style=\"color: #ff00ff; text-decoration-color: #ff00ff\">data_connector.py</span>:<span style=\"color: #008080; text-decoration-color: #008080; font-weight: bold\">424</span>: The              <span style=\"color: #7f7f7f; text-decoration-color: #7f7f7f\">               </span>\n",
       "<span style=\"color: #7fbfbf; text-decoration-color: #7fbfbf\">                    </span>         <span style=\"color: #008000; text-decoration-color: #008000\">'train_dataloader'</span> does not have many workers which may be a           <span style=\"color: #7f7f7f; text-decoration-color: #7f7f7f\">               </span>\n",
       "<span style=\"color: #7fbfbf; text-decoration-color: #7fbfbf\">                    </span>         bottleneck. Consider increasing the value of the `num_workers`         <span style=\"color: #7f7f7f; text-decoration-color: #7f7f7f\">               </span>\n",
       "<span style=\"color: #7fbfbf; text-decoration-color: #7fbfbf\">                    </span>         argument` to `<span style=\"color: #808000; text-decoration-color: #808000\">num_workers</span>=<span style=\"color: #008080; text-decoration-color: #008080; font-weight: bold\">15</span>` in the `DataLoader` to improve           <span style=\"color: #7f7f7f; text-decoration-color: #7f7f7f\">               </span>\n",
       "<span style=\"color: #7fbfbf; text-decoration-color: #7fbfbf\">                    </span>         performance.                                                           <span style=\"color: #7f7f7f; text-decoration-color: #7f7f7f\">               </span>\n",
       "<span style=\"color: #7fbfbf; text-decoration-color: #7fbfbf\">                    </span>                                                                                <span style=\"color: #7f7f7f; text-decoration-color: #7f7f7f\">               </span>\n",
       "</pre>\n"
      ],
      "text/plain": [
       "\u001b[2;36m                   \u001b[0m\u001b[2;36m \u001b[0m\u001b[31mWARNING \u001b[0m \u001b[35m/home/filip/miniconda3/envs/hexgin/lib/python3.11/site-packages/pytorc\u001b[0m \u001b]8;id=357352;file:///home/filip/miniconda3/envs/hexgin/lib/python3.11/warnings.py\u001b\\\u001b[2mwarnings.py\u001b[0m\u001b]8;;\u001b\\\u001b[2m:\u001b[0m\u001b]8;id=893477;file:///home/filip/miniconda3/envs/hexgin/lib/python3.11/warnings.py#110\u001b\\\u001b[2m110\u001b[0m\u001b]8;;\u001b\\\n",
       "\u001b[2;36m                    \u001b[0m         \u001b[35mh_lightning/trainer/connectors/\u001b[0m\u001b[95mdata_connector.py\u001b[0m:\u001b[1;36m424\u001b[0m: The              \u001b[2m               \u001b[0m\n",
       "\u001b[2;36m                    \u001b[0m         \u001b[32m'train_dataloader'\u001b[0m does not have many workers which may be a           \u001b[2m               \u001b[0m\n",
       "\u001b[2;36m                    \u001b[0m         bottleneck. Consider increasing the value of the `num_workers`         \u001b[2m               \u001b[0m\n",
       "\u001b[2;36m                    \u001b[0m         argument` to `\u001b[33mnum_workers\u001b[0m=\u001b[1;36m15\u001b[0m` in the `DataLoader` to improve           \u001b[2m               \u001b[0m\n",
       "\u001b[2;36m                    \u001b[0m         performance.                                                           \u001b[2m               \u001b[0m\n",
       "\u001b[2;36m                    \u001b[0m                                                                                \u001b[2m               \u001b[0m\n"
      ]
     },
     "metadata": {},
     "output_type": "display_data"
    },
    {
     "name": "stdout",
     "output_type": "stream",
     "text": [
      "Epoch 11: 100%|██████████| 13/13 [00:00<00:00, 23.38it/s, v_num=65_1]\n"
     ]
    },
    {
     "data": {
      "text/html": [
       "<pre style=\"white-space:pre;overflow-x:auto;line-height:normal;font-family:Menlo,'DejaVu Sans Mono',consolas,'Courier New',monospace\"><span style=\"color: #7fbfbf; text-decoration-color: #7fbfbf\">[07/08/24 12:33:30] </span><span style=\"color: #800000; text-decoration-color: #800000\">WARNING </span> <span style=\"color: #800080; text-decoration-color: #800080\">/home/filip/miniconda3/envs/hexgin/lib/python3.11/site-packages/torch_</span> <a href=\"file:///home/filip/miniconda3/envs/hexgin/lib/python3.11/warnings.py\" target=\"_blank\"><span style=\"color: #7f7f7f; text-decoration-color: #7f7f7f\">warnings.py</span></a><span style=\"color: #7f7f7f; text-decoration-color: #7f7f7f\">:</span><a href=\"file:///home/filip/miniconda3/envs/hexgin/lib/python3.11/warnings.py#110\" target=\"_blank\"><span style=\"color: #7f7f7f; text-decoration-color: #7f7f7f\">110</span></a>\n",
       "<span style=\"color: #7fbfbf; text-decoration-color: #7fbfbf\">                    </span>         <span style=\"color: #800080; text-decoration-color: #800080\">geometric/</span><span style=\"color: #ff00ff; text-decoration-color: #ff00ff\">deprecation.py</span>:<span style=\"color: #008080; text-decoration-color: #008080; font-weight: bold\">26</span>: UserWarning: <span style=\"color: #008000; text-decoration-color: #008000\">'data.DataLoader'</span> is         <span style=\"color: #7f7f7f; text-decoration-color: #7f7f7f\">               </span>\n",
       "<span style=\"color: #7fbfbf; text-decoration-color: #7fbfbf\">                    </span>         deprecated, use <span style=\"color: #008000; text-decoration-color: #008000\">'loader.DataLoader'</span> instead                            <span style=\"color: #7f7f7f; text-decoration-color: #7f7f7f\">               </span>\n",
       "<span style=\"color: #7fbfbf; text-decoration-color: #7fbfbf\">                    </span>           <span style=\"color: #800080; text-decoration-color: #800080; font-weight: bold\">warnings.warn</span><span style=\"font-weight: bold\">(</span>out<span style=\"font-weight: bold\">)</span>                                                   <span style=\"color: #7f7f7f; text-decoration-color: #7f7f7f\">               </span>\n",
       "<span style=\"color: #7fbfbf; text-decoration-color: #7fbfbf\">                    </span>                                                                                <span style=\"color: #7f7f7f; text-decoration-color: #7f7f7f\">               </span>\n",
       "</pre>\n"
      ],
      "text/plain": [
       "\u001b[2;36m[07/08/24 12:33:30]\u001b[0m\u001b[2;36m \u001b[0m\u001b[31mWARNING \u001b[0m \u001b[35m/home/filip/miniconda3/envs/hexgin/lib/python3.11/site-packages/torch_\u001b[0m \u001b]8;id=588211;file:///home/filip/miniconda3/envs/hexgin/lib/python3.11/warnings.py\u001b\\\u001b[2mwarnings.py\u001b[0m\u001b]8;;\u001b\\\u001b[2m:\u001b[0m\u001b]8;id=350010;file:///home/filip/miniconda3/envs/hexgin/lib/python3.11/warnings.py#110\u001b\\\u001b[2m110\u001b[0m\u001b]8;;\u001b\\\n",
       "\u001b[2;36m                    \u001b[0m         \u001b[35mgeometric/\u001b[0m\u001b[95mdeprecation.py\u001b[0m:\u001b[1;36m26\u001b[0m: UserWarning: \u001b[32m'data.DataLoader'\u001b[0m is         \u001b[2m               \u001b[0m\n",
       "\u001b[2;36m                    \u001b[0m         deprecated, use \u001b[32m'loader.DataLoader'\u001b[0m instead                            \u001b[2m               \u001b[0m\n",
       "\u001b[2;36m                    \u001b[0m           \u001b[1;35mwarnings.warn\u001b[0m\u001b[1m(\u001b[0mout\u001b[1m)\u001b[0m                                                   \u001b[2m               \u001b[0m\n",
       "\u001b[2;36m                    \u001b[0m                                                                                \u001b[2m               \u001b[0m\n"
      ]
     },
     "metadata": {},
     "output_type": "display_data"
    },
    {
     "data": {
      "text/html": [
       "<pre style=\"white-space:pre;overflow-x:auto;line-height:normal;font-family:Menlo,'DejaVu Sans Mono',consolas,'Courier New',monospace\"><span style=\"color: #7fbfbf; text-decoration-color: #7fbfbf\">                    </span><span style=\"color: #000080; text-decoration-color: #000080\">INFO    </span> Restoring states from the checkpoint path at                           <a href=\"file:///home/filip/miniconda3/envs/hexgin/lib/python3.11/site-packages/lightning_utilities/core/rank_zero.py\" target=\"_blank\"><span style=\"color: #7f7f7f; text-decoration-color: #7f7f7f\">rank_zero.py</span></a><span style=\"color: #7f7f7f; text-decoration-color: #7f7f7f\">:</span><a href=\"file:///home/filip/miniconda3/envs/hexgin/lib/python3.11/site-packages/lightning_utilities/core/rank_zero.py#63\" target=\"_blank\"><span style=\"color: #7f7f7f; text-decoration-color: #7f7f7f\">63</span></a>\n",
       "<span style=\"color: #7fbfbf; text-decoration-color: #7fbfbf\">                    </span>         .<span style=\"color: #800080; text-decoration-color: #800080\">/mlruns/741360718138505769/392f153f8f5c43eaa9b45340674a1165/checkpoin</span> <span style=\"color: #7f7f7f; text-decoration-color: #7f7f7f\">               </span>\n",
       "<span style=\"color: #7fbfbf; text-decoration-color: #7fbfbf\">                    </span>         <span style=\"color: #800080; text-decoration-color: #800080\">ts/</span><span style=\"color: #ff00ff; text-decoration-color: #ff00ff\">epoch</span>=<span style=\"color: #008080; text-decoration-color: #008080; font-weight: bold\">5</span>-<span style=\"color: #808000; text-decoration-color: #808000\">step</span>=<span style=\"color: #008080; text-decoration-color: #008080; font-weight: bold\">78.</span>ckpt                                                <span style=\"color: #7f7f7f; text-decoration-color: #7f7f7f\">               </span>\n",
       "</pre>\n"
      ],
      "text/plain": [
       "\u001b[2;36m                   \u001b[0m\u001b[2;36m \u001b[0m\u001b[34mINFO    \u001b[0m Restoring states from the checkpoint path at                           \u001b]8;id=949910;file:///home/filip/miniconda3/envs/hexgin/lib/python3.11/site-packages/lightning_utilities/core/rank_zero.py\u001b\\\u001b[2mrank_zero.py\u001b[0m\u001b]8;;\u001b\\\u001b[2m:\u001b[0m\u001b]8;id=457468;file:///home/filip/miniconda3/envs/hexgin/lib/python3.11/site-packages/lightning_utilities/core/rank_zero.py#63\u001b\\\u001b[2m63\u001b[0m\u001b]8;;\u001b\\\n",
       "\u001b[2;36m                    \u001b[0m         .\u001b[35m/mlruns/741360718138505769/392f153f8f5c43eaa9b45340674a1165/checkpoin\u001b[0m \u001b[2m               \u001b[0m\n",
       "\u001b[2;36m                    \u001b[0m         \u001b[35mts/\u001b[0m\u001b[95mepoch\u001b[0m=\u001b[1;36m5\u001b[0m-\u001b[33mstep\u001b[0m=\u001b[1;36m78\u001b[0m\u001b[1;36m.\u001b[0mckpt                                                \u001b[2m               \u001b[0m\n"
      ]
     },
     "metadata": {},
     "output_type": "display_data"
    },
    {
     "data": {
      "text/html": [
       "<pre style=\"white-space:pre;overflow-x:auto;line-height:normal;font-family:Menlo,'DejaVu Sans Mono',consolas,'Courier New',monospace\"><span style=\"color: #7fbfbf; text-decoration-color: #7fbfbf\">                    </span><span style=\"color: #000080; text-decoration-color: #000080\">INFO    </span> Loaded model weights from the checkpoint at                            <a href=\"file:///home/filip/miniconda3/envs/hexgin/lib/python3.11/site-packages/lightning_utilities/core/rank_zero.py\" target=\"_blank\"><span style=\"color: #7f7f7f; text-decoration-color: #7f7f7f\">rank_zero.py</span></a><span style=\"color: #7f7f7f; text-decoration-color: #7f7f7f\">:</span><a href=\"file:///home/filip/miniconda3/envs/hexgin/lib/python3.11/site-packages/lightning_utilities/core/rank_zero.py#63\" target=\"_blank\"><span style=\"color: #7f7f7f; text-decoration-color: #7f7f7f\">63</span></a>\n",
       "<span style=\"color: #7fbfbf; text-decoration-color: #7fbfbf\">                    </span>         .<span style=\"color: #800080; text-decoration-color: #800080\">/mlruns/741360718138505769/392f153f8f5c43eaa9b45340674a1165/checkpoin</span> <span style=\"color: #7f7f7f; text-decoration-color: #7f7f7f\">               </span>\n",
       "<span style=\"color: #7fbfbf; text-decoration-color: #7fbfbf\">                    </span>         <span style=\"color: #800080; text-decoration-color: #800080\">ts/</span><span style=\"color: #ff00ff; text-decoration-color: #ff00ff\">epoch</span>=<span style=\"color: #008080; text-decoration-color: #008080; font-weight: bold\">5</span>-<span style=\"color: #808000; text-decoration-color: #808000\">step</span>=<span style=\"color: #008080; text-decoration-color: #008080; font-weight: bold\">78.</span>ckpt                                                <span style=\"color: #7f7f7f; text-decoration-color: #7f7f7f\">               </span>\n",
       "</pre>\n"
      ],
      "text/plain": [
       "\u001b[2;36m                   \u001b[0m\u001b[2;36m \u001b[0m\u001b[34mINFO    \u001b[0m Loaded model weights from the checkpoint at                            \u001b]8;id=395936;file:///home/filip/miniconda3/envs/hexgin/lib/python3.11/site-packages/lightning_utilities/core/rank_zero.py\u001b\\\u001b[2mrank_zero.py\u001b[0m\u001b]8;;\u001b\\\u001b[2m:\u001b[0m\u001b]8;id=73271;file:///home/filip/miniconda3/envs/hexgin/lib/python3.11/site-packages/lightning_utilities/core/rank_zero.py#63\u001b\\\u001b[2m63\u001b[0m\u001b]8;;\u001b\\\n",
       "\u001b[2;36m                    \u001b[0m         .\u001b[35m/mlruns/741360718138505769/392f153f8f5c43eaa9b45340674a1165/checkpoin\u001b[0m \u001b[2m               \u001b[0m\n",
       "\u001b[2;36m                    \u001b[0m         \u001b[35mts/\u001b[0m\u001b[95mepoch\u001b[0m=\u001b[1;36m5\u001b[0m-\u001b[33mstep\u001b[0m=\u001b[1;36m78\u001b[0m\u001b[1;36m.\u001b[0mckpt                                                \u001b[2m               \u001b[0m\n"
      ]
     },
     "metadata": {},
     "output_type": "display_data"
    },
    {
     "data": {
      "text/html": [
       "<pre style=\"white-space:pre;overflow-x:auto;line-height:normal;font-family:Menlo,'DejaVu Sans Mono',consolas,'Courier New',monospace\"><span style=\"color: #7fbfbf; text-decoration-color: #7fbfbf\">                    </span><span style=\"color: #800000; text-decoration-color: #800000\">WARNING </span> <span style=\"color: #800080; text-decoration-color: #800080\">/home/filip/miniconda3/envs/hexgin/lib/python3.11/site-packages/pytorc</span> <a href=\"file:///home/filip/miniconda3/envs/hexgin/lib/python3.11/warnings.py\" target=\"_blank\"><span style=\"color: #7f7f7f; text-decoration-color: #7f7f7f\">warnings.py</span></a><span style=\"color: #7f7f7f; text-decoration-color: #7f7f7f\">:</span><a href=\"file:///home/filip/miniconda3/envs/hexgin/lib/python3.11/warnings.py#110\" target=\"_blank\"><span style=\"color: #7f7f7f; text-decoration-color: #7f7f7f\">110</span></a>\n",
       "<span style=\"color: #7fbfbf; text-decoration-color: #7fbfbf\">                    </span>         <span style=\"color: #800080; text-decoration-color: #800080\">h_lightning/trainer/connectors/</span><span style=\"color: #ff00ff; text-decoration-color: #ff00ff\">data_connector.py</span>:<span style=\"color: #008080; text-decoration-color: #008080; font-weight: bold\">424</span>: The              <span style=\"color: #7f7f7f; text-decoration-color: #7f7f7f\">               </span>\n",
       "<span style=\"color: #7fbfbf; text-decoration-color: #7fbfbf\">                    </span>         <span style=\"color: #008000; text-decoration-color: #008000\">'test_dataloader'</span> does not have many workers which may be a            <span style=\"color: #7f7f7f; text-decoration-color: #7f7f7f\">               </span>\n",
       "<span style=\"color: #7fbfbf; text-decoration-color: #7fbfbf\">                    </span>         bottleneck. Consider increasing the value of the `num_workers`         <span style=\"color: #7f7f7f; text-decoration-color: #7f7f7f\">               </span>\n",
       "<span style=\"color: #7fbfbf; text-decoration-color: #7fbfbf\">                    </span>         argument` to `<span style=\"color: #808000; text-decoration-color: #808000\">num_workers</span>=<span style=\"color: #008080; text-decoration-color: #008080; font-weight: bold\">15</span>` in the `DataLoader` to improve           <span style=\"color: #7f7f7f; text-decoration-color: #7f7f7f\">               </span>\n",
       "<span style=\"color: #7fbfbf; text-decoration-color: #7fbfbf\">                    </span>         performance.                                                           <span style=\"color: #7f7f7f; text-decoration-color: #7f7f7f\">               </span>\n",
       "<span style=\"color: #7fbfbf; text-decoration-color: #7fbfbf\">                    </span>                                                                                <span style=\"color: #7f7f7f; text-decoration-color: #7f7f7f\">               </span>\n",
       "</pre>\n"
      ],
      "text/plain": [
       "\u001b[2;36m                   \u001b[0m\u001b[2;36m \u001b[0m\u001b[31mWARNING \u001b[0m \u001b[35m/home/filip/miniconda3/envs/hexgin/lib/python3.11/site-packages/pytorc\u001b[0m \u001b]8;id=106993;file:///home/filip/miniconda3/envs/hexgin/lib/python3.11/warnings.py\u001b\\\u001b[2mwarnings.py\u001b[0m\u001b]8;;\u001b\\\u001b[2m:\u001b[0m\u001b]8;id=949379;file:///home/filip/miniconda3/envs/hexgin/lib/python3.11/warnings.py#110\u001b\\\u001b[2m110\u001b[0m\u001b]8;;\u001b\\\n",
       "\u001b[2;36m                    \u001b[0m         \u001b[35mh_lightning/trainer/connectors/\u001b[0m\u001b[95mdata_connector.py\u001b[0m:\u001b[1;36m424\u001b[0m: The              \u001b[2m               \u001b[0m\n",
       "\u001b[2;36m                    \u001b[0m         \u001b[32m'test_dataloader'\u001b[0m does not have many workers which may be a            \u001b[2m               \u001b[0m\n",
       "\u001b[2;36m                    \u001b[0m         bottleneck. Consider increasing the value of the `num_workers`         \u001b[2m               \u001b[0m\n",
       "\u001b[2;36m                    \u001b[0m         argument` to `\u001b[33mnum_workers\u001b[0m=\u001b[1;36m15\u001b[0m` in the `DataLoader` to improve           \u001b[2m               \u001b[0m\n",
       "\u001b[2;36m                    \u001b[0m         performance.                                                           \u001b[2m               \u001b[0m\n",
       "\u001b[2;36m                    \u001b[0m                                                                                \u001b[2m               \u001b[0m\n"
      ]
     },
     "metadata": {},
     "output_type": "display_data"
    },
    {
     "name": "stdout",
     "output_type": "stream",
     "text": [
      "Testing DataLoader 0: 100%|██████████| 1/1 [00:00<00:00, 27.29it/s]\n"
     ]
    },
    {
     "data": {
      "text/html": [
       "<pre style=\"white-space:pre;overflow-x:auto;line-height:normal;font-family:Menlo,'DejaVu Sans Mono',consolas,'Courier New',monospace\">┏━━━━━━━━━━━━━━━━━━━━━━━━━━━┳━━━━━━━━━━━━━━━━━━━━━━━━━━━┓\n",
       "┃<span style=\"font-weight: bold\">        Test metric        </span>┃<span style=\"font-weight: bold\">       DataLoader 0        </span>┃\n",
       "┡━━━━━━━━━━━━━━━━━━━━━━━━━━━╇━━━━━━━━━━━━━━━━━━━━━━━━━━━┩\n",
       "│<span style=\"color: #008080; text-decoration-color: #008080\">          test_f1          </span>│<span style=\"color: #800080; text-decoration-color: #800080\">    0.7265264391899109     </span>│\n",
       "│<span style=\"color: #008080; text-decoration-color: #008080\">      test_loss_epoch      </span>│<span style=\"color: #800080; text-decoration-color: #800080\">    0.6382900476455688     </span>│\n",
       "│<span style=\"color: #008080; text-decoration-color: #008080\">      test_precision       </span>│<span style=\"color: #800080; text-decoration-color: #800080\">    0.8602673411369324     </span>│\n",
       "│<span style=\"color: #008080; text-decoration-color: #008080\">        test_recall        </span>│<span style=\"color: #800080; text-decoration-color: #800080\">    0.6287744045257568     </span>│\n",
       "└───────────────────────────┴───────────────────────────┘\n",
       "</pre>\n"
      ],
      "text/plain": [
       "┏━━━━━━━━━━━━━━━━━━━━━━━━━━━┳━━━━━━━━━━━━━━━━━━━━━━━━━━━┓\n",
       "┃\u001b[1m \u001b[0m\u001b[1m       Test metric       \u001b[0m\u001b[1m \u001b[0m┃\u001b[1m \u001b[0m\u001b[1m      DataLoader 0       \u001b[0m\u001b[1m \u001b[0m┃\n",
       "┡━━━━━━━━━━━━━━━━━━━━━━━━━━━╇━━━━━━━━━━━━━━━━━━━━━━━━━━━┩\n",
       "│\u001b[36m \u001b[0m\u001b[36m         test_f1         \u001b[0m\u001b[36m \u001b[0m│\u001b[35m \u001b[0m\u001b[35m   0.7265264391899109    \u001b[0m\u001b[35m \u001b[0m│\n",
       "│\u001b[36m \u001b[0m\u001b[36m     test_loss_epoch     \u001b[0m\u001b[36m \u001b[0m│\u001b[35m \u001b[0m\u001b[35m   0.6382900476455688    \u001b[0m\u001b[35m \u001b[0m│\n",
       "│\u001b[36m \u001b[0m\u001b[36m     test_precision      \u001b[0m\u001b[36m \u001b[0m│\u001b[35m \u001b[0m\u001b[35m   0.8602673411369324    \u001b[0m\u001b[35m \u001b[0m│\n",
       "│\u001b[36m \u001b[0m\u001b[36m       test_recall       \u001b[0m\u001b[36m \u001b[0m│\u001b[35m \u001b[0m\u001b[35m   0.6287744045257568    \u001b[0m\u001b[35m \u001b[0m│\n",
       "└───────────────────────────┴───────────────────────────┘\n"
      ]
     },
     "metadata": {},
     "output_type": "display_data"
    }
   ],
   "source": [
    "hexgin_test_report, hexgin_metric = experiment_nodes.train_hexgin(\n",
    "    train_g,\n",
    "    val_g,\n",
    "    test_g,\n",
    "    entity_encoder,\n",
    "    filing_encoder,\n",
    "    country_encoder,\n",
    "    model_params,\n",
    "    training_params\n",
    ")"
   ]
  },
  {
   "cell_type": "code",
   "execution_count": 24,
   "metadata": {},
   "outputs": [
    {
     "name": "stdout",
     "output_type": "stream",
     "text": [
      "         class  precision    recall  f1-score  support\n",
      "0            0   0.707488  0.897869  0.791389   1126.0\n",
      "1            1   0.860267  0.628774  0.726526   1126.0\n",
      "2  avg / total   0.783878  0.763321  0.758958   2252.0\n"
     ]
    }
   ],
   "source": [
    "print(hexgin_test_report)"
   ]
  },
  {
   "cell_type": "code",
   "execution_count": 25,
   "metadata": {},
   "outputs": [
    {
     "name": "stdout",
     "output_type": "stream",
     "text": [
      "         f1  precision    recall    rocauc   model\n",
      "0  0.726526   0.860267  0.628774  0.815136  HexGIN\n"
     ]
    }
   ],
   "source": [
    "print(hexgin_metric)"
   ]
  },
  {
   "cell_type": "markdown",
   "metadata": {},
   "source": [
    "# Hexgin model predictions visualizataion\n",
    "\n",
    "Secion below presents how to visualize predictions of HexGIN model using CAPTUM and SHAP tools.\n",
    "\n",
    "Note, that, as this is a dedicated fuctionality for heterogeneous graph NNs, part of this work is being now moved to the separate project: **HEXTRACTOR** that\n",
    "will be made available as a separate publication.\n",
    "\n",
    "The project can be now accessed at: [HEXTRACTOR repo](https://github.com/maddataanalyst/hextractor)."
   ]
  },
  {
   "cell_type": "markdown",
   "metadata": {},
   "source": [
    "### Prepare model for explanation visualization"
   ]
  },
  {
   "cell_type": "code",
   "execution_count": 27,
   "metadata": {},
   "outputs": [
    {
     "data": {
      "text/html": [
       "<pre style=\"white-space:pre;overflow-x:auto;line-height:normal;font-family:Menlo,'DejaVu Sans Mono',consolas,'Courier New',monospace\"><span style=\"color: #7fbfbf; text-decoration-color: #7fbfbf\">[07/08/24 12:36:25] </span><span style=\"color: #000080; text-decoration-color: #000080\">INFO    </span> GPU available: <span style=\"color: #00ff00; text-decoration-color: #00ff00; font-style: italic\">True</span> <span style=\"font-weight: bold\">(</span>cuda<span style=\"font-weight: bold\">)</span>, used: <span style=\"color: #00ff00; text-decoration-color: #00ff00; font-style: italic\">True</span>                                 <a href=\"file:///home/filip/miniconda3/envs/hexgin/lib/python3.11/site-packages/lightning_utilities/core/rank_zero.py\" target=\"_blank\"><span style=\"color: #7f7f7f; text-decoration-color: #7f7f7f\">rank_zero.py</span></a><span style=\"color: #7f7f7f; text-decoration-color: #7f7f7f\">:</span><a href=\"file:///home/filip/miniconda3/envs/hexgin/lib/python3.11/site-packages/lightning_utilities/core/rank_zero.py#63\" target=\"_blank\"><span style=\"color: #7f7f7f; text-decoration-color: #7f7f7f\">63</span></a>\n",
       "</pre>\n"
      ],
      "text/plain": [
       "\u001b[2;36m[07/08/24 12:36:25]\u001b[0m\u001b[2;36m \u001b[0m\u001b[34mINFO    \u001b[0m GPU available: \u001b[3;92mTrue\u001b[0m \u001b[1m(\u001b[0mcuda\u001b[1m)\u001b[0m, used: \u001b[3;92mTrue\u001b[0m                                 \u001b]8;id=427023;file:///home/filip/miniconda3/envs/hexgin/lib/python3.11/site-packages/lightning_utilities/core/rank_zero.py\u001b\\\u001b[2mrank_zero.py\u001b[0m\u001b]8;;\u001b\\\u001b[2m:\u001b[0m\u001b]8;id=279501;file:///home/filip/miniconda3/envs/hexgin/lib/python3.11/site-packages/lightning_utilities/core/rank_zero.py#63\u001b\\\u001b[2m63\u001b[0m\u001b]8;;\u001b\\\n"
      ]
     },
     "metadata": {},
     "output_type": "display_data"
    },
    {
     "data": {
      "text/html": [
       "<pre style=\"white-space:pre;overflow-x:auto;line-height:normal;font-family:Menlo,'DejaVu Sans Mono',consolas,'Courier New',monospace\"><span style=\"color: #7fbfbf; text-decoration-color: #7fbfbf\">                    </span><span style=\"color: #000080; text-decoration-color: #000080\">INFO    </span> TPU available: <span style=\"color: #ff0000; text-decoration-color: #ff0000; font-style: italic\">False</span>, using: <span style=\"color: #008080; text-decoration-color: #008080; font-weight: bold\">0</span> TPU cores                               <a href=\"file:///home/filip/miniconda3/envs/hexgin/lib/python3.11/site-packages/lightning_utilities/core/rank_zero.py\" target=\"_blank\"><span style=\"color: #7f7f7f; text-decoration-color: #7f7f7f\">rank_zero.py</span></a><span style=\"color: #7f7f7f; text-decoration-color: #7f7f7f\">:</span><a href=\"file:///home/filip/miniconda3/envs/hexgin/lib/python3.11/site-packages/lightning_utilities/core/rank_zero.py#63\" target=\"_blank\"><span style=\"color: #7f7f7f; text-decoration-color: #7f7f7f\">63</span></a>\n",
       "</pre>\n"
      ],
      "text/plain": [
       "\u001b[2;36m                   \u001b[0m\u001b[2;36m \u001b[0m\u001b[34mINFO    \u001b[0m TPU available: \u001b[3;91mFalse\u001b[0m, using: \u001b[1;36m0\u001b[0m TPU cores                               \u001b]8;id=40007;file:///home/filip/miniconda3/envs/hexgin/lib/python3.11/site-packages/lightning_utilities/core/rank_zero.py\u001b\\\u001b[2mrank_zero.py\u001b[0m\u001b]8;;\u001b\\\u001b[2m:\u001b[0m\u001b]8;id=397540;file:///home/filip/miniconda3/envs/hexgin/lib/python3.11/site-packages/lightning_utilities/core/rank_zero.py#63\u001b\\\u001b[2m63\u001b[0m\u001b]8;;\u001b\\\n"
      ]
     },
     "metadata": {},
     "output_type": "display_data"
    },
    {
     "data": {
      "text/html": [
       "<pre style=\"white-space:pre;overflow-x:auto;line-height:normal;font-family:Menlo,'DejaVu Sans Mono',consolas,'Courier New',monospace\"><span style=\"color: #7fbfbf; text-decoration-color: #7fbfbf\">                    </span><span style=\"color: #000080; text-decoration-color: #000080\">INFO    </span> HPU available: <span style=\"color: #ff0000; text-decoration-color: #ff0000; font-style: italic\">False</span>, using: <span style=\"color: #008080; text-decoration-color: #008080; font-weight: bold\">0</span> HPUs                                    <a href=\"file:///home/filip/miniconda3/envs/hexgin/lib/python3.11/site-packages/lightning_utilities/core/rank_zero.py\" target=\"_blank\"><span style=\"color: #7f7f7f; text-decoration-color: #7f7f7f\">rank_zero.py</span></a><span style=\"color: #7f7f7f; text-decoration-color: #7f7f7f\">:</span><a href=\"file:///home/filip/miniconda3/envs/hexgin/lib/python3.11/site-packages/lightning_utilities/core/rank_zero.py#63\" target=\"_blank\"><span style=\"color: #7f7f7f; text-decoration-color: #7f7f7f\">63</span></a>\n",
       "</pre>\n"
      ],
      "text/plain": [
       "\u001b[2;36m                   \u001b[0m\u001b[2;36m \u001b[0m\u001b[34mINFO    \u001b[0m HPU available: \u001b[3;91mFalse\u001b[0m, using: \u001b[1;36m0\u001b[0m HPUs                                    \u001b]8;id=893477;file:///home/filip/miniconda3/envs/hexgin/lib/python3.11/site-packages/lightning_utilities/core/rank_zero.py\u001b\\\u001b[2mrank_zero.py\u001b[0m\u001b]8;;\u001b\\\u001b[2m:\u001b[0m\u001b]8;id=54422;file:///home/filip/miniconda3/envs/hexgin/lib/python3.11/site-packages/lightning_utilities/core/rank_zero.py#63\u001b\\\u001b[2m63\u001b[0m\u001b]8;;\u001b\\\n"
      ]
     },
     "metadata": {},
     "output_type": "display_data"
    },
    {
     "data": {
      "text/html": [
       "<pre style=\"white-space:pre;overflow-x:auto;line-height:normal;font-family:Menlo,'DejaVu Sans Mono',consolas,'Courier New',monospace\"><span style=\"color: #7fbfbf; text-decoration-color: #7fbfbf\">                    </span><span style=\"color: #000080; text-decoration-color: #000080\">INFO    </span> Seed set to <span style=\"color: #008080; text-decoration-color: #008080; font-weight: bold\">123</span>                                                             <a href=\"file:///home/filip/miniconda3/envs/hexgin/lib/python3.11/site-packages/lightning_fabric/utilities/seed.py\" target=\"_blank\"><span style=\"color: #7f7f7f; text-decoration-color: #7f7f7f\">seed.py</span></a><span style=\"color: #7f7f7f; text-decoration-color: #7f7f7f\">:</span><a href=\"file:///home/filip/miniconda3/envs/hexgin/lib/python3.11/site-packages/lightning_fabric/utilities/seed.py#54\" target=\"_blank\"><span style=\"color: #7f7f7f; text-decoration-color: #7f7f7f\">54</span></a>\n",
       "</pre>\n"
      ],
      "text/plain": [
       "\u001b[2;36m                   \u001b[0m\u001b[2;36m \u001b[0m\u001b[34mINFO    \u001b[0m Seed set to \u001b[1;36m123\u001b[0m                                                             \u001b]8;id=350010;file:///home/filip/miniconda3/envs/hexgin/lib/python3.11/site-packages/lightning_fabric/utilities/seed.py\u001b\\\u001b[2mseed.py\u001b[0m\u001b]8;;\u001b\\\u001b[2m:\u001b[0m\u001b]8;id=735775;file:///home/filip/miniconda3/envs/hexgin/lib/python3.11/site-packages/lightning_fabric/utilities/seed.py#54\u001b\\\u001b[2m54\u001b[0m\u001b]8;;\u001b\\\n"
      ]
     },
     "metadata": {},
     "output_type": "display_data"
    },
    {
     "data": {
      "text/html": [
       "<pre style=\"white-space:pre;overflow-x:auto;line-height:normal;font-family:Menlo,'DejaVu Sans Mono',consolas,'Courier New',monospace\"></pre>\n"
      ],
      "text/plain": []
     },
     "metadata": {},
     "output_type": "display_data"
    },
    {
     "data": {
      "text/plain": [
       "\u001b[1;36m123\u001b[0m"
      ]
     },
     "execution_count": 27,
     "metadata": {},
     "output_type": "execute_result"
    }
   ],
   "source": [
    "hexgin = fmu.build_hexgin_net(\n",
    "    dim_ents=entity_encoder.classes_.shape[0],\n",
    "    dim_countries=country_encoder.classes_.shape[0],\n",
    "    dim_filings=filing_encoder.classes_.shape[0],\n",
    "    hexgin_params=hexgin_config\n",
    "\n",
    ")\n",
    "hexgin_lit = litw.LinkPredLitWrapper(hexgin, \"HexGIN\", cc.TARGET_RELATION, learning_rate=0.001,\n",
    "                                        params=hexgin_config)\n",
    "early_stop = pl.callbacks.early_stopping.EarlyStopping(monitor='val_f1', patience=2, mode='max')\n",
    "\n",
    "trainer = pl.Trainer(\n",
    "        check_val_every_n_epoch=3,\n",
    "        max_epochs=20,\n",
    "        enable_checkpointing=True,\n",
    "        callbacks=[early_stop],\n",
    "        accelerator='cuda',\n",
    "        log_every_n_steps=5,\n",
    "        deterministic=True)\n",
    "pl.seed_everything(123)"
   ]
  },
  {
   "cell_type": "code",
   "execution_count": 30,
   "metadata": {},
   "outputs": [
    {
     "data": {
      "text/html": [
       "<pre style=\"white-space:pre;overflow-x:auto;line-height:normal;font-family:Menlo,'DejaVu Sans Mono',consolas,'Courier New',monospace\"><span style=\"color: #7fbfbf; text-decoration-color: #7fbfbf\">[07/08/24 12:37:55] </span><span style=\"color: #800000; text-decoration-color: #800000\">WARNING </span> <span style=\"color: #800080; text-decoration-color: #800080\">/home/filip/miniconda3/envs/hexgin/lib/python3.11/site-packages/torch_</span> <a href=\"file:///home/filip/miniconda3/envs/hexgin/lib/python3.11/warnings.py\" target=\"_blank\"><span style=\"color: #7f7f7f; text-decoration-color: #7f7f7f\">warnings.py</span></a><span style=\"color: #7f7f7f; text-decoration-color: #7f7f7f\">:</span><a href=\"file:///home/filip/miniconda3/envs/hexgin/lib/python3.11/warnings.py#110\" target=\"_blank\"><span style=\"color: #7f7f7f; text-decoration-color: #7f7f7f\">110</span></a>\n",
       "<span style=\"color: #7fbfbf; text-decoration-color: #7fbfbf\">                    </span>         <span style=\"color: #800080; text-decoration-color: #800080\">geometric/sampler/</span><span style=\"color: #ff00ff; text-decoration-color: #ff00ff\">neighbor_sampler.py</span>:<span style=\"color: #008080; text-decoration-color: #008080; font-weight: bold\">61</span>: UserWarning: Using           <span style=\"color: #7f7f7f; text-decoration-color: #7f7f7f\">               </span>\n",
       "<span style=\"color: #7fbfbf; text-decoration-color: #7fbfbf\">                    </span>         <span style=\"color: #008000; text-decoration-color: #008000\">'NeighborSampler'</span> without a <span style=\"color: #008000; text-decoration-color: #008000\">'pyg-lib'</span> installation is deprecated and   <span style=\"color: #7f7f7f; text-decoration-color: #7f7f7f\">               </span>\n",
       "<span style=\"color: #7fbfbf; text-decoration-color: #7fbfbf\">                    </span>         will be removed soon. Please install <span style=\"color: #008000; text-decoration-color: #008000\">'pyg-lib'</span> for accelerated         <span style=\"color: #7f7f7f; text-decoration-color: #7f7f7f\">               </span>\n",
       "<span style=\"color: #7fbfbf; text-decoration-color: #7fbfbf\">                    </span>         neighborhood sampling                                                  <span style=\"color: #7f7f7f; text-decoration-color: #7f7f7f\">               </span>\n",
       "<span style=\"color: #7fbfbf; text-decoration-color: #7fbfbf\">                    </span>           <span style=\"color: #800080; text-decoration-color: #800080; font-weight: bold\">warnings.warn</span><span style=\"font-weight: bold\">(</span>f\"Using <span style=\"color: #008000; text-decoration-color: #008000\">'{self.__class__.__name__}'</span> without a \"        <span style=\"color: #7f7f7f; text-decoration-color: #7f7f7f\">               </span>\n",
       "<span style=\"color: #7fbfbf; text-decoration-color: #7fbfbf\">                    </span>                                                                                <span style=\"color: #7f7f7f; text-decoration-color: #7f7f7f\">               </span>\n",
       "</pre>\n"
      ],
      "text/plain": [
       "\u001b[2;36m[07/08/24 12:37:55]\u001b[0m\u001b[2;36m \u001b[0m\u001b[31mWARNING \u001b[0m \u001b[35m/home/filip/miniconda3/envs/hexgin/lib/python3.11/site-packages/torch_\u001b[0m \u001b]8;id=427023;file:///home/filip/miniconda3/envs/hexgin/lib/python3.11/warnings.py\u001b\\\u001b[2mwarnings.py\u001b[0m\u001b]8;;\u001b\\\u001b[2m:\u001b[0m\u001b]8;id=279501;file:///home/filip/miniconda3/envs/hexgin/lib/python3.11/warnings.py#110\u001b\\\u001b[2m110\u001b[0m\u001b]8;;\u001b\\\n",
       "\u001b[2;36m                    \u001b[0m         \u001b[35mgeometric/sampler/\u001b[0m\u001b[95mneighbor_sampler.py\u001b[0m:\u001b[1;36m61\u001b[0m: UserWarning: Using           \u001b[2m               \u001b[0m\n",
       "\u001b[2;36m                    \u001b[0m         \u001b[32m'NeighborSampler'\u001b[0m without a \u001b[32m'pyg-lib'\u001b[0m installation is deprecated and   \u001b[2m               \u001b[0m\n",
       "\u001b[2;36m                    \u001b[0m         will be removed soon. Please install \u001b[32m'pyg-lib'\u001b[0m for accelerated         \u001b[2m               \u001b[0m\n",
       "\u001b[2;36m                    \u001b[0m         neighborhood sampling                                                  \u001b[2m               \u001b[0m\n",
       "\u001b[2;36m                    \u001b[0m           \u001b[1;35mwarnings.warn\u001b[0m\u001b[1m(\u001b[0mf\"Using \u001b[32m'\u001b[0m\u001b[32m{\u001b[0m\u001b[32mself.__class__.__name__\u001b[0m\u001b[32m}\u001b[0m\u001b[32m'\u001b[0m without a \"        \u001b[2m               \u001b[0m\n",
       "\u001b[2;36m                    \u001b[0m                                                                                \u001b[2m               \u001b[0m\n"
      ]
     },
     "metadata": {},
     "output_type": "display_data"
    },
    {
     "data": {
      "text/html": [
       "<pre style=\"white-space:pre;overflow-x:auto;line-height:normal;font-family:Menlo,'DejaVu Sans Mono',consolas,'Courier New',monospace\"></pre>\n"
      ],
      "text/plain": []
     },
     "metadata": {},
     "output_type": "display_data"
    },
    {
     "data": {
      "text/plain": [
       "\n",
       "\u001b[1;35mHeteroData\u001b[0m\u001b[1m(\u001b[0m\n",
       "  \u001b[33mentity\u001b[0m=\u001b[1m{\u001b[0m\n",
       "    \u001b[33mx\u001b[0m=\u001b[1m[\u001b[0m\u001b[1;36m676\u001b[0m, \u001b[1;36m2\u001b[0m\u001b[1m]\u001b[0m,\n",
       "    \u001b[33mn_id\u001b[0m=\u001b[1m[\u001b[0m\u001b[1;36m676\u001b[0m\u001b[1m]\u001b[0m,\n",
       "  \u001b[1m}\u001b[0m,\n",
       "  \u001b[33mfiling\u001b[0m=\u001b[1m{\u001b[0m\n",
       "    \u001b[33mx\u001b[0m=\u001b[1m[\u001b[0m\u001b[1;36m2663\u001b[0m\u001b[1m]\u001b[0m,\n",
       "    \u001b[33mn_id\u001b[0m=\u001b[1m[\u001b[0m\u001b[1;36m2663\u001b[0m\u001b[1m]\u001b[0m,\n",
       "  \u001b[1m}\u001b[0m,\n",
       "  \u001b[1m(\u001b[0mentity, sends, filing\u001b[1m)\u001b[0m=\u001b[1m{\u001b[0m\n",
       "    \u001b[33medge_index\u001b[0m=\u001b[1m[\u001b[0m\u001b[1;36m2\u001b[0m, \u001b[1;36m2663\u001b[0m\u001b[1m]\u001b[0m,\n",
       "    \u001b[33me_id\u001b[0m=\u001b[1m[\u001b[0m\u001b[1;36m2663\u001b[0m\u001b[1m]\u001b[0m,\n",
       "  \u001b[1m}\u001b[0m,\n",
       "  \u001b[1m(\u001b[0mfiling, benefits, entity\u001b[1m)\u001b[0m=\u001b[1m{\u001b[0m\n",
       "    \u001b[33medge_index\u001b[0m=\u001b[1m[\u001b[0m\u001b[1;36m2\u001b[0m, \u001b[1;36m609\u001b[0m\u001b[1m]\u001b[0m,\n",
       "    \u001b[33medge_label\u001b[0m=\u001b[1m[\u001b[0m\u001b[1;36m128\u001b[0m\u001b[1m]\u001b[0m,\n",
       "    \u001b[33medge_label_index\u001b[0m=\u001b[1m[\u001b[0m\u001b[1;36m2\u001b[0m, \u001b[1;36m128\u001b[0m\u001b[1m]\u001b[0m,\n",
       "    \u001b[33me_id\u001b[0m=\u001b[1m[\u001b[0m\u001b[1;36m609\u001b[0m\u001b[1m]\u001b[0m,\n",
       "    \u001b[33minput_id\u001b[0m=\u001b[1m[\u001b[0m\u001b[1;36m64\u001b[0m\u001b[1m]\u001b[0m,\n",
       "  \u001b[1m}\u001b[0m,\n",
       "  \u001b[1m(\u001b[0mfiling, concerns, entity\u001b[1m)\u001b[0m=\u001b[1m{\u001b[0m\n",
       "    \u001b[33medge_index\u001b[0m=\u001b[1m[\u001b[0m\u001b[1;36m2\u001b[0m, \u001b[1;36m4174\u001b[0m\u001b[1m]\u001b[0m,\n",
       "    \u001b[33me_id\u001b[0m=\u001b[1m[\u001b[0m\u001b[1;36m4174\u001b[0m\u001b[1m]\u001b[0m,\n",
       "  \u001b[1m}\u001b[0m\n",
       "\u001b[1m)\u001b[0m"
      ]
     },
     "execution_count": 30,
     "metadata": {},
     "output_type": "execute_result"
    }
   ],
   "source": [
    "train_loader = tg.loader.LinkNeighborLoader(\n",
    "        data=train_g,\n",
    "        num_neighbors={r: [-1, -1]for r in train_g.edge_types},\n",
    "        edge_label_index=(cc.TARGET_RELATION, train_g[cc.TARGET_RELATION].edge_label_index),\n",
    "        edge_label=train_g[cc.TARGET_RELATION].edge_label,\n",
    "        directed=True,\n",
    "        neg_sampling_ratio=1.0,\n",
    "        batch_size=64,\n",
    "        shuffle=True\n",
    "    )\n",
    "next(iter(train_loader))"
   ]
  },
  {
   "cell_type": "code",
   "execution_count": 31,
   "metadata": {},
   "outputs": [
    {
     "data": {
      "text/html": [
       "<pre style=\"white-space:pre;overflow-x:auto;line-height:normal;font-family:Menlo,'DejaVu Sans Mono',consolas,'Courier New',monospace\"><span style=\"color: #7fbfbf; text-decoration-color: #7fbfbf\">[07/08/24 12:38:04] </span><span style=\"color: #800000; text-decoration-color: #800000\">WARNING </span> <span style=\"color: #800080; text-decoration-color: #800080\">/home/filip/miniconda3/envs/hexgin/lib/python3.11/site-packages/pytorc</span> <a href=\"file:///home/filip/miniconda3/envs/hexgin/lib/python3.11/warnings.py\" target=\"_blank\"><span style=\"color: #7f7f7f; text-decoration-color: #7f7f7f\">warnings.py</span></a><span style=\"color: #7f7f7f; text-decoration-color: #7f7f7f\">:</span><a href=\"file:///home/filip/miniconda3/envs/hexgin/lib/python3.11/warnings.py#110\" target=\"_blank\"><span style=\"color: #7f7f7f; text-decoration-color: #7f7f7f\">110</span></a>\n",
       "<span style=\"color: #7fbfbf; text-decoration-color: #7fbfbf\">                    </span>         <span style=\"color: #800080; text-decoration-color: #800080\">h_lightning/trainer/</span><span style=\"color: #ff00ff; text-decoration-color: #ff00ff\">configuration_validator.py</span>:<span style=\"color: #008080; text-decoration-color: #008080; font-weight: bold\">70</span>: You defined a       <span style=\"color: #7f7f7f; text-decoration-color: #7f7f7f\">               </span>\n",
       "<span style=\"color: #7fbfbf; text-decoration-color: #7fbfbf\">                    </span>         `validation_step` but have no `val_dataloader`. Skipping val loop.     <span style=\"color: #7f7f7f; text-decoration-color: #7f7f7f\">               </span>\n",
       "<span style=\"color: #7fbfbf; text-decoration-color: #7fbfbf\">                    </span>                                                                                <span style=\"color: #7f7f7f; text-decoration-color: #7f7f7f\">               </span>\n",
       "</pre>\n"
      ],
      "text/plain": [
       "\u001b[2;36m[07/08/24 12:38:04]\u001b[0m\u001b[2;36m \u001b[0m\u001b[31mWARNING \u001b[0m \u001b[35m/home/filip/miniconda3/envs/hexgin/lib/python3.11/site-packages/pytorc\u001b[0m \u001b]8;id=40007;file:///home/filip/miniconda3/envs/hexgin/lib/python3.11/warnings.py\u001b\\\u001b[2mwarnings.py\u001b[0m\u001b]8;;\u001b\\\u001b[2m:\u001b[0m\u001b]8;id=397540;file:///home/filip/miniconda3/envs/hexgin/lib/python3.11/warnings.py#110\u001b\\\u001b[2m110\u001b[0m\u001b]8;;\u001b\\\n",
       "\u001b[2;36m                    \u001b[0m         \u001b[35mh_lightning/trainer/\u001b[0m\u001b[95mconfiguration_validator.py\u001b[0m:\u001b[1;36m70\u001b[0m: You defined a       \u001b[2m               \u001b[0m\n",
       "\u001b[2;36m                    \u001b[0m         `validation_step` but have no `val_dataloader`. Skipping val loop.     \u001b[2m               \u001b[0m\n",
       "\u001b[2;36m                    \u001b[0m                                                                                \u001b[2m               \u001b[0m\n"
      ]
     },
     "metadata": {},
     "output_type": "display_data"
    },
    {
     "data": {
      "text/html": [
       "<pre style=\"white-space:pre;overflow-x:auto;line-height:normal;font-family:Menlo,'DejaVu Sans Mono',consolas,'Courier New',monospace\"><span style=\"color: #7fbfbf; text-decoration-color: #7fbfbf\">                    </span><span style=\"color: #000080; text-decoration-color: #000080\">INFO    </span> You are using a CUDA device <span style=\"font-weight: bold\">(</span><span style=\"color: #008000; text-decoration-color: #008000\">'NVIDIA RTX A500 Laptop GPU'</span><span style=\"font-weight: bold\">)</span> that has    <a href=\"file:///home/filip/miniconda3/envs/hexgin/lib/python3.11/site-packages/lightning_utilities/core/rank_zero.py\" target=\"_blank\"><span style=\"color: #7f7f7f; text-decoration-color: #7f7f7f\">rank_zero.py</span></a><span style=\"color: #7f7f7f; text-decoration-color: #7f7f7f\">:</span><a href=\"file:///home/filip/miniconda3/envs/hexgin/lib/python3.11/site-packages/lightning_utilities/core/rank_zero.py#63\" target=\"_blank\"><span style=\"color: #7f7f7f; text-decoration-color: #7f7f7f\">63</span></a>\n",
       "<span style=\"color: #7fbfbf; text-decoration-color: #7fbfbf\">                    </span>         Tensor Cores. To properly utilize them, you should set                 <span style=\"color: #7f7f7f; text-decoration-color: #7f7f7f\">               </span>\n",
       "<span style=\"color: #7fbfbf; text-decoration-color: #7fbfbf\">                    </span>         `<span style=\"color: #800080; text-decoration-color: #800080; font-weight: bold\">torch.set_float32_matmul_precision</span><span style=\"font-weight: bold\">(</span><span style=\"color: #008000; text-decoration-color: #008000\">'medium'</span> | <span style=\"color: #008000; text-decoration-color: #008000\">'high'</span><span style=\"font-weight: bold\">)</span>` which will     <span style=\"color: #7f7f7f; text-decoration-color: #7f7f7f\">               </span>\n",
       "<span style=\"color: #7fbfbf; text-decoration-color: #7fbfbf\">                    </span>         trade-off precision for performance. For more details, read            <span style=\"color: #7f7f7f; text-decoration-color: #7f7f7f\">               </span>\n",
       "<span style=\"color: #7fbfbf; text-decoration-color: #7fbfbf\">                    </span>         <span style=\"color: #0000ff; text-decoration-color: #0000ff; text-decoration: underline\">https://pytorch.org/docs/stable/generated/torch.set_float32_matmul_pre</span> <span style=\"color: #7f7f7f; text-decoration-color: #7f7f7f\">               </span>\n",
       "<span style=\"color: #7fbfbf; text-decoration-color: #7fbfbf\">                    </span>         <span style=\"color: #0000ff; text-decoration-color: #0000ff; text-decoration: underline\">cision.html#torch.set_float32_matmul_precision</span>                         <span style=\"color: #7f7f7f; text-decoration-color: #7f7f7f\">               </span>\n",
       "</pre>\n"
      ],
      "text/plain": [
       "\u001b[2;36m                   \u001b[0m\u001b[2;36m \u001b[0m\u001b[34mINFO    \u001b[0m You are using a CUDA device \u001b[1m(\u001b[0m\u001b[32m'NVIDIA RTX A500 Laptop GPU'\u001b[0m\u001b[1m)\u001b[0m that has    \u001b]8;id=893477;file:///home/filip/miniconda3/envs/hexgin/lib/python3.11/site-packages/lightning_utilities/core/rank_zero.py\u001b\\\u001b[2mrank_zero.py\u001b[0m\u001b]8;;\u001b\\\u001b[2m:\u001b[0m\u001b]8;id=54422;file:///home/filip/miniconda3/envs/hexgin/lib/python3.11/site-packages/lightning_utilities/core/rank_zero.py#63\u001b\\\u001b[2m63\u001b[0m\u001b]8;;\u001b\\\n",
       "\u001b[2;36m                    \u001b[0m         Tensor Cores. To properly utilize them, you should set                 \u001b[2m               \u001b[0m\n",
       "\u001b[2;36m                    \u001b[0m         `\u001b[1;35mtorch.set_float32_matmul_precision\u001b[0m\u001b[1m(\u001b[0m\u001b[32m'medium'\u001b[0m | \u001b[32m'high'\u001b[0m\u001b[1m)\u001b[0m` which will     \u001b[2m               \u001b[0m\n",
       "\u001b[2;36m                    \u001b[0m         trade-off precision for performance. For more details, read            \u001b[2m               \u001b[0m\n",
       "\u001b[2;36m                    \u001b[0m         \u001b[4;94mhttps://pytorch.org/docs/stable/generated/torch.set_float32_matmul_pre\u001b[0m \u001b[2m               \u001b[0m\n",
       "\u001b[2;36m                    \u001b[0m         \u001b[4;94mcision.html#torch.set_float32_matmul_precision\u001b[0m                         \u001b[2m               \u001b[0m\n"
      ]
     },
     "metadata": {},
     "output_type": "display_data"
    },
    {
     "data": {
      "text/html": [
       "<pre style=\"white-space:pre;overflow-x:auto;line-height:normal;font-family:Menlo,'DejaVu Sans Mono',consolas,'Courier New',monospace\"><span style=\"color: #7fbfbf; text-decoration-color: #7fbfbf\">                    </span><span style=\"color: #000080; text-decoration-color: #000080\">INFO    </span> LOCAL_RANK: <span style=\"color: #008080; text-decoration-color: #008080; font-weight: bold\">0</span> - CUDA_VISIBLE_DEVICES: <span style=\"font-weight: bold\">[</span><span style=\"color: #008080; text-decoration-color: #008080; font-weight: bold\">0</span><span style=\"font-weight: bold\">]</span>                                   <a href=\"file:///home/filip/miniconda3/envs/hexgin/lib/python3.11/site-packages/pytorch_lightning/accelerators/cuda.py\" target=\"_blank\"><span style=\"color: #7f7f7f; text-decoration-color: #7f7f7f\">cuda.py</span></a><span style=\"color: #7f7f7f; text-decoration-color: #7f7f7f\">:</span><a href=\"file:///home/filip/miniconda3/envs/hexgin/lib/python3.11/site-packages/pytorch_lightning/accelerators/cuda.py#61\" target=\"_blank\"><span style=\"color: #7f7f7f; text-decoration-color: #7f7f7f\">61</span></a>\n",
       "</pre>\n"
      ],
      "text/plain": [
       "\u001b[2;36m                   \u001b[0m\u001b[2;36m \u001b[0m\u001b[34mINFO    \u001b[0m LOCAL_RANK: \u001b[1;36m0\u001b[0m - CUDA_VISIBLE_DEVICES: \u001b[1m[\u001b[0m\u001b[1;36m0\u001b[0m\u001b[1m]\u001b[0m                                   \u001b]8;id=257072;file:///home/filip/miniconda3/envs/hexgin/lib/python3.11/site-packages/pytorch_lightning/accelerators/cuda.py\u001b\\\u001b[2mcuda.py\u001b[0m\u001b]8;;\u001b\\\u001b[2m:\u001b[0m\u001b]8;id=171732;file:///home/filip/miniconda3/envs/hexgin/lib/python3.11/site-packages/pytorch_lightning/accelerators/cuda.py#61\u001b\\\u001b[2m61\u001b[0m\u001b]8;;\u001b\\\n"
      ]
     },
     "metadata": {},
     "output_type": "display_data"
    },
    {
     "data": {
      "text/html": [
       "<pre style=\"white-space:pre;overflow-x:auto;line-height:normal;font-family:Menlo,'DejaVu Sans Mono',consolas,'Courier New',monospace\"><span style=\"color: #7fbfbf; text-decoration-color: #7fbfbf\">[07/08/24 12:38:05] </span><span style=\"color: #000080; text-decoration-color: #000080\">INFO    </span>                                                                    <a href=\"file:///home/filip/miniconda3/envs/hexgin/lib/python3.11/site-packages/pytorch_lightning/callbacks/model_summary.py\" target=\"_blank\"><span style=\"color: #7f7f7f; text-decoration-color: #7f7f7f\">model_summary.py</span></a><span style=\"color: #7f7f7f; text-decoration-color: #7f7f7f\">:</span><a href=\"file:///home/filip/miniconda3/envs/hexgin/lib/python3.11/site-packages/pytorch_lightning/callbacks/model_summary.py#94\" target=\"_blank\"><span style=\"color: #7f7f7f; text-decoration-color: #7f7f7f\">94</span></a>\n",
       "<span style=\"color: #7fbfbf; text-decoration-color: #7fbfbf\">                    </span>           | Name  | Type                   | Params | Mode                 <span style=\"color: #7f7f7f; text-decoration-color: #7f7f7f\">                   </span>\n",
       "<span style=\"color: #7fbfbf; text-decoration-color: #7fbfbf\">                    </span>         ---------------------------------------------------------          <span style=\"color: #7f7f7f; text-decoration-color: #7f7f7f\">                   </span>\n",
       "<span style=\"color: #7fbfbf; text-decoration-color: #7fbfbf\">                    </span>         <span style=\"color: #008080; text-decoration-color: #008080; font-weight: bold\">0</span> | model | HeteroGNNLinkPredModel | <span style=\"color: #008080; text-decoration-color: #008080; font-weight: bold\">631</span> K  | train                <span style=\"color: #7f7f7f; text-decoration-color: #7f7f7f\">                   </span>\n",
       "<span style=\"color: #7fbfbf; text-decoration-color: #7fbfbf\">                    </span>         ---------------------------------------------------------          <span style=\"color: #7f7f7f; text-decoration-color: #7f7f7f\">                   </span>\n",
       "<span style=\"color: #7fbfbf; text-decoration-color: #7fbfbf\">                    </span>         <span style=\"color: #008080; text-decoration-color: #008080; font-weight: bold\">631</span> K     Trainable params                                         <span style=\"color: #7f7f7f; text-decoration-color: #7f7f7f\">                   </span>\n",
       "<span style=\"color: #7fbfbf; text-decoration-color: #7fbfbf\">                    </span>         <span style=\"color: #008080; text-decoration-color: #008080; font-weight: bold\">0</span>         Non-trainable params                                     <span style=\"color: #7f7f7f; text-decoration-color: #7f7f7f\">                   </span>\n",
       "<span style=\"color: #7fbfbf; text-decoration-color: #7fbfbf\">                    </span>         <span style=\"color: #008080; text-decoration-color: #008080; font-weight: bold\">631</span> K     Total params                                             <span style=\"color: #7f7f7f; text-decoration-color: #7f7f7f\">                   </span>\n",
       "<span style=\"color: #7fbfbf; text-decoration-color: #7fbfbf\">                    </span>         <span style=\"color: #008080; text-decoration-color: #008080; font-weight: bold\">2.525</span>     Total estimated model params size <span style=\"font-weight: bold\">(</span>MB<span style=\"font-weight: bold\">)</span>                   <span style=\"color: #7f7f7f; text-decoration-color: #7f7f7f\">                   </span>\n",
       "</pre>\n"
      ],
      "text/plain": [
       "\u001b[2;36m[07/08/24 12:38:05]\u001b[0m\u001b[2;36m \u001b[0m\u001b[34mINFO    \u001b[0m                                                                    \u001b]8;id=91869;file:///home/filip/miniconda3/envs/hexgin/lib/python3.11/site-packages/pytorch_lightning/callbacks/model_summary.py\u001b\\\u001b[2mmodel_summary.py\u001b[0m\u001b]8;;\u001b\\\u001b[2m:\u001b[0m\u001b]8;id=921310;file:///home/filip/miniconda3/envs/hexgin/lib/python3.11/site-packages/pytorch_lightning/callbacks/model_summary.py#94\u001b\\\u001b[2m94\u001b[0m\u001b]8;;\u001b\\\n",
       "\u001b[2;36m                    \u001b[0m           | Name  | Type                   | Params | Mode                 \u001b[2m                   \u001b[0m\n",
       "\u001b[2;36m                    \u001b[0m         ---------------------------------------------------------          \u001b[2m                   \u001b[0m\n",
       "\u001b[2;36m                    \u001b[0m         \u001b[1;36m0\u001b[0m | model | HeteroGNNLinkPredModel | \u001b[1;36m631\u001b[0m K  | train                \u001b[2m                   \u001b[0m\n",
       "\u001b[2;36m                    \u001b[0m         ---------------------------------------------------------          \u001b[2m                   \u001b[0m\n",
       "\u001b[2;36m                    \u001b[0m         \u001b[1;36m631\u001b[0m K     Trainable params                                         \u001b[2m                   \u001b[0m\n",
       "\u001b[2;36m                    \u001b[0m         \u001b[1;36m0\u001b[0m         Non-trainable params                                     \u001b[2m                   \u001b[0m\n",
       "\u001b[2;36m                    \u001b[0m         \u001b[1;36m631\u001b[0m K     Total params                                             \u001b[2m                   \u001b[0m\n",
       "\u001b[2;36m                    \u001b[0m         \u001b[1;36m2.525\u001b[0m     Total estimated model params size \u001b[1m(\u001b[0mMB\u001b[1m)\u001b[0m                   \u001b[2m                   \u001b[0m\n"
      ]
     },
     "metadata": {},
     "output_type": "display_data"
    },
    {
     "data": {
      "text/html": [
       "<pre style=\"white-space:pre;overflow-x:auto;line-height:normal;font-family:Menlo,'DejaVu Sans Mono',consolas,'Courier New',monospace\"><span style=\"color: #7fbfbf; text-decoration-color: #7fbfbf\">                    </span><span style=\"color: #800000; text-decoration-color: #800000\">WARNING </span> <span style=\"color: #800080; text-decoration-color: #800080\">/home/filip/miniconda3/envs/hexgin/lib/python3.11/site-packages/pytorc</span> <a href=\"file:///home/filip/miniconda3/envs/hexgin/lib/python3.11/warnings.py\" target=\"_blank\"><span style=\"color: #7f7f7f; text-decoration-color: #7f7f7f\">warnings.py</span></a><span style=\"color: #7f7f7f; text-decoration-color: #7f7f7f\">:</span><a href=\"file:///home/filip/miniconda3/envs/hexgin/lib/python3.11/warnings.py#110\" target=\"_blank\"><span style=\"color: #7f7f7f; text-decoration-color: #7f7f7f\">110</span></a>\n",
       "<span style=\"color: #7fbfbf; text-decoration-color: #7fbfbf\">                    </span>         <span style=\"color: #800080; text-decoration-color: #800080\">h_lightning/trainer/connectors/</span><span style=\"color: #ff00ff; text-decoration-color: #ff00ff\">data_connector.py</span>:<span style=\"color: #008080; text-decoration-color: #008080; font-weight: bold\">424</span>: The              <span style=\"color: #7f7f7f; text-decoration-color: #7f7f7f\">               </span>\n",
       "<span style=\"color: #7fbfbf; text-decoration-color: #7fbfbf\">                    </span>         <span style=\"color: #008000; text-decoration-color: #008000\">'train_dataloader'</span> does not have many workers which may be a           <span style=\"color: #7f7f7f; text-decoration-color: #7f7f7f\">               </span>\n",
       "<span style=\"color: #7fbfbf; text-decoration-color: #7fbfbf\">                    </span>         bottleneck. Consider increasing the value of the `num_workers`         <span style=\"color: #7f7f7f; text-decoration-color: #7f7f7f\">               </span>\n",
       "<span style=\"color: #7fbfbf; text-decoration-color: #7fbfbf\">                    </span>         argument` to `<span style=\"color: #808000; text-decoration-color: #808000\">num_workers</span>=<span style=\"color: #008080; text-decoration-color: #008080; font-weight: bold\">15</span>` in the `DataLoader` to improve           <span style=\"color: #7f7f7f; text-decoration-color: #7f7f7f\">               </span>\n",
       "<span style=\"color: #7fbfbf; text-decoration-color: #7fbfbf\">                    </span>         performance.                                                           <span style=\"color: #7f7f7f; text-decoration-color: #7f7f7f\">               </span>\n",
       "<span style=\"color: #7fbfbf; text-decoration-color: #7fbfbf\">                    </span>                                                                                <span style=\"color: #7f7f7f; text-decoration-color: #7f7f7f\">               </span>\n",
       "</pre>\n"
      ],
      "text/plain": [
       "\u001b[2;36m                   \u001b[0m\u001b[2;36m \u001b[0m\u001b[31mWARNING \u001b[0m \u001b[35m/home/filip/miniconda3/envs/hexgin/lib/python3.11/site-packages/pytorc\u001b[0m \u001b]8;id=330782;file:///home/filip/miniconda3/envs/hexgin/lib/python3.11/warnings.py\u001b\\\u001b[2mwarnings.py\u001b[0m\u001b]8;;\u001b\\\u001b[2m:\u001b[0m\u001b]8;id=767598;file:///home/filip/miniconda3/envs/hexgin/lib/python3.11/warnings.py#110\u001b\\\u001b[2m110\u001b[0m\u001b]8;;\u001b\\\n",
       "\u001b[2;36m                    \u001b[0m         \u001b[35mh_lightning/trainer/connectors/\u001b[0m\u001b[95mdata_connector.py\u001b[0m:\u001b[1;36m424\u001b[0m: The              \u001b[2m               \u001b[0m\n",
       "\u001b[2;36m                    \u001b[0m         \u001b[32m'train_dataloader'\u001b[0m does not have many workers which may be a           \u001b[2m               \u001b[0m\n",
       "\u001b[2;36m                    \u001b[0m         bottleneck. Consider increasing the value of the `num_workers`         \u001b[2m               \u001b[0m\n",
       "\u001b[2;36m                    \u001b[0m         argument` to `\u001b[33mnum_workers\u001b[0m=\u001b[1;36m15\u001b[0m` in the `DataLoader` to improve           \u001b[2m               \u001b[0m\n",
       "\u001b[2;36m                    \u001b[0m         performance.                                                           \u001b[2m               \u001b[0m\n",
       "\u001b[2;36m                    \u001b[0m                                                                                \u001b[2m               \u001b[0m\n"
      ]
     },
     "metadata": {},
     "output_type": "display_data"
    },
    {
     "name": "stdout",
     "output_type": "stream",
     "text": [
      "Epoch 19: 100%|██████████| 13/13 [00:01<00:00,  9.35it/s, v_num=2]"
     ]
    },
    {
     "data": {
      "text/html": [
       "<pre style=\"white-space:pre;overflow-x:auto;line-height:normal;font-family:Menlo,'DejaVu Sans Mono',consolas,'Courier New',monospace\"><span style=\"color: #7fbfbf; text-decoration-color: #7fbfbf\">[07/08/24 12:38:35] </span><span style=\"color: #000080; text-decoration-color: #000080\">INFO    </span> `Trainer.fit` stopped: `<span style=\"color: #808000; text-decoration-color: #808000\">max_epochs</span>=<span style=\"color: #008080; text-decoration-color: #008080; font-weight: bold\">20</span>` reached.                        <a href=\"file:///home/filip/miniconda3/envs/hexgin/lib/python3.11/site-packages/lightning_utilities/core/rank_zero.py\" target=\"_blank\"><span style=\"color: #7f7f7f; text-decoration-color: #7f7f7f\">rank_zero.py</span></a><span style=\"color: #7f7f7f; text-decoration-color: #7f7f7f\">:</span><a href=\"file:///home/filip/miniconda3/envs/hexgin/lib/python3.11/site-packages/lightning_utilities/core/rank_zero.py#63\" target=\"_blank\"><span style=\"color: #7f7f7f; text-decoration-color: #7f7f7f\">63</span></a>\n",
       "</pre>\n"
      ],
      "text/plain": [
       "\u001b[2;36m[07/08/24 12:38:35]\u001b[0m\u001b[2;36m \u001b[0m\u001b[34mINFO    \u001b[0m `Trainer.fit` stopped: `\u001b[33mmax_epochs\u001b[0m=\u001b[1;36m20\u001b[0m` reached.                        \u001b]8;id=97270;file:///home/filip/miniconda3/envs/hexgin/lib/python3.11/site-packages/lightning_utilities/core/rank_zero.py\u001b\\\u001b[2mrank_zero.py\u001b[0m\u001b]8;;\u001b\\\u001b[2m:\u001b[0m\u001b]8;id=699545;file:///home/filip/miniconda3/envs/hexgin/lib/python3.11/site-packages/lightning_utilities/core/rank_zero.py#63\u001b\\\u001b[2m63\u001b[0m\u001b]8;;\u001b\\\n"
      ]
     },
     "metadata": {},
     "output_type": "display_data"
    },
    {
     "name": "stdout",
     "output_type": "stream",
     "text": [
      "Epoch 19: 100%|██████████| 13/13 [00:01<00:00,  9.26it/s, v_num=2]\n"
     ]
    }
   ],
   "source": [
    "trainer.fit(hexgin_lit, train_loader)"
   ]
  },
  {
   "cell_type": "markdown",
   "metadata": {},
   "source": [
    "### Build wrapper explainer model"
   ]
  },
  {
   "cell_type": "code",
   "execution_count": 33,
   "metadata": {},
   "outputs": [],
   "source": [
    "class ExplanationsWrapper(th.nn.Module):\n",
    "\n",
    "    def __init__(self, hexgin):\n",
    "        super().__init__()\n",
    "        self.hexgin = hexgin\n",
    "\n",
    "    def forward(self, x_dict, edge_index_dict, *args, **kwargs):\n",
    "        print(kwargs.keys())\n",
    "        data = pyg_data.HeteroData()\n",
    "        for k, x in x_dict.items():\n",
    "            data[k].x = x.to(th.long)\n",
    "        for rel, edge_index in edge_index_dict.items():\n",
    "            data[rel].edge_index = edge_index.to(th.long)\n",
    "        if 'edge_label_index_dict' in kwargs:\n",
    "            for rel, label_index in kwargs['edge_label_index_dict'].items():\n",
    "                data[rel].edge_label_index = label_index.to(th.long)\n",
    "        return self.hexgin(data, use_labeled_edges=False)"
   ]
  },
  {
   "cell_type": "code",
   "execution_count": 34,
   "metadata": {},
   "outputs": [
    {
     "data": {
      "text/html": [
       "<pre style=\"white-space:pre;overflow-x:auto;line-height:normal;font-family:Menlo,'DejaVu Sans Mono',consolas,'Courier New',monospace\"><span style=\"color: #7fbfbf; text-decoration-color: #7fbfbf\">[07/08/24 12:39:14] </span><span style=\"color: #800000; text-decoration-color: #800000\">WARNING </span> <span style=\"color: #800080; text-decoration-color: #800080\">/home/filip/miniconda3/envs/hexgin/lib/python3.11/site-packages/torch_</span> <a href=\"file:///home/filip/miniconda3/envs/hexgin/lib/python3.11/warnings.py\" target=\"_blank\"><span style=\"color: #7f7f7f; text-decoration-color: #7f7f7f\">warnings.py</span></a><span style=\"color: #7f7f7f; text-decoration-color: #7f7f7f\">:</span><a href=\"file:///home/filip/miniconda3/envs/hexgin/lib/python3.11/warnings.py#110\" target=\"_blank\"><span style=\"color: #7f7f7f; text-decoration-color: #7f7f7f\">110</span></a>\n",
       "<span style=\"color: #7fbfbf; text-decoration-color: #7fbfbf\">                    </span>         <span style=\"color: #800080; text-decoration-color: #800080\">geometric/sampler/</span><span style=\"color: #ff00ff; text-decoration-color: #ff00ff\">neighbor_sampler.py</span>:<span style=\"color: #008080; text-decoration-color: #008080; font-weight: bold\">61</span>: UserWarning: Using           <span style=\"color: #7f7f7f; text-decoration-color: #7f7f7f\">               </span>\n",
       "<span style=\"color: #7fbfbf; text-decoration-color: #7fbfbf\">                    </span>         <span style=\"color: #008000; text-decoration-color: #008000\">'NeighborSampler'</span> without a <span style=\"color: #008000; text-decoration-color: #008000\">'pyg-lib'</span> installation is deprecated and   <span style=\"color: #7f7f7f; text-decoration-color: #7f7f7f\">               </span>\n",
       "<span style=\"color: #7fbfbf; text-decoration-color: #7fbfbf\">                    </span>         will be removed soon. Please install <span style=\"color: #008000; text-decoration-color: #008000\">'pyg-lib'</span> for accelerated         <span style=\"color: #7f7f7f; text-decoration-color: #7f7f7f\">               </span>\n",
       "<span style=\"color: #7fbfbf; text-decoration-color: #7fbfbf\">                    </span>         neighborhood sampling                                                  <span style=\"color: #7f7f7f; text-decoration-color: #7f7f7f\">               </span>\n",
       "<span style=\"color: #7fbfbf; text-decoration-color: #7fbfbf\">                    </span>           <span style=\"color: #800080; text-decoration-color: #800080; font-weight: bold\">warnings.warn</span><span style=\"font-weight: bold\">(</span>f\"Using <span style=\"color: #008000; text-decoration-color: #008000\">'{self.__class__.__name__}'</span> without a \"        <span style=\"color: #7f7f7f; text-decoration-color: #7f7f7f\">               </span>\n",
       "<span style=\"color: #7fbfbf; text-decoration-color: #7fbfbf\">                    </span>                                                                                <span style=\"color: #7f7f7f; text-decoration-color: #7f7f7f\">               </span>\n",
       "</pre>\n"
      ],
      "text/plain": [
       "\u001b[2;36m[07/08/24 12:39:14]\u001b[0m\u001b[2;36m \u001b[0m\u001b[31mWARNING \u001b[0m \u001b[35m/home/filip/miniconda3/envs/hexgin/lib/python3.11/site-packages/torch_\u001b[0m \u001b]8;id=22267;file:///home/filip/miniconda3/envs/hexgin/lib/python3.11/warnings.py\u001b\\\u001b[2mwarnings.py\u001b[0m\u001b]8;;\u001b\\\u001b[2m:\u001b[0m\u001b]8;id=305976;file:///home/filip/miniconda3/envs/hexgin/lib/python3.11/warnings.py#110\u001b\\\u001b[2m110\u001b[0m\u001b]8;;\u001b\\\n",
       "\u001b[2;36m                    \u001b[0m         \u001b[35mgeometric/sampler/\u001b[0m\u001b[95mneighbor_sampler.py\u001b[0m:\u001b[1;36m61\u001b[0m: UserWarning: Using           \u001b[2m               \u001b[0m\n",
       "\u001b[2;36m                    \u001b[0m         \u001b[32m'NeighborSampler'\u001b[0m without a \u001b[32m'pyg-lib'\u001b[0m installation is deprecated and   \u001b[2m               \u001b[0m\n",
       "\u001b[2;36m                    \u001b[0m         will be removed soon. Please install \u001b[32m'pyg-lib'\u001b[0m for accelerated         \u001b[2m               \u001b[0m\n",
       "\u001b[2;36m                    \u001b[0m         neighborhood sampling                                                  \u001b[2m               \u001b[0m\n",
       "\u001b[2;36m                    \u001b[0m           \u001b[1;35mwarnings.warn\u001b[0m\u001b[1m(\u001b[0mf\"Using \u001b[32m'\u001b[0m\u001b[32m{\u001b[0m\u001b[32mself.__class__.__name__\u001b[0m\u001b[32m}\u001b[0m\u001b[32m'\u001b[0m without a \"        \u001b[2m               \u001b[0m\n",
       "\u001b[2;36m                    \u001b[0m                                                                                \u001b[2m               \u001b[0m\n"
      ]
     },
     "metadata": {},
     "output_type": "display_data"
    },
    {
     "data": {
      "text/html": [
       "<pre style=\"white-space:pre;overflow-x:auto;line-height:normal;font-family:Menlo,'DejaVu Sans Mono',consolas,'Courier New',monospace\"></pre>\n"
      ],
      "text/plain": []
     },
     "metadata": {},
     "output_type": "display_data"
    },
    {
     "data": {
      "text/plain": [
       "\n",
       "\u001b[1;35mHeteroData\u001b[0m\u001b[1m(\u001b[0m\n",
       "  \u001b[33mentity\u001b[0m=\u001b[1m{\u001b[0m\n",
       "    \u001b[33mx\u001b[0m=\u001b[1m[\u001b[0m\u001b[1;36m73\u001b[0m, \u001b[1;36m2\u001b[0m\u001b[1m]\u001b[0m,\n",
       "    \u001b[33mn_id\u001b[0m=\u001b[1m[\u001b[0m\u001b[1;36m73\u001b[0m\u001b[1m]\u001b[0m,\n",
       "  \u001b[1m}\u001b[0m,\n",
       "  \u001b[33mfiling\u001b[0m=\u001b[1m{\u001b[0m\n",
       "    \u001b[33mx\u001b[0m=\u001b[1m[\u001b[0m\u001b[1;36m120\u001b[0m\u001b[1m]\u001b[0m,\n",
       "    \u001b[33mn_id\u001b[0m=\u001b[1m[\u001b[0m\u001b[1;36m120\u001b[0m\u001b[1m]\u001b[0m,\n",
       "  \u001b[1m}\u001b[0m,\n",
       "  \u001b[1m(\u001b[0mentity, sends, filing\u001b[1m)\u001b[0m=\u001b[1m{\u001b[0m\n",
       "    \u001b[33medge_index\u001b[0m=\u001b[1m[\u001b[0m\u001b[1;36m2\u001b[0m, \u001b[1;36m110\u001b[0m\u001b[1m]\u001b[0m,\n",
       "    \u001b[33me_id\u001b[0m=\u001b[1m[\u001b[0m\u001b[1;36m110\u001b[0m\u001b[1m]\u001b[0m,\n",
       "  \u001b[1m}\u001b[0m,\n",
       "  \u001b[1m(\u001b[0mfiling, benefits, entity\u001b[1m)\u001b[0m=\u001b[1m{\u001b[0m\n",
       "    \u001b[33medge_index\u001b[0m=\u001b[1m[\u001b[0m\u001b[1;36m2\u001b[0m, \u001b[1;36m46\u001b[0m\u001b[1m]\u001b[0m,\n",
       "    \u001b[33medge_label\u001b[0m=\u001b[1m[\u001b[0m\u001b[1;36m16\u001b[0m\u001b[1m]\u001b[0m,\n",
       "    \u001b[33medge_label_index\u001b[0m=\u001b[1m[\u001b[0m\u001b[1;36m2\u001b[0m, \u001b[1;36m16\u001b[0m\u001b[1m]\u001b[0m,\n",
       "    \u001b[33me_id\u001b[0m=\u001b[1m[\u001b[0m\u001b[1;36m46\u001b[0m\u001b[1m]\u001b[0m,\n",
       "    \u001b[33minput_id\u001b[0m=\u001b[1m[\u001b[0m\u001b[1;36m16\u001b[0m\u001b[1m]\u001b[0m,\n",
       "  \u001b[1m}\u001b[0m,\n",
       "  \u001b[1m(\u001b[0mfiling, concerns, entity\u001b[1m)\u001b[0m=\u001b[1m{\u001b[0m\n",
       "    \u001b[33medge_index\u001b[0m=\u001b[1m[\u001b[0m\u001b[1;36m2\u001b[0m, \u001b[1;36m66\u001b[0m\u001b[1m]\u001b[0m,\n",
       "    \u001b[33me_id\u001b[0m=\u001b[1m[\u001b[0m\u001b[1;36m66\u001b[0m\u001b[1m]\u001b[0m,\n",
       "  \u001b[1m}\u001b[0m\n",
       "\u001b[1m)\u001b[0m"
      ]
     },
     "execution_count": 34,
     "metadata": {},
     "output_type": "execute_result"
    }
   ],
   "source": [
    "explanation_example_loader = tg.loader.LinkNeighborLoader(\n",
    "        data=test_g,\n",
    "        num_neighbors={r: [10, 10]for r in test_g.edge_types},\n",
    "        edge_label_index=(cc.TARGET_RELATION, test_g[cc.TARGET_RELATION].edge_label_index),\n",
    "        edge_label=test_g[cc.TARGET_RELATION].edge_label,\n",
    "        directed=True,\n",
    "        neg_sampling_ratio=0.0,\n",
    "        batch_size=16,\n",
    "        shuffle=True\n",
    "    )\n",
    "next(iter(explanation_example_loader))"
   ]
  },
  {
   "cell_type": "code",
   "execution_count": 35,
   "metadata": {},
   "outputs": [
    {
     "name": "stdout",
     "output_type": "stream",
     "text": [
      "dict_keys(['edge_label_index_dict'])\n"
     ]
    }
   ],
   "source": [
    "it = iter(explanation_example_loader)\n",
    "next(it)\n",
    "batch = next(it)\n",
    "\n",
    "\n",
    "fake_model = ExplanationsWrapper(hexgin_lit.model)\n",
    "with th.no_grad():\n",
    "    fake_model(batch.x_dict, batch.edge_index_dict, edge_label_index_dict=batch.edge_label_index_dict)"
   ]
  },
  {
   "cell_type": "markdown",
   "metadata": {},
   "source": [
    "### Build explanations"
   ]
  },
  {
   "cell_type": "code",
   "execution_count": 36,
   "metadata": {},
   "outputs": [
    {
     "data": {
      "text/html": [
       "<pre style=\"white-space:pre;overflow-x:auto;line-height:normal;font-family:Menlo,'DejaVu Sans Mono',consolas,'Courier New',monospace\"><span style=\"color: #7fbfbf; text-decoration-color: #7fbfbf\">[07/08/24 12:39:49] </span><span style=\"color: #800000; text-decoration-color: #800000\">WARNING </span> <span style=\"color: #800080; text-decoration-color: #800080\">/home/filip/miniconda3/envs/hexgin/lib/python3.11/site-packages/tqdm/</span><span style=\"color: #ff00ff; text-decoration-color: #ff00ff\">a</span> <a href=\"file:///home/filip/miniconda3/envs/hexgin/lib/python3.11/warnings.py\" target=\"_blank\"><span style=\"color: #7f7f7f; text-decoration-color: #7f7f7f\">warnings.py</span></a><span style=\"color: #7f7f7f; text-decoration-color: #7f7f7f\">:</span><a href=\"file:///home/filip/miniconda3/envs/hexgin/lib/python3.11/warnings.py#110\" target=\"_blank\"><span style=\"color: #7f7f7f; text-decoration-color: #7f7f7f\">110</span></a>\n",
       "<span style=\"color: #7fbfbf; text-decoration-color: #7fbfbf\">                    </span>         <span style=\"color: #ff00ff; text-decoration-color: #ff00ff\">uto.py</span>:<span style=\"color: #008080; text-decoration-color: #008080; font-weight: bold\">21</span>: TqdmWarning: IProgress not found. Please update jupyter and <span style=\"color: #7f7f7f; text-decoration-color: #7f7f7f\">               </span>\n",
       "<span style=\"color: #7fbfbf; text-decoration-color: #7fbfbf\">                    </span>         ipywidgets. See                                                        <span style=\"color: #7f7f7f; text-decoration-color: #7f7f7f\">               </span>\n",
       "<span style=\"color: #7fbfbf; text-decoration-color: #7fbfbf\">                    </span>         <span style=\"color: #0000ff; text-decoration-color: #0000ff; text-decoration: underline\">https://ipywidgets.readthedocs.io/en/stable/user_install.html</span>          <span style=\"color: #7f7f7f; text-decoration-color: #7f7f7f\">               </span>\n",
       "<span style=\"color: #7fbfbf; text-decoration-color: #7fbfbf\">                    </span>           from .autonotebook import tqdm as notebook_tqdm                      <span style=\"color: #7f7f7f; text-decoration-color: #7f7f7f\">               </span>\n",
       "<span style=\"color: #7fbfbf; text-decoration-color: #7fbfbf\">                    </span>                                                                                <span style=\"color: #7f7f7f; text-decoration-color: #7f7f7f\">               </span>\n",
       "</pre>\n"
      ],
      "text/plain": [
       "\u001b[2;36m[07/08/24 12:39:49]\u001b[0m\u001b[2;36m \u001b[0m\u001b[31mWARNING \u001b[0m \u001b[35m/home/filip/miniconda3/envs/hexgin/lib/python3.11/site-packages/tqdm/\u001b[0m\u001b[95ma\u001b[0m \u001b]8;id=278209;file:///home/filip/miniconda3/envs/hexgin/lib/python3.11/warnings.py\u001b\\\u001b[2mwarnings.py\u001b[0m\u001b]8;;\u001b\\\u001b[2m:\u001b[0m\u001b]8;id=492089;file:///home/filip/miniconda3/envs/hexgin/lib/python3.11/warnings.py#110\u001b\\\u001b[2m110\u001b[0m\u001b]8;;\u001b\\\n",
       "\u001b[2;36m                    \u001b[0m         \u001b[95muto.py\u001b[0m:\u001b[1;36m21\u001b[0m: TqdmWarning: IProgress not found. Please update jupyter and \u001b[2m               \u001b[0m\n",
       "\u001b[2;36m                    \u001b[0m         ipywidgets. See                                                        \u001b[2m               \u001b[0m\n",
       "\u001b[2;36m                    \u001b[0m         \u001b[4;94mhttps://ipywidgets.readthedocs.io/en/stable/user_install.html\u001b[0m          \u001b[2m               \u001b[0m\n",
       "\u001b[2;36m                    \u001b[0m           from .autonotebook import tqdm as notebook_tqdm                      \u001b[2m               \u001b[0m\n",
       "\u001b[2;36m                    \u001b[0m                                                                                \u001b[2m               \u001b[0m\n"
      ]
     },
     "metadata": {},
     "output_type": "display_data"
    }
   ],
   "source": [
    "explainer = Explainer(\n",
    "    fake_model,  # It is assumed that model outputs a single tensor.\n",
    "    algorithm=CaptumExplainer('IntegratedGradients'),\n",
    "    explanation_type='model',\n",
    "    node_mask_type=None,\n",
    "    edge_mask_type='object',\n",
    "    model_config = dict(\n",
    "        mode='binary_classification',\n",
    "        task_level='edge',\n",
    "        return_type='probs',  # Model returns probabilities.\n",
    "    )\n",
    ")"
   ]
  },
  {
   "cell_type": "code",
   "execution_count": 37,
   "metadata": {},
   "outputs": [
    {
     "name": "stdout",
     "output_type": "stream",
     "text": [
      "dict_keys(['edge_label_index_dict'])\n",
      "dict_keys([])\n",
      "dict_keys([])\n",
      "dict_keys([])\n",
      "dict_keys([])\n",
      "dict_keys([])\n",
      "dict_keys([])\n",
      "dict_keys([])\n",
      "dict_keys([])\n",
      "dict_keys([])\n",
      "dict_keys([])\n",
      "dict_keys([])\n",
      "dict_keys([])\n",
      "dict_keys([])\n",
      "dict_keys([])\n",
      "dict_keys([])\n",
      "dict_keys([])\n",
      "dict_keys([])\n",
      "dict_keys([])\n",
      "dict_keys([])\n",
      "dict_keys([])\n",
      "dict_keys([])\n",
      "dict_keys([])\n",
      "dict_keys([])\n",
      "dict_keys([])\n",
      "dict_keys([])\n",
      "dict_keys([])\n",
      "dict_keys([])\n",
      "dict_keys([])\n",
      "dict_keys([])\n",
      "dict_keys([])\n",
      "dict_keys([])\n",
      "dict_keys([])\n",
      "dict_keys([])\n",
      "dict_keys([])\n",
      "dict_keys([])\n",
      "dict_keys([])\n",
      "dict_keys([])\n",
      "dict_keys([])\n",
      "dict_keys([])\n",
      "dict_keys([])\n",
      "dict_keys([])\n",
      "dict_keys([])\n",
      "dict_keys([])\n",
      "dict_keys([])\n",
      "dict_keys([])\n",
      "dict_keys([])\n",
      "dict_keys([])\n",
      "dict_keys([])\n",
      "dict_keys([])\n",
      "dict_keys([])\n"
     ]
    }
   ],
   "source": [
    "hetero_explanation = explainer(\n",
    "    batch.x_dict,\n",
    "    batch.edge_index_dict,\n",
    "    edge_label_index_dict=batch.edge_label_index_dict,\n",
    ")"
   ]
  },
  {
   "cell_type": "code",
   "execution_count": 41,
   "metadata": {},
   "outputs": [
    {
     "data": {
      "text/html": [
       "<pre style=\"white-space:pre;overflow-x:auto;line-height:normal;font-family:Menlo,'DejaVu Sans Mono',consolas,'Courier New',monospace\"></pre>\n"
      ],
      "text/plain": []
     },
     "metadata": {},
     "output_type": "display_data"
    },
    {
     "data": {
      "text/plain": [
       "\n",
       "\u001b[1;35mHeteroExplanation\u001b[0m\u001b[1m(\u001b[0m\n",
       "  \u001b[33mprediction\u001b[0m=\u001b[1m[\u001b[0m\u001b[1;36m49\u001b[0m, \u001b[1;36m1\u001b[0m\u001b[1m]\u001b[0m,\n",
       "  \u001b[33mtarget\u001b[0m=\u001b[1m[\u001b[0m\u001b[1;36m49\u001b[0m\u001b[1m]\u001b[0m,\n",
       "  \u001b[33mentity\u001b[0m=\u001b[1m{\u001b[0m \u001b[33mx\u001b[0m=\u001b[1m[\u001b[0m\u001b[1;36m67\u001b[0m\u001b[1m]\u001b[0m \u001b[1m}\u001b[0m,\n",
       "  \u001b[33mfiling\u001b[0m=\u001b[1m{\u001b[0m \u001b[33mx\u001b[0m=\u001b[1m[\u001b[0m\u001b[1;36m102\u001b[0m\u001b[1m]\u001b[0m \u001b[1m}\u001b[0m,\n",
       "  \u001b[1m(\u001b[0mentity, sends, filing\u001b[1m)\u001b[0m=\u001b[1m{\u001b[0m\n",
       "    \u001b[33medge_mask\u001b[0m=\u001b[1m[\u001b[0m\u001b[1;36m92\u001b[0m\u001b[1m]\u001b[0m,\n",
       "    \u001b[33medge_index\u001b[0m=\u001b[1m[\u001b[0m\u001b[1;36m2\u001b[0m, \u001b[1;36m92\u001b[0m\u001b[1m]\u001b[0m,\n",
       "  \u001b[1m}\u001b[0m,\n",
       "  \u001b[1m(\u001b[0mfiling, benefits, entity\u001b[1m)\u001b[0m=\u001b[1m{\u001b[0m\n",
       "    \u001b[33medge_mask\u001b[0m=\u001b[1m[\u001b[0m\u001b[1;36m49\u001b[0m\u001b[1m]\u001b[0m,\n",
       "    \u001b[33medge_index\u001b[0m=\u001b[1m[\u001b[0m\u001b[1;36m2\u001b[0m, \u001b[1;36m49\u001b[0m\u001b[1m]\u001b[0m,\n",
       "    \u001b[33medge_label_index\u001b[0m=\u001b[1m[\u001b[0m\u001b[1;36m2\u001b[0m, \u001b[1;36m16\u001b[0m\u001b[1m]\u001b[0m,\n",
       "  \u001b[1m}\u001b[0m,\n",
       "  \u001b[1m(\u001b[0mfiling, concerns, entity\u001b[1m)\u001b[0m=\u001b[1m{\u001b[0m\n",
       "    \u001b[33medge_mask\u001b[0m=\u001b[1m[\u001b[0m\u001b[1;36m39\u001b[0m\u001b[1m]\u001b[0m,\n",
       "    \u001b[33medge_index\u001b[0m=\u001b[1m[\u001b[0m\u001b[1;36m2\u001b[0m, \u001b[1;36m39\u001b[0m\u001b[1m]\u001b[0m,\n",
       "  \u001b[1m}\u001b[0m\n",
       "\u001b[1m)\u001b[0m"
      ]
     },
     "execution_count": 41,
     "metadata": {},
     "output_type": "execute_result"
    }
   ],
   "source": [
    "hetero_explanation"
   ]
  },
  {
   "cell_type": "markdown",
   "metadata": {},
   "source": [
    "### Build an interactive visualization chart\n",
    "\n",
    "This part builds an interactive visualization chart that can be used to explore the model predictions and explanations.\n",
    "\n",
    "Note, that this part is being moved to the [**Hextractor project**](https://github.com/maddataanalyst/hextractor).\n",
    "Code presented below is a preview, work-in-progress version, that will be updated in the future."
   ]
  },
  {
   "cell_type": "code",
   "execution_count": 52,
   "metadata": {},
   "outputs": [
    {
     "data": {
      "text/html": [
       "<pre style=\"white-space:pre;overflow-x:auto;line-height:normal;font-family:Menlo,'DejaVu Sans Mono',consolas,'Courier New',monospace\"><span style=\"color: #7fbfbf; text-decoration-color: #7fbfbf\">[07/08/24 12:58:03] </span><span style=\"color: #800000; text-decoration-color: #800000\">WARNING </span> <span style=\"color: #800080; text-decoration-color: #800080\">/tmp/ipykernel_175407/</span><span style=\"color: #ff00ff; text-decoration-color: #ff00ff\">816421759.py</span>:<span style=\"color: #008080; text-decoration-color: #008080; font-weight: bold\">12</span>: FutureWarning:                  <a href=\"file:///home/filip/miniconda3/envs/hexgin/lib/python3.11/warnings.py\" target=\"_blank\"><span style=\"color: #7f7f7f; text-decoration-color: #7f7f7f\">warnings.py</span></a><span style=\"color: #7f7f7f; text-decoration-color: #7f7f7f\">:</span><a href=\"file:///home/filip/miniconda3/envs/hexgin/lib/python3.11/warnings.py#110\" target=\"_blank\"><span style=\"color: #7f7f7f; text-decoration-color: #7f7f7f\">110</span></a>\n",
       "<span style=\"color: #7fbfbf; text-decoration-color: #7fbfbf\">                    </span>         pandas.value_counts is deprecated and will be removed in a future      <span style=\"color: #7f7f7f; text-decoration-color: #7f7f7f\">               </span>\n",
       "<span style=\"color: #7fbfbf; text-decoration-color: #7fbfbf\">                    </span>         version. Use <span style=\"color: #800080; text-decoration-color: #800080; font-weight: bold\">pd.Series</span><span style=\"font-weight: bold\">(</span>obj<span style=\"font-weight: bold\">)</span><span style=\"color: #800080; text-decoration-color: #800080; font-weight: bold\">.value_counts</span><span style=\"font-weight: bold\">()</span> instead.                    <span style=\"color: #7f7f7f; text-decoration-color: #7f7f7f\">               </span>\n",
       "<span style=\"color: #7fbfbf; text-decoration-color: #7fbfbf\">                    </span>           homogeneous_node_type_counts =                                       <span style=\"color: #7f7f7f; text-decoration-color: #7f7f7f\">               </span>\n",
       "<span style=\"color: #7fbfbf; text-decoration-color: #7fbfbf\">                    </span>         <span style=\"color: #800080; text-decoration-color: #800080; font-weight: bold\">pd.value_counts</span><span style=\"font-weight: bold\">(</span><span style=\"color: #800080; text-decoration-color: #800080; font-weight: bold\">expl_homogeneous.node_type.numpy</span><span style=\"font-weight: bold\">())</span><span style=\"color: #800080; text-decoration-color: #800080; font-weight: bold\">.to_dict</span><span style=\"font-weight: bold\">()</span>          <span style=\"color: #7f7f7f; text-decoration-color: #7f7f7f\">               </span>\n",
       "<span style=\"color: #7fbfbf; text-decoration-color: #7fbfbf\">                    </span>                                                                                <span style=\"color: #7f7f7f; text-decoration-color: #7f7f7f\">               </span>\n",
       "</pre>\n"
      ],
      "text/plain": [
       "\u001b[2;36m[07/08/24 12:58:03]\u001b[0m\u001b[2;36m \u001b[0m\u001b[31mWARNING \u001b[0m \u001b[35m/tmp/ipykernel_175407/\u001b[0m\u001b[95m816421759.py\u001b[0m:\u001b[1;36m12\u001b[0m: FutureWarning:                  \u001b]8;id=758816;file:///home/filip/miniconda3/envs/hexgin/lib/python3.11/warnings.py\u001b\\\u001b[2mwarnings.py\u001b[0m\u001b]8;;\u001b\\\u001b[2m:\u001b[0m\u001b]8;id=864121;file:///home/filip/miniconda3/envs/hexgin/lib/python3.11/warnings.py#110\u001b\\\u001b[2m110\u001b[0m\u001b]8;;\u001b\\\n",
       "\u001b[2;36m                    \u001b[0m         pandas.value_counts is deprecated and will be removed in a future      \u001b[2m               \u001b[0m\n",
       "\u001b[2;36m                    \u001b[0m         version. Use \u001b[1;35mpd.Series\u001b[0m\u001b[1m(\u001b[0mobj\u001b[1m)\u001b[0m\u001b[1;35m.value_counts\u001b[0m\u001b[1m(\u001b[0m\u001b[1m)\u001b[0m instead.                    \u001b[2m               \u001b[0m\n",
       "\u001b[2;36m                    \u001b[0m           homogeneous_node_type_counts =                                       \u001b[2m               \u001b[0m\n",
       "\u001b[2;36m                    \u001b[0m         \u001b[1;35mpd.value_counts\u001b[0m\u001b[1m(\u001b[0m\u001b[1;35mexpl_homogeneous.node_type.numpy\u001b[0m\u001b[1m(\u001b[0m\u001b[1m)\u001b[0m\u001b[1m)\u001b[0m\u001b[1;35m.to_dict\u001b[0m\u001b[1m(\u001b[0m\u001b[1m)\u001b[0m          \u001b[2m               \u001b[0m\n",
       "\u001b[2;36m                    \u001b[0m                                                                                \u001b[2m               \u001b[0m\n"
      ]
     },
     "metadata": {},
     "output_type": "display_data"
    },
    {
     "data": {
      "text/html": [
       "<pre style=\"white-space:pre;overflow-x:auto;line-height:normal;font-family:Menlo,'DejaVu Sans Mono',consolas,'Courier New',monospace\"><span style=\"color: #7fbfbf; text-decoration-color: #7fbfbf\">                    </span><span style=\"color: #800000; text-decoration-color: #800000\">WARNING </span> <span style=\"color: #800080; text-decoration-color: #800080\">/tmp/ipykernel_175407/</span><span style=\"color: #ff00ff; text-decoration-color: #ff00ff\">816421759.py</span>:<span style=\"color: #008080; text-decoration-color: #008080; font-weight: bold\">25</span>: FutureWarning:                  <a href=\"file:///home/filip/miniconda3/envs/hexgin/lib/python3.11/warnings.py\" target=\"_blank\"><span style=\"color: #7f7f7f; text-decoration-color: #7f7f7f\">warnings.py</span></a><span style=\"color: #7f7f7f; text-decoration-color: #7f7f7f\">:</span><a href=\"file:///home/filip/miniconda3/envs/hexgin/lib/python3.11/warnings.py#110\" target=\"_blank\"><span style=\"color: #7f7f7f; text-decoration-color: #7f7f7f\">110</span></a>\n",
       "<span style=\"color: #7fbfbf; text-decoration-color: #7fbfbf\">                    </span>         pandas.value_counts is deprecated and will be removed in a future      <span style=\"color: #7f7f7f; text-decoration-color: #7f7f7f\">               </span>\n",
       "<span style=\"color: #7fbfbf; text-decoration-color: #7fbfbf\">                    </span>         version. Use <span style=\"color: #800080; text-decoration-color: #800080; font-weight: bold\">pd.Series</span><span style=\"font-weight: bold\">(</span>obj<span style=\"font-weight: bold\">)</span><span style=\"color: #800080; text-decoration-color: #800080; font-weight: bold\">.value_counts</span><span style=\"font-weight: bold\">()</span> instead.                    <span style=\"color: #7f7f7f; text-decoration-color: #7f7f7f\">               </span>\n",
       "<span style=\"color: #7fbfbf; text-decoration-color: #7fbfbf\">                    </span>           for i, cnt in                                                        <span style=\"color: #7f7f7f; text-decoration-color: #7f7f7f\">               </span>\n",
       "<span style=\"color: #7fbfbf; text-decoration-color: #7fbfbf\">                    </span>         <span style=\"color: #800080; text-decoration-color: #800080; font-weight: bold\">pd.value_counts</span><span style=\"font-weight: bold\">(</span><span style=\"color: #800080; text-decoration-color: #800080; font-weight: bold\">expl_homogeneous.edge_type.numpy</span><span style=\"font-weight: bold\">())</span><span style=\"color: #800080; text-decoration-color: #800080; font-weight: bold\">.items</span><span style=\"font-weight: bold\">()</span>:           <span style=\"color: #7f7f7f; text-decoration-color: #7f7f7f\">               </span>\n",
       "<span style=\"color: #7fbfbf; text-decoration-color: #7fbfbf\">                    </span>                                                                                <span style=\"color: #7f7f7f; text-decoration-color: #7f7f7f\">               </span>\n",
       "</pre>\n"
      ],
      "text/plain": [
       "\u001b[2;36m                   \u001b[0m\u001b[2;36m \u001b[0m\u001b[31mWARNING \u001b[0m \u001b[35m/tmp/ipykernel_175407/\u001b[0m\u001b[95m816421759.py\u001b[0m:\u001b[1;36m25\u001b[0m: FutureWarning:                  \u001b]8;id=518813;file:///home/filip/miniconda3/envs/hexgin/lib/python3.11/warnings.py\u001b\\\u001b[2mwarnings.py\u001b[0m\u001b]8;;\u001b\\\u001b[2m:\u001b[0m\u001b]8;id=801308;file:///home/filip/miniconda3/envs/hexgin/lib/python3.11/warnings.py#110\u001b\\\u001b[2m110\u001b[0m\u001b]8;;\u001b\\\n",
       "\u001b[2;36m                    \u001b[0m         pandas.value_counts is deprecated and will be removed in a future      \u001b[2m               \u001b[0m\n",
       "\u001b[2;36m                    \u001b[0m         version. Use \u001b[1;35mpd.Series\u001b[0m\u001b[1m(\u001b[0mobj\u001b[1m)\u001b[0m\u001b[1;35m.value_counts\u001b[0m\u001b[1m(\u001b[0m\u001b[1m)\u001b[0m instead.                    \u001b[2m               \u001b[0m\n",
       "\u001b[2;36m                    \u001b[0m           for i, cnt in                                                        \u001b[2m               \u001b[0m\n",
       "\u001b[2;36m                    \u001b[0m         \u001b[1;35mpd.value_counts\u001b[0m\u001b[1m(\u001b[0m\u001b[1;35mexpl_homogeneous.edge_type.numpy\u001b[0m\u001b[1m(\u001b[0m\u001b[1m)\u001b[0m\u001b[1m)\u001b[0m\u001b[1;35m.items\u001b[0m\u001b[1m(\u001b[0m\u001b[1m)\u001b[0m:           \u001b[2m               \u001b[0m\n",
       "\u001b[2;36m                    \u001b[0m                                                                                \u001b[2m               \u001b[0m\n"
      ]
     },
     "metadata": {},
     "output_type": "display_data"
    },
    {
     "name": "stdout",
     "output_type": "stream",
     "text": [
      "Warning: When  cdn_resources is 'local' jupyter notebook has issues displaying graphics on chrome/safari. Use cdn_resources='in_line' or cdn_resources='remote' if you have issues viewing graphics in a notebook.\n",
      "predicions_visualization.html\n"
     ]
    },
    {
     "data": {
      "text/html": [
       "<pre style=\"white-space:pre;overflow-x:auto;line-height:normal;font-family:Menlo,'DejaVu Sans Mono',consolas,'Courier New',monospace\"></pre>\n"
      ],
      "text/plain": []
     },
     "metadata": {},
     "output_type": "display_data"
    },
    {
     "data": {
      "text/html": [
       "\n",
       "        <iframe\n",
       "            width=\"100%\"\n",
       "            height=\"600px\"\n",
       "            src=\"predicions_visualization.html\"\n",
       "            frameborder=\"0\"\n",
       "            allowfullscreen\n",
       "            \n",
       "        ></iframe>\n",
       "        "
      ],
      "text/plain": [
       "\u001b[1m<\u001b[0m\u001b[1;95mIPython.lib.display.IFrame\u001b[0m\u001b[39m object at \u001b[0m\u001b[1;36m0x735a1c44e9d0\u001b[0m\u001b[1m>\u001b[0m"
      ]
     },
     "execution_count": 52,
     "metadata": {},
     "output_type": "execute_result"
    }
   ],
   "source": [
    "hetero_node_type_counts = {\n",
    "    hetero_explanation['entity']['x'].shape[0]: 'entity',\n",
    "    hetero_explanation['filing']['x'].shape[0]: 'filing'\n",
    "}\n",
    "\n",
    "hetero_edge_type_counts = {\n",
    "}\n",
    "for rel in hetero_explanation.edge_types:\n",
    "    hetero_edge_type_counts[hetero_explanation[rel]['edge_index'].shape[1]] = rel\n",
    "\n",
    "expl_homogeneous = hetero_explanation.to_homogeneous()\n",
    "homogeneous_node_type_counts = pd.value_counts(expl_homogeneous.node_type.numpy()).to_dict()\n",
    "\n",
    "node_type_mapping = {}\n",
    "node_type_names = []\n",
    "for i, cnt in homogeneous_node_type_counts.items():\n",
    "    node_type_mapping[i] = hetero_node_type_counts[cnt]\n",
    "\n",
    "for node_type in expl_homogeneous.node_type.numpy():\n",
    "    node_type_names.append(node_type_mapping[node_type])\n",
    "\n",
    "\n",
    "edge_type_mapping = {}\n",
    "edge_type_names =[]\n",
    "for i, cnt in pd.value_counts(expl_homogeneous.edge_type.numpy()).items():\n",
    "    edge_type_mapping[i] = hetero_edge_type_counts[cnt][1]\n",
    "\n",
    "for edge_type in expl_homogeneous.edge_type.numpy():\n",
    "    edge_type_names.append(edge_type_mapping[edge_type])\n",
    "\n",
    "node_type_names = np.array(node_type_names)\n",
    "edge_type_names = np.array(edge_type_names)\n",
    "\n",
    "def remap_name(type_name, idx):\n",
    "    if type_name == 'entity':\n",
    "        return idx2entity[idx]\n",
    "    else:\n",
    "        return type_name\n",
    "\n",
    "nt = Network(notebook=True)\n",
    "\n",
    "source_2_color = {\n",
    "    'entity': 'lightgreen',\n",
    "    'filing': 'lightblue'\n",
    "}\n",
    "\n",
    "for idx, (s, t) in enumerate(expl_homogeneous.edge_index.T.numpy()):\n",
    "    s = int(s)\n",
    "    t = int(t)\n",
    "    rel_type = edge_type_names[idx]\n",
    "    source_name = node_type_names[s]\n",
    "    source_color = source_2_color[source_name]\n",
    "    source_name = remap_name(source_name, s)\n",
    "\n",
    "    target_name = node_type_names[t]\n",
    "    target_color = source_2_color[target_name]\n",
    "    target_name = remap_name(target_name, t)\n",
    "    weight = th.sigmoid(expl_homogeneous.edge_mask[idx]).item()\n",
    "    nt.add_node(s, label=source_name, color=source_color)\n",
    "    nt.add_node(t, label=target_name, color=target_color)\n",
    "    nt.add_edge(s, t, label=rel_type, width=weight*5, color='black')\n",
    "\n",
    "for idx, (s, t) in enumerate(expl_homogeneous.edge_label_index.T.numpy()):\n",
    "    s, t = int(s), int(t)\n",
    "    pred = th.sigmoid(expl_homogeneous.prediction[idx]).item() >= 0.5\n",
    "    target = expl_homogeneous.target[idx].item()\n",
    "    link_color = 'red' if pred != target else 'green'\n",
    "    source_name = node_type_names[s]\n",
    "    source_color = source_2_color[source_name]\n",
    "    target_name = node_type_names[t]\n",
    "    target_color = source_2_color[target_name]\n",
    "\n",
    "    source_name = remap_name(source_name, s)\n",
    "    target_name = remap_name(target_name, t)\n",
    "    weight = 1.\n",
    "    nt.add_node(int(s), label=source_name, color=source_color)\n",
    "    nt.add_node(int(t), label=target_name, color=target_color)\n",
    "    nt.add_edge(s, t, label=rel_type, width=5, color=link_color)\n",
    "nt.show('predicions_visualization.html', notebook=True)"
   ]
  }
 ],
 "metadata": {
  "kernelspec": {
   "display_name": "Python 3",
   "language": "python",
   "name": "python3"
  },
  "language_info": {
   "codemirror_mode": {
    "name": "ipython",
    "version": 3
   },
   "file_extension": ".py",
   "mimetype": "text/x-python",
   "name": "python",
   "nbconvert_exporter": "python",
   "pygments_lexer": "ipython3",
   "version": "3.11.9"
  }
 },
 "nbformat": 4,
 "nbformat_minor": 0
}
